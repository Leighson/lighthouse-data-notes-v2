{
 "cells": [
  {
   "cell_type": "markdown",
   "metadata": {},
   "source": [
    "# Python Programming Challenge\n",
    "\n",
    "## Poker Hand\n",
    "\n",
    "In this challenge, we have to determine which kind of Poker combination is present in a deck of 5 cards. Every card is a string containing the card value **with the upper-case initial for face-cards** and the **lower-case initial for the suit**, as seen in the examples below:\n",
    "\n",
    "> \"Ah\" ➞ Ace of hearts <br>\n",
    "> \"Ks\" ➞ King of spades<br>\n",
    "> \"3d\" ➞ Three of diamonds<br>\n",
    "> \"Qc\" ➞ Queen of clubs <br>\n",
    "\n",
    "There are 10 different combinations. Here's the list, in descending order of importance:"
   ]
  },
  {
   "cell_type": "markdown",
   "metadata": {},
   "source": [
    "| Name            | Description                                         |\n",
    "|-----------------|-----------------------------------------------------|\n",
    "| Royal Flush     | A, K, Q, J, 10, all with the same suit.             |\n",
    "| Straight Flush  | Five cards in sequence, all with the same suit.     |\n",
    "| Four of a Kind  | Four cards of the same rank.                        |\n",
    "| Full House      | Three of a Kind with a Pair.                        |\n",
    "| Flush           | Any five cards of the same suit, not in sequence    |\n",
    "| Straight        | Five cards in a sequence, but not of the same suit. |\n",
    "| Three of a Kind | Three cards of the same rank.                       |\n",
    "| Two Pair        | Two different Pairs.                                |\n",
    "| Pair            | Two cards of the same rank.                         |\n",
    "| High Card       | No other valid combination.                         |\n",
    "\n",
    "---------"
   ]
  },
  {
   "cell_type": "markdown",
   "metadata": {},
   "source": [
    "#### 1. Given a list `hand` containing five strings being the cards. Implement a function called `poker_hand_ranking` that **returns a string with the name of the highest combination obtained.** According to the table above.\n",
    "\n",
    "**Examples:**\n",
    "\n",
    "> poker_hand_ranking([\"10h\", \"Jh\", \"Qh\", \"Ah\", \"Kh\"]) ➞ \"Royal Flush\"<br>\n",
    "> poker_hand_ranking([\"3h\", \"5h\", \"Qs\", \"9h\", \"Ad\"]) ➞ \"High Card\"<br>\n",
    "> poker_hand_ranking([\"10s\", \"10c\", \"8d\", \"10d\", \"10h\"]) ➞ \"Four of a Kind\"<br>"
   ]
  },
  {
   "cell_type": "code",
   "execution_count": 1666,
   "metadata": {},
   "outputs": [],
   "source": [
    "from collections import Counter\n",
    "import random\n",
    "\n",
    "# example hands\n",
    "hand1 = [\"10h\", \"Jh\", \"Qh\", \"Ah\", \"Kh\"] # royal flush\n",
    "hand2 = [\"3h\", \"5h\", \"Qs\", \"9h\", \"Ad\"] # high card\n",
    "hand3 = [\"10s\", \"10c\", \"8d\", \"10d\", \"10h\"] # 4 of a kind\n",
    "hand4 = [\"9s\", \"9c\", \"8d\", \"10d\", \"10h\"] # 2 pair\n",
    "hand5 = [\"8s\", \"Ac\", \"8c\", \"Ad\", \"Ah\"] # full house\n",
    "hand6 = [\"3s\", \"2d\", \"4s\", \"6h\", \"5h\"] # straight\n",
    "hand7 = [\"3h\", \"2h\", \"4h\", \"6h\", \"5h\"] # straight flush\n",
    "hand8 = [\"3h\", \"2h\", \"4h\", \"8h\", \"5h\"] # flush\n",
    "hand9 = [\"8h\", \"9h\", \"Ac\", \"2c\", \"8s\"] # pair\n",
    "hand10 = [\"Kh\", \"Kd\", \"Ac\", \"2c\", \"Ks\"] # three of a kind\n",
    "hand11 = [\"9d\", \"10d\", \"2h\", \"5h\", \"8s\"] # high card\n",
    "\n",
    "hands = [hand1, hand2, hand3, hand4, hand5, hand6, hand7, hand8, hand9, hand10, hand11]\n",
    "\n",
    "hierarchy = {\n",
    "    '2': 2, '3': 3, '4': 4, '5': 5, '6': 6, '7': 7, '8': 8,\n",
    "    '9': 9, '10': 10, 'J': 11, 'Q': 12, 'K': 13, 'A': 14\n",
    "    }"
   ]
  },
  {
   "cell_type": "code",
   "execution_count": 1667,
   "metadata": {},
   "outputs": [],
   "source": [
    "def convert_values(values: list, hierarchy: dict) -> list:\n",
    "  converted_values = []\n",
    "  \n",
    "  for value in values:\n",
    "    converted_values.append(hierarchy[value])\n",
    "  \n",
    "  return converted_values"
   ]
  },
  {
   "cell_type": "code",
   "execution_count": 1668,
   "metadata": {},
   "outputs": [],
   "source": [
    "def separate_number_suit(hand: list) -> (list, list):\n",
    "  values = []\n",
    "  suits = []\n",
    "  \n",
    "  for card in hand:\n",
    "    values.append(card[:-1])\n",
    "    suits.append(card[-1])\n",
    "  \n",
    "  values = convert_values(values, hierarchy)\n",
    "    \n",
    "  return values, suits"
   ]
  },
  {
   "cell_type": "code",
   "execution_count": 1669,
   "metadata": {},
   "outputs": [],
   "source": [
    "def count_common(values: list, position: int) -> int:\n",
    "  '''\n",
    "  count_common\n",
    "  \n",
    "  Args:\n",
    "      values (list): values to sort\n",
    "      position (int): accepts 0 to 5. 0 returns the most common, 5 returns the least common\n",
    "\n",
    "  Returns:\n",
    "      int: count of value indicated by the position specified.\n",
    "  '''\n",
    "  return Counter(values).most_common(5)[position][1]"
   ]
  },
  {
   "cell_type": "code",
   "execution_count": 1670,
   "metadata": {},
   "outputs": [],
   "source": [
    "def check_flush(suits: list) -> bool:\n",
    "  most_common_suit_count = count_common(suits, 0)\n",
    "  \n",
    "  if most_common_suit_count == 5:\n",
    "    return True\n",
    "  else:\n",
    "    return False"
   ]
  },
  {
   "cell_type": "code",
   "execution_count": 1671,
   "metadata": {},
   "outputs": [],
   "source": [
    "def determine_straight(values: list) -> int:\n",
    "  \n",
    "  if count_common(values, 0) == 1:\n",
    "    lowest_value = sorted(values)[0]\n",
    "    \n",
    "    if sorted(values) == list(range(lowest_value, lowest_value + 5)) and lowest_value == 10:\n",
    "      return 2\n",
    "    elif sorted(values) == list(range(lowest_value, lowest_value + 5)):\n",
    "      return 1\n",
    "    else:\n",
    "      return 0\n",
    "  \n",
    "  else:\n",
    "    return 0"
   ]
  },
  {
   "cell_type": "code",
   "execution_count": 1672,
   "metadata": {},
   "outputs": [],
   "source": [
    "def determine_high_card(hand: list, hierarchy: dict) -> str:\n",
    "  values, suits = separate_number_suit(hand)\n",
    "  \n",
    "  # reverse key/value dict for hierarchy\n",
    "  hierarchy = {y: x for x, y in hierarchy.items()}\n",
    "  \n",
    "  # get highest value as string and convert back to string\n",
    "  highest_value = sorted(values)[-1]\n",
    "  converted_highest_value = hierarchy[highest_value]\n",
    "  \n",
    "  # use highest value as string to get highest suit\n",
    "  index = values.index(highest_value)\n",
    "  highest_suit = suits[index]\n",
    "  \n",
    "  return f\"{converted_highest_value}{highest_suit}\", highest_value"
   ]
  },
  {
   "cell_type": "code",
   "execution_count": 1673,
   "metadata": {},
   "outputs": [],
   "source": [
    "def poker_hand_ranking(player, hand: list) -> list: \n",
    "\n",
    "  values, suits = separate_number_suit(hand)\n",
    "  # print(values, suits)\n",
    "\n",
    "  if check_flush(suits) and determine_straight(values) == 2:\n",
    "    print(f\"{player}: Royal Flush\")\n",
    "    _, high_value = determine_high_card(hand, hierarchy)\n",
    "    return 9 + float(high_value*.01)\n",
    "  \n",
    "  elif check_flush(suits) and determine_straight(values) == 1:\n",
    "    print(f\"{player}: Straight Flush\")\n",
    "    _, high_value = determine_high_card(hand, hierarchy)\n",
    "    return 8 + float(high_value*.01)\n",
    "  \n",
    "  elif count_common(values, 0) == 4:\n",
    "    print(f\"{player}: Four of a Kind\")\n",
    "    _, high_value = determine_high_card(hand, hierarchy)\n",
    "    return 7 + float(high_value*.01)\n",
    "  \n",
    "  elif count_common(values, 0) == 3 and count_common(values, 1) == 2:\n",
    "    print(f\"{player}: Full House\")\n",
    "    _, high_value = determine_high_card(hand, hierarchy)\n",
    "    return 6 + float(high_value*.01)\n",
    "  \n",
    "  elif check_flush(suits):\n",
    "    print(f\"{player}: Flush\")\n",
    "    _, high_value = determine_high_card(hand, hierarchy)\n",
    "    return 5 + float(high_value*.01)\n",
    "  \n",
    "  elif determine_straight(values):\n",
    "    print(f\"{player}: Straight\")\n",
    "    _, high_value = determine_high_card(hand, hierarchy)\n",
    "    return 4 + float(high_value*.01)\n",
    "  \n",
    "  elif count_common(values, 0) == 3:\n",
    "    print(f\"{player}: Three of a Kind\")\n",
    "    _, high_value = determine_high_card(hand, hierarchy)\n",
    "    return 3 + float(high_value*.01)\n",
    "  \n",
    "  elif count_common(values, 0) == 2 & count_common(values, 1) == 2:\n",
    "    print(f\"{player}: Two Pair\")\n",
    "    _, high_value = determine_high_card(hand, hierarchy)\n",
    "    return 2 + float(high_value*.01)\n",
    "  \n",
    "  elif count_common(values, 0) == 2:\n",
    "    print(f\"{player}: Pair\")\n",
    "    _, high_value = determine_high_card(hand, hierarchy)\n",
    "    return 1 + float(high_value*.01)\n",
    "  \n",
    "  else:\n",
    "    high_card, high_value = determine_high_card(hand, hierarchy)\n",
    "    print(f\"{player}: High Card ({high_card})\")\n",
    "    return 0 + float(high_value*.01)"
   ]
  },
  {
   "cell_type": "markdown",
   "metadata": {},
   "source": [
    "------------\n",
    "### **Stretch Content**\n",
    "\n",
    "#### 2.  Implement a function `winner_is` that returns the winner given a dictionary with different players and their hands. \n",
    "**Example**\n",
    "\n",
    "We define dictionary like\n",
    "```python\n",
    "round_1 = {\"John\" = [\"10h\", \"Jh\", \"Qh\", \"Ah\", \"Kh\"], \n",
    "        \"Peter\" = [\"3h\", \"5h\", \"Qs\", \"9h\", \"Ad\"]}\n",
    "```\n",
    "\n",
    "Our function returns the name of the winner:\n",
    "> winner_is(round_1) --> \"John\"\n",
    "\n",
    "One table can have up to 10 players.\n"
   ]
  },
  {
   "cell_type": "code",
   "execution_count": 1674,
   "metadata": {},
   "outputs": [],
   "source": [
    "round = {\n",
    "  \"John\": [\"10h\", \"Jh\", \"Qh\", \"Ah\", \"Kh\"],\n",
    "  \"Peter\": [\"3h\", \"5h\", \"Qs\", \"9h\", \"Ad\"],\n",
    "  \"Matt\": [\"10s\", \"10c\", \"8d\", \"10d\", \"10h\"],\n",
    "  \"Josie\": [\"3h\", \"2h\", \"4h\", \"8h\", \"5h\"],\n",
    "  \"Stacy\": [\"Kh\", \"Kd\", \"Ac\", \"2c\", \"Ks\"]}"
   ]
  },
  {
   "cell_type": "code",
   "execution_count": 1675,
   "metadata": {},
   "outputs": [],
   "source": [
    "def winner_is(round: dict) -> str:\n",
    "  ranks = {}\n",
    "  \n",
    "  for player, hand in round.items():\n",
    "    rank = poker_hand_ranking(player, hand)\n",
    "    ranks[player] = rank\n",
    "    \n",
    "  best_player = \"\"\n",
    "  best_rank = 0\n",
    "  \n",
    "  for player, rank in ranks.items():\n",
    "    if best_rank < rank:\n",
    "      best_player = player\n",
    "      best_rank = rank\n",
    "      \n",
    "  print(\"\\n\",ranks)\n",
    "  print(best_player)"
   ]
  },
  {
   "cell_type": "markdown",
   "metadata": {},
   "source": [
    "#### 3. Create a function `distribute_cards` that randomly generates and gives 5 cards to every player given a list of player names.\n",
    "\n",
    "**Example**\n",
    "\n",
    "> distribute_cards([\"John\",\"Peter\"])  -> round_1 = {\"John\" = [\"10h\", \"Jh\", \"Qh\", \"Ah\", \"Kh\"], \n",
    "        \"Peter\" = [\"3h\", \"5h\", \"Qs\", \"9h\", \"Ad\"]\n",
    "}"
   ]
  },
  {
   "cell_type": "code",
   "execution_count": 1676,
   "metadata": {},
   "outputs": [],
   "source": [
    "def create_deck():\n",
    "  \n",
    "  values = [str(number) for number in range(2, 11)]\n",
    "  faces = [\"J\", \"Q\", \"K\", \"A\"]\n",
    "  values.extend(faces)\n",
    "  \n",
    "  suits = [\"h\", \"s\", \"c\", \"d\"]\n",
    "  \n",
    "  cards = []\n",
    "  for i, value in enumerate(values):\n",
    "    for suit in suits:\n",
    "      cards.append(value + suit)\n",
    "    \n",
    "  return cards"
   ]
  },
  {
   "cell_type": "code",
   "execution_count": 1677,
   "metadata": {},
   "outputs": [],
   "source": [
    "def create_hand(cards: list) -> (list, list):\n",
    "  \n",
    "  hand = []\n",
    "  \n",
    "  for _ in list(range(0, 5)):\n",
    "    i = random.randint(0, len(cards)-1)\n",
    "    hand.append(cards.pop(i))\n",
    "  \n",
    "  return hand, cards"
   ]
  },
  {
   "cell_type": "code",
   "execution_count": 1678,
   "metadata": {},
   "outputs": [],
   "source": [
    "def distribute_cards(players: list) -> ():\n",
    "  cards = create_deck()\n",
    "  hand, remaining_cards = create_hand(cards)\n",
    "  \n",
    "  if len(players) > 10:\n",
    "    return \"Too many players\"\n",
    "  \n",
    "  round = {}\n",
    "  for player in players:\n",
    "    hand, remaining_cards = create_hand(cards)\n",
    "    cards = remaining_cards\n",
    "    round[player] = hand\n",
    "  \n",
    "  return round"
   ]
  },
  {
   "cell_type": "code",
   "execution_count": 1679,
   "metadata": {},
   "outputs": [],
   "source": [
    "players = [\"John\", \"Matt\", \"Sonny\", \"Tracy\", \"Julia\", \"Victoria\"]"
   ]
  },
  {
   "cell_type": "markdown",
   "metadata": {},
   "source": [
    "#### 4. Finally... Let's play!"
   ]
  },
  {
   "cell_type": "code",
   "execution_count": 1680,
   "metadata": {},
   "outputs": [
    {
     "data": {
      "text/plain": [
       "{'John': ['Ad', '8h', 'Ks', '4d', '3s'],\n",
       " 'Matt': ['Ah', 'Jh', 'Qc', 'Ac', 'As'],\n",
       " 'Sonny': ['10d', '4h', '7c', 'Kh', '7d'],\n",
       " 'Tracy': ['3d', '3h', '5d', '3c', '6c'],\n",
       " 'Julia': ['Jc', 'Qh', '5s', '10h', '10c'],\n",
       " 'Victoria': ['9h', '10s', 'Kc', '6d', '5c']}"
      ]
     },
     "execution_count": 1680,
     "metadata": {},
     "output_type": "execute_result"
    }
   ],
   "source": [
    "round = distribute_cards(players)\n",
    "round"
   ]
  },
  {
   "cell_type": "code",
   "execution_count": 1681,
   "metadata": {},
   "outputs": [
    {
     "name": "stdout",
     "output_type": "stream",
     "text": [
      "John: High Card (Ad)\n",
      "Matt: Three of a Kind\n",
      "Sonny: Pair\n",
      "Tracy: Three of a Kind\n",
      "Julia: Pair\n",
      "Victoria: High Card (Kc)\n",
      "\n",
      " {'John': 0.14, 'Matt': 3.14, 'Sonny': 1.13, 'Tracy': 3.06, 'Julia': 1.12, 'Victoria': 0.13}\n",
      "Matt\n"
     ]
    }
   ],
   "source": [
    "winner_is(round)"
   ]
  }
 ],
 "metadata": {
  "kernelspec": {
   "display_name": "Python 3",
   "language": "python",
   "name": "python3"
  },
  "language_info": {
   "codemirror_mode": {
    "name": "ipython",
    "version": 3
   },
   "file_extension": ".py",
   "mimetype": "text/x-python",
   "name": "python",
   "nbconvert_exporter": "python",
   "pygments_lexer": "ipython3",
   "version": "3.11.4"
  }
 },
 "nbformat": 4,
 "nbformat_minor": 4
}
