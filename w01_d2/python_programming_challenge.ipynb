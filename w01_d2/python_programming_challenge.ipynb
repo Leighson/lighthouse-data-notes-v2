{
 "cells": [
  {
   "cell_type": "markdown",
   "metadata": {},
   "source": [
    "# Python Programming Challenge\n",
    "\n",
    "## Poker Hand\n",
    "\n",
    "In this challenge, we have to determine which kind of Poker combination is present in a deck of 5 cards. Every card is a string containing the card value **with the upper-case initial for face-cards** and the **lower-case initial for the suit**, as seen in the examples below:\n",
    "\n",
    "> \"Ah\" ➞ Ace of hearts <br>\n",
    "> \"Ks\" ➞ King of spades<br>\n",
    "> \"3d\" ➞ Three of diamonds<br>\n",
    "> \"Qc\" ➞ Queen of clubs <br>\n",
    "\n",
    "There are 10 different combinations. Here's the list, in descending order of importance:"
   ]
  },
  {
   "cell_type": "markdown",
   "metadata": {},
   "source": [
    "| Name            | Description                                         |\n",
    "|-----------------|-----------------------------------------------------|\n",
    "| Royal Flush     | A, K, Q, J, 10, all with the same suit.             |\n",
    "| Straight Flush  | Five cards in sequence, all with the same suit.     |\n",
    "| Four of a Kind  | Four cards of the same rank.                        |\n",
    "| Full House      | Three of a Kind with a Pair.                        |\n",
    "| Flush           | Any five cards of the same suit, not in sequence    |\n",
    "| Straight        | Five cards in a sequence, but not of the same suit. |\n",
    "| Three of a Kind | Three cards of the same rank.                       |\n",
    "| Two Pair        | Two different Pairs.                                |\n",
    "| Pair            | Two cards of the same rank.                         |\n",
    "| High Card       | No other valid combination.                         |\n",
    "\n",
    "---------"
   ]
  },
  {
   "cell_type": "markdown",
   "metadata": {},
   "source": [
    "#### 1. Given a list `hand` containing five strings being the cards. Implement a function called `poker_hand_ranking` that **returns a string with the name of the highest combination obtained.** According to the table above.\n",
    "\n",
    "**Examples:**\n",
    "\n",
    "> poker_hand_ranking([\"10h\", \"Jh\", \"Qh\", \"Ah\", \"Kh\"]) ➞ \"Royal Flush\"<br>\n",
    "> poker_hand_ranking([\"3h\", \"5h\", \"Qs\", \"9h\", \"Ad\"]) ➞ \"High Card\"<br>\n",
    "> poker_hand_ranking([\"10s\", \"10c\", \"8d\", \"10d\", \"10h\"]) ➞ \"Four of a Kind\"<br>"
   ]
  },
  {
   "cell_type": "code",
   "execution_count": 532,
   "metadata": {},
   "outputs": [],
   "source": [
    "from collections import Counter\n",
    "\n",
    "# example hands\n",
    "hand1 = [\"10h\", \"Jh\", \"Qh\", \"Ah\", \"Kh\"] # royal flush\n",
    "hand2 = [\"3h\", \"5h\", \"Qs\", \"9h\", \"Ad\"] # high card\n",
    "hand3 = [\"10s\", \"10c\", \"8d\", \"10d\", \"10h\"] # 4 of a kind\n",
    "hand4 = [\"9s\", \"9c\", \"8d\", \"10d\", \"10h\"] # 2 pair\n",
    "hand5 = [\"8s\", \"Ac\", \"8c\", \"Ad\", \"Ah\"] # full house\n",
    "hand6 = [\"3s\", \"2d\", \"4s\", \"6h\", \"5h\"] # straight\n",
    "hand7 = [\"3h\", \"2h\", \"4h\", \"6h\", \"5h\"] # straight flush\n",
    "hand8 = [\"3h\", \"2h\", \"4h\", \"8h\", \"5h\"] # flush\n",
    "hand9 = [\"8h\", \"9h\", \"Ac\", \"2c\", \"8s\"] # pair\n",
    "hand10 = [\"Kh\", \"Kd\", \"Ac\", \"2c\", \"Ks\"] # three of a kind\n",
    "hand11 = [\"9d\", \"10d\", \"2h\", \"5h\", \"8s\"] # high card\n",
    "\n",
    "hands = [hand1, hand2, hand3, hand4, hand5, hand6, hand7, hand8, hand9, hand10, hand11]\n",
    "\n",
    "hierarchy = {\n",
    "    '2': 2, '3': 3, '4': 4, '5': 5, '6': 6, '7': 7, '8': 8,\n",
    "    '9': 9, '10': 10, 'J': 11, 'Q': 12, 'K': 13, 'A': 14\n",
    "    }"
   ]
  },
  {
   "cell_type": "code",
   "execution_count": 533,
   "metadata": {},
   "outputs": [],
   "source": [
    "def convert_values(values: list, hierarchy: dict) -> list:\n",
    "  converted_values = []\n",
    "  \n",
    "  for value in values:\n",
    "    converted_values.append(hierarchy[value])\n",
    "  \n",
    "  return converted_values"
   ]
  },
  {
   "cell_type": "code",
   "execution_count": 534,
   "metadata": {},
   "outputs": [],
   "source": [
    "def separate_number_suit(hand: list) -> (list, list):\n",
    "  values = []\n",
    "  suits = []\n",
    "  \n",
    "  for card in hand:\n",
    "    values.append(card[:-1])\n",
    "    suits.append(card[-1])\n",
    "  \n",
    "  values = convert_values(values, hierarchy)\n",
    "    \n",
    "  return values, suits"
   ]
  },
  {
   "cell_type": "code",
   "execution_count": 535,
   "metadata": {},
   "outputs": [],
   "source": [
    "def count_common(values: list, position: int) -> int:\n",
    "  '''\n",
    "  count_common\n",
    "  \n",
    "  Args:\n",
    "      values (list): values to sort\n",
    "      position (int): accepts 0 to 5. 0 returns the most common, 5 returns the least common\n",
    "\n",
    "  Returns:\n",
    "      int: count of value indicated by the position specified.\n",
    "  '''\n",
    "  return Counter(values).most_common(5)[position][1]"
   ]
  },
  {
   "cell_type": "code",
   "execution_count": 536,
   "metadata": {},
   "outputs": [],
   "source": [
    "def check_flush(suits: list) -> bool:\n",
    "  most_common_suit_count = count_common(suits, 0)\n",
    "  \n",
    "  if most_common_suit_count == 5:\n",
    "    return True\n",
    "  else:\n",
    "    return False"
   ]
  },
  {
   "cell_type": "code",
   "execution_count": 537,
   "metadata": {},
   "outputs": [],
   "source": [
    "def determine_straight(values: list) -> int:\n",
    "  \n",
    "  if count_common(values, 0) == 1:\n",
    "    lowest_value = sorted(values)[0]\n",
    "    \n",
    "    if sorted(values) == list(range(lowest_value, lowest_value + 5)) and lowest_value == 10:\n",
    "      return 2\n",
    "    elif sorted(values) == list(range(lowest_value, lowest_value + 5)):\n",
    "      return 1\n",
    "    else:\n",
    "      return 0\n",
    "  \n",
    "  else:\n",
    "    return 0"
   ]
  },
  {
   "cell_type": "code",
   "execution_count": 538,
   "metadata": {},
   "outputs": [],
   "source": [
    "def determine_high_card(hand: list, hierarchy: dict) -> str:\n",
    "  values, suits = separate_number_suit(hand)\n",
    "  \n",
    "  # reverse key/value dict for hierarchy\n",
    "  hierarchy = {y: x for x, y in hierarchy.items()}\n",
    "  \n",
    "  # get highest value as string and convert back to string\n",
    "  highest_value = sorted(values)[-1]\n",
    "  converted_highest_value = hierarchy[highest_value]\n",
    "  \n",
    "  # use highest value as string to get highest suit\n",
    "  index = values.index(highest_value)\n",
    "  highest_suit = suits[index]\n",
    "  \n",
    "  return f\"{converted_highest_value}{highest_suit}\", highest_value"
   ]
  },
  {
   "cell_type": "code",
   "execution_count": 539,
   "metadata": {},
   "outputs": [],
   "source": [
    "def poker_hand_ranking(hand: list) -> list: \n",
    "\n",
    "  values, suits = separate_number_suit(hand)\n",
    "  # print(values, suits)\n",
    "\n",
    "  if check_flush(suits) and determine_straight(values) == 2:\n",
    "    print(\"Royal flush.\")\n",
    "    _, high_value = determine_high_card(hand, hierarchy)\n",
    "    return 9 + high_value/100\n",
    "  \n",
    "  elif check_flush(suits) and determine_straight(values) == 1:\n",
    "    print(\"Straight flush.\")\n",
    "    _, high_value = determine_high_card(hand, hierarchy)\n",
    "    return 8 + high_value/100\n",
    "  \n",
    "  elif count_common(values, 0) == 4:\n",
    "    print(\"Four of a kind.\")\n",
    "    _, high_value = determine_high_card(hand, hierarchy)\n",
    "    return 7 + high_value/100\n",
    "  \n",
    "  elif count_common(values, 0) == 3 and count_common(values, 1) == 2:\n",
    "    print(\"Full house.\")\n",
    "    _, high_value = determine_high_card(hand, hierarchy)\n",
    "    return 6 + high_value/100\n",
    "  \n",
    "  elif check_flush(suits):\n",
    "    print(\"Flush.\")\n",
    "    _, high_value = determine_high_card(hand, hierarchy)\n",
    "    return 5 + high_value/100\n",
    "  \n",
    "  elif determine_straight(values):\n",
    "    print(\"Straight.\")\n",
    "    _, high_value = determine_high_card(hand, hierarchy)\n",
    "    return 4 + high_value/100\n",
    "  \n",
    "  elif count_common(values, 0) == 3:\n",
    "    print(\"Three of a kind.\")\n",
    "    _, high_value = determine_high_card(hand, hierarchy)\n",
    "    return 3 + high_value/100\n",
    "  \n",
    "  elif count_common(values, 0) == 2 & count_common(values, 1) == 2:\n",
    "    print(\"Two pair.\")\n",
    "    _, high_value = determine_high_card(hand, hierarchy)\n",
    "    return 2 + high_value/100\n",
    "  \n",
    "  elif count_common(values, 0) == 2:\n",
    "    print(\"Pair.\")\n",
    "    _, high_value = determine_high_card(hand, hierarchy)\n",
    "    return 1 + high_value/100\n",
    "  \n",
    "  else:\n",
    "    high_card, high_value = determine_high_card(hand, hierarchy)\n",
    "    print(f\"High card, {high_card}.\")\n",
    "    return 0 + high_value/100"
   ]
  },
  {
   "cell_type": "code",
   "execution_count": 540,
   "metadata": {},
   "outputs": [
    {
     "name": "stdout",
     "output_type": "stream",
     "text": [
      "Royal flush.\n",
      "High card, Ad.\n",
      "Four of a kind.\n",
      "Two pair.\n",
      "Full house.\n",
      "Straight.\n",
      "Straight flush.\n",
      "Flush.\n",
      "Pair.\n",
      "Three of a kind.\n",
      "High card, 10d.\n"
     ]
    }
   ],
   "source": [
    "for hand in hands:\n",
    "  poker_hand_ranking(hand)"
   ]
  },
  {
   "cell_type": "markdown",
   "metadata": {},
   "source": [
    "------------\n",
    "### **Stretch Content**\n",
    "\n",
    "#### 2.  Implement a function `winner_is` that returns the winner given a dictionary with different players and their hands. \n",
    "**Example**\n",
    "\n",
    "We define dictionary like\n",
    "```python\n",
    "round_1 = {\"John\" = [\"10h\", \"Jh\", \"Qh\", \"Ah\", \"Kh\"], \n",
    "        \"Peter\" = [\"3h\", \"5h\", \"Qs\", \"9h\", \"Ad\"]}\n",
    "```\n",
    "\n",
    "Our function returns the name of the winner:\n",
    "> winner_is(round_1) --> \"John\"\n",
    "\n",
    "One table can have up to 10 players.\n"
   ]
  },
  {
   "cell_type": "code",
   "execution_count": 541,
   "metadata": {},
   "outputs": [],
   "source": [
    "round = {\n",
    "  \"John\": [\"10h\", \"Jh\", \"Qh\", \"Ah\", \"Kh\"],\n",
    "  \"Peter\": [\"3h\", \"5h\", \"Qs\", \"9h\", \"Ad\"],\n",
    "  \"Matt\": [\"10s\", \"10c\", \"8d\", \"10d\", \"10h\"],\n",
    "  \"Josie\": [\"3h\", \"2h\", \"4h\", \"8h\", \"5h\"],\n",
    "  \"Stacy\": [\"Kh\", \"Kd\", \"Ac\", \"2c\", \"Ks\"]}"
   ]
  },
  {
   "cell_type": "code",
   "execution_count": 542,
   "metadata": {},
   "outputs": [],
   "source": [
    "def winner_is(round: dict) -> str:\n",
    "  ranks = {}\n",
    "  \n",
    "  for player, hand in round.items():\n",
    "    rank = poker_hand_ranking(hand)\n",
    "    ranks[player] = rank\n",
    "    \n",
    "  best_player = \"\"\n",
    "  best_rank = 0\n",
    "  \n",
    "  for player, rank in ranks.items():\n",
    "    if best_rank < rank:\n",
    "      best_player = player\n",
    "      best_rank = rank\n",
    "      \n",
    "  print(ranks)\n",
    "  print(best_player)"
   ]
  },
  {
   "cell_type": "code",
   "execution_count": 543,
   "metadata": {},
   "outputs": [
    {
     "name": "stdout",
     "output_type": "stream",
     "text": [
      "Royal flush.\n",
      "High card, Ad.\n",
      "Four of a kind.\n",
      "Flush.\n",
      "Three of a kind.\n",
      "{'John': 9.14, 'Peter': 0.14, 'Matt': 7.1, 'Josie': 5.08, 'Stacy': 3.14}\n",
      "John\n"
     ]
    }
   ],
   "source": [
    "winner_is(round)"
   ]
  },
  {
   "cell_type": "markdown",
   "metadata": {},
   "source": [
    "#### 3. Create a function `distribute_cards` that randomly generates and gives 5 cards to every player given a list of player names.\n",
    "\n",
    "**Example**\n",
    "\n",
    "> distribute_cards([\"John\",\"Peter\"])  -> round_1 = {\"John\" = [\"10h\", \"Jh\", \"Qh\", \"Ah\", \"Kh\"], \n",
    "        \"Peter\" = [\"3h\", \"5h\", \"Qs\", \"9h\", \"Ad\"]\n",
    "}"
   ]
  },
  {
   "cell_type": "code",
   "execution_count": null,
   "metadata": {},
   "outputs": [],
   "source": []
  },
  {
   "cell_type": "code",
   "execution_count": null,
   "metadata": {},
   "outputs": [],
   "source": []
  },
  {
   "cell_type": "code",
   "execution_count": null,
   "metadata": {},
   "outputs": [],
   "source": []
  },
  {
   "cell_type": "code",
   "execution_count": null,
   "metadata": {},
   "outputs": [],
   "source": []
  }
 ],
 "metadata": {
  "kernelspec": {
   "display_name": "Python 3",
   "language": "python",
   "name": "python3"
  },
  "language_info": {
   "codemirror_mode": {
    "name": "ipython",
    "version": 3
   },
   "file_extension": ".py",
   "mimetype": "text/x-python",
   "name": "python",
   "nbconvert_exporter": "python",
   "pygments_lexer": "ipython3",
   "version": "3.11.4"
  }
 },
 "nbformat": 4,
 "nbformat_minor": 4
}
