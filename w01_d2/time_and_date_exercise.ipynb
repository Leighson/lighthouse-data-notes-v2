{
 "cells": [
  {
   "cell_type": "markdown",
   "metadata": {},
   "source": [
    "# Time & Date Exercise"
   ]
  },
  {
   "cell_type": "code",
   "execution_count": 124,
   "metadata": {
    "ExecuteTime": {
     "end_time": "2020-04-23T12:59:43.427172Z",
     "start_time": "2020-04-23T12:59:43.421241Z"
    }
   },
   "outputs": [],
   "source": [
    "from datetime import datetime, timedelta, date, time\n",
    "import calendar"
   ]
  },
  {
   "cell_type": "code",
   "execution_count": 125,
   "metadata": {
    "ExecuteTime": {
     "end_time": "2020-04-23T12:53:26.216074Z",
     "start_time": "2020-04-23T12:53:26.206960Z"
    }
   },
   "outputs": [
    {
     "name": "stdout",
     "output_type": "stream",
     "text": [
      "CURRENT DATE: 2023-07-30 19:57:38.462929\n",
      "CURRENT YEAR: 2023\n",
      "CURRENT MONTH: 7\n",
      "WEEK NUMBER: 30\n",
      "WEEKDAY: 7\n",
      "DAY of YEAR: 211\n",
      "DAY of MONTH: 30\n",
      "DAY of WEEK: 6\n"
     ]
    }
   ],
   "source": [
    "# current date and time\n",
    "now = datetime.now()\n",
    "print(\"CURRENT DATE:\", now)\n",
    "\n",
    "# current year\n",
    "print(\"CURRENT YEAR:\", now.year)\n",
    "\n",
    "# current month\n",
    "print(\"CURRENT MONTH:\", now.month)\n",
    "\n",
    "# week number\n",
    "print(\"WEEK NUMBER:\", now.isocalendar().week)\n",
    "\n",
    "# weekday\n",
    "print(\"WEEKDAY:\", now.isocalendar().weekday)\n",
    "\n",
    "# day of year\n",
    "print(\"DAY of YEAR:\", now.timetuple().tm_yday)\n",
    "\n",
    "# day of month\n",
    "print(\"DAY of MONTH:\", now.timetuple().tm_mday)\n",
    "\n",
    "# day of week\n",
    "print(\"DAY of WEEK:\", now.timetuple().tm_wday)"
   ]
  },
  {
   "cell_type": "code",
   "execution_count": 126,
   "metadata": {},
   "outputs": [
    {
     "name": "stdout",
     "output_type": "stream",
     "text": [
      "2014-01-01 02:43:00\n",
      "19:57:38.478258\n",
      "2023-07-25 19:57:38.462929\n"
     ]
    }
   ],
   "source": [
    "# convert a string to datetime\n",
    "date_string = 'Jan 1 2014 2:43PM'\n",
    "\n",
    "dt_format = datetime.strptime(date_string, \"%b %d %Y %H:%M%p\")\n",
    "print(dt_format)\n",
    "\n",
    "# print the current time \n",
    "current_time = datetime.now().timetz()\n",
    "print(current_time)\n",
    "\n",
    "# subtract five days from current date\n",
    "five_days_ago = now - timedelta(days = 5)\n",
    "print(five_days_ago)"
   ]
  },
  {
   "cell_type": "code",
   "execution_count": 127,
   "metadata": {
    "ExecuteTime": {
     "end_time": "2020-04-23T12:55:10.916163Z",
     "start_time": "2020-04-23T12:55:10.910245Z"
    }
   },
   "outputs": [
    {
     "name": "stdout",
     "output_type": "stream",
     "text": [
      "2010-09-10 04:01:22\n"
     ]
    }
   ],
   "source": [
    "# convert unix timestamp string to readable date\n",
    "unix = 1284105682\n",
    "unix_date = datetime.fromtimestamp(unix)\n",
    "print(unix_date)"
   ]
  },
  {
   "cell_type": "code",
   "execution_count": 128,
   "metadata": {
    "ExecuteTime": {
     "end_time": "2020-04-23T12:56:00.886007Z",
     "start_time": "2020-04-23T12:56:00.878697Z"
    }
   },
   "outputs": [
    {
     "name": "stdout",
     "output_type": "stream",
     "text": [
      "DAY of YEAR: 211\n",
      "WEEK NUMBER: 30\n"
     ]
    }
   ],
   "source": [
    "# convert today's date to Day of Year\n",
    "print(\"DAY of YEAR:\", now.timetuple().tm_yday)\n",
    "\n",
    "# get week number from today's date\n",
    "print(\"WEEK NUMBER:\", now.isocalendar().week)"
   ]
  },
  {
   "cell_type": "code",
   "execution_count": 129,
   "metadata": {
    "ExecuteTime": {
     "end_time": "2020-04-23T12:56:43.939475Z",
     "start_time": "2020-04-23T12:56:43.932915Z"
    }
   },
   "outputs": [
    {
     "name": "stdout",
     "output_type": "stream",
     "text": [
      "32 days, 0:00:00\n"
     ]
    }
   ],
   "source": [
    "# get the number of days between the two dates\n",
    "date_a = date(2020,2,2)\n",
    "date_b = date(2020,1,1)\n",
    "\n",
    "date_diff = date_a - date_b\n",
    "print(date_diff)"
   ]
  },
  {
   "cell_type": "code",
   "execution_count": 130,
   "metadata": {},
   "outputs": [
    {
     "data": {
      "text/plain": [
       "31"
      ]
     },
     "execution_count": 130,
     "metadata": {},
     "output_type": "execute_result"
    }
   ],
   "source": [
    "# get the number of days of the given month and year\n",
    "month = 10\n",
    "year = 2016\n",
    "\n",
    "calendar.monthrange(year, month)[1]"
   ]
  },
  {
   "cell_type": "code",
   "execution_count": 131,
   "metadata": {},
   "outputs": [
    {
     "name": "stdout",
     "output_type": "stream",
     "text": [
      "2015-12-21\n",
      "2015-12-22\n",
      "2015-12-23\n",
      "2015-12-24\n",
      "2015-12-25\n",
      "2015-12-26\n",
      "2015-12-27\n",
      "2015-12-28\n",
      "2015-12-29\n",
      "2015-12-30\n",
      "2015-12-31\n",
      "2016-01-01\n",
      "2016-01-02\n",
      "2016-01-03\n",
      "2016-01-04\n",
      "2016-01-05\n",
      "2016-01-06\n",
      "2016-01-07\n",
      "2016-01-08\n",
      "2016-01-09\n",
      "2016-01-10\n",
      "2016-01-11\n"
     ]
    }
   ],
   "source": [
    "# get a list of dates between the two dates\n",
    "start_dt = date(2015, 12, 20)\n",
    "end_dt = date(2016, 1, 11)\n",
    "diff_dt = end_dt - start_dt\n",
    "\n",
    "# initiate variables\n",
    "day_count = 0\n",
    "day_list = []\n",
    "\n",
    "# populate day_list with each day\n",
    "while day_count < diff_dt.days:\n",
    "  start_dt = start_dt + timedelta(days=1)\n",
    "  day_list.append(start_dt)\n",
    "  day_count += 1\n",
    "\n",
    "# print list of days\n",
    "for day in day_list:\n",
    "  print(day)"
   ]
  }
 ],
 "metadata": {
  "kernelspec": {
   "display_name": "Python 3",
   "language": "python",
   "name": "python3"
  },
  "language_info": {
   "codemirror_mode": {
    "name": "ipython",
    "version": 3
   },
   "file_extension": ".py",
   "mimetype": "text/x-python",
   "name": "python",
   "nbconvert_exporter": "python",
   "pygments_lexer": "ipython3",
   "version": "3.11.4"
  },
  "toc": {
   "base_numbering": 1,
   "nav_menu": {},
   "number_sections": true,
   "sideBar": true,
   "skip_h1_title": false,
   "title_cell": "Table of Contents",
   "title_sidebar": "Contents",
   "toc_cell": false,
   "toc_position": {},
   "toc_section_display": true,
   "toc_window_display": false
  },
  "varInspector": {
   "cols": {
    "lenName": 16,
    "lenType": 16,
    "lenVar": 40
   },
   "kernels_config": {
    "python": {
     "delete_cmd_postfix": "",
     "delete_cmd_prefix": "del ",
     "library": "var_list.py",
     "varRefreshCmd": "print(var_dic_list())"
    },
    "r": {
     "delete_cmd_postfix": ") ",
     "delete_cmd_prefix": "rm(",
     "library": "var_list.r",
     "varRefreshCmd": "cat(var_dic_list()) "
    }
   },
   "types_to_exclude": [
    "module",
    "function",
    "builtin_function_or_method",
    "instance",
    "_Feature"
   ],
   "window_display": false
  }
 },
 "nbformat": 4,
 "nbformat_minor": 4
}
