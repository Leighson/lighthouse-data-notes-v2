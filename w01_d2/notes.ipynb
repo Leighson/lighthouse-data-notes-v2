{
 "cells": [
  {
   "cell_type": "markdown",
   "metadata": {},
   "source": [
    "# Python Basics"
   ]
  },
  {
   "cell_type": "markdown",
   "metadata": {},
   "source": [
    "## Lists\n",
    "\n",
    "`Lists` are created using square brackets `[ ]`. The values or items of the list are inserted between the brackets and separated by commas."
   ]
  },
  {
   "cell_type": "code",
   "execution_count": 764,
   "metadata": {},
   "outputs": [],
   "source": [
    "todo = [\"write blog post\", \"reply to email\", \"read in a book\"]"
   ]
  },
  {
   "cell_type": "markdown",
   "metadata": {},
   "source": [
    "#### Accessing Items\n",
    "\n",
    "List items can be accessed using its **index**. In this example, the `todo` list consists of three items. Indexing starts from the value `0`."
   ]
  },
  {
   "cell_type": "code",
   "execution_count": 765,
   "metadata": {},
   "outputs": [
    {
     "data": {
      "text/plain": [
       "'read in a book'"
      ]
     },
     "execution_count": 765,
     "metadata": {},
     "output_type": "execute_result"
    }
   ],
   "source": [
    "todo[2]"
   ]
  },
  {
   "cell_type": "markdown",
   "metadata": {},
   "source": [
    "#### List Operations\n",
    "\n",
    "To remove items from a list, use `del`:"
   ]
  },
  {
   "cell_type": "code",
   "execution_count": 766,
   "metadata": {},
   "outputs": [
    {
     "data": {
      "text/plain": [
       "['reply to email', 'read in a book']"
      ]
     },
     "execution_count": 766,
     "metadata": {},
     "output_type": "execute_result"
    }
   ],
   "source": [
    "del todo[0]\n",
    "todo"
   ]
  },
  {
   "cell_type": "markdown",
   "metadata": {},
   "source": [
    "To replace the `read in a book` task, the item can be accessed and overwritten using its index:"
   ]
  },
  {
   "cell_type": "code",
   "execution_count": 767,
   "metadata": {},
   "outputs": [
    {
     "data": {
      "text/plain": [
       "['reply to email', 'read 5-pages from the book']"
      ]
     },
     "execution_count": 767,
     "metadata": {},
     "output_type": "execute_result"
    }
   ],
   "source": [
    "todo[1] = 'read 5-pages from the book'\n",
    "todo"
   ]
  },
  {
   "cell_type": "markdown",
   "metadata": {},
   "source": [
    "To add new tasks to the end of the list, an item can be `appended`:"
   ]
  },
  {
   "cell_type": "code",
   "execution_count": 768,
   "metadata": {},
   "outputs": [
    {
     "data": {
      "text/plain": [
       "['reply to email',\n",
       " 'read 5-pages from the book',\n",
       " 'call the consultation service']"
      ]
     },
     "execution_count": 768,
     "metadata": {},
     "output_type": "execute_result"
    }
   ],
   "source": [
    "todo.append('call the consultation service')\n",
    "todo"
   ]
  },
  {
   "cell_type": "markdown",
   "metadata": {},
   "source": [
    "Lists can also be combined:"
   ]
  },
  {
   "cell_type": "code",
   "execution_count": 769,
   "metadata": {},
   "outputs": [
    {
     "data": {
      "text/plain": [
       "['reply to email',\n",
       " 'read 5-pages from the book',\n",
       " 'call the consultation service',\n",
       " 'buy grocery',\n",
       " 'wash car',\n",
       " 'borrow a book from the library']"
      ]
     },
     "execution_count": 769,
     "metadata": {},
     "output_type": "execute_result"
    }
   ],
   "source": [
    "# combining an old todo list with the new one\n",
    "old_todo = ['buy grocery', 'wash car', 'borrow a book from the library']\n",
    "new_todo = todo + old_todo\n",
    "new_todo"
   ]
  },
  {
   "cell_type": "markdown",
   "metadata": {},
   "source": [
    "The length of the list can be shown using the `len` function:"
   ]
  },
  {
   "cell_type": "code",
   "execution_count": 770,
   "metadata": {},
   "outputs": [
    {
     "data": {
      "text/plain": [
       "6"
      ]
     },
     "execution_count": 770,
     "metadata": {},
     "output_type": "execute_result"
    }
   ],
   "source": [
    "len(new_todo)"
   ]
  },
  {
   "cell_type": "markdown",
   "metadata": {},
   "source": [
    "A particular item can be evaluated using an `in` expression, which returns a `True` or `False`:"
   ]
  },
  {
   "cell_type": "code",
   "execution_count": 771,
   "metadata": {},
   "outputs": [
    {
     "data": {
      "text/plain": [
       "True"
      ]
     },
     "execution_count": 771,
     "metadata": {},
     "output_type": "execute_result"
    }
   ],
   "source": [
    "'wash car' in new_todo"
   ]
  },
  {
   "cell_type": "markdown",
   "metadata": {},
   "source": [
    "#### Lists of Lists\n",
    "\n",
    "Lists can also contain other lists."
   ]
  },
  {
   "cell_type": "code",
   "execution_count": 772,
   "metadata": {},
   "outputs": [
    {
     "data": {
      "text/plain": [
       "['Abder',\n",
       " '4.0',\n",
       " ['write blog post', 'grocery'],\n",
       " [['a', 'b', 'c', 'd', 'e', 'r'], ['number', 'todo']]]"
      ]
     },
     "execution_count": 772,
     "metadata": {},
     "output_type": "execute_result"
    }
   ],
   "source": [
    "complex_list = ['Abder', '4.0', ['write blog post', 'grocery'], [['a', 'b', 'c', 'd', 'e', 'r'], ['number', 'todo']]]\n",
    "complex_list"
   ]
  },
  {
   "cell_type": "markdown",
   "metadata": {},
   "source": [
    "#### The `for`-loops and Lists"
   ]
  },
  {
   "cell_type": "markdown",
   "metadata": {},
   "source": [
    "Lists can be assembled using loops:"
   ]
  },
  {
   "cell_type": "code",
   "execution_count": 773,
   "metadata": {},
   "outputs": [
    {
     "name": "stdout",
     "output_type": "stream",
     "text": [
      "a\n",
      "b\n",
      "d\n",
      "e\n",
      "r\n"
     ]
    },
    {
     "data": {
      "text/plain": [
       "['aaa', 'bbb', 'ddd', 'eee', 'rrr']"
      ]
     },
     "execution_count": 773,
     "metadata": {},
     "output_type": "execute_result"
    }
   ],
   "source": [
    "# list to repeat\n",
    "abder = ['a', 'b', 'd', 'e', 'r']\n",
    "\n",
    "# define new list\n",
    "new_list = []\n",
    "\n",
    "for r in abder:\n",
    "  print(r)\n",
    "  new_list.append(r * 3)\n",
    "  \n",
    "new_list"
   ]
  },
  {
   "cell_type": "markdown",
   "metadata": {},
   "source": [
    "## Dictionaries\n",
    "\n",
    "`Dictionaries` are similar to `lists` with the following differences:\n",
    "1. They are unordered sets.\n",
    "2. Keys are used to access items and not positions or indexes.\n",
    "The defining trait of `dictionaries` are its key-value pairs."
   ]
  },
  {
   "cell_type": "code",
   "execution_count": 774,
   "metadata": {},
   "outputs": [
    {
     "name": "stdout",
     "output_type": "stream",
     "text": [
      "{'paper': 'papier', 'pen': 'stylo', 'car': 'voiture', 'table': 'table', 'door': 'porte'}\n",
      "{'papier': 'papel', 'stylo': 'pluma', 'voiture': 'coche', 'table': 'mesa', 'porte': 'puerta'}\n"
     ]
    }
   ],
   "source": [
    "english_french = {'paper': 'papier', 'pen': 'stylo', 'car': 'voiture', 'table': 'table', 'door': 'porte'}\n",
    "print(english_french)\n",
    "\n",
    "french_spanish = {'papier': 'papel', 'stylo': 'pluma', 'voiture': 'coche', 'table': 'mesa', 'porte': 'puerta'}\n",
    "print(french_spanish)"
   ]
  },
  {
   "cell_type": "markdown",
   "metadata": {},
   "source": [
    "To call on a dictionary value, its key can be called similarly to how list values can be called by their indices."
   ]
  },
  {
   "cell_type": "code",
   "execution_count": 775,
   "metadata": {},
   "outputs": [
    {
     "data": {
      "text/plain": [
       "'stylo'"
      ]
     },
     "execution_count": 775,
     "metadata": {},
     "output_type": "execute_result"
    }
   ],
   "source": [
    "english_french['pen']"
   ]
  },
  {
   "cell_type": "markdown",
   "metadata": {},
   "source": [
    "Lacking an ***english to spanish*** dictionary, items in the ***english to french*** dictionary can be used to translate into french, which can then be translated using the ***french to spanish*** dictionary."
   ]
  },
  {
   "cell_type": "code",
   "execution_count": 776,
   "metadata": {},
   "outputs": [
    {
     "data": {
      "text/plain": [
       "'puerta'"
      ]
     },
     "execution_count": 776,
     "metadata": {},
     "output_type": "execute_result"
    }
   ],
   "source": [
    "french_spanish[english_french['door']]"
   ]
  },
  {
   "cell_type": "markdown",
   "metadata": {},
   "source": [
    "#### Dictionary Operations\n",
    "Length can be obtained similarly to lists."
   ]
  },
  {
   "cell_type": "code",
   "execution_count": 777,
   "metadata": {},
   "outputs": [
    {
     "data": {
      "text/plain": [
       "5"
      ]
     },
     "execution_count": 777,
     "metadata": {},
     "output_type": "execute_result"
    }
   ],
   "source": [
    "len(english_french)"
   ]
  },
  {
   "cell_type": "markdown",
   "metadata": {},
   "source": [
    "The deletion of an item is carried out through the `keys`."
   ]
  },
  {
   "cell_type": "code",
   "execution_count": 778,
   "metadata": {},
   "outputs": [
    {
     "data": {
      "text/plain": [
       "{'paper': 'papier', 'pen': 'stylo', 'car': 'voiture', 'table': 'table'}"
      ]
     },
     "execution_count": 778,
     "metadata": {},
     "output_type": "execute_result"
    }
   ],
   "source": [
    "del english_french['door']\n",
    "english_french"
   ]
  },
  {
   "cell_type": "markdown",
   "metadata": {},
   "source": [
    "We can check if `door` still exists in the dictionary."
   ]
  },
  {
   "cell_type": "code",
   "execution_count": 779,
   "metadata": {},
   "outputs": [
    {
     "name": "stdout",
     "output_type": "stream",
     "text": [
      "False\n",
      "True\n"
     ]
    }
   ],
   "source": [
    "print('door' in english_french)\n",
    "print('door' not in english_french)"
   ]
  },
  {
   "cell_type": "markdown",
   "metadata": {},
   "source": [
    "To copy a dictionary, the `copy` function can be used."
   ]
  },
  {
   "cell_type": "code",
   "execution_count": 780,
   "metadata": {},
   "outputs": [
    {
     "data": {
      "text/plain": [
       "{'paper': 'papier', 'pen': 'stylo', 'car': 'voiture', 'table': 'table'}"
      ]
     },
     "execution_count": 780,
     "metadata": {},
     "output_type": "execute_result"
    }
   ],
   "source": [
    "new_english_french = english_french.copy()\n",
    "new_english_french"
   ]
  },
  {
   "cell_type": "markdown",
   "metadata": {},
   "source": [
    "#### Nested Dictionaries\n",
    "Dictionaries can be of any type, including dictionaries."
   ]
  },
  {
   "cell_type": "code",
   "execution_count": 781,
   "metadata": {},
   "outputs": [
    {
     "name": "stdout",
     "output_type": "stream",
     "text": [
      "{'ID': {'name': 'Abder-Rahman', 'number': '1234'}}\n"
     ]
    }
   ],
   "source": [
    "student = {'ID': {'name': 'Abder-Rahman', 'number': '1234'}}\n",
    "print(student)"
   ]
  },
  {
   "cell_type": "markdown",
   "metadata": {},
   "source": [
    "#### Iterating over a Dictionary"
   ]
  },
  {
   "cell_type": "code",
   "execution_count": 782,
   "metadata": {},
   "outputs": [
    {
     "name": "stdout",
     "output_type": "stream",
     "text": [
      "paper\n",
      "pen\n",
      "car\n",
      "table\n"
     ]
    }
   ],
   "source": [
    "for word in english_french:\n",
    "  print(word)"
   ]
  },
  {
   "cell_type": "markdown",
   "metadata": {},
   "source": [
    "The `keys` in the result are not given in the same order as in the `english-french` dictionary. However..."
   ]
  },
  {
   "cell_type": "code",
   "execution_count": 783,
   "metadata": {},
   "outputs": [
    {
     "name": "stdout",
     "output_type": "stream",
     "text": [
      "KEYS:\n",
      "paper\n",
      "pen\n",
      "car\n",
      "table\n",
      "\n",
      "VALUES:\n",
      "papier\n",
      "stylo\n",
      "voiture\n",
      "table\n"
     ]
    }
   ],
   "source": [
    "print(\"KEYS:\")\n",
    "for key in english_french.keys():\n",
    "  print(key)\n",
    "  \n",
    "print()\n",
    "print(\"VALUES:\")\n",
    "for value in english_french.values():\n",
    "  print(value)"
   ]
  },
  {
   "cell_type": "code",
   "execution_count": 784,
   "metadata": {},
   "outputs": [
    {
     "name": "stdout",
     "output_type": "stream",
     "text": [
      "KEY , VALUES:\n",
      "paper , papier\n",
      "pen , stylo\n",
      "car , voiture\n",
      "table , table\n"
     ]
    }
   ],
   "source": [
    "print(\"KEY , VALUES:\")\n",
    "for key, value in english_french.items():\n",
    "  print(key, \",\", value)"
   ]
  },
  {
   "cell_type": "markdown",
   "metadata": {},
   "source": [
    "#### Alternative Ways of Creating Dictionaries"
   ]
  },
  {
   "cell_type": "code",
   "execution_count": 785,
   "metadata": {},
   "outputs": [
    {
     "data": {
      "text/plain": [
       "{'name': 'Abder-Rahman', 'number': 1234}"
      ]
     },
     "execution_count": 785,
     "metadata": {},
     "output_type": "execute_result"
    }
   ],
   "source": [
    "ID = dict(name = \"Abder-Rahman\", number = 1234)\n",
    "ID"
   ]
  },
  {
   "cell_type": "code",
   "execution_count": 786,
   "metadata": {},
   "outputs": [
    {
     "data": {
      "text/plain": [
       "{'name': 'Abder-Rahman', 'number': 1234}"
      ]
     },
     "execution_count": 786,
     "metadata": {},
     "output_type": "execute_result"
    }
   ],
   "source": [
    "ID = dict([('name', 'Abder-Rahman'), ('number', 1234)])\n",
    "ID"
   ]
  },
  {
   "cell_type": "code",
   "execution_count": 787,
   "metadata": {},
   "outputs": [
    {
     "data": {
      "text/plain": [
       "{'name': 'Abder-Rahman', 'number': 1234}"
      ]
     },
     "execution_count": 787,
     "metadata": {},
     "output_type": "execute_result"
    }
   ],
   "source": [
    "ID = dict(zip(['name', 'number'], ['Abder-Rahman', 1234])) # keys and values as Lists\n",
    "ID"
   ]
  },
  {
   "cell_type": "markdown",
   "metadata": {},
   "source": [
    "## Tuples\n",
    "\n",
    "Similar to `lists`, except for two differences:\n",
    "1. Tuples are immutable. Their contents nor their size cannot be changed, unless a copy is made of it.\n",
    "2. They are written in parentheses `( )`.\n",
    "\n",
    "`Tuples` consists of a set of ordered objects, which can be of any type and are accessed by indices (offset), as opposed to `Dictionaries` where items are accessed by `key`. Note that tuples store `references` to the objects they contain."
   ]
  },
  {
   "cell_type": "code",
   "execution_count": 788,
   "metadata": {},
   "outputs": [
    {
     "name": "stdout",
     "output_type": "stream",
     "text": [
      "1\n",
      "(31, 'abder', 4.0)\n",
      "(31, 'abder', 4.0)\n",
      "('ID', ('abder', 1234))\n"
     ]
    }
   ],
   "source": [
    "tup = (1)\n",
    "print(tup)\n",
    "\n",
    "tup = (31, 'abder', 4.0)\n",
    "print(tup)\n",
    "\n",
    "tup = 31, 'abder', 4.0\n",
    "print(tup)\n",
    "\n",
    "nested_tup = ('ID', ('abder', 1234))\n",
    "print(nested_tup)"
   ]
  },
  {
   "cell_type": "markdown",
   "metadata": {},
   "source": [
    "### Tuple Operations"
   ]
  },
  {
   "cell_type": "markdown",
   "metadata": {},
   "source": [
    "#### Concatenation\n",
    "Concatenation is a combination of `tuples` together."
   ]
  },
  {
   "cell_type": "code",
   "execution_count": 789,
   "metadata": {},
   "outputs": [
    {
     "name": "stdout",
     "output_type": "stream",
     "text": [
      "(1, 2, 3, 4, 5)\n",
      "(6, 7, 8, 9, 10)\n",
      "(1, 2, 3, 4, 5, 6, 7, 8, 9, 10)\n"
     ]
    }
   ],
   "source": [
    "tup1 = (1, 2, 3, 4, 5)\n",
    "print(tup1)\n",
    "\n",
    "tup2 = (6, 7, 8, 9, 10)\n",
    "print(tup2)\n",
    "\n",
    "tup = tup1 + tup2\n",
    "print(tup)"
   ]
  },
  {
   "cell_type": "markdown",
   "metadata": {},
   "source": [
    "#### Repetition\n",
    "Tuple repetition is carried out using the `*` operator."
   ]
  },
  {
   "cell_type": "code",
   "execution_count": 790,
   "metadata": {},
   "outputs": [
    {
     "data": {
      "text/plain": [
       "(1, 2, 3, 4, 5, 1, 2, 3, 4, 5, 1, 2, 3, 4, 5)"
      ]
     },
     "execution_count": 790,
     "metadata": {},
     "output_type": "execute_result"
    }
   ],
   "source": [
    "tup1 * 3"
   ]
  },
  {
   "cell_type": "markdown",
   "metadata": {},
   "source": [
    "#### Membership\n",
    "To check the membership of some item in a tuple, use `in`."
   ]
  },
  {
   "cell_type": "code",
   "execution_count": 791,
   "metadata": {},
   "outputs": [
    {
     "data": {
      "text/plain": [
       "False"
      ]
     },
     "execution_count": 791,
     "metadata": {},
     "output_type": "execute_result"
    }
   ],
   "source": [
    "7 in tup1"
   ]
  },
  {
   "cell_type": "markdown",
   "metadata": {},
   "source": [
    "#### Search\n",
    "Indicate where some item (by index) is located in the tuple using `index()`."
   ]
  },
  {
   "cell_type": "code",
   "execution_count": 792,
   "metadata": {},
   "outputs": [
    {
     "data": {
      "text/plain": [
       "4"
      ]
     },
     "execution_count": 792,
     "metadata": {},
     "output_type": "execute_result"
    }
   ],
   "source": [
    "tup1.index(5)"
   ]
  },
  {
   "cell_type": "markdown",
   "metadata": {},
   "source": [
    "#### Count\n",
    "Count the number of times an element exists in the tuple."
   ]
  },
  {
   "cell_type": "code",
   "execution_count": 793,
   "metadata": {},
   "outputs": [
    {
     "data": {
      "text/plain": [
       "4"
      ]
     },
     "execution_count": 793,
     "metadata": {},
     "output_type": "execute_result"
    }
   ],
   "source": [
    "tup3 = (65, 67, 5, 67, 34, 76, 67, 231, 98, 67)\n",
    "tup3.count(67)"
   ]
  },
  {
   "cell_type": "markdown",
   "metadata": {},
   "source": [
    "#### Index\n",
    "Indexing is the process of accessing a tuple element by index using a subscript."
   ]
  },
  {
   "cell_type": "code",
   "execution_count": 794,
   "metadata": {},
   "outputs": [
    {
     "data": {
      "text/plain": [
       "34"
      ]
     },
     "execution_count": 794,
     "metadata": {},
     "output_type": "execute_result"
    }
   ],
   "source": [
    "tup3[4]"
   ]
  },
  {
   "cell_type": "markdown",
   "metadata": {},
   "source": [
    "An index can also be negative, which counts from the right of the tuple. Negative indexing begins from `-1` naturally, since `-0` is equivalent to `0`."
   ]
  },
  {
   "cell_type": "code",
   "execution_count": 795,
   "metadata": {},
   "outputs": [
    {
     "data": {
      "text/plain": [
       "34"
      ]
     },
     "execution_count": 795,
     "metadata": {},
     "output_type": "execute_result"
    }
   ],
   "source": [
    "tup3[-6]"
   ]
  },
  {
   "cell_type": "markdown",
   "metadata": {},
   "source": [
    "A range of indices can be specified instead by slicing with a `:`."
   ]
  },
  {
   "cell_type": "code",
   "execution_count": 796,
   "metadata": {},
   "outputs": [
    {
     "name": "stdout",
     "output_type": "stream",
     "text": [
      "(65, 67, 5, 67, 34, 76, 67, 231, 98, 67)\n",
      "(34, 76, 67, 231, 98, 67)\n",
      "(65, 67, 5, 67)\n",
      "(67, 5)\n",
      "(98, 67)\n",
      "(65, 67, 5, 67, 34, 76, 67, 231)\n"
     ]
    }
   ],
   "source": [
    "print(tup3)\n",
    "print(tup3[4:])\n",
    "print(tup3[:4])\n",
    "print(tup3[1:3])\n",
    "print(tup3[-2:])\n",
    "print(tup3[:-2])"
   ]
  },
  {
   "cell_type": "markdown",
   "metadata": {},
   "source": [
    "## Conditional Statements\n",
    "Conditional statements in Python are: `if`, `elif`, and `else`.\n",
    "\n",
    "#### Branching Programs\n",
    "Unlike ***straight-line*** programs where the statements are executed in order of appearance, ***branching programs*** navigates to statements regardless of order. Conditional statements allow for such branching.\n",
    "\n",
    "#### Conditional Statement Structure\n",
    "A conditional statement consists of the following main parts:\n",
    "- a test that evaluates to either `true` or `false`\n",
    "- a block of code that runs if the test is `true`\n",
    "- (optional) a block of code if the test is `false`"
   ]
  },
  {
   "cell_type": "code",
   "execution_count": 797,
   "metadata": {},
   "outputs": [
    {
     "name": "stdout",
     "output_type": "stream",
     "text": [
      "x is NOT equal to 3\n",
      "That's it!\n"
     ]
    }
   ],
   "source": [
    "x = 0\n",
    "if x == 3:\n",
    "  print ('x is equal to 3')\n",
    "else:\n",
    "  print('x is NOT equal to 3')\n",
    "\n",
    "# make sure to be precise with indentation\n",
    "print('That\\'s it!')"
   ]
  },
  {
   "cell_type": "markdown",
   "metadata": {},
   "source": [
    "#### Nested Conditional Statements"
   ]
  },
  {
   "cell_type": "code",
   "execution_count": 798,
   "metadata": {},
   "outputs": [
    {
     "name": "stdout",
     "output_type": "stream",
     "text": [
      "Student lacks the necessary requirements to take the Data Science course.\n"
     ]
    }
   ],
   "source": [
    "if x == 'Computer Science I':\n",
    "  if x == 'Computer Science II':\n",
    "    print(\"Student can take the Data Structure course.\")\n",
    "else:\n",
    "  print(\"Student lacks the necessary requirements to take the Data Science course.\")"
   ]
  },
  {
   "cell_type": "markdown",
   "metadata": {},
   "source": [
    "#### Compound Boolean Expressions\n",
    "Sometimes more than one boolean expression in the same test is required.\n",
    "\n",
    "##### Python Boolean Expressions\n",
    "`or` : the following statement runs if any expression is `True`  \n",
    "`and` : all the expressions need to be `True` for the following statement to run  \n",
    "`not` : the expression is `False` if it evaluates to `True`, and vice-versa"
   ]
  },
  {
   "cell_type": "code",
   "execution_count": 799,
   "metadata": {},
   "outputs": [
    {
     "name": "stdout",
     "output_type": "stream",
     "text": [
      "c is the smallest number\n",
      "x is not in the list\n"
     ]
    }
   ],
   "source": [
    "# example of the `and` expression\n",
    "a = 5\n",
    "b = 6\n",
    "c = 4\n",
    "\n",
    "if a < b and a < c:\n",
    "  print('a is the smallest number')\n",
    "elif b < c:\n",
    "  print(\"b is the smallest number\")\n",
    "else:\n",
    "  print(\"c is the smallest number\")\n",
    "\n",
    "# example of the `not` expression\n",
    "l = [1, 2, 3, 4, 5]\n",
    "x = 13\n",
    "if x not in l:\n",
    "  print(\"x is not in the list\")"
   ]
  },
  {
   "cell_type": "markdown",
   "metadata": {},
   "source": []
  },
  {
   "cell_type": "markdown",
   "metadata": {},
   "source": [
    "## Python Loops\n",
    "\n",
    "#### `while` loops\n",
    "In this kind of iteration, as long as the test evaluates as `True`, the statement or block of statements will keep executing."
   ]
  },
  {
   "cell_type": "code",
   "execution_count": 800,
   "metadata": {},
   "outputs": [
    {
     "name": "stdout",
     "output_type": "stream",
     "text": [
      "Water the flower # 1\n",
      "Water the flower # 2\n",
      "Water the flower # 3\n",
      "Water the flower # 4\n",
      "Water the flower # 5\n",
      "Water the flower # 6\n",
      "Water the flower # 7\n",
      "Water the flower # 8\n",
      "Water the flower # 9\n",
      "Water the flower # 10\n"
     ]
    }
   ],
   "source": [
    "flowers = 1\n",
    "while flowers <= 10:\n",
    "  print(\"Water the flower # \" + str(flowers))\n",
    "  flowers = flowers + 1"
   ]
  },
  {
   "cell_type": "markdown",
   "metadata": {},
   "source": [
    "#### `for` Loops\n",
    "This is an iteration that steps through the items of an ***ordered sequence*** such as `lists`, `dictionaries`, `tuples`, `strings`, etc."
   ]
  },
  {
   "cell_type": "code",
   "execution_count": 801,
   "metadata": {},
   "outputs": [
    {
     "name": "stdout",
     "output_type": "stream",
     "text": [
      "This language is in the list: Arabic\n",
      "This language is in the list: English\n",
      "This language is in the list: French\n",
      "This language is in the list: Spanish\n"
     ]
    }
   ],
   "source": [
    "languages = ['Arabic', 'English', 'French', 'Spanish']\n",
    "counter = 0\n",
    "for lang in languages:\n",
    "  print(\"This language is in the list: \" + lang)\n",
    "  counter = counter + 1"
   ]
  },
  {
   "cell_type": "markdown",
   "metadata": {},
   "source": [
    "#### Statements Used in `while` and `for` Loops\n",
    "\n",
    "##### `break`\n",
    "`break` causes the loop to terminate, and program execution is continued on the next statement."
   ]
  },
  {
   "cell_type": "code",
   "execution_count": 802,
   "metadata": {},
   "outputs": [
    {
     "name": "stdout",
     "output_type": "stream",
     "text": [
      "[1, 2, 3, 4, 5, 6, 7, 8, 9, 10]\n"
     ]
    }
   ],
   "source": [
    "# store a set of numbers in increasing values\n",
    "i = 1\n",
    "numbers = []\n",
    "while i < 11:\n",
    "  numbers.append(i)\n",
    "  i += 1\n",
    "\n",
    "print(numbers)"
   ]
  },
  {
   "cell_type": "code",
   "execution_count": 803,
   "metadata": {},
   "outputs": [
    {
     "name": "stdout",
     "output_type": "stream",
     "text": [
      "I'm # 1\n",
      "I'm # 2\n",
      "I'm # 3\n",
      "Sorry, I had to quit the loop when the value became 4.\n"
     ]
    }
   ],
   "source": [
    "value = 1\n",
    "while value in numbers:\n",
    "  if value == 4:\n",
    "    break # this will break the `while` loop before the `print` statement runs\n",
    "  print(\"I\\'m # \" + str(value))\n",
    "  value += 1\n",
    "\n",
    "print(f\"Sorry, I had to quit the loop when the value became {value}.\")"
   ]
  },
  {
   "cell_type": "markdown",
   "metadata": {},
   "source": [
    "##### `continue`\n",
    "`continue` returns the loop, ignoring any statements in the loop afterward."
   ]
  },
  {
   "cell_type": "code",
   "execution_count": 804,
   "metadata": {},
   "outputs": [
    {
     "name": "stdout",
     "output_type": "stream",
     "text": [
      "I'm # 1\n",
      "I'm # 2\n",
      "I'm # 3\n",
      "I'm # 4\n",
      "I have reached the last statement in the program and need to terminate.\n"
     ]
    }
   ],
   "source": [
    "value = 1\n",
    "while value in numbers:\n",
    "  if value < 5:\n",
    "    print(\"I\\'m # \" + str(value))\n",
    "    value += 1\n",
    "    continue # this will make sure that the `print` statement below will never be seen\n",
    "    print(\"I\\'m in the `if`-condition, why are you ignoring me?\")\n",
    "  elif value == 5:\n",
    "    break\n",
    "\n",
    "print(\"I have reached the last statement in the program and need to terminate.\")"
   ]
  },
  {
   "cell_type": "markdown",
   "metadata": {},
   "source": [
    "##### `pass`\n",
    "\n",
    "`pass` is a `null` statement for loops. It doesn't do anything other than act as placeholders."
   ]
  },
  {
   "cell_type": "code",
   "execution_count": 805,
   "metadata": {},
   "outputs": [
    {
     "name": "stdout",
     "output_type": "stream",
     "text": [
      "I've reached the last statement in the program and need to terminate.\n"
     ]
    }
   ],
   "source": [
    "value = 1\n",
    "for value in numbers:\n",
    "  # if `pass` is not present here, the program will throw an error\n",
    "  pass\n",
    "\n",
    "print(\"I've reached the last statement in the program and need to terminate.\")"
   ]
  },
  {
   "cell_type": "markdown",
   "metadata": {},
   "source": [
    "##### `else`\n",
    "`else` will contain a block of statements to run when a loop exits naturally and not by a `break`."
   ]
  },
  {
   "cell_type": "code",
   "execution_count": 806,
   "metadata": {},
   "outputs": [
    {
     "name": "stdout",
     "output_type": "stream",
     "text": [
      "I'm # 1\n",
      "I'm # 2\n",
      "I'm # 3\n",
      "I'm # 4\n",
      "I'm # 5\n",
      "I'm # 6\n",
      "I'm # 7\n",
      "I'm # 8\n",
      "I'm # 9\n",
      "I'm # 10\n",
      "I'm part of the `else` statement block.\n",
      "I'm also part of the `else` statement block.\n"
     ]
    }
   ],
   "source": [
    "value = 1\n",
    "while value in numbers:\n",
    "  print(\"I\\'m # \" + str(value))\n",
    "  value += 1\n",
    "else:\n",
    "  print(\"I\\'m part of the `else` statement block.\")\n",
    "  print(\"I\\'m also part of the `else` statement block.\")"
   ]
  },
  {
   "cell_type": "markdown",
   "metadata": {},
   "source": [
    "## Python Functions\n",
    "***Functions*** are composed of a set of instructions combined together to get some result (achieve some task) and are executed by calling them--a ***function call***. Results in Python can either be the output of some computation in the `function` or `None`. Those functions can be either ***built-in*** functions or ***user-defined*** functions. Functions defined within `classes` are the called `methods`.  \n",
    "\n",
    "#### Defining Functions\n",
    "***User-defined*** functions are initialized with `def`. Optional ***parameters*** are ***arguments*** that can be passed into the function at the time of its calling. These arguments can then be used in the statements within the function body.\n",
    "\n",
    "The `return` statement is an optional statement, which a value can be returned to the caller. If no `return` value is identified, then a `None` is returned."
   ]
  },
  {
   "cell_type": "code",
   "execution_count": 807,
   "metadata": {},
   "outputs": [
    {
     "name": "stdout",
     "output_type": "stream",
     "text": [
      "FIRST EXAMPLE:\n",
      "Abder\n",
      "\n",
      "SECOND EXAMPLE: \n",
      "List \"inside\" the function is:  [1, 2, 3, 4, 5, 8, 13]\n",
      "List \"outside\" the function is:  [1, 2, 3, 4, 5, 8, 13]\n",
      "\n",
      "THIRD EXAMPLE:\n",
      "8 + 4 = 12\n",
      "8 + 4 = 4\n",
      "8 + 4 = 32\n",
      "8 + 4 = 2\n"
     ]
    }
   ],
   "source": [
    "# a simple `print` example\n",
    "print(\"FIRST EXAMPLE:\")\n",
    "employee_name = 'Abder'\n",
    "def print_name(name):\n",
    "  print(name)\n",
    "\n",
    "print_name(employee_name)\n",
    "\n",
    "# another example\n",
    "print(\"\\nSECOND EXAMPLE: \")\n",
    "numbers_list = [1, 2, 3, 4, 5]\n",
    "def insert_numbers(numbers_list):\n",
    "  numbers_list.insert(5, 8)\n",
    "  numbers_list.insert(6, 13)\n",
    "  print(\"List \\\"inside\\\" the function is: \", numbers_list)\n",
    "  return\n",
    "\n",
    "insert_numbers(numbers_list)\n",
    "print(\"List \\\"outside\\\" the function is: \", numbers_list)\n",
    "\n",
    "# calculator\n",
    "print(\"\\nTHIRD EXAMPLE:\")\n",
    "def add(x, y):\n",
    "  return x + y\n",
    "def subtract(x, y):\n",
    "  return x - y\n",
    "def multiply(x, y):\n",
    "  return x * y\n",
    "def divide(x, y):\n",
    "  return x / y\n",
    "\n",
    "x, y = 8, 4\n",
    "\n",
    "print(f\"{x} + {y} = {add(x, y)}\")\n",
    "print(f\"{x} + {y} = {subtract(x, y)}\")\n",
    "print(f\"{x} + {y} = {multiply(x, y)}\")\n",
    "print(f\"{x} + {y} = {int(divide(x, y))}\") # int() to prevent a float from being returned"
   ]
  },
  {
   "cell_type": "markdown",
   "metadata": {},
   "source": [
    "## Lambda Functions\n",
    "A `lambda` function is a special type of function without a function name. To call it, it must be passed onto a variable, from which it can then be called with parentheses `()`."
   ]
  },
  {
   "cell_type": "code",
   "execution_count": 808,
   "metadata": {},
   "outputs": [
    {
     "name": "stdout",
     "output_type": "stream",
     "text": [
      "Hello World\n"
     ]
    }
   ],
   "source": [
    "# declare the lambda function\n",
    "greet = lambda : print(\"Hello World\")\n",
    "\n",
    "# call the lambda function\n",
    "greet()\n",
    "\n",
    "# Output: Hello World"
   ]
  },
  {
   "cell_type": "markdown",
   "metadata": {},
   "source": [
    "#### `lambda` Function with an Argument"
   ]
  },
  {
   "cell_type": "code",
   "execution_count": 809,
   "metadata": {},
   "outputs": [
    {
     "name": "stdout",
     "output_type": "stream",
     "text": [
      "Hey there, Delilah\n"
     ]
    }
   ],
   "source": [
    "# `lambda` that accepts one argument\n",
    "greet_user = lambda name : print(\"Hey there,\", name)\n",
    "\n",
    "# `lambda` call\n",
    "greet_user(\"Delilah\")\n",
    "\n",
    "# Output: Het there, Delilah"
   ]
  },
  {
   "cell_type": "markdown",
   "metadata": {},
   "source": [
    "## Sets"
   ]
  },
  {
   "cell_type": "markdown",
   "metadata": {},
   "source": [
    "A `set` is similar to `list` but with differences:\n",
    "- Sets are unordered.\n",
    "- Set elements are unique, because duplicate elements are not allowed.\n",
    "- Sets are mutable, but its items must be immutable."
   ]
  },
  {
   "cell_type": "markdown",
   "metadata": {},
   "source": [
    "A `set` can be created in two ways...\n",
    "#### `set()`"
   ]
  },
  {
   "cell_type": "markdown",
   "metadata": {},
   "source": [
    "A `set` defined as a function is analogous to using the `.extend()` method."
   ]
  },
  {
   "cell_type": "code",
   "execution_count": 810,
   "metadata": {},
   "outputs": [
    {
     "name": "stdout",
     "output_type": "stream",
     "text": [
      "{'baz', 'foo', 'quix', 'bar'}\n",
      "{'baz', 'foo', 'quix', 'bar'}\n"
     ]
    }
   ],
   "source": [
    "# defined as a function\n",
    "x = set(['foo', 'bar', 'baz', 'foo', 'quix']) # list\n",
    "print(x)\n",
    "\n",
    "x = set(('foo', 'bar', 'baz', 'foo', 'quix')) # tuple\n",
    "print(x) "
   ]
  },
  {
   "cell_type": "markdown",
   "metadata": {},
   "source": [
    "`strings` are also iterable, so it can be passed to a `set()` function as well."
   ]
  },
  {
   "cell_type": "code",
   "execution_count": 811,
   "metadata": {},
   "outputs": [
    {
     "name": "stdout",
     "output_type": "stream",
     "text": [
      "['q', 'u', 'u', 'x']\n",
      "{'u', 'q', 'x'}\n"
     ]
    }
   ],
   "source": [
    "s = 'quux'\n",
    "print(list(s))\n",
    "print(set(s)) # notice how this function returns no duplicates"
   ]
  },
  {
   "cell_type": "markdown",
   "metadata": {},
   "source": [
    "#### `set` defined by curly braces `{}`\n",
    "When a `set` is defined this way, each item becomes a distinct element of the set, even if it is iterable. This behavior is similar to that of the `.append()` list method."
   ]
  },
  {
   "cell_type": "code",
   "execution_count": 812,
   "metadata": {},
   "outputs": [
    {
     "name": "stdout",
     "output_type": "stream",
     "text": [
      "{'baz', 'foo', 'qux', 'bar'}\n",
      "{'u', 'q', 'x'}\n"
     ]
    }
   ],
   "source": [
    "x = {'foo', 'bar', 'baz', 'foo', 'qux'}\n",
    "print(x)\n",
    "\n",
    "x = {'q', 'u', 'u', 'x'}\n",
    "print(x)"
   ]
  },
  {
   "cell_type": "code",
   "execution_count": 813,
   "metadata": {},
   "outputs": [
    {
     "name": "stdout",
     "output_type": "stream",
     "text": [
      "{'foo'}\n",
      "{'f', 'o'}\n",
      "<class 'set'>\n",
      "<class 'dict'>\n",
      "<class 'set'>\n"
     ]
    }
   ],
   "source": [
    "# observe the difference between the two `set` definitions\n",
    "print({'foo'})\n",
    "print(set('foo'))\n",
    "\n",
    "# how about the types\n",
    "x = set()\n",
    "print(type(x))\n",
    "\n",
    "x = {} # an empty set of curly brackets defaults to a dict rather than a set\n",
    "print(type(x))\n",
    "\n",
    "x = {'foo'} # but passing an object will implicitly define it as a set\n",
    "print(type(x))"
   ]
  },
  {
   "cell_type": "markdown",
   "metadata": {},
   "source": [
    "#### Set Size and Membership"
   ]
  },
  {
   "cell_type": "code",
   "execution_count": 814,
   "metadata": {},
   "outputs": [
    {
     "name": "stdout",
     "output_type": "stream",
     "text": [
      "3\n",
      "True\n",
      "False\n"
     ]
    }
   ],
   "source": [
    "# defining a `set`\n",
    "x = {'foo', 'bar', 'baz'}\n",
    "\n",
    "print(len(x))\n",
    "print('bar' in x)\n",
    "print('qux' in x)"
   ]
  },
  {
   "cell_type": "markdown",
   "metadata": {},
   "source": [
    "#### Operating on a `set`\n",
    "Many of the operations that can be used for Python's other composite data types don't make sense for sets. Sets can't be indexed or sliced. Python provides a whole host of operations on set objects that generally mimic the operations that are defined for mathematical sets.\n",
    "\n",
    "##### Operators vs Methods\n",
    "Most `set` operations can be performed in two different ways:\n",
    "- operators\n",
    "- methods"
   ]
  },
  {
   "cell_type": "code",
   "execution_count": 815,
   "metadata": {},
   "outputs": [],
   "source": [
    "x1 = {'foo', 'bar', 'baz'}\n",
    "x2 = {'baz', 'qux', 'quux'}"
   ]
  },
  {
   "cell_type": "markdown",
   "metadata": {},
   "source": [
    "##### `union()` and `|`"
   ]
  },
  {
   "cell_type": "markdown",
   "metadata": {},
   "source": [
    "`union` will return all values."
   ]
  },
  {
   "cell_type": "code",
   "execution_count": 816,
   "metadata": {},
   "outputs": [
    {
     "name": "stdout",
     "output_type": "stream",
     "text": [
      "{'baz', 'foo', 'quux', 'bar', 'qux'}\n",
      "{'baz', 'foo', 'quux', 'bar', 'qux'}\n"
     ]
    }
   ],
   "source": [
    "print(x1 | x2) # this will only work with sets\n",
    "print(x1.union(x2)) # union also converts its arguments to a set, x2 doesn't necessarily need to be set"
   ]
  },
  {
   "cell_type": "markdown",
   "metadata": {},
   "source": [
    "##### `intersection()` and `&`\n",
    "\n"
   ]
  },
  {
   "cell_type": "markdown",
   "metadata": {},
   "source": [
    "`intersection` returns the values that are the same in all sets being compared."
   ]
  },
  {
   "cell_type": "code",
   "execution_count": 817,
   "metadata": {},
   "outputs": [
    {
     "name": "stdout",
     "output_type": "stream",
     "text": [
      "{1, 2, 3, 4, 5, 6, 7}\n",
      "{1, 2, 3, 4, 5, 6, 7}\n"
     ]
    }
   ],
   "source": [
    "a = {1, 2, 3, 4}\n",
    "b = {2, 3, 4, 5}\n",
    "c = {3, 4, 5, 6}\n",
    "d = {4, 5, 6, 7}\n",
    "\n",
    "# to recap unions\n",
    "print(a.union(b, c, d))\n",
    "print(a | b | c | d)"
   ]
  },
  {
   "cell_type": "code",
   "execution_count": 818,
   "metadata": {},
   "outputs": [
    {
     "name": "stdout",
     "output_type": "stream",
     "text": [
      "{2, 3, 4}\n",
      "{4}\n",
      "{3, 4}\n"
     ]
    }
   ],
   "source": [
    "print(a.intersection(b))\n",
    "print(a.intersection(b, c, d))\n",
    "print(a & b & c)"
   ]
  },
  {
   "cell_type": "markdown",
   "metadata": {},
   "source": [
    "##### `difference()` and `-`\n",
    "`difference` returns the set of all elements that are in the reference set but not in the comparison set."
   ]
  },
  {
   "cell_type": "code",
   "execution_count": 819,
   "metadata": {},
   "outputs": [
    {
     "name": "stdout",
     "output_type": "stream",
     "text": [
      "{'baz', 'foo', 'bar'} and {'baz', 'quux', 'qux'}\n",
      "{'foo', 'bar'}\n",
      "{'foo', 'bar'}\n"
     ]
    }
   ],
   "source": [
    "print(x1, \"and\", x2)\n",
    "print(x1.difference(x2))\n",
    "print(x1 - x2)"
   ]
  },
  {
   "cell_type": "markdown",
   "metadata": {},
   "source": [
    "##### `symmetric_difference()` and `^`\n",
    "`symmetric_difference` returns the set of all elements in the reference sets and the comparison set. It is equivalent to the `not` of the `intersection` of the same sets."
   ]
  },
  {
   "cell_type": "code",
   "execution_count": 820,
   "metadata": {},
   "outputs": [
    {
     "name": "stdout",
     "output_type": "stream",
     "text": [
      "{'baz', 'foo', 'bar'} and {'baz', 'quux', 'qux'}\n",
      "{'quux', 'qux', 'foo', 'bar'}\n",
      "{'quux', 'qux', 'foo', 'bar'}\n"
     ]
    }
   ],
   "source": [
    "print(x1, \"and\", x2)\n",
    "print(x1.symmetric_difference(x2))\n",
    "print(x1 ^ x2)"
   ]
  },
  {
   "cell_type": "code",
   "execution_count": 821,
   "metadata": {},
   "outputs": [
    {
     "name": "stdout",
     "output_type": "stream",
     "text": [
      "{1, 2, 3, 4} and {2, 3, 4, 5} and {3, 4, 5, 6}\n",
      "{1, 3, 4, 6}\n"
     ]
    }
   ],
   "source": [
    "print(a, \"and\", b, \"and\", c)\n",
    "print(a ^ b ^ c) # evaluates the symmetric difference between a and then b, and then the resulting set with set c"
   ]
  },
  {
   "cell_type": "markdown",
   "metadata": {},
   "source": [
    "##### `disjoint()`\n",
    "Evalulates whether or not two sets have any elements in common. Returns a `boolean`."
   ]
  },
  {
   "cell_type": "code",
   "execution_count": 822,
   "metadata": {},
   "outputs": [
    {
     "name": "stdout",
     "output_type": "stream",
     "text": [
      "{'baz', 'foo', 'bar'} and {'baz', 'quux', 'qux'}\n",
      "False\n",
      "True\n"
     ]
    }
   ],
   "source": [
    "print(x1, \"and\", x2)\n",
    "print(x1.isdisjoint(x2))\n",
    "\n",
    "x2 - {\"baz\"}\n",
    "print(x1.isdisjoint(x2 - {\"baz\"}))"
   ]
  },
  {
   "cell_type": "markdown",
   "metadata": {},
   "source": [
    "##### `issubset()` and `<=`\n",
    "Determine if one set is a `subset` of the other."
   ]
  },
  {
   "cell_type": "code",
   "execution_count": 823,
   "metadata": {},
   "outputs": [
    {
     "name": "stdout",
     "output_type": "stream",
     "text": [
      "{'baz', 'foo', 'bar'} and {'baz', 'quux', 'qux'}\n",
      "True\n",
      "False\n"
     ]
    }
   ],
   "source": [
    "print(x1, \"and\", x2)\n",
    "print(x1.issubset({'foo', 'bar', 'baz', 'qux', 'quux'}))\n",
    "print(x1 <= x2)"
   ]
  },
  {
   "cell_type": "markdown",
   "metadata": {},
   "source": [
    "##### A ***proper subset*** (`<`)\n",
    "Determines whether one set is a proper subset of the other. A proper subset is the same as a subset, except that the sets cannot be identical."
   ]
  },
  {
   "cell_type": "code",
   "execution_count": 824,
   "metadata": {},
   "outputs": [
    {
     "name": "stdout",
     "output_type": "stream",
     "text": [
      "True\n",
      "False\n",
      "True\n"
     ]
    }
   ],
   "source": [
    "x3 = {'foo', 'bar'}\n",
    "x4 = {'foo', 'bar', 'baz'}\n",
    "print(x3 < x4)\n",
    "\n",
    "x3 = x3 | {'baz'}\n",
    "print(x3 < x4)\n",
    "print(x3 <= x4)"
   ]
  },
  {
   "cell_type": "markdown",
   "metadata": {},
   "source": [
    "##### `issuperset()` and `>=`\n",
    "Determine whether one set is a superset of the other."
   ]
  },
  {
   "cell_type": "code",
   "execution_count": 825,
   "metadata": {},
   "outputs": [
    {
     "name": "stdout",
     "output_type": "stream",
     "text": [
      "True\n",
      "True\n"
     ]
    }
   ],
   "source": [
    "x3 = {'foo', 'bar'}\n",
    "x4 = {'foo', 'bar', 'baz'}\n",
    "print(x4.issuperset(x3))\n",
    "print(x4 >= x3)"
   ]
  },
  {
   "cell_type": "markdown",
   "metadata": {},
   "source": [
    "A ***proper*** `superset` works similarly to how a ***proper*** `subset` relates to a `subset`."
   ]
  },
  {
   "cell_type": "markdown",
   "metadata": {},
   "source": [
    "#### Modifying a `set`\n",
    "Although the elements contained in a `set` must be of an immutable type, the `set` itself can be modified."
   ]
  },
  {
   "cell_type": "code",
   "execution_count": 826,
   "metadata": {},
   "outputs": [],
   "source": [
    "x = {'foo', 'bar', 'baz'}"
   ]
  },
  {
   "cell_type": "markdown",
   "metadata": {},
   "source": [
    "##### `x.add()`\n",
    "Adds an element to a `set`. The element must be a single immutable object."
   ]
  },
  {
   "cell_type": "code",
   "execution_count": 827,
   "metadata": {},
   "outputs": [
    {
     "name": "stdout",
     "output_type": "stream",
     "text": [
      "{'baz', 'foo', 'quz', 'bar'}\n"
     ]
    }
   ],
   "source": [
    "x.add('quz')\n",
    "print(x)"
   ]
  },
  {
   "cell_type": "markdown",
   "metadata": {},
   "source": [
    "##### `x.remove()`\n",
    "Removes an element from a `set`. The element must exist in the `set`, otherwise Python will raise an exception."
   ]
  },
  {
   "cell_type": "code",
   "execution_count": 828,
   "metadata": {},
   "outputs": [
    {
     "name": "stdout",
     "output_type": "stream",
     "text": [
      "{'baz', 'foo', 'quz', 'bar'}\n",
      "{'foo', 'quz', 'bar'}\n"
     ]
    }
   ],
   "source": [
    "print(x)\n",
    "x.remove('baz')\n",
    "print(x)"
   ]
  },
  {
   "cell_type": "markdown",
   "metadata": {},
   "source": [
    "##### `x.discard()`\n",
    "Removes an element from a `set`. Unlike `x.remove()`, this method does not raise an exception."
   ]
  },
  {
   "cell_type": "code",
   "execution_count": 829,
   "metadata": {},
   "outputs": [
    {
     "name": "stdout",
     "output_type": "stream",
     "text": [
      "{'foo', 'quz', 'bar'}\n",
      "{'foo', 'quz', 'bar'}\n"
     ]
    }
   ],
   "source": [
    "print(x)\n",
    "x.discard('y')\n",
    "print(x)"
   ]
  },
  {
   "cell_type": "markdown",
   "metadata": {},
   "source": [
    "##### `x.pop()`\n",
    "Removes a random element from a `set` and returns it. If the `set` is empty, Python will raise an exception."
   ]
  },
  {
   "cell_type": "code",
   "execution_count": 830,
   "metadata": {},
   "outputs": [
    {
     "name": "stdout",
     "output_type": "stream",
     "text": [
      "foo\n",
      "{'quz', 'bar'}\n"
     ]
    }
   ],
   "source": [
    "print(x.pop())\n",
    "print(x)"
   ]
  },
  {
   "cell_type": "markdown",
   "metadata": {},
   "source": [
    "##### `x.clear()`\n",
    "Clears a `set`. In other words, `x.clear()` removes all elements for the `set`, *x*."
   ]
  },
  {
   "cell_type": "code",
   "execution_count": 831,
   "metadata": {},
   "outputs": [
    {
     "name": "stdout",
     "output_type": "stream",
     "text": [
      "{'quz', 'bar'}\n",
      "set()\n"
     ]
    }
   ],
   "source": [
    "print(x)\n",
    "x.clear()\n",
    "print(x)"
   ]
  },
  {
   "cell_type": "markdown",
   "metadata": {},
   "source": [
    "#### Frozen Sets\n",
    "Python provides another built-in type called a `frozenset`, which is exactly like a `set` except that it is immutable. Only non-modifying operations can be performed on a `frozenset`. However, a `frozenset` can still be targeted by an augmented assignment operator."
   ]
  },
  {
   "cell_type": "code",
   "execution_count": 832,
   "metadata": {},
   "outputs": [
    {
     "name": "stdout",
     "output_type": "stream",
     "text": [
      "4632666944\n",
      "frozenset({'baz'})\n",
      "4632659776\n"
     ]
    }
   ],
   "source": [
    "f = frozenset(['foo', 'bar', 'baz'])\n",
    "print(id(f))\n",
    "s = {'baz', 'qux', 'quux'}\n",
    "\n",
    "f &= s\n",
    "print(f)\n",
    "print(id(f))"
   ]
  },
  {
   "cell_type": "markdown",
   "metadata": {},
   "source": [
    "The idea here is that the augmented operator does not modify the original frozenset. More succinctly, it does not modify `in place`.Instead, it creates a new `frozenset` in memory with the same variable name.\n",
    "\n",
    "`frozenset` is useful in situations where a `set` is appropriate, but an immutable object is required. A simple example of this is a the impossibility of nested `set`."
   ]
  },
  {
   "cell_type": "code",
   "execution_count": 833,
   "metadata": {},
   "outputs": [
    {
     "ename": "TypeError",
     "evalue": "unhashable type: 'set'",
     "output_type": "error",
     "traceback": [
      "\u001b[0;31m---------------------------------------------------------------------------\u001b[0m",
      "\u001b[0;31mTypeError\u001b[0m                                 Traceback (most recent call last)",
      "Cell \u001b[0;32mIn[833], line 4\u001b[0m\n\u001b[1;32m      2\u001b[0m x2 \u001b[39m=\u001b[39m \u001b[39mset\u001b[39m([\u001b[39m'\u001b[39m\u001b[39mbar\u001b[39m\u001b[39m'\u001b[39m])\n\u001b[1;32m      3\u001b[0m x3 \u001b[39m=\u001b[39m \u001b[39mset\u001b[39m([\u001b[39m'\u001b[39m\u001b[39mbaz\u001b[39m\u001b[39m'\u001b[39m])\n\u001b[0;32m----> 4\u001b[0m x \u001b[39m=\u001b[39m {x1, x2, x3}\n",
      "\u001b[0;31mTypeError\u001b[0m: unhashable type: 'set'"
     ]
    }
   ],
   "source": [
    "x1 = set(['foo'])\n",
    "x2 = set(['bar'])\n",
    "x3 = set(['baz'])\n",
    "x = {x1, x2, x3}"
   ]
  },
  {
   "cell_type": "code",
   "execution_count": null,
   "metadata": {},
   "outputs": [
    {
     "name": "stdout",
     "output_type": "stream",
     "text": [
      "{frozenset({'baz'}), frozenset({'foo'}), frozenset({'bar'})}\n"
     ]
    }
   ],
   "source": [
    "x1 = frozenset(['foo'])\n",
    "x2 = frozenset(['bar'])\n",
    "x3 = frozenset(['baz'])\n",
    "x = {x1, x2, x3}\n",
    "print(x)"
   ]
  },
  {
   "cell_type": "markdown",
   "metadata": {},
   "source": [
    "Similarly, dictionary keys must be immutable so a normal `set` cannot be used to define a dictionary key."
   ]
  },
  {
   "cell_type": "code",
   "execution_count": null,
   "metadata": {},
   "outputs": [
    {
     "ename": "TypeError",
     "evalue": "unhashable type: 'set'",
     "output_type": "error",
     "traceback": [
      "\u001b[0;31m---------------------------------------------------------------------------\u001b[0m",
      "\u001b[0;31mTypeError\u001b[0m                                 Traceback (most recent call last)",
      "Cell \u001b[0;32mIn[762], line 4\u001b[0m\n\u001b[1;32m      1\u001b[0m x \u001b[39m=\u001b[39m {\u001b[39m1\u001b[39m, \u001b[39m2\u001b[39m, \u001b[39m3\u001b[39m}\n\u001b[1;32m      2\u001b[0m y \u001b[39m=\u001b[39m {\u001b[39m'\u001b[39m\u001b[39ma\u001b[39m\u001b[39m'\u001b[39m, \u001b[39m'\u001b[39m\u001b[39mb\u001b[39m\u001b[39m'\u001b[39m, \u001b[39m'\u001b[39m\u001b[39mc\u001b[39m\u001b[39m'\u001b[39m}\n\u001b[0;32m----> 4\u001b[0m d \u001b[39m=\u001b[39m {x: \u001b[39m'\u001b[39m\u001b[39mfoo\u001b[39m\u001b[39m'\u001b[39m, y: \u001b[39m'\u001b[39m\u001b[39mbar\u001b[39m\u001b[39m'\u001b[39m}\n\u001b[1;32m      5\u001b[0m \u001b[39mprint\u001b[39m(d)\n",
      "\u001b[0;31mTypeError\u001b[0m: unhashable type: 'set'"
     ]
    }
   ],
   "source": [
    "x = {1, 2, 3}\n",
    "y = {'a', 'b', 'c'}\n",
    "\n",
    "d = {x: 'foo', y: 'bar'}\n",
    "print(d)"
   ]
  },
  {
   "cell_type": "code",
   "execution_count": null,
   "metadata": {},
   "outputs": [
    {
     "name": "stdout",
     "output_type": "stream",
     "text": [
      "{frozenset({1, 2, 3}): 'foo', frozenset({'c', 'b', 'a'}): 'bar'}\n"
     ]
    }
   ],
   "source": [
    "x = frozenset({1, 2, 3})\n",
    "y = frozenset({'a', 'b', 'c'})\n",
    "\n",
    "d = {x: 'foo', y: 'bar'}\n",
    "print(d)"
   ]
  },
  {
   "cell_type": "code",
   "execution_count": null,
   "metadata": {},
   "outputs": [],
   "source": []
  }
 ],
 "metadata": {
  "kernelspec": {
   "display_name": "main-dev",
   "language": "python",
   "name": "python3"
  },
  "language_info": {
   "codemirror_mode": {
    "name": "ipython",
    "version": 3
   },
   "file_extension": ".py",
   "mimetype": "text/x-python",
   "name": "python",
   "nbconvert_exporter": "python",
   "pygments_lexer": "ipython3",
   "version": "3.11.4"
  },
  "orig_nbformat": 4
 },
 "nbformat": 4,
 "nbformat_minor": 2
}
