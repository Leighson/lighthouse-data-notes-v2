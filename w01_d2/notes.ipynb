{
 "cells": [
  {
   "cell_type": "markdown",
   "metadata": {},
   "source": [
    "# Python Basics"
   ]
  },
  {
   "cell_type": "markdown",
   "metadata": {},
   "source": [
    "## Lists\n",
    "\n",
    "`Lists` are created using square brackets `[ ]`. The values or items of the list are inserted between the brackets and separated by commas."
   ]
  },
  {
   "cell_type": "code",
   "execution_count": 420,
   "metadata": {},
   "outputs": [],
   "source": [
    "todo = [\"write blog post\", \"reply to email\", \"read in a book\"]"
   ]
  },
  {
   "cell_type": "markdown",
   "metadata": {},
   "source": [
    "#### Accessing Items\n",
    "\n",
    "List items can be accessed using its **index**. In this example, the `todo` list consists of three items. Indexing starts from the value `0`."
   ]
  },
  {
   "cell_type": "code",
   "execution_count": 421,
   "metadata": {},
   "outputs": [
    {
     "data": {
      "text/plain": [
       "'read in a book'"
      ]
     },
     "execution_count": 421,
     "metadata": {},
     "output_type": "execute_result"
    }
   ],
   "source": [
    "todo[2]"
   ]
  },
  {
   "cell_type": "markdown",
   "metadata": {},
   "source": [
    "#### List Operations\n",
    "\n",
    "To remove items from a list, use `del`:"
   ]
  },
  {
   "cell_type": "code",
   "execution_count": 422,
   "metadata": {},
   "outputs": [
    {
     "data": {
      "text/plain": [
       "['reply to email', 'read in a book']"
      ]
     },
     "execution_count": 422,
     "metadata": {},
     "output_type": "execute_result"
    }
   ],
   "source": [
    "del todo[0]\n",
    "todo"
   ]
  },
  {
   "cell_type": "markdown",
   "metadata": {},
   "source": [
    "To replace the `read in a book` task, the item can be accessed and overwritten using its index:"
   ]
  },
  {
   "cell_type": "code",
   "execution_count": 423,
   "metadata": {},
   "outputs": [
    {
     "data": {
      "text/plain": [
       "['reply to email', 'read 5-pages from the book']"
      ]
     },
     "execution_count": 423,
     "metadata": {},
     "output_type": "execute_result"
    }
   ],
   "source": [
    "todo[1] = 'read 5-pages from the book'\n",
    "todo"
   ]
  },
  {
   "cell_type": "markdown",
   "metadata": {},
   "source": [
    "To add new tasks to the end of the list, an item can be `appended`:"
   ]
  },
  {
   "cell_type": "code",
   "execution_count": 424,
   "metadata": {},
   "outputs": [
    {
     "data": {
      "text/plain": [
       "['reply to email',\n",
       " 'read 5-pages from the book',\n",
       " 'call the consultation service']"
      ]
     },
     "execution_count": 424,
     "metadata": {},
     "output_type": "execute_result"
    }
   ],
   "source": [
    "todo.append('call the consultation service')\n",
    "todo"
   ]
  },
  {
   "cell_type": "markdown",
   "metadata": {},
   "source": [
    "Lists can also be combined:"
   ]
  },
  {
   "cell_type": "code",
   "execution_count": 425,
   "metadata": {},
   "outputs": [
    {
     "data": {
      "text/plain": [
       "['reply to email',\n",
       " 'read 5-pages from the book',\n",
       " 'call the consultation service',\n",
       " 'buy grocery',\n",
       " 'wash car',\n",
       " 'borrow a book from the library']"
      ]
     },
     "execution_count": 425,
     "metadata": {},
     "output_type": "execute_result"
    }
   ],
   "source": [
    "# combining an old todo list with the new one\n",
    "old_todo = ['buy grocery', 'wash car', 'borrow a book from the library']\n",
    "new_todo = todo + old_todo\n",
    "new_todo"
   ]
  },
  {
   "cell_type": "markdown",
   "metadata": {},
   "source": [
    "The length of the list can be shown using the `len` function:"
   ]
  },
  {
   "cell_type": "code",
   "execution_count": 426,
   "metadata": {},
   "outputs": [
    {
     "data": {
      "text/plain": [
       "6"
      ]
     },
     "execution_count": 426,
     "metadata": {},
     "output_type": "execute_result"
    }
   ],
   "source": [
    "len(new_todo)"
   ]
  },
  {
   "cell_type": "markdown",
   "metadata": {},
   "source": [
    "A particular item can be evaluated using an `in` expression, which returns a `True` or `False`:"
   ]
  },
  {
   "cell_type": "code",
   "execution_count": 427,
   "metadata": {},
   "outputs": [
    {
     "data": {
      "text/plain": [
       "True"
      ]
     },
     "execution_count": 427,
     "metadata": {},
     "output_type": "execute_result"
    }
   ],
   "source": [
    "'wash car' in new_todo"
   ]
  },
  {
   "cell_type": "markdown",
   "metadata": {},
   "source": [
    "#### Lists of Lists\n",
    "\n",
    "Lists can also contain other lists."
   ]
  },
  {
   "cell_type": "code",
   "execution_count": 428,
   "metadata": {},
   "outputs": [
    {
     "data": {
      "text/plain": [
       "['Abder',\n",
       " '4.0',\n",
       " ['write blog post', 'grocery'],\n",
       " [['a', 'b', 'c', 'd', 'e', 'r'], ['number', 'todo']]]"
      ]
     },
     "execution_count": 428,
     "metadata": {},
     "output_type": "execute_result"
    }
   ],
   "source": [
    "complex_list = ['Abder', '4.0', ['write blog post', 'grocery'], [['a', 'b', 'c', 'd', 'e', 'r'], ['number', 'todo']]]\n",
    "complex_list"
   ]
  },
  {
   "cell_type": "markdown",
   "metadata": {},
   "source": [
    "#### The `for`-loops and Lists"
   ]
  },
  {
   "cell_type": "markdown",
   "metadata": {},
   "source": [
    "Lists can be assembled using loops:"
   ]
  },
  {
   "cell_type": "code",
   "execution_count": 429,
   "metadata": {},
   "outputs": [
    {
     "name": "stdout",
     "output_type": "stream",
     "text": [
      "a\n",
      "b\n",
      "d\n",
      "e\n",
      "r\n"
     ]
    },
    {
     "data": {
      "text/plain": [
       "['aaa', 'bbb', 'ddd', 'eee', 'rrr']"
      ]
     },
     "execution_count": 429,
     "metadata": {},
     "output_type": "execute_result"
    }
   ],
   "source": [
    "# list to repeat\n",
    "abder = ['a', 'b', 'd', 'e', 'r']\n",
    "\n",
    "# define new list\n",
    "new_list = []\n",
    "\n",
    "for r in abder:\n",
    "  print(r)\n",
    "  new_list.append(r * 3)\n",
    "  \n",
    "new_list"
   ]
  },
  {
   "cell_type": "markdown",
   "metadata": {},
   "source": [
    "## Dictionaries\n",
    "\n",
    "`Dictionaries` are similar to `lists` with the following differences:\n",
    "1. They are unordered sets.\n",
    "2. Keys are used to access items and not positions or indexes.\n",
    "The defining trait of `dictionaries` are its key-value pairs."
   ]
  },
  {
   "cell_type": "code",
   "execution_count": 430,
   "metadata": {},
   "outputs": [
    {
     "name": "stdout",
     "output_type": "stream",
     "text": [
      "{'paper': 'papier', 'pen': 'stylo', 'car': 'voiture', 'table': 'table', 'door': 'porte'}\n",
      "{'papier': 'papel', 'stylo': 'pluma', 'voiture': 'coche', 'table': 'mesa', 'porte': 'puerta'}\n"
     ]
    }
   ],
   "source": [
    "english_french = {'paper': 'papier', 'pen': 'stylo', 'car': 'voiture', 'table': 'table', 'door': 'porte'}\n",
    "print(english_french)\n",
    "\n",
    "french_spanish = {'papier': 'papel', 'stylo': 'pluma', 'voiture': 'coche', 'table': 'mesa', 'porte': 'puerta'}\n",
    "print(french_spanish)"
   ]
  },
  {
   "cell_type": "markdown",
   "metadata": {},
   "source": [
    "To call on a dictionary value, its key can be called similarly to how list values can be called by their indices."
   ]
  },
  {
   "cell_type": "code",
   "execution_count": 431,
   "metadata": {},
   "outputs": [
    {
     "data": {
      "text/plain": [
       "'stylo'"
      ]
     },
     "execution_count": 431,
     "metadata": {},
     "output_type": "execute_result"
    }
   ],
   "source": [
    "english_french['pen']"
   ]
  },
  {
   "cell_type": "markdown",
   "metadata": {},
   "source": [
    "Lacking an ***english to spanish*** dictionary, items in the ***english to french*** dictionary can be used to translate into french, which can then be translated using the ***french to spanish*** dictionary."
   ]
  },
  {
   "cell_type": "code",
   "execution_count": 432,
   "metadata": {},
   "outputs": [
    {
     "data": {
      "text/plain": [
       "'puerta'"
      ]
     },
     "execution_count": 432,
     "metadata": {},
     "output_type": "execute_result"
    }
   ],
   "source": [
    "french_spanish[english_french['door']]"
   ]
  },
  {
   "cell_type": "markdown",
   "metadata": {},
   "source": [
    "#### Dictionary Operations\n",
    "Length can be obtained similarly to lists."
   ]
  },
  {
   "cell_type": "code",
   "execution_count": 433,
   "metadata": {},
   "outputs": [
    {
     "data": {
      "text/plain": [
       "5"
      ]
     },
     "execution_count": 433,
     "metadata": {},
     "output_type": "execute_result"
    }
   ],
   "source": [
    "len(english_french)"
   ]
  },
  {
   "cell_type": "markdown",
   "metadata": {},
   "source": [
    "The deletion of an item is carried out through the `keys`."
   ]
  },
  {
   "cell_type": "code",
   "execution_count": 434,
   "metadata": {},
   "outputs": [
    {
     "data": {
      "text/plain": [
       "{'paper': 'papier', 'pen': 'stylo', 'car': 'voiture', 'table': 'table'}"
      ]
     },
     "execution_count": 434,
     "metadata": {},
     "output_type": "execute_result"
    }
   ],
   "source": [
    "del english_french['door']\n",
    "english_french"
   ]
  },
  {
   "cell_type": "markdown",
   "metadata": {},
   "source": [
    "We can check if `door` still exists in the dictionary."
   ]
  },
  {
   "cell_type": "code",
   "execution_count": 435,
   "metadata": {},
   "outputs": [
    {
     "name": "stdout",
     "output_type": "stream",
     "text": [
      "False\n",
      "True\n"
     ]
    }
   ],
   "source": [
    "print('door' in english_french)\n",
    "print('door' not in english_french)"
   ]
  },
  {
   "cell_type": "markdown",
   "metadata": {},
   "source": [
    "To copy a dictionary, the `copy` function can be used."
   ]
  },
  {
   "cell_type": "code",
   "execution_count": 436,
   "metadata": {},
   "outputs": [
    {
     "data": {
      "text/plain": [
       "{'paper': 'papier', 'pen': 'stylo', 'car': 'voiture', 'table': 'table'}"
      ]
     },
     "execution_count": 436,
     "metadata": {},
     "output_type": "execute_result"
    }
   ],
   "source": [
    "new_english_french = english_french.copy()\n",
    "new_english_french"
   ]
  },
  {
   "cell_type": "markdown",
   "metadata": {},
   "source": [
    "#### Nested Dictionaries\n",
    "Dictionaries can be of any type, including dictionaries."
   ]
  },
  {
   "cell_type": "code",
   "execution_count": 437,
   "metadata": {},
   "outputs": [
    {
     "name": "stdout",
     "output_type": "stream",
     "text": [
      "{'ID': {'name': 'Abder-Rahman', 'number': '1234'}}\n"
     ]
    }
   ],
   "source": [
    "student = {'ID': {'name': 'Abder-Rahman', 'number': '1234'}}\n",
    "print(student)"
   ]
  },
  {
   "cell_type": "markdown",
   "metadata": {},
   "source": [
    "#### Iterating over a Dictionary"
   ]
  },
  {
   "cell_type": "code",
   "execution_count": 438,
   "metadata": {},
   "outputs": [
    {
     "name": "stdout",
     "output_type": "stream",
     "text": [
      "paper\n",
      "pen\n",
      "car\n",
      "table\n"
     ]
    }
   ],
   "source": [
    "for word in english_french:\n",
    "  print(word)"
   ]
  },
  {
   "cell_type": "markdown",
   "metadata": {},
   "source": [
    "The `keys` in the result are not given in the same order as in the `english-french` dictionary. However..."
   ]
  },
  {
   "cell_type": "code",
   "execution_count": 439,
   "metadata": {},
   "outputs": [
    {
     "name": "stdout",
     "output_type": "stream",
     "text": [
      "KEYS:\n",
      "paper\n",
      "pen\n",
      "car\n",
      "table\n",
      "\n",
      "VALUES:\n",
      "papier\n",
      "stylo\n",
      "voiture\n",
      "table\n"
     ]
    }
   ],
   "source": [
    "print(\"KEYS:\")\n",
    "for key in english_french.keys():\n",
    "  print(key)\n",
    "  \n",
    "print()\n",
    "print(\"VALUES:\")\n",
    "for value in english_french.values():\n",
    "  print(value)"
   ]
  },
  {
   "cell_type": "code",
   "execution_count": 440,
   "metadata": {},
   "outputs": [
    {
     "name": "stdout",
     "output_type": "stream",
     "text": [
      "KEY , VALUES:\n",
      "paper , papier\n",
      "pen , stylo\n",
      "car , voiture\n",
      "table , table\n"
     ]
    }
   ],
   "source": [
    "print(\"KEY , VALUES:\")\n",
    "for key, value in english_french.items():\n",
    "  print(key, \",\", value)"
   ]
  },
  {
   "cell_type": "markdown",
   "metadata": {},
   "source": [
    "#### Alternative Ways of Creating Dictionaries"
   ]
  },
  {
   "cell_type": "code",
   "execution_count": 441,
   "metadata": {},
   "outputs": [
    {
     "data": {
      "text/plain": [
       "{'name': 'Abder-Rahman', 'number': 1234}"
      ]
     },
     "execution_count": 441,
     "metadata": {},
     "output_type": "execute_result"
    }
   ],
   "source": [
    "ID = dict(name = \"Abder-Rahman\", number = 1234)\n",
    "ID"
   ]
  },
  {
   "cell_type": "code",
   "execution_count": 442,
   "metadata": {},
   "outputs": [
    {
     "data": {
      "text/plain": [
       "{'name': 'Abder-Rahman', 'number': 1234}"
      ]
     },
     "execution_count": 442,
     "metadata": {},
     "output_type": "execute_result"
    }
   ],
   "source": [
    "ID = dict([('name', 'Abder-Rahman'), ('number', 1234)])\n",
    "ID"
   ]
  },
  {
   "cell_type": "code",
   "execution_count": 443,
   "metadata": {},
   "outputs": [
    {
     "data": {
      "text/plain": [
       "{'name': 'Abder-Rahman', 'number': 1234}"
      ]
     },
     "execution_count": 443,
     "metadata": {},
     "output_type": "execute_result"
    }
   ],
   "source": [
    "ID = dict(zip(['name', 'number'], ['Abder-Rahman', 1234])) # keys and values as Lists\n",
    "ID"
   ]
  },
  {
   "cell_type": "markdown",
   "metadata": {},
   "source": [
    "## Tuples\n",
    "\n",
    "Similar to `lists`, except for two differences:\n",
    "1. Tuples are immutable. Their contents nor their size cannot be changed, unless a copy is made of it.\n",
    "2. They are written in parentheses `( )`.\n",
    "\n",
    "`Tuples` consists of a set of ordered objects, which can be of any type and are accessed by indices (offset), as opposed to `Dictionaries` where items are accessed by `key`. Note that tuples store `references` to the objects they contain."
   ]
  },
  {
   "cell_type": "code",
   "execution_count": 444,
   "metadata": {},
   "outputs": [
    {
     "name": "stdout",
     "output_type": "stream",
     "text": [
      "1\n",
      "(31, 'abder', 4.0)\n",
      "(31, 'abder', 4.0)\n",
      "('ID', ('abder', 1234))\n"
     ]
    }
   ],
   "source": [
    "tup = (1)\n",
    "print(tup)\n",
    "\n",
    "tup = (31, 'abder', 4.0)\n",
    "print(tup)\n",
    "\n",
    "tup = 31, 'abder', 4.0\n",
    "print(tup)\n",
    "\n",
    "nested_tup = ('ID', ('abder', 1234))\n",
    "print(nested_tup)"
   ]
  },
  {
   "cell_type": "markdown",
   "metadata": {},
   "source": [
    "### Tuple Operations"
   ]
  },
  {
   "cell_type": "markdown",
   "metadata": {},
   "source": [
    "#### Concatenation\n",
    "Concatenation is a combination of `tuples` together."
   ]
  },
  {
   "cell_type": "code",
   "execution_count": 445,
   "metadata": {},
   "outputs": [
    {
     "name": "stdout",
     "output_type": "stream",
     "text": [
      "(1, 2, 3, 4, 5)\n",
      "(6, 7, 8, 9, 10)\n",
      "(1, 2, 3, 4, 5, 6, 7, 8, 9, 10)\n"
     ]
    }
   ],
   "source": [
    "tup1 = (1, 2, 3, 4, 5)\n",
    "print(tup1)\n",
    "\n",
    "tup2 = (6, 7, 8, 9, 10)\n",
    "print(tup2)\n",
    "\n",
    "tup = tup1 + tup2\n",
    "print(tup)"
   ]
  },
  {
   "cell_type": "markdown",
   "metadata": {},
   "source": [
    "#### Repetition\n",
    "Tuple repetition is carried out using the `*` operator."
   ]
  },
  {
   "cell_type": "code",
   "execution_count": 446,
   "metadata": {},
   "outputs": [
    {
     "data": {
      "text/plain": [
       "(1, 2, 3, 4, 5, 1, 2, 3, 4, 5, 1, 2, 3, 4, 5)"
      ]
     },
     "execution_count": 446,
     "metadata": {},
     "output_type": "execute_result"
    }
   ],
   "source": [
    "tup1 * 3"
   ]
  },
  {
   "cell_type": "markdown",
   "metadata": {},
   "source": [
    "#### Membership\n",
    "To check the membership of some item in a tuple, use `in`."
   ]
  },
  {
   "cell_type": "code",
   "execution_count": 447,
   "metadata": {},
   "outputs": [
    {
     "data": {
      "text/plain": [
       "False"
      ]
     },
     "execution_count": 447,
     "metadata": {},
     "output_type": "execute_result"
    }
   ],
   "source": [
    "7 in tup1"
   ]
  },
  {
   "cell_type": "markdown",
   "metadata": {},
   "source": [
    "#### Search\n",
    "Indicate where some item (by index) is located in the tuple using `index()`."
   ]
  },
  {
   "cell_type": "code",
   "execution_count": 448,
   "metadata": {},
   "outputs": [
    {
     "data": {
      "text/plain": [
       "4"
      ]
     },
     "execution_count": 448,
     "metadata": {},
     "output_type": "execute_result"
    }
   ],
   "source": [
    "tup1.index(5)"
   ]
  },
  {
   "cell_type": "markdown",
   "metadata": {},
   "source": [
    "#### Count\n",
    "Count the number of times an element exists in the tuple."
   ]
  },
  {
   "cell_type": "code",
   "execution_count": 449,
   "metadata": {},
   "outputs": [
    {
     "data": {
      "text/plain": [
       "4"
      ]
     },
     "execution_count": 449,
     "metadata": {},
     "output_type": "execute_result"
    }
   ],
   "source": [
    "tup3 = (65, 67, 5, 67, 34, 76, 67, 231, 98, 67)\n",
    "tup3.count(67)"
   ]
  },
  {
   "cell_type": "markdown",
   "metadata": {},
   "source": [
    "#### Index\n",
    "Indexing is the process of accessing a tuple element by index using a subscript."
   ]
  },
  {
   "cell_type": "code",
   "execution_count": 450,
   "metadata": {},
   "outputs": [
    {
     "data": {
      "text/plain": [
       "34"
      ]
     },
     "execution_count": 450,
     "metadata": {},
     "output_type": "execute_result"
    }
   ],
   "source": [
    "tup3[4]"
   ]
  },
  {
   "cell_type": "markdown",
   "metadata": {},
   "source": [
    "An index can also be negative, which counts from the right of the tuple. Negative indexing begins from `-1` naturally, since `-0` is equivalent to `0`."
   ]
  },
  {
   "cell_type": "code",
   "execution_count": 451,
   "metadata": {},
   "outputs": [
    {
     "data": {
      "text/plain": [
       "34"
      ]
     },
     "execution_count": 451,
     "metadata": {},
     "output_type": "execute_result"
    }
   ],
   "source": [
    "tup3[-6]"
   ]
  },
  {
   "cell_type": "markdown",
   "metadata": {},
   "source": [
    "A range of indices can be specified instead by slicing with a `:`."
   ]
  },
  {
   "cell_type": "code",
   "execution_count": 452,
   "metadata": {},
   "outputs": [
    {
     "name": "stdout",
     "output_type": "stream",
     "text": [
      "(65, 67, 5, 67, 34, 76, 67, 231, 98, 67)\n",
      "(34, 76, 67, 231, 98, 67)\n",
      "(65, 67, 5, 67)\n",
      "(67, 5)\n",
      "(98, 67)\n",
      "(65, 67, 5, 67, 34, 76, 67, 231)\n"
     ]
    }
   ],
   "source": [
    "print(tup3)\n",
    "print(tup3[4:])\n",
    "print(tup3[:4])\n",
    "print(tup3[1:3])\n",
    "print(tup3[-2:])\n",
    "print(tup3[:-2])"
   ]
  },
  {
   "cell_type": "markdown",
   "metadata": {},
   "source": [
    "## Conditional Statements\n",
    "Conditional statements in Python are: `if`, `elif`, and `else`.\n",
    "\n",
    "#### Branching Programs\n",
    "Unlike ***straight-line*** programs where the statements are executed in order of appearance, ***branching programs*** navigates to statements regardless of order. Conditional statements allow for such branching.\n",
    "\n",
    "#### Conditional Statement Structure\n",
    "A conditional statement consists of the following main parts:\n",
    "- a test that evaluates to either `true` or `false`\n",
    "- a block of code that runs if the test is `true`\n",
    "- (optional) a block of code if the test is `false`"
   ]
  },
  {
   "cell_type": "code",
   "execution_count": 453,
   "metadata": {},
   "outputs": [
    {
     "name": "stdout",
     "output_type": "stream",
     "text": [
      "x is NOT equal to 3\n",
      "That's it!\n"
     ]
    }
   ],
   "source": [
    "x = 0\n",
    "if x == 3:\n",
    "  print ('x is equal to 3')\n",
    "else:\n",
    "  print('x is NOT equal to 3')\n",
    "\n",
    "# make sure to be precise with indentation\n",
    "print('That\\'s it!')"
   ]
  },
  {
   "cell_type": "markdown",
   "metadata": {},
   "source": [
    "#### Nested Conditional Statements"
   ]
  },
  {
   "cell_type": "code",
   "execution_count": 454,
   "metadata": {},
   "outputs": [
    {
     "name": "stdout",
     "output_type": "stream",
     "text": [
      "Student lacks the necessary requirements to take the Data Science course.\n"
     ]
    }
   ],
   "source": [
    "if x == 'Computer Science I':\n",
    "  if x == 'Computer Science II':\n",
    "    print(\"Student can take the Data Structure course.\")\n",
    "else:\n",
    "  print(\"Student lacks the necessary requirements to take the Data Science course.\")"
   ]
  },
  {
   "cell_type": "markdown",
   "metadata": {},
   "source": [
    "#### Compound Boolean Expressions\n",
    "Sometimes more than one boolean expression in the same test is required.\n",
    "\n",
    "##### Python Boolean Expressions\n",
    "`or` : the following statement runs if any expression is `True`  \n",
    "`and` : all the expressions need to be `True` for the following statement to run  \n",
    "`not` : the expression is `False` if it evaluates to `True`, and vice-versa"
   ]
  },
  {
   "cell_type": "code",
   "execution_count": 455,
   "metadata": {},
   "outputs": [
    {
     "name": "stdout",
     "output_type": "stream",
     "text": [
      "c is the smallest number\n",
      "x is not in the list\n"
     ]
    }
   ],
   "source": [
    "# example of the `and` expression\n",
    "a = 5\n",
    "b = 6\n",
    "c = 4\n",
    "\n",
    "if a < b and a < c:\n",
    "  print('a is the smallest number')\n",
    "elif b < c:\n",
    "  print(\"b is the smallest number\")\n",
    "else:\n",
    "  print(\"c is the smallest number\")\n",
    "\n",
    "# example of the `not` expression\n",
    "l = [1, 2, 3, 4, 5]\n",
    "x = 13\n",
    "if x not in l:\n",
    "  print(\"x is not in the list\")"
   ]
  },
  {
   "cell_type": "markdown",
   "metadata": {},
   "source": []
  },
  {
   "cell_type": "markdown",
   "metadata": {},
   "source": [
    "## Python Loops\n",
    "\n",
    "#### `while` loops\n",
    "In this kind of iteration, as long as the test evaluates as `True`, the statement or block of statements will keep executing."
   ]
  },
  {
   "cell_type": "code",
   "execution_count": 456,
   "metadata": {},
   "outputs": [
    {
     "name": "stdout",
     "output_type": "stream",
     "text": [
      "Water the flower # 1\n",
      "Water the flower # 2\n",
      "Water the flower # 3\n",
      "Water the flower # 4\n",
      "Water the flower # 5\n",
      "Water the flower # 6\n",
      "Water the flower # 7\n",
      "Water the flower # 8\n",
      "Water the flower # 9\n",
      "Water the flower # 10\n"
     ]
    }
   ],
   "source": [
    "flowers = 1\n",
    "while flowers <= 10:\n",
    "  print(\"Water the flower # \" + str(flowers))\n",
    "  flowers = flowers + 1"
   ]
  },
  {
   "cell_type": "markdown",
   "metadata": {},
   "source": [
    "#### `for` Loops\n",
    "This is an iteration that steps through the items of an ***ordered sequence*** such as `lists`, `dictionaries`, `tuples`, `strings`, etc."
   ]
  },
  {
   "cell_type": "code",
   "execution_count": 457,
   "metadata": {},
   "outputs": [
    {
     "name": "stdout",
     "output_type": "stream",
     "text": [
      "This language is in the list: Arabic\n",
      "This language is in the list: English\n",
      "This language is in the list: French\n",
      "This language is in the list: Spanish\n"
     ]
    }
   ],
   "source": [
    "languages = ['Arabic', 'English', 'French', 'Spanish']\n",
    "counter = 0\n",
    "for lang in languages:\n",
    "  print(\"This language is in the list: \" + lang)\n",
    "  counter = counter + 1"
   ]
  },
  {
   "cell_type": "markdown",
   "metadata": {},
   "source": [
    "#### Statements Used in `while` and `for` Loops\n",
    "\n",
    "##### `break`\n",
    "`break` causes the loop to terminate, and program execution is continued on the next statement."
   ]
  },
  {
   "cell_type": "code",
   "execution_count": 458,
   "metadata": {},
   "outputs": [
    {
     "name": "stdout",
     "output_type": "stream",
     "text": [
      "[1, 2, 3, 4, 5, 6, 7, 8, 9, 10]\n"
     ]
    }
   ],
   "source": [
    "# store a set of numbers in increasing values\n",
    "i = 1\n",
    "numbers = []\n",
    "while i < 11:\n",
    "  numbers.append(i)\n",
    "  i += 1\n",
    "\n",
    "print(numbers)"
   ]
  },
  {
   "cell_type": "code",
   "execution_count": 459,
   "metadata": {},
   "outputs": [
    {
     "name": "stdout",
     "output_type": "stream",
     "text": [
      "I'm # 1\n",
      "I'm # 2\n",
      "I'm # 3\n",
      "Sorry, I had to quit the loop when the value became 4.\n"
     ]
    }
   ],
   "source": [
    "value = 1\n",
    "while value in numbers:\n",
    "  if value == 4:\n",
    "    break # this will break the `while` loop before the `print` statement runs\n",
    "  print(\"I\\'m # \" + str(value))\n",
    "  value += 1\n",
    "\n",
    "print(f\"Sorry, I had to quit the loop when the value became {value}.\")"
   ]
  },
  {
   "cell_type": "markdown",
   "metadata": {},
   "source": [
    "##### `continue`\n",
    "`continue` returns the loop, ignoring any statements in the loop afterward."
   ]
  },
  {
   "cell_type": "code",
   "execution_count": 460,
   "metadata": {},
   "outputs": [
    {
     "name": "stdout",
     "output_type": "stream",
     "text": [
      "I'm # 1\n",
      "I'm # 2\n",
      "I'm # 3\n",
      "I'm # 4\n",
      "I have reached the last statement in the program and need to terminate.\n"
     ]
    }
   ],
   "source": [
    "value = 1\n",
    "while value in numbers:\n",
    "  if value < 5:\n",
    "    print(\"I\\'m # \" + str(value))\n",
    "    value += 1\n",
    "    continue # this will make sure that the `print` statement below will never be seen\n",
    "    print(\"I\\'m in the `if`-condition, why are you ignoring me?\")\n",
    "  elif value == 5:\n",
    "    break\n",
    "\n",
    "print(\"I have reached the last statement in the program and need to terminate.\")"
   ]
  },
  {
   "cell_type": "markdown",
   "metadata": {},
   "source": [
    "##### `pass`\n",
    "\n",
    "`pass` is a `null` statement for loops. It doesn't do anything other than act as placeholders."
   ]
  },
  {
   "cell_type": "code",
   "execution_count": 461,
   "metadata": {},
   "outputs": [
    {
     "name": "stdout",
     "output_type": "stream",
     "text": [
      "I've reached the last statement in the program and need to terminate.\n"
     ]
    }
   ],
   "source": [
    "value = 1\n",
    "for value in numbers:\n",
    "  # if `pass` is not present here, the program will throw an error\n",
    "  pass\n",
    "\n",
    "print(\"I've reached the last statement in the program and need to terminate.\")"
   ]
  },
  {
   "cell_type": "markdown",
   "metadata": {},
   "source": [
    "##### `else`\n",
    "`else` will contain a block of statements to run when a loop exits naturally and not by a `break`."
   ]
  },
  {
   "cell_type": "code",
   "execution_count": 462,
   "metadata": {},
   "outputs": [
    {
     "name": "stdout",
     "output_type": "stream",
     "text": [
      "I'm # 1\n",
      "I'm # 2\n",
      "I'm # 3\n",
      "I'm # 4\n",
      "I'm # 5\n",
      "I'm # 6\n",
      "I'm # 7\n",
      "I'm # 8\n",
      "I'm # 9\n",
      "I'm # 10\n",
      "I'm part of the `else` statement block.\n",
      "I'm also part of the `else` statement block.\n"
     ]
    }
   ],
   "source": [
    "value = 1\n",
    "while value in numbers:\n",
    "  print(\"I\\'m # \" + str(value))\n",
    "  value += 1\n",
    "else:\n",
    "  print(\"I\\'m part of the `else` statement block.\")\n",
    "  print(\"I\\'m also part of the `else` statement block.\")"
   ]
  },
  {
   "cell_type": "markdown",
   "metadata": {},
   "source": [
    "## Python Functions\n",
    "***Functions*** are composed of a set of instructions combined together to get some result (achieve some task) and are executed by calling them--a ***function call***. Results in Python can either be the output of some computation in the `function` or `None`. Those functions can be either ***built-in*** functions or ***user-defined*** functions. Functions defined within `classes` are the called `methods`.  \n",
    "\n",
    "#### Defining Functions\n",
    "***User-defined*** functions are initialized with `def`. Optional ***parameters*** are ***arguments*** that can be passed into the function at the time of its calling. These arguments can then be used in the statements within the function body.\n",
    "\n",
    "The `return` statement is an optional statement, which a value can be returned to the caller. If no `return` value is identified, then a `None` is returned."
   ]
  },
  {
   "cell_type": "code",
   "execution_count": 463,
   "metadata": {},
   "outputs": [
    {
     "name": "stdout",
     "output_type": "stream",
     "text": [
      "FIRST EXAMPLE:\n",
      "Abder\n",
      "\n",
      "SECOND EXAMPLE: \n",
      "List \"inside\" the function is:  [1, 2, 3, 4, 5, 8, 13]\n",
      "List \"outside\" the function is:  [1, 2, 3, 4, 5, 8, 13]\n",
      "\n",
      "THIRD EXAMPLE:\n",
      "8 + 4 = 12\n",
      "8 + 4 = 4\n",
      "8 + 4 = 32\n",
      "8 + 4 = 2\n"
     ]
    }
   ],
   "source": [
    "# a simple `print` example\n",
    "print(\"FIRST EXAMPLE:\")\n",
    "employee_name = 'Abder'\n",
    "def print_name(name):\n",
    "  print(name)\n",
    "\n",
    "print_name(employee_name)\n",
    "\n",
    "# another example\n",
    "print(\"\\nSECOND EXAMPLE: \")\n",
    "numbers_list = [1, 2, 3, 4, 5]\n",
    "def insert_numbers(numbers_list):\n",
    "  numbers_list.insert(5, 8)\n",
    "  numbers_list.insert(6, 13)\n",
    "  print(\"List \\\"inside\\\" the function is: \", numbers_list)\n",
    "  return\n",
    "\n",
    "insert_numbers(numbers_list)\n",
    "print(\"List \\\"outside\\\" the function is: \", numbers_list)\n",
    "\n",
    "# calculator\n",
    "print(\"\\nTHIRD EXAMPLE:\")\n",
    "def add(x, y):\n",
    "  return x + y\n",
    "def subtract(x, y):\n",
    "  return x - y\n",
    "def multiply(x, y):\n",
    "  return x * y\n",
    "def divide(x, y):\n",
    "  return x / y\n",
    "\n",
    "x, y = 8, 4\n",
    "\n",
    "print(f\"{x} + {y} = {add(x, y)}\")\n",
    "print(f\"{x} + {y} = {subtract(x, y)}\")\n",
    "print(f\"{x} + {y} = {multiply(x, y)}\")\n",
    "print(f\"{x} + {y} = {int(divide(x, y))}\") # int() to prevent a float from being returned"
   ]
  },
  {
   "cell_type": "markdown",
   "metadata": {},
   "source": [
    "## Lambda Functions\n",
    "A `lambda` function is a special type of function without a function name. To call it, it must be passed onto a variable, from which it can then be called with parentheses `()`."
   ]
  },
  {
   "cell_type": "code",
   "execution_count": 466,
   "metadata": {},
   "outputs": [
    {
     "name": "stdout",
     "output_type": "stream",
     "text": [
      "Hello World\n"
     ]
    }
   ],
   "source": [
    "# declare the lambda function\n",
    "greet = lambda : print(\"Hello World\")\n",
    "\n",
    "# call the lambda function\n",
    "greet()\n",
    "\n",
    "# Output: Hello World"
   ]
  },
  {
   "cell_type": "markdown",
   "metadata": {},
   "source": []
  }
 ],
 "metadata": {
  "kernelspec": {
   "display_name": "main-dev",
   "language": "python",
   "name": "python3"
  },
  "language_info": {
   "codemirror_mode": {
    "name": "ipython",
    "version": 3
   },
   "file_extension": ".py",
   "mimetype": "text/x-python",
   "name": "python",
   "nbconvert_exporter": "python",
   "pygments_lexer": "ipython3",
   "version": "3.11.4"
  },
  "orig_nbformat": 4
 },
 "nbformat": 4,
 "nbformat_minor": 2
}
