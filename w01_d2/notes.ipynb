{
 "cells": [
  {
   "cell_type": "markdown",
   "metadata": {},
   "source": [
    "# Python Basics"
   ]
  },
  {
   "cell_type": "markdown",
   "metadata": {},
   "source": [
    "## Lists\n",
    "\n",
    "`Lists` are created using square brackets `[ ]`. The values or items of the list are inserted between the brackets and separated by commas."
   ]
  },
  {
   "cell_type": "code",
   "execution_count": 218,
   "metadata": {},
   "outputs": [],
   "source": [
    "todo = [\"write blog post\", \"reply to email\", \"read in a book\"]"
   ]
  },
  {
   "cell_type": "markdown",
   "metadata": {},
   "source": [
    "#### Accessing Items\n",
    "\n",
    "List items can be accessed using its **index**. In this example, the `todo` list consists of three items. Indexing starts from the value `0`."
   ]
  },
  {
   "cell_type": "code",
   "execution_count": 219,
   "metadata": {},
   "outputs": [
    {
     "data": {
      "text/plain": [
       "'read in a book'"
      ]
     },
     "execution_count": 219,
     "metadata": {},
     "output_type": "execute_result"
    }
   ],
   "source": [
    "todo[2]"
   ]
  },
  {
   "cell_type": "markdown",
   "metadata": {},
   "source": [
    "#### List Operations\n",
    "\n",
    "To remove items from a list, use `del`:"
   ]
  },
  {
   "cell_type": "code",
   "execution_count": 220,
   "metadata": {},
   "outputs": [
    {
     "data": {
      "text/plain": [
       "['reply to email', 'read in a book']"
      ]
     },
     "execution_count": 220,
     "metadata": {},
     "output_type": "execute_result"
    }
   ],
   "source": [
    "del todo[0]\n",
    "todo"
   ]
  },
  {
   "cell_type": "markdown",
   "metadata": {},
   "source": [
    "To replace the `read in a book` task, the item can be accessed and overwritten using its index:"
   ]
  },
  {
   "cell_type": "code",
   "execution_count": 221,
   "metadata": {},
   "outputs": [
    {
     "data": {
      "text/plain": [
       "['reply to email', 'read 5-pages from the book']"
      ]
     },
     "execution_count": 221,
     "metadata": {},
     "output_type": "execute_result"
    }
   ],
   "source": [
    "todo[1] = 'read 5-pages from the book'\n",
    "todo"
   ]
  },
  {
   "cell_type": "markdown",
   "metadata": {},
   "source": [
    "To add new tasks to the end of the list, an item can be `appended`:"
   ]
  },
  {
   "cell_type": "code",
   "execution_count": 222,
   "metadata": {},
   "outputs": [
    {
     "data": {
      "text/plain": [
       "['reply to email',\n",
       " 'read 5-pages from the book',\n",
       " 'call the consultation service']"
      ]
     },
     "execution_count": 222,
     "metadata": {},
     "output_type": "execute_result"
    }
   ],
   "source": [
    "todo.append('call the consultation service')\n",
    "todo"
   ]
  },
  {
   "cell_type": "markdown",
   "metadata": {},
   "source": [
    "Lists can also be combined:"
   ]
  },
  {
   "cell_type": "code",
   "execution_count": 223,
   "metadata": {},
   "outputs": [
    {
     "data": {
      "text/plain": [
       "['reply to email',\n",
       " 'read 5-pages from the book',\n",
       " 'call the consultation service',\n",
       " 'buy grocery',\n",
       " 'wash car',\n",
       " 'borrow a book from the library']"
      ]
     },
     "execution_count": 223,
     "metadata": {},
     "output_type": "execute_result"
    }
   ],
   "source": [
    "# combining an old todo list with the new one\n",
    "old_todo = ['buy grocery', 'wash car', 'borrow a book from the library']\n",
    "new_todo = todo + old_todo\n",
    "new_todo"
   ]
  },
  {
   "cell_type": "markdown",
   "metadata": {},
   "source": [
    "The length of the list can be shown using the `len` function:"
   ]
  },
  {
   "cell_type": "code",
   "execution_count": 224,
   "metadata": {},
   "outputs": [
    {
     "data": {
      "text/plain": [
       "6"
      ]
     },
     "execution_count": 224,
     "metadata": {},
     "output_type": "execute_result"
    }
   ],
   "source": [
    "len(new_todo)"
   ]
  },
  {
   "cell_type": "markdown",
   "metadata": {},
   "source": [
    "A particular item can be evaluated using an `in` expression, which returns a `True` or `False`:"
   ]
  },
  {
   "cell_type": "code",
   "execution_count": 225,
   "metadata": {},
   "outputs": [
    {
     "data": {
      "text/plain": [
       "True"
      ]
     },
     "execution_count": 225,
     "metadata": {},
     "output_type": "execute_result"
    }
   ],
   "source": [
    "'wash car' in new_todo"
   ]
  },
  {
   "cell_type": "markdown",
   "metadata": {},
   "source": [
    "#### Lists of Lists\n",
    "\n",
    "Lists can also contain other lists."
   ]
  },
  {
   "cell_type": "code",
   "execution_count": 226,
   "metadata": {},
   "outputs": [
    {
     "data": {
      "text/plain": [
       "['Abder',\n",
       " '4.0',\n",
       " ['write blog post', 'grocery'],\n",
       " [['a', 'b', 'c', 'd', 'e', 'r'], ['number', 'todo']]]"
      ]
     },
     "execution_count": 226,
     "metadata": {},
     "output_type": "execute_result"
    }
   ],
   "source": [
    "complex_list = ['Abder', '4.0', ['write blog post', 'grocery'], [['a', 'b', 'c', 'd', 'e', 'r'], ['number', 'todo']]]\n",
    "complex_list"
   ]
  },
  {
   "cell_type": "markdown",
   "metadata": {},
   "source": [
    "#### The `for`-loops and Lists"
   ]
  },
  {
   "cell_type": "markdown",
   "metadata": {},
   "source": [
    "Lists can be assembled using loops:"
   ]
  },
  {
   "cell_type": "code",
   "execution_count": 227,
   "metadata": {},
   "outputs": [
    {
     "name": "stdout",
     "output_type": "stream",
     "text": [
      "a\n",
      "b\n",
      "d\n",
      "e\n",
      "r\n"
     ]
    },
    {
     "data": {
      "text/plain": [
       "['aaa', 'bbb', 'ddd', 'eee', 'rrr']"
      ]
     },
     "execution_count": 227,
     "metadata": {},
     "output_type": "execute_result"
    }
   ],
   "source": [
    "# list to repeat\n",
    "abder = ['a', 'b', 'd', 'e', 'r']\n",
    "\n",
    "# define new list\n",
    "new_list = []\n",
    "\n",
    "for r in abder:\n",
    "  print(r)\n",
    "  new_list.append(r * 3)\n",
    "  \n",
    "new_list"
   ]
  },
  {
   "cell_type": "markdown",
   "metadata": {},
   "source": [
    "## Dictionaries\n",
    "\n",
    "`Dictionaries` are similar to `lists` with the following differences:\n",
    "1. They are unordered sets.\n",
    "2. Keys are used to access items and not positions or indexes.\n",
    "The defining trait of `dictionaries` are its key-value pairs."
   ]
  },
  {
   "cell_type": "code",
   "execution_count": 228,
   "metadata": {},
   "outputs": [
    {
     "name": "stdout",
     "output_type": "stream",
     "text": [
      "{'paper': 'papier', 'pen': 'stylo', 'car': 'voiture', 'table': 'table', 'door': 'porte'}\n",
      "{'papier': 'papel', 'stylo': 'pluma', 'voiture': 'coche', 'table': 'mesa', 'porte': 'puerta'}\n"
     ]
    }
   ],
   "source": [
    "english_french = {'paper': 'papier', 'pen': 'stylo', 'car': 'voiture', 'table': 'table', 'door': 'porte'}\n",
    "print(english_french)\n",
    "\n",
    "french_spanish = {'papier': 'papel', 'stylo': 'pluma', 'voiture': 'coche', 'table': 'mesa', 'porte': 'puerta'}\n",
    "print(french_spanish)"
   ]
  },
  {
   "cell_type": "markdown",
   "metadata": {},
   "source": [
    "To call on a dictionary value, its key can be called similarly to how list values can be called by their indices."
   ]
  },
  {
   "cell_type": "code",
   "execution_count": 229,
   "metadata": {},
   "outputs": [
    {
     "data": {
      "text/plain": [
       "'stylo'"
      ]
     },
     "execution_count": 229,
     "metadata": {},
     "output_type": "execute_result"
    }
   ],
   "source": [
    "english_french['pen']"
   ]
  },
  {
   "cell_type": "markdown",
   "metadata": {},
   "source": [
    "Lacking an ***english to spanish*** dictionary, items in the ***english to french*** dictionary can be used to translate into french, which can then be translated using the ***french to spanish*** dictionary."
   ]
  },
  {
   "cell_type": "code",
   "execution_count": 230,
   "metadata": {},
   "outputs": [
    {
     "data": {
      "text/plain": [
       "'puerta'"
      ]
     },
     "execution_count": 230,
     "metadata": {},
     "output_type": "execute_result"
    }
   ],
   "source": [
    "french_spanish[english_french['door']]"
   ]
  },
  {
   "cell_type": "markdown",
   "metadata": {},
   "source": [
    "#### Dictionary Operations\n",
    "Length can be obtained similarly to lists."
   ]
  },
  {
   "cell_type": "code",
   "execution_count": 231,
   "metadata": {},
   "outputs": [
    {
     "data": {
      "text/plain": [
       "5"
      ]
     },
     "execution_count": 231,
     "metadata": {},
     "output_type": "execute_result"
    }
   ],
   "source": [
    "len(english_french)"
   ]
  },
  {
   "cell_type": "markdown",
   "metadata": {},
   "source": [
    "The deletion of an item is carried out through the `keys`."
   ]
  },
  {
   "cell_type": "code",
   "execution_count": 232,
   "metadata": {},
   "outputs": [
    {
     "data": {
      "text/plain": [
       "{'paper': 'papier', 'pen': 'stylo', 'car': 'voiture', 'table': 'table'}"
      ]
     },
     "execution_count": 232,
     "metadata": {},
     "output_type": "execute_result"
    }
   ],
   "source": [
    "del english_french['door']\n",
    "english_french"
   ]
  },
  {
   "cell_type": "markdown",
   "metadata": {},
   "source": [
    "We can check if `door` still exists in the dictionary."
   ]
  },
  {
   "cell_type": "code",
   "execution_count": 233,
   "metadata": {},
   "outputs": [
    {
     "name": "stdout",
     "output_type": "stream",
     "text": [
      "False\n",
      "True\n"
     ]
    }
   ],
   "source": [
    "print('door' in english_french)\n",
    "print('door' not in english_french)"
   ]
  },
  {
   "cell_type": "markdown",
   "metadata": {},
   "source": [
    "This operation does not work for the values, not keys."
   ]
  },
  {
   "cell_type": "code",
   "execution_count": 234,
   "metadata": {},
   "outputs": [
    {
     "name": "stdout",
     "output_type": "stream",
     "text": [
      "False\n",
      "True\n"
     ]
    }
   ],
   "source": [
    "print('stylo' in english_french)\n",
    "print('stylo' not in english_french)"
   ]
  },
  {
   "cell_type": "markdown",
   "metadata": {},
   "source": [
    "To copy a dictionary, the `copy` function can be used."
   ]
  },
  {
   "cell_type": "code",
   "execution_count": 235,
   "metadata": {},
   "outputs": [
    {
     "data": {
      "text/plain": [
       "{'paper': 'papier', 'pen': 'stylo', 'car': 'voiture', 'table': 'table'}"
      ]
     },
     "execution_count": 235,
     "metadata": {},
     "output_type": "execute_result"
    }
   ],
   "source": [
    "new_english_french = english_french.copy()\n",
    "new_english_french"
   ]
  },
  {
   "cell_type": "markdown",
   "metadata": {},
   "source": [
    "#### Nested Dictionaries\n",
    "Dictionaries can be of any type, including dictionaries."
   ]
  },
  {
   "cell_type": "code",
   "execution_count": 236,
   "metadata": {},
   "outputs": [
    {
     "name": "stdout",
     "output_type": "stream",
     "text": [
      "{'ID': {'name': 'Abder-Rahman', 'number': '1234'}}\n"
     ]
    }
   ],
   "source": [
    "student = {'ID': {'name': 'Abder-Rahman', 'number': '1234'}}\n",
    "print(student)"
   ]
  },
  {
   "cell_type": "markdown",
   "metadata": {},
   "source": [
    "#### Iterating over a Dictionary"
   ]
  },
  {
   "cell_type": "code",
   "execution_count": 237,
   "metadata": {},
   "outputs": [
    {
     "name": "stdout",
     "output_type": "stream",
     "text": [
      "paper\n",
      "pen\n",
      "car\n",
      "table\n"
     ]
    }
   ],
   "source": [
    "for word in english_french:\n",
    "  print(word)"
   ]
  },
  {
   "cell_type": "markdown",
   "metadata": {},
   "source": [
    "The `keys` in the result are not given in the same order as in the `english-french` dictionary. However..."
   ]
  },
  {
   "cell_type": "code",
   "execution_count": 238,
   "metadata": {},
   "outputs": [
    {
     "name": "stdout",
     "output_type": "stream",
     "text": [
      "KEYS:\n",
      "paper\n",
      "pen\n",
      "car\n",
      "table\n",
      "\n",
      "VALUES:\n",
      "papier\n",
      "stylo\n",
      "voiture\n",
      "table\n"
     ]
    }
   ],
   "source": [
    "print(\"KEYS:\")\n",
    "for key in english_french.keys():\n",
    "  print(key)\n",
    "  \n",
    "print()\n",
    "print(\"VALUES:\")\n",
    "for value in english_french.values():\n",
    "  print(value)"
   ]
  },
  {
   "cell_type": "code",
   "execution_count": 239,
   "metadata": {},
   "outputs": [
    {
     "name": "stdout",
     "output_type": "stream",
     "text": [
      "{'paper': 'papier', 'pen': 'stylo', 'car': 'voiture', 'table': 'mesa', 'papier': 'papel', 'stylo': 'pluma', 'voiture': 'coche', 'porte': 'puerta'}\n"
     ]
    }
   ],
   "source": [
    "full_dict = {**english_french, **french_spanish}\n",
    "print(full_dict)"
   ]
  },
  {
   "cell_type": "code",
   "execution_count": 240,
   "metadata": {},
   "outputs": [
    {
     "name": "stdout",
     "output_type": "stream",
     "text": [
      "KEY , VALUES:\n",
      "paper , papier\n",
      "pen , stylo\n",
      "car , voiture\n",
      "table , table\n"
     ]
    }
   ],
   "source": [
    "print(\"KEY , VALUES:\")\n",
    "for key, value in english_french.items():\n",
    "  print(key, \",\", value)"
   ]
  },
  {
   "cell_type": "markdown",
   "metadata": {},
   "source": [
    "#### Alternative Ways of Creating Dictionaries"
   ]
  },
  {
   "cell_type": "code",
   "execution_count": 241,
   "metadata": {},
   "outputs": [
    {
     "data": {
      "text/plain": [
       "{'name': 'Abder-Rahman', 'number': 1234}"
      ]
     },
     "execution_count": 241,
     "metadata": {},
     "output_type": "execute_result"
    }
   ],
   "source": [
    "ID = dict(name = \"Abder-Rahman\", number = 1234)\n",
    "ID"
   ]
  },
  {
   "cell_type": "code",
   "execution_count": 242,
   "metadata": {},
   "outputs": [
    {
     "data": {
      "text/plain": [
       "{'name': 'Abder-Rahman', 'number': 1234}"
      ]
     },
     "execution_count": 242,
     "metadata": {},
     "output_type": "execute_result"
    }
   ],
   "source": [
    "ID = dict([('name', 'Abder-Rahman'), ('number', 1234)])\n",
    "ID"
   ]
  },
  {
   "cell_type": "code",
   "execution_count": 243,
   "metadata": {},
   "outputs": [
    {
     "data": {
      "text/plain": [
       "{'name': 'Abder-Rahman', 'number': 1234}"
      ]
     },
     "execution_count": 243,
     "metadata": {},
     "output_type": "execute_result"
    }
   ],
   "source": [
    "ID = dict(zip(['name', 'number'], ['Abder-Rahman', 1234])) # keys and values as Lists\n",
    "ID"
   ]
  },
  {
   "cell_type": "markdown",
   "metadata": {},
   "source": [
    "## Tuples\n",
    "\n",
    "Similar to `lists`, except for two differences:\n",
    "1. Tuples are immutable. Their contents nor their size cannot be changed, unless a copy is made of it.\n",
    "2. They are written in parentheses `( )`.\n",
    "\n",
    "`Tuples` consists of a set of ordered objects, which can be of any type and are accessed by indices (offset), as opposed to `Dictionaries` where items are accessed by `key`. Note that tuples store `references` to the objects they contain."
   ]
  },
  {
   "cell_type": "code",
   "execution_count": 244,
   "metadata": {},
   "outputs": [
    {
     "name": "stdout",
     "output_type": "stream",
     "text": [
      "1\n",
      "(31, 'abder', 4.0)\n",
      "(31, 'abder', 4.0)\n",
      "('ID', ('abder', 1234))\n"
     ]
    }
   ],
   "source": [
    "tup = (1)\n",
    "print(tup)\n",
    "\n",
    "tup = (31, 'abder', 4.0)\n",
    "print(tup)\n",
    "\n",
    "tup = 31, 'abder', 4.0\n",
    "print(tup)\n",
    "\n",
    "nested_tup = ('ID', ('abder', 1234))\n",
    "print(nested_tup)"
   ]
  },
  {
   "cell_type": "markdown",
   "metadata": {},
   "source": [
    "### Tuple Operations"
   ]
  },
  {
   "cell_type": "markdown",
   "metadata": {},
   "source": [
    "#### Concatenation\n",
    "Concatenation is a combination of `tuples` together."
   ]
  },
  {
   "cell_type": "code",
   "execution_count": 245,
   "metadata": {},
   "outputs": [
    {
     "name": "stdout",
     "output_type": "stream",
     "text": [
      "(1, 2, 3, 4, 5)\n",
      "(6, 7, 8, 9, 10)\n",
      "(1, 2, 3, 4, 5, 6, 7, 8, 9, 10)\n"
     ]
    }
   ],
   "source": [
    "tup1 = (1, 2, 3, 4, 5)\n",
    "print(tup1)\n",
    "\n",
    "tup2 = (6, 7, 8, 9, 10)\n",
    "print(tup2)\n",
    "\n",
    "tup = tup1 + tup2\n",
    "print(tup)"
   ]
  },
  {
   "cell_type": "markdown",
   "metadata": {},
   "source": [
    "#### Repetition\n",
    "Tuple repetition is carried out using the `*` operator."
   ]
  },
  {
   "cell_type": "code",
   "execution_count": 246,
   "metadata": {},
   "outputs": [
    {
     "data": {
      "text/plain": [
       "(1, 2, 3, 4, 5, 1, 2, 3, 4, 5, 1, 2, 3, 4, 5)"
      ]
     },
     "execution_count": 246,
     "metadata": {},
     "output_type": "execute_result"
    }
   ],
   "source": [
    "tup1 * 3"
   ]
  },
  {
   "cell_type": "markdown",
   "metadata": {},
   "source": [
    "#### Membership\n",
    "To check the membership of some item in a tuple, use `in`."
   ]
  },
  {
   "cell_type": "code",
   "execution_count": 247,
   "metadata": {},
   "outputs": [
    {
     "data": {
      "text/plain": [
       "False"
      ]
     },
     "execution_count": 247,
     "metadata": {},
     "output_type": "execute_result"
    }
   ],
   "source": [
    "7 in tup1"
   ]
  },
  {
   "cell_type": "markdown",
   "metadata": {},
   "source": [
    "#### Search\n",
    "Indicate where some item (by index) is located in the tuple using `index()`."
   ]
  },
  {
   "cell_type": "code",
   "execution_count": 248,
   "metadata": {},
   "outputs": [
    {
     "data": {
      "text/plain": [
       "4"
      ]
     },
     "execution_count": 248,
     "metadata": {},
     "output_type": "execute_result"
    }
   ],
   "source": [
    "tup1.index(5)"
   ]
  },
  {
   "cell_type": "markdown",
   "metadata": {},
   "source": [
    "#### Count\n",
    "Count the number of times an element exists in the tuple."
   ]
  },
  {
   "cell_type": "code",
   "execution_count": 249,
   "metadata": {},
   "outputs": [
    {
     "data": {
      "text/plain": [
       "4"
      ]
     },
     "execution_count": 249,
     "metadata": {},
     "output_type": "execute_result"
    }
   ],
   "source": [
    "tup3 = (65, 67, 5, 67, 34, 76, 67, 231, 98, 67)\n",
    "tup3.count(67)"
   ]
  },
  {
   "cell_type": "markdown",
   "metadata": {},
   "source": [
    "#### Index\n",
    "Indexing is the process of accessing a tuple element by index using a subscript."
   ]
  },
  {
   "cell_type": "code",
   "execution_count": 250,
   "metadata": {},
   "outputs": [
    {
     "data": {
      "text/plain": [
       "34"
      ]
     },
     "execution_count": 250,
     "metadata": {},
     "output_type": "execute_result"
    }
   ],
   "source": [
    "tup3[4]"
   ]
  },
  {
   "cell_type": "markdown",
   "metadata": {},
   "source": [
    "An index can also be negative, which counts from the right of the tuple. Negative indexing begins from `-1` naturally, since `-0` is equivalent to `0`."
   ]
  },
  {
   "cell_type": "code",
   "execution_count": 251,
   "metadata": {},
   "outputs": [
    {
     "data": {
      "text/plain": [
       "34"
      ]
     },
     "execution_count": 251,
     "metadata": {},
     "output_type": "execute_result"
    }
   ],
   "source": [
    "tup3[-6]"
   ]
  },
  {
   "cell_type": "markdown",
   "metadata": {},
   "source": [
    "A range of indices can be specified instead by slicing with a `:`."
   ]
  },
  {
   "cell_type": "code",
   "execution_count": 252,
   "metadata": {},
   "outputs": [
    {
     "name": "stdout",
     "output_type": "stream",
     "text": [
      "(65, 67, 5, 67, 34, 76, 67, 231, 98, 67)\n",
      "(34, 76, 67, 231, 98, 67)\n",
      "(65, 67, 5, 67)\n",
      "(67, 5)\n",
      "(98, 67)\n",
      "(65, 67, 5, 67, 34, 76, 67, 231)\n"
     ]
    }
   ],
   "source": [
    "print(tup3)\n",
    "print(tup3[4:])\n",
    "print(tup3[:4])\n",
    "print(tup3[1:3])\n",
    "print(tup3[-2:])\n",
    "print(tup3[:-2])"
   ]
  },
  {
   "cell_type": "markdown",
   "metadata": {},
   "source": [
    "## Conditional Statements\n",
    "Conditional statements in Python are: `if`, `elif`, and `else`.\n",
    "\n",
    "#### Branching Programs\n",
    "Unlike ***straight-line*** programs where the statements are executed in order of appearance, ***branching programs*** navigates to statements regardless of order. Conditional statements allow for such branching.\n",
    "\n",
    "#### Conditional Statement Structure\n",
    "A conditional statement consists of the following main parts:\n",
    "- a test that evaluates to either `true` or `false`\n",
    "- a block of code that runs if the test is `true`\n",
    "- (optional) a block of code if the test is `false`"
   ]
  },
  {
   "cell_type": "code",
   "execution_count": 253,
   "metadata": {},
   "outputs": [
    {
     "name": "stdout",
     "output_type": "stream",
     "text": [
      "x is NOT equal to 3\n",
      "That's it!\n"
     ]
    }
   ],
   "source": [
    "x = 0\n",
    "if x == 3:\n",
    "  print ('x is equal to 3')\n",
    "else:\n",
    "  print('x is NOT equal to 3')\n",
    "\n",
    "# make sure to be precise with indentation\n",
    "print('That\\'s it!')"
   ]
  },
  {
   "cell_type": "markdown",
   "metadata": {},
   "source": [
    "#### Nested Conditional Statements"
   ]
  },
  {
   "cell_type": "code",
   "execution_count": 254,
   "metadata": {},
   "outputs": [
    {
     "name": "stdout",
     "output_type": "stream",
     "text": [
      "Student lacks the necessary requirements to take the Data Science course.\n"
     ]
    }
   ],
   "source": [
    "if x == 'Computer Science I':\n",
    "  if x == 'Computer Science II':\n",
    "    print(\"Student can take the Data Structure course.\")\n",
    "else:\n",
    "  print(\"Student lacks the necessary requirements to take the Data Science course.\")"
   ]
  },
  {
   "cell_type": "markdown",
   "metadata": {},
   "source": [
    "#### Compound Boolean Expressions\n",
    "Sometimes more than one boolean expression in the same test is required.\n",
    "\n",
    "##### Python Boolean Expressions\n",
    "`or` : the following statement runs if any expression is `True`  \n",
    "`and` : all the expressions need to be `True` for the following statement to run  \n",
    "`not` : the expression is `False` if it evaluates to `True`, and vice-versa"
   ]
  },
  {
   "cell_type": "code",
   "execution_count": 255,
   "metadata": {},
   "outputs": [
    {
     "name": "stdout",
     "output_type": "stream",
     "text": [
      "c is the smallest number\n",
      "x is not in the list\n"
     ]
    }
   ],
   "source": [
    "# example of the `and` expression\n",
    "a = 5\n",
    "b = 6\n",
    "c = 4\n",
    "\n",
    "if a < b and a < c:\n",
    "  print('a is the smallest number')\n",
    "elif b < c:\n",
    "  print(\"b is the smallest number\")\n",
    "else:\n",
    "  print(\"c is the smallest number\")\n",
    "\n",
    "# example of the `not` expression\n",
    "l = [1, 2, 3, 4, 5]\n",
    "x = 13\n",
    "if x not in l:\n",
    "  print(\"x is not in the list\")"
   ]
  },
  {
   "cell_type": "markdown",
   "metadata": {},
   "source": []
  },
  {
   "cell_type": "markdown",
   "metadata": {},
   "source": [
    "## Python Loops\n",
    "\n",
    "#### `while` loops\n",
    "In this kind of iteration, as long as the test evaluates as `True`, the statement or block of statements will keep executing."
   ]
  },
  {
   "cell_type": "code",
   "execution_count": 256,
   "metadata": {},
   "outputs": [
    {
     "name": "stdout",
     "output_type": "stream",
     "text": [
      "Water the flower # 1\n",
      "Water the flower # 2\n",
      "Water the flower # 3\n",
      "Water the flower # 4\n",
      "Water the flower # 5\n",
      "Water the flower # 6\n",
      "Water the flower # 7\n",
      "Water the flower # 8\n",
      "Water the flower # 9\n",
      "Water the flower # 10\n"
     ]
    }
   ],
   "source": [
    "flowers = 1\n",
    "while flowers <= 10:\n",
    "  print(\"Water the flower # \" + str(flowers))\n",
    "  flowers = flowers + 1"
   ]
  },
  {
   "cell_type": "markdown",
   "metadata": {},
   "source": [
    "#### `for` Loops\n",
    "This is an iteration that steps through the items of an ***ordered sequence*** such as `lists`, `dictionaries`, `tuples`, `strings`, etc."
   ]
  },
  {
   "cell_type": "code",
   "execution_count": 257,
   "metadata": {},
   "outputs": [
    {
     "name": "stdout",
     "output_type": "stream",
     "text": [
      "This language is in the list: Arabic\n",
      "This language is in the list: English\n",
      "This language is in the list: French\n",
      "This language is in the list: Spanish\n"
     ]
    }
   ],
   "source": [
    "languages = ['Arabic', 'English', 'French', 'Spanish']\n",
    "counter = 0\n",
    "for lang in languages:\n",
    "  print(\"This language is in the list: \" + lang)\n",
    "  counter = counter + 1"
   ]
  },
  {
   "cell_type": "markdown",
   "metadata": {},
   "source": [
    "#### Statements Used in `while` and `for` Loops\n",
    "\n",
    "##### `break`\n",
    "`break` causes the loop to terminate, and program execution is continued on the next statement."
   ]
  },
  {
   "cell_type": "code",
   "execution_count": 258,
   "metadata": {},
   "outputs": [
    {
     "name": "stdout",
     "output_type": "stream",
     "text": [
      "[1, 2, 3, 4, 5, 6, 7, 8, 9, 10]\n"
     ]
    }
   ],
   "source": [
    "# store a set of numbers in increasing values\n",
    "i = 1\n",
    "numbers = []\n",
    "while i < 11:\n",
    "  numbers.append(i)\n",
    "  i += 1\n",
    "\n",
    "print(numbers)"
   ]
  },
  {
   "cell_type": "code",
   "execution_count": 259,
   "metadata": {},
   "outputs": [
    {
     "name": "stdout",
     "output_type": "stream",
     "text": [
      "I'm # 1\n",
      "I'm # 2\n",
      "I'm # 3\n",
      "Sorry, I had to quit the loop when the value became 4.\n"
     ]
    }
   ],
   "source": [
    "value = 1\n",
    "while value in numbers:\n",
    "  if value == 4:\n",
    "    break # this will break the `while` loop before the `print` statement runs\n",
    "  print(\"I\\'m # \" + str(value))\n",
    "  value += 1\n",
    "\n",
    "print(f\"Sorry, I had to quit the loop when the value became {value}.\")"
   ]
  },
  {
   "cell_type": "markdown",
   "metadata": {},
   "source": [
    "##### `continue`\n",
    "`continue` returns the loop, ignoring any statements in the loop afterward."
   ]
  },
  {
   "cell_type": "code",
   "execution_count": 260,
   "metadata": {},
   "outputs": [
    {
     "name": "stdout",
     "output_type": "stream",
     "text": [
      "I'm # 1\n",
      "I'm # 2\n",
      "I'm # 3\n",
      "I'm # 4\n",
      "I have reached the last statement in the program and need to terminate.\n"
     ]
    }
   ],
   "source": [
    "value = 1\n",
    "while value in numbers:\n",
    "  if value < 5:\n",
    "    print(\"I\\'m # \" + str(value))\n",
    "    value += 1\n",
    "    continue # this will make sure that the `print` statement below will never be seen\n",
    "    print(\"I\\'m in the `if`-condition, why are you ignoring me?\")\n",
    "  elif value == 5:\n",
    "    break\n",
    "\n",
    "print(\"I have reached the last statement in the program and need to terminate.\")"
   ]
  },
  {
   "cell_type": "markdown",
   "metadata": {},
   "source": [
    "##### `pass`\n",
    "\n",
    "`pass` is a `null` statement for loops. It doesn't do anything other than act as placeholders."
   ]
  },
  {
   "cell_type": "code",
   "execution_count": 261,
   "metadata": {},
   "outputs": [
    {
     "name": "stdout",
     "output_type": "stream",
     "text": [
      "I've reached the last statement in the program and need to terminate.\n"
     ]
    }
   ],
   "source": [
    "value = 1\n",
    "for value in numbers:\n",
    "  # if `pass` is not present here, the program will throw an error\n",
    "  pass\n",
    "\n",
    "print(\"I've reached the last statement in the program and need to terminate.\")"
   ]
  },
  {
   "cell_type": "markdown",
   "metadata": {},
   "source": [
    "##### `else`\n",
    "`else` will contain a block of statements to run when a loop exits naturally and not by a `break`."
   ]
  },
  {
   "cell_type": "code",
   "execution_count": 262,
   "metadata": {},
   "outputs": [
    {
     "name": "stdout",
     "output_type": "stream",
     "text": [
      "I'm # 1\n",
      "I'm # 2\n",
      "I'm # 3\n",
      "I'm # 4\n",
      "I'm # 5\n",
      "I'm # 6\n",
      "I'm # 7\n",
      "I'm # 8\n",
      "I'm # 9\n",
      "I'm # 10\n",
      "I'm part of the `else` statement block.\n",
      "I'm also part of the `else` statement block.\n"
     ]
    }
   ],
   "source": [
    "value = 1\n",
    "while value in numbers:\n",
    "  print(\"I\\'m # \" + str(value))\n",
    "  value += 1\n",
    "else:\n",
    "  print(\"I\\'m part of the `else` statement block.\")\n",
    "  print(\"I\\'m also part of the `else` statement block.\")"
   ]
  },
  {
   "cell_type": "markdown",
   "metadata": {},
   "source": [
    "## Python Functions\n",
    "***Functions*** are composed of a set of instructions combined together to get some result (achieve some task) and are executed by calling them--a ***function call***. Results in Python can either be the output of some computation in the `function` or `None`. Those functions can be either ***built-in*** functions or ***user-defined*** functions. Functions defined within `classes` are the called `methods`.  \n",
    "\n",
    "#### Defining Functions\n",
    "***User-defined*** functions are initialized with `def`. Optional ***parameters*** are ***arguments*** that can be passed into the function at the time of its calling. These arguments can then be used in the statements within the function body.\n",
    "\n",
    "The `return` statement is an optional statement, which a value can be returned to the caller. If no `return` value is identified, then a `None` is returned."
   ]
  },
  {
   "cell_type": "code",
   "execution_count": 263,
   "metadata": {},
   "outputs": [
    {
     "name": "stdout",
     "output_type": "stream",
     "text": [
      "FIRST EXAMPLE:\n",
      "Abder\n",
      "\n",
      "SECOND EXAMPLE: \n",
      "List \"inside\" the function is:  [1, 2, 3, 4, 5, 8, 13]\n",
      "List \"outside\" the function is:  [1, 2, 3, 4, 5, 8, 13]\n",
      "\n",
      "THIRD EXAMPLE:\n",
      "8 + 4 = 12\n",
      "8 + 4 = 4\n",
      "8 + 4 = 32\n",
      "8 + 4 = 2\n"
     ]
    }
   ],
   "source": [
    "# a simple `print` example\n",
    "print(\"FIRST EXAMPLE:\")\n",
    "employee_name = 'Abder'\n",
    "def print_name(name):\n",
    "  print(name)\n",
    "\n",
    "print_name(employee_name)\n",
    "\n",
    "# another example\n",
    "print(\"\\nSECOND EXAMPLE: \")\n",
    "numbers_list = [1, 2, 3, 4, 5]\n",
    "def insert_numbers(numbers_list):\n",
    "  numbers_list.insert(5, 8)\n",
    "  numbers_list.insert(6, 13)\n",
    "  print(\"List \\\"inside\\\" the function is: \", numbers_list)\n",
    "  return\n",
    "\n",
    "insert_numbers(numbers_list)\n",
    "print(\"List \\\"outside\\\" the function is: \", numbers_list)\n",
    "\n",
    "# calculator\n",
    "print(\"\\nTHIRD EXAMPLE:\")\n",
    "def add(x, y):\n",
    "  return x + y\n",
    "def subtract(x, y):\n",
    "  return x - y\n",
    "def multiply(x, y):\n",
    "  return x * y\n",
    "def divide(x, y):\n",
    "  return x / y\n",
    "\n",
    "x, y = 8, 4\n",
    "\n",
    "print(f\"{x} + {y} = {add(x, y)}\")\n",
    "print(f\"{x} + {y} = {subtract(x, y)}\")\n",
    "print(f\"{x} + {y} = {multiply(x, y)}\")\n",
    "print(f\"{x} + {y} = {int(divide(x, y))}\") # int() to prevent a float from being returned"
   ]
  },
  {
   "cell_type": "markdown",
   "metadata": {},
   "source": [
    "## Lambda Functions\n",
    "A `lambda` function is a special type of function without a function name. To call it, it must be passed onto a variable, from which it can then be called with parentheses `()`."
   ]
  },
  {
   "cell_type": "code",
   "execution_count": 264,
   "metadata": {},
   "outputs": [
    {
     "name": "stdout",
     "output_type": "stream",
     "text": [
      "Hello World\n"
     ]
    }
   ],
   "source": [
    "# declare the lambda function\n",
    "greet = lambda : print(\"Hello World\")\n",
    "\n",
    "# call the lambda function\n",
    "greet()\n",
    "\n",
    "# Output: Hello World"
   ]
  },
  {
   "cell_type": "markdown",
   "metadata": {},
   "source": [
    "#### `lambda` Function with an Argument"
   ]
  },
  {
   "cell_type": "code",
   "execution_count": 265,
   "metadata": {},
   "outputs": [
    {
     "name": "stdout",
     "output_type": "stream",
     "text": [
      "Hey there, Delilah\n"
     ]
    }
   ],
   "source": [
    "# `lambda` that accepts one argument\n",
    "greet_user = lambda name : print(\"Hey there,\", name)\n",
    "\n",
    "# `lambda` call\n",
    "greet_user(\"Delilah\")\n",
    "\n",
    "# Output: Het there, Delilah"
   ]
  },
  {
   "cell_type": "markdown",
   "metadata": {},
   "source": [
    "## Sets\n",
    "A `set` is similar to `list` but with differences:\n",
    "- Sets are unordered.\n",
    "- Set elements are unique, because duplicate elements are not allowed.\n",
    "- Sets are mutable, but its items must be immutable.\n",
    "A `set` can be created in two ways..."
   ]
  },
  {
   "cell_type": "markdown",
   "metadata": {},
   "source": [
    "#### `set()`\n",
    "A `set` defined as a function is analogous to using the `.extend()` method."
   ]
  },
  {
   "cell_type": "code",
   "execution_count": 266,
   "metadata": {},
   "outputs": [
    {
     "name": "stdout",
     "output_type": "stream",
     "text": [
      "{'quix', 'baz', 'bar', 'foo'}\n",
      "{'quix', 'baz', 'bar', 'foo'}\n"
     ]
    }
   ],
   "source": [
    "# defined as a function\n",
    "x = set(['foo', 'bar', 'baz', 'foo', 'quix']) # list\n",
    "print(x)\n",
    "\n",
    "x = set(('foo', 'bar', 'baz', 'foo', 'quix')) # tuple\n",
    "print(x) "
   ]
  },
  {
   "cell_type": "markdown",
   "metadata": {},
   "source": [
    "`strings` are also iterable, so it can be passed to a `set()` function as well."
   ]
  },
  {
   "cell_type": "code",
   "execution_count": 267,
   "metadata": {},
   "outputs": [
    {
     "name": "stdout",
     "output_type": "stream",
     "text": [
      "['q', 'u', 'u', 'x']\n",
      "{'x', 'q', 'u'}\n"
     ]
    }
   ],
   "source": [
    "s = 'quux'\n",
    "print(list(s))\n",
    "print(set(s)) # notice how this function returns no duplicates"
   ]
  },
  {
   "cell_type": "markdown",
   "metadata": {},
   "source": [
    "#### `set` defined by curly braces `{}`\n",
    "When a `set` is defined this way, each item becomes a distinct element of the set, even if it is iterable. This behavior is similar to that of the `.append()` list method."
   ]
  },
  {
   "cell_type": "code",
   "execution_count": 268,
   "metadata": {},
   "outputs": [
    {
     "name": "stdout",
     "output_type": "stream",
     "text": [
      "{'qux', 'baz', 'bar', 'foo'}\n",
      "{'x', 'q', 'u'}\n"
     ]
    }
   ],
   "source": [
    "x = {'foo', 'bar', 'baz', 'foo', 'qux'}\n",
    "print(x)\n",
    "\n",
    "x = {'q', 'u', 'u', 'x'}\n",
    "print(x)"
   ]
  },
  {
   "cell_type": "code",
   "execution_count": 269,
   "metadata": {},
   "outputs": [
    {
     "name": "stdout",
     "output_type": "stream",
     "text": [
      "{'foo'}\n",
      "{'f', 'o'}\n",
      "<class 'set'>\n",
      "<class 'dict'>\n",
      "<class 'set'>\n"
     ]
    }
   ],
   "source": [
    "# observe the difference between the two `set` definitions\n",
    "print({'foo'})\n",
    "print(set('foo'))\n",
    "\n",
    "# how about the types\n",
    "x = set()\n",
    "print(type(x))\n",
    "\n",
    "x = {} # an empty set of curly brackets defaults to a dict rather than a set\n",
    "print(type(x))\n",
    "\n",
    "x = {'foo'} # but passing an object will implicitly define it as a set\n",
    "print(type(x))"
   ]
  },
  {
   "cell_type": "markdown",
   "metadata": {},
   "source": [
    "#### Set Size and Membership"
   ]
  },
  {
   "cell_type": "code",
   "execution_count": 270,
   "metadata": {},
   "outputs": [
    {
     "name": "stdout",
     "output_type": "stream",
     "text": [
      "3\n",
      "True\n",
      "False\n"
     ]
    }
   ],
   "source": [
    "# defining a `set`\n",
    "x = {'foo', 'bar', 'baz'}\n",
    "\n",
    "print(len(x))\n",
    "print('bar' in x)\n",
    "print('qux' in x)"
   ]
  },
  {
   "cell_type": "markdown",
   "metadata": {},
   "source": [
    "#### Operating on a `set`\n",
    "Many of the operations that can be used for Python's other composite data types don't make sense for sets. Sets can't be indexed or sliced. Python provides a whole host of operations on set objects that generally mimic the operations that are defined for mathematical sets.\n",
    "\n",
    "##### Operators vs Methods\n",
    "Most `set` operations can be performed in two different ways:\n",
    "- operators\n",
    "- methods"
   ]
  },
  {
   "cell_type": "code",
   "execution_count": 271,
   "metadata": {},
   "outputs": [],
   "source": [
    "x1 = {'foo', 'bar', 'baz'}\n",
    "x2 = {'baz', 'qux', 'quux'}"
   ]
  },
  {
   "cell_type": "markdown",
   "metadata": {},
   "source": [
    "##### `union()` and `|`"
   ]
  },
  {
   "cell_type": "markdown",
   "metadata": {},
   "source": [
    "`union` will return all values."
   ]
  },
  {
   "cell_type": "code",
   "execution_count": 272,
   "metadata": {},
   "outputs": [
    {
     "name": "stdout",
     "output_type": "stream",
     "text": [
      "{'quux', 'foo', 'qux', 'bar', 'baz'}\n",
      "{'quux', 'foo', 'qux', 'bar', 'baz'}\n"
     ]
    }
   ],
   "source": [
    "print(x1 | x2) # this will only work with sets\n",
    "print(x1.union(x2)) # union also converts its arguments to a set, x2 doesn't necessarily need to be set"
   ]
  },
  {
   "cell_type": "markdown",
   "metadata": {},
   "source": [
    "##### `intersection()` and `&`\n",
    "\n"
   ]
  },
  {
   "cell_type": "markdown",
   "metadata": {},
   "source": [
    "`intersection` returns the values that are the same in all sets being compared."
   ]
  },
  {
   "cell_type": "code",
   "execution_count": 273,
   "metadata": {},
   "outputs": [
    {
     "name": "stdout",
     "output_type": "stream",
     "text": [
      "{1, 2, 3, 4, 5, 6, 7}\n",
      "{1, 2, 3, 4, 5, 6, 7}\n"
     ]
    }
   ],
   "source": [
    "a = {1, 2, 3, 4}\n",
    "b = {2, 3, 4, 5}\n",
    "c = {3, 4, 5, 6}\n",
    "d = {4, 5, 6, 7}\n",
    "\n",
    "# to recap unions\n",
    "print(a.union(b, c, d))\n",
    "print(a | b | c | d)"
   ]
  },
  {
   "cell_type": "code",
   "execution_count": 274,
   "metadata": {},
   "outputs": [
    {
     "name": "stdout",
     "output_type": "stream",
     "text": [
      "{2, 3, 4}\n",
      "{4}\n",
      "{3, 4}\n"
     ]
    }
   ],
   "source": [
    "print(a.intersection(b))\n",
    "print(a.intersection(b, c, d))\n",
    "print(a & b & c)"
   ]
  },
  {
   "cell_type": "markdown",
   "metadata": {},
   "source": [
    "##### `difference()` and `-`\n",
    "`difference` returns the set of all elements that are in the reference set but not in the comparison set."
   ]
  },
  {
   "cell_type": "code",
   "execution_count": 275,
   "metadata": {},
   "outputs": [
    {
     "name": "stdout",
     "output_type": "stream",
     "text": [
      "{'baz', 'bar', 'foo'} and {'quux', 'qux', 'baz'}\n",
      "{'bar', 'foo'}\n",
      "{'bar', 'foo'}\n"
     ]
    }
   ],
   "source": [
    "print(x1, \"and\", x2)\n",
    "print(x1.difference(x2))\n",
    "print(x1 - x2)"
   ]
  },
  {
   "cell_type": "markdown",
   "metadata": {},
   "source": [
    "##### `symmetric_difference()` and `^`\n",
    "`symmetric_difference` returns the set of all elements in the reference sets and the comparison set. It is equivalent to the `not` of the `intersection` of the same sets."
   ]
  },
  {
   "cell_type": "code",
   "execution_count": 276,
   "metadata": {},
   "outputs": [
    {
     "name": "stdout",
     "output_type": "stream",
     "text": [
      "{'baz', 'bar', 'foo'} and {'quux', 'qux', 'baz'}\n",
      "{'quux', 'qux', 'bar', 'foo'}\n",
      "{'quux', 'qux', 'bar', 'foo'}\n"
     ]
    }
   ],
   "source": [
    "print(x1, \"and\", x2)\n",
    "print(x1.symmetric_difference(x2))\n",
    "print(x1 ^ x2)"
   ]
  },
  {
   "cell_type": "code",
   "execution_count": 277,
   "metadata": {},
   "outputs": [
    {
     "name": "stdout",
     "output_type": "stream",
     "text": [
      "{1, 2, 3, 4} and {2, 3, 4, 5} and {3, 4, 5, 6}\n",
      "{1, 3, 4, 6}\n"
     ]
    }
   ],
   "source": [
    "print(a, \"and\", b, \"and\", c)\n",
    "print(a ^ b ^ c) # evaluates the symmetric difference between a and then b, and then the resulting set with set c"
   ]
  },
  {
   "cell_type": "markdown",
   "metadata": {},
   "source": [
    "##### `isdisjoint()`\n",
    "Evaluates whether or not two sets have any elements in common. Returns a `boolean`."
   ]
  },
  {
   "cell_type": "code",
   "execution_count": 278,
   "metadata": {},
   "outputs": [
    {
     "name": "stdout",
     "output_type": "stream",
     "text": [
      "{'baz', 'bar', 'foo'} and {'quux', 'qux', 'baz'}\n",
      "False\n",
      "True\n"
     ]
    }
   ],
   "source": [
    "print(x1, \"and\", x2)\n",
    "print(x1.isdisjoint(x2)) # evaluates False because there is a common element, \"baz\"\n",
    "print(x1.isdisjoint(x2 - {\"baz\"})) # evaluates True because there are no common elements"
   ]
  },
  {
   "cell_type": "markdown",
   "metadata": {},
   "source": [
    "##### `issubset()` and `<=`\n",
    "Determine if one set is a `subset` of the other."
   ]
  },
  {
   "cell_type": "code",
   "execution_count": 279,
   "metadata": {},
   "outputs": [
    {
     "name": "stdout",
     "output_type": "stream",
     "text": [
      "{'baz', 'bar', 'foo'} and {'quux', 'qux', 'baz'}\n",
      "True\n",
      "False\n"
     ]
    }
   ],
   "source": [
    "print(x1, \"and\", x2)\n",
    "print(x1.issubset({'foo', 'bar', 'baz', 'qux', 'quux'}))\n",
    "print(x1 <= x2)"
   ]
  },
  {
   "cell_type": "markdown",
   "metadata": {},
   "source": [
    "##### A *proper subset* (`<`)\n",
    "Determines whether one set is a proper subset of the other. A proper subset is the same as a subset, except that the sets cannot be identical."
   ]
  },
  {
   "cell_type": "code",
   "execution_count": 280,
   "metadata": {},
   "outputs": [
    {
     "name": "stdout",
     "output_type": "stream",
     "text": [
      "True\n",
      "False\n",
      "True\n"
     ]
    }
   ],
   "source": [
    "x3 = {'foo', 'bar'}\n",
    "x4 = {'foo', 'bar', 'baz'}\n",
    "print(x3 < x4)\n",
    "\n",
    "x3 = x3 | {'baz'}\n",
    "print(x3 < x4)\n",
    "print(x3 <= x4)"
   ]
  },
  {
   "cell_type": "markdown",
   "metadata": {},
   "source": [
    "##### `issuperset()` and `>=`\n",
    "Determine whether one set is a superset of the other."
   ]
  },
  {
   "cell_type": "code",
   "execution_count": 281,
   "metadata": {},
   "outputs": [
    {
     "name": "stdout",
     "output_type": "stream",
     "text": [
      "True\n",
      "True\n"
     ]
    }
   ],
   "source": [
    "x3 = {'foo', 'bar'}\n",
    "x4 = {'foo', 'bar', 'baz'}\n",
    "print(x4.issuperset(x3))\n",
    "print(x4 >= x3)"
   ]
  },
  {
   "cell_type": "markdown",
   "metadata": {},
   "source": [
    "A ***proper*** `superset` works similarly to how a ***proper*** `subset` relates to a `subset`."
   ]
  },
  {
   "cell_type": "markdown",
   "metadata": {},
   "source": [
    "#### Modifying a `set`\n",
    "Although the elements contained in a `set` must be of an immutable type, the `set` itself can be modified."
   ]
  },
  {
   "cell_type": "code",
   "execution_count": 282,
   "metadata": {},
   "outputs": [],
   "source": [
    "x = {'foo', 'bar', 'baz'}"
   ]
  },
  {
   "cell_type": "markdown",
   "metadata": {},
   "source": [
    "##### `x.add()`\n",
    "Adds an element to a `set`. The element must be a single immutable object."
   ]
  },
  {
   "cell_type": "code",
   "execution_count": 283,
   "metadata": {},
   "outputs": [
    {
     "name": "stdout",
     "output_type": "stream",
     "text": [
      "{'baz', 'quz', 'bar', 'foo'}\n"
     ]
    }
   ],
   "source": [
    "x.add('quz')\n",
    "print(x)"
   ]
  },
  {
   "cell_type": "markdown",
   "metadata": {},
   "source": [
    "##### `x.remove()`\n",
    "Removes an element from a `set`. The element must exist in the `set`, otherwise Python will raise an exception."
   ]
  },
  {
   "cell_type": "code",
   "execution_count": 284,
   "metadata": {},
   "outputs": [
    {
     "name": "stdout",
     "output_type": "stream",
     "text": [
      "{'baz', 'quz', 'bar', 'foo'}\n",
      "{'quz', 'bar', 'foo'}\n"
     ]
    }
   ],
   "source": [
    "print(x)\n",
    "x.remove('baz')\n",
    "print(x)"
   ]
  },
  {
   "cell_type": "markdown",
   "metadata": {},
   "source": [
    "##### `x.discard()`\n",
    "Removes an element from a `set`. Unlike `x.remove()`, this method does not raise an exception."
   ]
  },
  {
   "cell_type": "code",
   "execution_count": 285,
   "metadata": {},
   "outputs": [
    {
     "name": "stdout",
     "output_type": "stream",
     "text": [
      "{'quz', 'bar', 'foo'}\n",
      "{'quz', 'bar', 'foo'}\n"
     ]
    }
   ],
   "source": [
    "print(x)\n",
    "x.discard('y')\n",
    "print(x)"
   ]
  },
  {
   "cell_type": "markdown",
   "metadata": {},
   "source": [
    "##### `x.pop()`\n",
    "Removes a random element from a `set` and returns it. If the `set` is empty, Python will raise an exception."
   ]
  },
  {
   "cell_type": "code",
   "execution_count": 286,
   "metadata": {},
   "outputs": [
    {
     "name": "stdout",
     "output_type": "stream",
     "text": [
      "quz\n",
      "{'bar', 'foo'}\n"
     ]
    }
   ],
   "source": [
    "print(x.pop())\n",
    "print(x)"
   ]
  },
  {
   "cell_type": "markdown",
   "metadata": {},
   "source": [
    "##### `x.clear()`\n",
    "Clears a `set`. In other words, `x.clear()` removes all elements for the `set`, *x*."
   ]
  },
  {
   "cell_type": "code",
   "execution_count": 287,
   "metadata": {},
   "outputs": [
    {
     "name": "stdout",
     "output_type": "stream",
     "text": [
      "{'bar', 'foo'}\n",
      "set()\n"
     ]
    }
   ],
   "source": [
    "print(x)\n",
    "x.clear()\n",
    "print(x)"
   ]
  },
  {
   "cell_type": "markdown",
   "metadata": {},
   "source": [
    "#### Frozen Sets\n",
    "Python provides another built-in type called a `frozenset`, which is exactly like a `set` except that it is immutable. Only non-modifying operations can be performed on a `frozenset`. However, a `frozenset` can still be targeted by an augmented assignment operator."
   ]
  },
  {
   "cell_type": "code",
   "execution_count": 288,
   "metadata": {},
   "outputs": [
    {
     "name": "stdout",
     "output_type": "stream",
     "text": [
      "4426231456\n",
      "frozenset({'baz'})\n",
      "4426228544\n"
     ]
    }
   ],
   "source": [
    "f = frozenset(['foo', 'bar', 'baz'])\n",
    "print(id(f))\n",
    "s = {'baz', 'qux', 'quux'}\n",
    "\n",
    "f &= s\n",
    "print(f)\n",
    "print(id(f))"
   ]
  },
  {
   "cell_type": "markdown",
   "metadata": {},
   "source": [
    "The idea here is that the augmented operator does not modify the original frozenset. More succinctly, it does not modify `in place`. Instead, it creates a new `frozenset` in memory with the same variable name.\n",
    "\n",
    "`frozenset` is useful in situations where a `set` is appropriate, but an immutable object is required. A simple example of this is a the impossibility of nested `set`."
   ]
  },
  {
   "cell_type": "code",
   "execution_count": 290,
   "metadata": {},
   "outputs": [
    {
     "name": "stdout",
     "output_type": "stream",
     "text": [
      "TypeError: 'set' is an unhashable type because it is mutable.\n"
     ]
    }
   ],
   "source": [
    "x1 = set(['foo'])\n",
    "x2 = set(['bar'])\n",
    "x3 = set(['baz'])\n",
    "\n",
    "try:\n",
    "  x = {x1, x2, x3}\n",
    "except TypeError:\n",
    "  print(\"TypeError: 'set' is an unhashable type because it is mutable.\")"
   ]
  },
  {
   "cell_type": "code",
   "execution_count": 292,
   "metadata": {},
   "outputs": [
    {
     "name": "stdout",
     "output_type": "stream",
     "text": [
      "TypeError: 'list' is an unhashable type because it is mutable.\n"
     ]
    }
   ],
   "source": [
    "x1 = ['foo']\n",
    "x2 = ['bar']\n",
    "x3 = ['baz']\n",
    "\n",
    "try:\n",
    "  x = {x1, x2, x3}\n",
    "except TypeError:\n",
    "  print(\"TypeError: 'list' is an unhashable type because it is mutable.\")"
   ]
  },
  {
   "cell_type": "code",
   "execution_count": 294,
   "metadata": {},
   "outputs": [
    {
     "name": "stdout",
     "output_type": "stream",
     "text": [
      "{'baz', 'bar', 'foo'}\n"
     ]
    }
   ],
   "source": [
    "x1 = ('foo')\n",
    "x2 = ('bar')\n",
    "x3 = ('baz')\n",
    "x = {x1, x2, x3}\n",
    "print(x)"
   ]
  },
  {
   "cell_type": "code",
   "execution_count": null,
   "metadata": {},
   "outputs": [
    {
     "name": "stdout",
     "output_type": "stream",
     "text": [
      "{frozenset({'baz'}), frozenset({'foo'}), frozenset({'bar'})}\n"
     ]
    }
   ],
   "source": [
    "x1 = frozenset(['foo'])\n",
    "x2 = frozenset(['bar'])\n",
    "x3 = frozenset(['baz'])\n",
    "x = {x1, x2, x3}\n",
    "print(x)"
   ]
  },
  {
   "cell_type": "markdown",
   "metadata": {},
   "source": [
    "By definition, a `set` is a collection of elements that must be immutable."
   ]
  },
  {
   "cell_type": "markdown",
   "metadata": {},
   "source": [
    "Similarly, dictionary keys must be immutable so a normal `set` cannot be used to define a dictionary key."
   ]
  },
  {
   "cell_type": "code",
   "execution_count": 295,
   "metadata": {},
   "outputs": [
    {
     "name": "stdout",
     "output_type": "stream",
     "text": [
      "TypeError: 'list' is an unhashable type because it is mutable.\n"
     ]
    }
   ],
   "source": [
    "x = {1, 2, 3}\n",
    "y = {'a', 'b', 'c'}\n",
    "\n",
    "try:\n",
    "  d = {x: 'foo', y: 'bar'}\n",
    "  print(d)\n",
    "except TypeError:\n",
    "  print(\"TypeError: 'set' is an unhashable type because it is mutable. Dict keys require a hashable type.\")"
   ]
  },
  {
   "cell_type": "code",
   "execution_count": null,
   "metadata": {},
   "outputs": [
    {
     "name": "stdout",
     "output_type": "stream",
     "text": [
      "{frozenset({1, 2, 3}): 'foo', frozenset({'c', 'b', 'a'}): 'bar'}\n"
     ]
    }
   ],
   "source": [
    "x = frozenset({1, 2, 3})\n",
    "y = frozenset({'a', 'b', 'c'})\n",
    "\n",
    "d = {x: 'foo', y: 'bar'}\n",
    "print(d)"
   ]
  },
  {
   "cell_type": "markdown",
   "metadata": {},
   "source": [
    "## Error Types\n",
    "The most common reason of an error in a Python program is when a certain statement is not in accordance with the prescribed usage. Such an error is called a `syntax error`. Many times though, a program results in an error after it is run even if it doesn't have a `syntax error`. Such an error is a `runtime error`, called an exception. A number of built-in exceptions are defined in the Python library.\n",
    "\n",
    "The most common can be found [here](https://www.tutorialsteacher.com/python/error-types-in-python).\n",
    "\n",
    "- `IndexError` is thrown when trying to access an item at an invalid index.\n",
    "- `ModuleNotFoundError` is thrown when a module could not be found.\n",
    "- `KeyError` is thrown when a key (in a dictionary) is not found.\n",
    "- `ImportError` is thrown when a specified function cannot be found.\n",
    "- `StopIteration` is thrown when the `next()` function goes beyond the iterable items.\n",
    "- `TypeError` is thrown when an operation or function is applied erroneously to an object of an inappropriate type.\n",
    "- `ValueError` is thrown when a function's argument is of an inappropriate type.\n",
    "- `NameError` is thrown when an object cannot be found (uninitialized or stored).\n",
    "- `ZeroDivisionError` is thrown when the second operator in a division is zero.\n",
    "- `KeyboardInterrupt` is thrown when the user interrupts the execution of a program with a keystroke."
   ]
  },
  {
   "cell_type": "markdown",
   "metadata": {},
   "source": [
    "## Exception Handling\n",
    "The cause of an exception is often external to the program itself--an incorrect input, a malfunctioning IO device. Because the program abruptly terminates on encountering an exception, it may cause damage to system resources, such as files. Hence, the exceptions should be properly handled so that an abrupt termination of the program is prevented.\n",
    "\n",
    "Python uses `try` and `except` keywords to handle exceptions."
   ]
  },
  {
   "cell_type": "code",
   "execution_count": null,
   "metadata": {},
   "outputs": [
    {
     "name": "stdout",
     "output_type": "stream",
     "text": [
      "Some error occurred.\n",
      "Out of try/except blocks.\n"
     ]
    }
   ],
   "source": [
    "try:\n",
    "  a = 5\n",
    "  b = 0\n",
    "  print(a / b)\n",
    "except:\n",
    "  print('Some error occurred.')\n",
    "\n",
    "print(\"Out of try/except blocks.\")"
   ]
  },
  {
   "cell_type": "markdown",
   "metadata": {},
   "source": [
    "The `try` contains one or more statements, which are likely to encounter an exception. If the statements in this block are executed without an exception, the subsequent `except` block is skipped.\n",
    "\n",
    "If the exception occurs, the program flow is transferred to the `except` block. The statements in the `except` block are meant to handle the cause of the exception appropriately, returning an appropriate error message.\n",
    "\n",
    "You can specify the type of exception after the `except` keyword. The subsequent block will be executed only if the specified exception occurs. There may be multiple except clauses with different exception types in a single `try` block. If the type of exception doesn't match any of the `except` blocks, it will remain unhandled and the program will terminate.\n",
    "\n",
    "The rest of the statements after the `except` block will continue to be executed, regardless of the exception occurring."
   ]
  },
  {
   "cell_type": "code",
   "execution_count": null,
   "metadata": {},
   "outputs": [
    {
     "name": "stdout",
     "output_type": "stream",
     "text": [
      "TypeError occurred.\n",
      "Out of try/except blocks.\n"
     ]
    }
   ],
   "source": [
    "try:\n",
    "  a = 5\n",
    "  b = '0'\n",
    "  print(a + b)\n",
    "  print(a / b) # the exception is raised before this division error is seen.\n",
    "except TypeError:\n",
    "  print('TypeError occurred.')\n",
    "except ZeroDivisionError:\n",
    "  print('Division by zero is not allowed.')\n",
    "except:\n",
    "  print('Some error occurred.')\n",
    "\n",
    "print(\"Out of try/except blocks.\")"
   ]
  },
  {
   "cell_type": "markdown",
   "metadata": {},
   "source": [
    " The default `except` block must come after all the `except` blocks that catch specific errors, otherwise Python will raise an error."
   ]
  },
  {
   "cell_type": "markdown",
   "metadata": {},
   "source": [
    "#### `else` and `finally`"
   ]
  },
  {
   "cell_type": "markdown",
   "metadata": {},
   "source": [
    "`else` and `finally` can also by used along with the `try` and `except` clauses. While the `except` block is executed if the exception occurs inside the `try` block, the `else` block gets processed if the `try` block is found to be exception free. The `finally` block consists of statements, which should be processed regardless of an exception occurring in the `try` block or not. As a consequence, the error-free `try` block skips the `except` clause and enters the `finally` block before going on to execute the rest of the code."
   ]
  },
  {
   "cell_type": "code",
   "execution_count": null,
   "metadata": {},
   "outputs": [
    {
     "name": "stdout",
     "output_type": "stream",
     "text": [
      "Division =  5.0\n",
      "Executing finally block.\n",
      "Out of try, except, else and finally blocks.\n",
      "x =  0\n",
      "y =  0\n"
     ]
    }
   ],
   "source": [
    "try:\n",
    "  x, y = 10, 2\n",
    "  z = x / y\n",
    "except ZeroDivisionError:\n",
    "  print(\"Division by 0 is not accepted.\") # no division by 0 so this does not run\n",
    "except:\n",
    "  print('Some error occurred.') # no exception is found\n",
    "else:\n",
    "  print(\"Division = \", z) # this executes because no error is found\n",
    "finally:\n",
    "  print(\"Executing finally block.\") # this executes regardless whether or not exceptions are raised\n",
    "  x=0\n",
    "  y=0\n",
    "  \n",
    "print(\"Out of try, except, else and finally blocks.\")\n",
    "print(\"x = \", x)\n",
    "print(\"y = \", y)"
   ]
  },
  {
   "cell_type": "code",
   "execution_count": null,
   "metadata": {},
   "outputs": [
    {
     "name": "stdout",
     "output_type": "stream",
     "text": [
      "Division by 0 is not accepted.\n",
      "Executing finally block.\n",
      "Out of try, except, else and finally blocks.\n",
      "x =  0\n",
      "y =  0\n"
     ]
    }
   ],
   "source": [
    "try:\n",
    "  x, y = 10, 0 # the only change from the previous code block\n",
    "  z = x / y\n",
    "except ZeroDivisionError:\n",
    "  print(\"Division by 0 is not accepted.\") # this executes as the zero division is found\n",
    "except:\n",
    "  print('Some error occurred.') # this is skipped due to the error having been caught above \n",
    "else:\n",
    "  print(\"Division = \", z) # this does not execute due to error above\n",
    "finally:\n",
    "  print(\"Executing finally block.\") # this executes regardless whether or not exceptions are raised\n",
    "  x=0\n",
    "  y=0\n",
    "  \n",
    "print(\"Out of try, except, else and finally blocks.\")\n",
    "print(\"x = \", x)\n",
    "print(\"y = \", y)"
   ]
  },
  {
   "cell_type": "markdown",
   "metadata": {},
   "source": [
    "#### `raise` an Exception\n",
    "The `raise` keyword is used in the context of exception handling. It causes an exception to be generated explicitly. Built-in errors are raised implicitly."
   ]
  },
  {
   "cell_type": "code",
   "execution_count": null,
   "metadata": {},
   "outputs": [
    {
     "name": "stdout",
     "output_type": "stream",
     "text": [
      "50.0 is out of the allowed range.\n"
     ]
    }
   ],
   "source": [
    "try:\n",
    "  x, y = 100, 2\n",
    "  z = x / 2\n",
    "  if z > 10:\n",
    "    raise ValueError(z)\n",
    "except ValueError:\n",
    "  print(z, \"is out of the allowed range.\")\n",
    "else:\n",
    "  print(z, \"is within the allowed range.\")"
   ]
  },
  {
   "cell_type": "markdown",
   "metadata": {},
   "source": [
    "Here, the `ValueError` type is raised. However, a custom exception type can also be raised."
   ]
  },
  {
   "cell_type": "markdown",
   "metadata": {},
   "source": []
  },
  {
   "cell_type": "markdown",
   "metadata": {},
   "source": [
    "## Shallow and Deep Copies\n",
    "#### Copy an Object in Python\n",
    "An `=` operator to create a copy of an object. This does not create a new object; it only creates a new variable that shares a reference of the original object."
   ]
  },
  {
   "cell_type": "code",
   "execution_count": null,
   "metadata": {},
   "outputs": [
    {
     "name": "stdout",
     "output_type": "stream",
     "text": [
      "Old List: [[1, 2, 3], [4, 5, 6], [7, 8, 9]]\n",
      "ID of Old List: 4621652224\n",
      "\n",
      "New List: [[1, 2, 3], [4, 5, 6], [7, 8, 9]]\n",
      "ID of New List: 4621652224\n",
      "\n",
      "Are the IDs equal? Yes\n"
     ]
    }
   ],
   "source": [
    "# example of a shallow copy\n",
    "old_list = [[1, 2, 3], [4, 5, 6], [7, 8, 'a']]\n",
    "new_list = old_list\n",
    "\n",
    "new_list[2][2] = 9\n",
    " \n",
    "print('Old List:', old_list)\n",
    "print('ID of Old List:', id(old_list))\n",
    "\n",
    "print('\\nNew List:', new_list)\n",
    "print('ID of New List:', id(new_list))\n",
    "\n",
    "print(\"\\nAre the IDs equal?\", 'Yes' if id(old_list) == id(new_list) else 'No')"
   ]
  },
  {
   "cell_type": "markdown",
   "metadata": {},
   "source": [
    "#### The `copy` Module"
   ]
  },
  {
   "cell_type": "code",
   "execution_count": null,
   "metadata": {},
   "outputs": [
    {
     "name": "stdout",
     "output_type": "stream",
     "text": [
      "[[1, 2, 3], [4, 5, 6], [7, 8, 9]]\n",
      "\n",
      "SHALLOW COPY:\n",
      "[[1, 2, 3], [4, 5, 6], [7, 8, 9]]\n",
      "4622066944 4621652224\n",
      "\n",
      "DEEP COPY:\n",
      "[[1, 2, 3], [4, 5, 6], [7, 8, 9]]\n",
      "4622052672 4621652224\n"
     ]
    }
   ],
   "source": [
    "import copy\n",
    "\n",
    "print(old_list)\n",
    "\n",
    "print('\\nSHALLOW COPY:')\n",
    "shallow_list = copy.copy(old_list)\n",
    "print(shallow_list)\n",
    "print(id(shallow_list), id(old_list)) \n",
    "\n",
    "print('\\nDEEP COPY:')\n",
    "deep_list = copy.copy(old_list)\n",
    "print(deep_list)\n",
    "print(id(deep_list), id(old_list))"
   ]
  },
  {
   "cell_type": "markdown",
   "metadata": {},
   "source": [
    "#### A Shallow Copy"
   ]
  },
  {
   "cell_type": "code",
   "execution_count": null,
   "metadata": {},
   "outputs": [
    {
     "name": "stdout",
     "output_type": "stream",
     "text": [
      "Old list: [[1, 1, 1], [2, 2, 2], [3, 3, 3], [4, 4, 4]]\n",
      "New list: [[1, 1, 1], [2, 2, 2], [3, 3, 3]]\n"
     ]
    }
   ],
   "source": [
    "import copy\n",
    "\n",
    "old_list = [[1, 1, 1], [2, 2, 2], [3, 3, 3]]\n",
    "new_list = copy.copy(old_list)\n",
    "\n",
    "old_list.append([4, 4, 4])\n",
    "\n",
    "print(\"Old list:\", old_list)\n",
    "print(\"New list:\", new_list)"
   ]
  },
  {
   "cell_type": "markdown",
   "metadata": {},
   "source": [
    "Notice that the new object appended to the `old_list` is not recognized by the `new_list`. This is because it is a new object and it has nothing to do with the old objects referenced by the `new_list`."
   ]
  },
  {
   "cell_type": "code",
   "execution_count": null,
   "metadata": {},
   "outputs": [
    {
     "name": "stdout",
     "output_type": "stream",
     "text": [
      "Old list: [[1, 1, 1], [2, 'AA', 2], [3, 3, 3]]\n",
      "New list: [[1, 1, 1], [2, 'AA', 2], [3, 3, 3]]\n"
     ]
    }
   ],
   "source": [
    "import copy\n",
    "\n",
    "old_list = [[1, 1, 1], [2, 2, 2], [3, 3, 3]]\n",
    "new_list = copy.copy(old_list)\n",
    "\n",
    "old_list[1][1] = 'AA'\n",
    "\n",
    "print(\"Old list:\", old_list)\n",
    "print(\"New list:\", new_list)"
   ]
  },
  {
   "cell_type": "markdown",
   "metadata": {},
   "source": [
    "In this example, a referenced object was modified. Thus, the `new_list` referencing that object by way of the `old_list` will also reflect this change."
   ]
  },
  {
   "cell_type": "markdown",
   "metadata": {},
   "source": [
    "#### A Deep Copy"
   ]
  },
  {
   "cell_type": "code",
   "execution_count": null,
   "metadata": {},
   "outputs": [
    {
     "name": "stdout",
     "output_type": "stream",
     "text": [
      "Old list: [[1, 1, 1], ['BB', 2, 2], [3, 3, 3]]\n",
      "New list: [[1, 1, 1], [2, 2, 2], [3, 3, 3]]\n"
     ]
    }
   ],
   "source": [
    "import copy\n",
    "\n",
    "old_list = [[1, 1, 1], [2, 2, 2], [3, 3, 3]]\n",
    "new_list = copy.deepcopy(old_list)\n",
    "\n",
    "old_list[1][0] = 'BB'\n",
    "\n",
    "print(\"Old list:\", old_list)\n",
    "print(\"New list:\", new_list)"
   ]
  },
  {
   "cell_type": "markdown",
   "metadata": {},
   "source": [
    "In a deep copy, the `new_list` does not reference the `old_list`. Thus, if any objects in the `old_list` are changed, the changes are not reflected in the `new_list`."
   ]
  },
  {
   "cell_type": "markdown",
   "metadata": {},
   "source": [
    "## Collections\n",
    "`collections` is a built-in Python module that implements specialized container data types providing alternatives to Python's general containers such as `dict`, `list`, `set`, and `tuple`."
   ]
  },
  {
   "cell_type": "markdown",
   "metadata": {},
   "source": [
    "\n",
    "#### `namedtuple()`\n",
    "The data stored in a normal `tuple` can only be accessed through indices. A `namedtuple` allows a user to name fields associated with the tuple data, which makes for more readable, self-documenting code. "
   ]
  },
  {
   "cell_type": "code",
   "execution_count": null,
   "metadata": {},
   "outputs": [
    {
     "name": "stdout",
     "output_type": "stream",
     "text": [
      "fruit(count=2, variety='HoneyCrisp', color='green') <class '__main__.fruit'>\n",
      "fruit(count=5, variety='Granny Smith', color='red') <class '__main__.fruit'>\n",
      "green\n",
      "Granny Smith\n"
     ]
    }
   ],
   "source": [
    "from collections import namedtuple\n",
    "\n",
    "fruit = namedtuple('fruit', 'count variety color')\n",
    "\n",
    "guava = fruit(count = 2, variety = 'HoneyCrisp', color = 'green')\n",
    "apple = fruit(count = 5, variety = 'Granny Smith', color = 'red')\n",
    "\n",
    "print(guava, type(guava))\n",
    "print(apple, type(apple))\n",
    "\n",
    "# each identifier can be called upon like attributes\n",
    "print(guava.color)\n",
    "print(apple.variety)"
   ]
  },
  {
   "cell_type": "markdown",
   "metadata": {},
   "source": [
    "#### `Counter()`\n",
    "`counter` is a `dict` subclass, which helps to count hashable objects. The elements are stored as dictionary keys while the object counts are stored as the value."
   ]
  },
  {
   "cell_type": "code",
   "execution_count": null,
   "metadata": {},
   "outputs": [
    {
     "name": "stdout",
     "output_type": "stream",
     "text": [
      "Counter({'a': 4, 'c': 4, 'b': 2, 'd': 2})\n",
      "Counter({5: 3, 7: 3, 1: 2, 9: 2, 6: 1, 3: 1, 2: 1})\n",
      "Counter({'lazy': 2, 'dog': 2, 'the': 1, 'jumped': 1, 'over': 1, 'another': 1})\n",
      "Counter({'b': 5, 'a': 3, 'c': 1, 'd': -2})\n",
      "[('lazy', 2), ('dog', 2), ('the', 1)]\n",
      "Counter({'lazy': 2, 'dog': 2, 'the': 1, 'jumped': 1, 'over': 1, 'another': 1}) <class 'collections.Counter'> 4643567088\n",
      "Counter({'dog': 3, 'the': 1, 'lazy': 1, 'jumped': 1, 'over': 1, 'another': 1}) <class 'collections.Counter'> 4643567088\n"
     ]
    }
   ],
   "source": [
    "from collections import Counter\n",
    "\n",
    "# string\n",
    "c = Counter('abcacdabcacd')\n",
    "print(c)\n",
    "\n",
    "# list\n",
    "lst = [5,6,7,1,3,9,9,1,2,5,5,7,7]\n",
    "c = Counter(lst)\n",
    "print(c)\n",
    "\n",
    "# sentence\n",
    "s = 'the lazy dog jumped over another lazy dog'\n",
    "w = s.split()\n",
    "c = Counter(w)\n",
    "print(c)\n",
    "\n",
    "# elements()\n",
    "c = Counter(a = 3, b = 5, c = 1, d = -2)\n",
    "sorted(c.elements()) # sorts elements by count descending\n",
    "print(c)\n",
    "\n",
    "# most_common([n])\n",
    "s = 'the lazy dog jumped over another lazy dog'\n",
    "w = s.split()\n",
    "c = Counter(w).most_common(3) # returns the 3 most common elements, as element/value tuples\n",
    "print(c)\n",
    "\n",
    "# subtract()\n",
    "s = 'the lazy dog jumped over another lazy dog'\n",
    "w = s.split()\n",
    "c = Counter(w)\n",
    "print(c, type(c), id(c))\n",
    "c.subtract({'lazy': 1, 'dog': -1}) # subtract() does not return the set but performs it in place, modifying the original counter object\n",
    "print(c, type(c), id(c))"
   ]
  },
  {
   "cell_type": "markdown",
   "metadata": {},
   "source": [
    "#### `defaultdict()`\n",
    "Dictionaries are an efficient way to store data for later retrieval having an unordered set of `key/value` pairs. `key` must be unique and immutable objects. This is simple if the values are `int` or `str`. However, if the values are in the form of collections like `lists` or `dicts`, the value must be initialized the first time a given `key` is used. `defaultdict` automates and simplifies this."
   ]
  },
  {
   "cell_type": "code",
   "execution_count": null,
   "metadata": {},
   "outputs": [
    {
     "name": "stdout",
     "output_type": "stream",
     "text": [
      "No key found.\n"
     ]
    }
   ],
   "source": [
    "# dictionary declaration\n",
    "fruits = {'apple': 300, 'guava': 200}\n",
    "fruits['guava']\n",
    "\n",
    "# dictionary call on an uninitialized `key`\n",
    "d = {}\n",
    "try:\n",
    "  print(d['A'])\n",
    "except KeyError:\n",
    "  print('No key found.')"
   ]
  },
  {
   "cell_type": "code",
   "execution_count": null,
   "metadata": {},
   "outputs": [
    {
     "data": {
      "text/plain": [
       "''"
      ]
     },
     "execution_count": 1162,
     "metadata": {},
     "output_type": "execute_result"
    }
   ],
   "source": [
    "from collections import defaultdict\n",
    "\n",
    "d = defaultdict(str)\n",
    "d['A']"
   ]
  },
  {
   "cell_type": "markdown",
   "metadata": {},
   "source": [
    "The `defaultdict` will create any items that you try to access provided that they do not yet exist. It is a `dict`-like object and provides all methods provided by a `dict`. The difference is that it takes the first argument, `default_factory`, as a default data type for the `dict`."
   ]
  },
  {
   "cell_type": "markdown",
   "metadata": {},
   "source": [
    "#### `OrderedDict()`\n",
    "An `OrderedDict` is a `dict` subclass that remembers teh order in which `keys` were first inserted. When iterating over an `OrderedDict`, the items are returned in the order the `keys` were added. Because an `OrderedDict` remembers its insertion order, it can be used in conjunction with sorting to sort a `dict`."
   ]
  },
  {
   "cell_type": "code",
   "execution_count": null,
   "metadata": {},
   "outputs": [
    {
     "name": "stdout",
     "output_type": "stream",
     "text": [
      "ITEMS:\n",
      "dict_items([('banana', 3), ('apple', 4), ('pear', 1), ('orange', 2)])\n",
      "\n",
      "SORTED by KEY:\n",
      "OrderedDict([('apple', 4), ('banana', 3), ('orange', 2), ('pear', 1)])\n",
      "\n",
      "SORTED by VALUE:\n",
      "OrderedDict([('pear', 1), ('orange', 2), ('banana', 3), ('apple', 4)])\n",
      "\n",
      "SORTED by KEY STR LENGTH:\n",
      "OrderedDict([('pear', 1), ('apple', 4), ('banana', 3), ('orange', 2)])\n"
     ]
    }
   ],
   "source": [
    "from collections import OrderedDict\n",
    "\n",
    "# dictionary\n",
    "d = {'banana': 3, 'apple': 4, 'pear': 1, 'orange': 2}\n",
    "\n",
    "print(\"ITEMS:\")\n",
    "print(d.items())\n",
    "# sorted dictionary by key\n",
    "print(\"\\nSORTED by KEY:\")\n",
    "print(OrderedDict(sorted(d.items(), key=lambda t: t[0]))) # t[0] orders by key\n",
    "\n",
    "# sorted by dictionary by value\n",
    "print(\"\\nSORTED by VALUE:\")\n",
    "print(OrderedDict(sorted(d.items(), key=lambda t: t[1]))) # t[1] orders by value\n",
    "\n",
    "# sorted dictionary by length of key string\n",
    "print(\"\\nSORTED by KEY STR LENGTH:\")\n",
    "print(OrderedDict(sorted(d.items(), key=lambda t: len(t[0])))) # len(t[0]) orders by length of key string "
   ]
  },
  {
   "cell_type": "markdown",
   "metadata": {},
   "source": [
    "When using `sorted()`, the `key` does not relate to `dict` but how the sort target--the first argument--should be sorted."
   ]
  },
  {
   "cell_type": "markdown",
   "metadata": {},
   "source": [
    "## Time and Date, `datetime`\n",
    "`datetime` helps to identify and process time-related elements like dates, hours, minutes, seconds, days of the week, months, years, etc. It offers methods for managing time zones and daylight savings times, and it can work with timestamp data."
   ]
  },
  {
   "cell_type": "markdown",
   "metadata": {},
   "source": [
    "#### `datetime` Classes\n",
    "There are five main object classes that are used in the `datetime` module.\n",
    "- `datetime` manipulates times and dates together (month, day, year, hour, second, microsecond)\n",
    "- `date` manipulates dates independent of time (month, day, year)\n",
    "- `time` manipulates time independent of date (hour, minute, second, microsecond)\n",
    "- `timedelta` is a duration of time used for manipulating dates and chronological measurements.\n",
    "- `tzinfo` is an abstract class dealing with time zones"
   ]
  },
  {
   "cell_type": "markdown",
   "metadata": {},
   "source": [
    "##### `datetime.datetime`\n",
    "`datetime` is both the module and a class within that module."
   ]
  },
  {
   "cell_type": "code",
   "execution_count": null,
   "metadata": {},
   "outputs": [
    {
     "name": "stdout",
     "output_type": "stream",
     "text": [
      "DATETIME:\n",
      "2023-07-30 12:32:45.373620\n",
      "<class 'datetime.datetime'>\n",
      "\n",
      "DATE:\n",
      "2023-07-30\n",
      "<class 'datetime.date'>\n"
     ]
    }
   ],
   "source": [
    "from datetime import datetime, date, time\n",
    "\n",
    "print(\"DATETIME:\")\n",
    "# get current date, now()\n",
    "datetime_object = datetime.now()\n",
    "print(datetime_object) # includes \"year-month-day hours:minutes:seconds:microseconds\"\n",
    "print(type(datetime_object))\n",
    "\n",
    "print(\"\\nDATE:\")\n",
    "# get current date, today()\n",
    "date_object = date.today()\n",
    "print(date_object)\n",
    "print(type(date_object))"
   ]
  },
  {
   "cell_type": "markdown",
   "metadata": {},
   "source": [
    "##### `strptime()` and `strftime()`\n",
    "`strptime()` reads strings with date/time information and converts them to `datetime` objects. It is capable of reading most conventional string formats for date and time data, but it can also be directed to interpret unconventional formats as long as they are defined. These patterns can be found [here](https://docs.python.org/2/library/datetime.html#strftime-and-strptime-behavior)."
   ]
  },
  {
   "cell_type": "code",
   "execution_count": null,
   "metadata": {},
   "outputs": [
    {
     "name": "stdout",
     "output_type": "stream",
     "text": [
      "Date: 2019-10-31 00:00:00\n",
      "Type: <class 'datetime.datetime'>\n",
      "\n",
      "Date: 2019-08-01 00:00:00\n",
      "Type: <class 'datetime.datetime'>\n"
     ]
    }
   ],
   "source": [
    "my_string = '2019-10-31'\n",
    "\n",
    "# create date object in given time format yyyy-mm-dd\n",
    "my_date = datetime.strptime(my_string, \"%Y-%m-%d\") # arg: target, intended output\n",
    "\n",
    "print(\"Date:\", my_date)\n",
    "print(\"Type:\", type(my_date))\n",
    "\n",
    "# another date string using a different convention\n",
    "another_string = '1 August, 2019'\n",
    "\n",
    "# create date object in given time format day, month, year\n",
    "another_date = datetime.strptime(another_string, \"%d %B, %Y\")\n",
    "\n",
    "print(\"\\nDate:\", another_date)\n",
    "print(\"Type:\", type(another_date))"
   ]
  },
  {
   "cell_type": "markdown",
   "metadata": {},
   "source": [
    "Time has been added to the date because a `datetime` object was created, which ***must*** include a date and a time. `00:00:00` is the default time assigned. Year, month, and day are stored as attributes that can be called."
   ]
  },
  {
   "cell_type": "code",
   "execution_count": null,
   "metadata": {},
   "outputs": [
    {
     "name": "stdout",
     "output_type": "stream",
     "text": [
      "Day: 31\n",
      "Month: 10\n",
      "Year: 2019\n"
     ]
    }
   ],
   "source": [
    "print(\"Day:\", my_date.day)\n",
    "print(\"Month:\", my_date.month)\n",
    "print(\"Year:\", my_date.year)"
   ]
  },
  {
   "cell_type": "markdown",
   "metadata": {},
   "source": [
    "#### The `calendar` Module\n",
    "`datetime` can return the day of the week using the `weekday()` function. Using the `calendar` module, this `weekday()` value can be converted to a day string."
   ]
  },
  {
   "cell_type": "code",
   "execution_count": null,
   "metadata": {},
   "outputs": [
    {
     "name": "stdout",
     "output_type": "stream",
     "text": [
      "<class 'calendar._localized_day'>\n",
      "Monday\n",
      "Tuesday\n",
      "Wednesday\n",
      "Thursday\n",
      "Friday\n",
      "Saturday\n",
      "Sunday\n",
      "\n",
      "Day of Week (number): 3\n",
      "Day of week (name): Thursday\n"
     ]
    }
   ],
   "source": [
    "import calendar\n",
    "\n",
    "# day_name object in calendar\n",
    "print(type(calendar.day_name))\n",
    "for day in calendar.day_name:\n",
    "  print(day)\n",
    "print(\"\")\n",
    "  \n",
    "# call the weekday function to return the weekday value\n",
    "weekday = my_date.weekday()\n",
    "print(\"Day of Week (number):\", weekday)\n",
    "print(\"Day of week (name):\", calendar.day_name[weekday])"
   ]
  },
  {
   "cell_type": "markdown",
   "metadata": {},
   "source": [
    "#### Hours and Minutes\n",
    "`hours` and `minutes` can be called upon similarly to the `month`, `year`, and `day` attributes. Below, the `now()` method returns the current date and time."
   ]
  },
  {
   "cell_type": "code",
   "execution_count": null,
   "metadata": {},
   "outputs": [
    {
     "name": "stdout",
     "output_type": "stream",
     "text": [
      "Hour: 13\n",
      "Minute: 39\n"
     ]
    }
   ],
   "source": [
    "print(\"Hour:\", datetime.now().hour)\n",
    "print(\"Minute:\", datetime.now().minute)"
   ]
  },
  {
   "cell_type": "markdown",
   "metadata": {},
   "source": [
    "#### Week of the Year\n",
    "The `isocalendar()` method returns a `tuple` with ISO year, week number, and weekday.\n",
    "> The International Organization for Standardization (ISO) date and time format is a standard way to express a numeric calendar date in a format that eliminates ambiguity between entities. It is used extensively by applications and machines to exchange date and time data without the uncertainly that comes when trying to communicate this data across international boundaries, diverse cultures, or different time zones."
   ]
  },
  {
   "cell_type": "code",
   "execution_count": null,
   "metadata": {},
   "outputs": [
    {
     "name": "stdout",
     "output_type": "stream",
     "text": [
      "datetime.IsoCalendarDate(year=2023, week=30, weekday=7)\n",
      "Year: 2023\n",
      "Week: 30\n",
      "Weekday: 7\n"
     ]
    }
   ],
   "source": [
    "# (ISO year, ISO week number, ISO weekday)\n",
    "iso_calendar = datetime.now().isocalendar()\n",
    "\n",
    "print(iso_calendar)\n",
    "print(\"Year:\", iso_calendar.year)\n",
    "print(\"Week:\", iso_calendar.week)\n",
    "print(\"Weekday:\", iso_calendar.weekday)"
   ]
  },
  {
   "cell_type": "markdown",
   "metadata": {},
   "source": [
    "#### Converting a Date Object into a Unix `timestamp` and Vice-Versa\n",
    "The Unix timestamp is a way to track time as a running total of seconds. This count starts at the Unix Epoch on January 1, 1970 at UTC. Therefore, the unix timestamp is merely the number of seconds between a particular date and the Unix Epoch. However, this point in time does not change based on location because it is tethered to UTC.\n",
    "\n",
    "On January 29, 2038, the Unix timestamp will cease to work due to a 32-bit overflow. Applications that rely on this timestamp will need to adopt a new convention or migrate to 64-bit systems."
   ]
  },
  {
   "cell_type": "code",
   "execution_count": null,
   "metadata": {},
   "outputs": [
    {
     "name": "stdout",
     "output_type": "stream",
     "text": [
      "DATE & TIME: 2023-07-30 14:01:27.871897\n",
      "TIMESTAMP: 1690740087.871897\n",
      "\n",
      "DATETIME: 2019-10-25 10:36:32.827300\n",
      "TYPE: <class 'datetime.datetime'>\n"
     ]
    }
   ],
   "source": [
    "# Conversion from datetime to Unix timestamp\n",
    "now = datetime.now()\n",
    "print(\"DATE & TIME:\", now)\n",
    "\n",
    "timestamp = datetime.timestamp(now)\n",
    "print(\"TIMESTAMP:\", timestamp)\n",
    "\n",
    "# Conversion from Unix timestamp and datetime\n",
    "timestamp = 1572014192.8273\n",
    "\n",
    "dt = datetime.fromtimestamp(timestamp)\n",
    "print(\"\\nDATETIME:\", dt)\n",
    "print(\"TYPE:\", type(dt))"
   ]
  },
  {
   "cell_type": "markdown",
   "metadata": {},
   "source": [
    "#### Measuring `timespan` with `timedelta` Object\n",
    "A `timedelta` object represents the amount of time between two dates or times. It can be used to measure time spans or manipulate dates or times by adding and subtracting from them. By default, `timedelta` object parameters are set to zero. "
   ]
  },
  {
   "cell_type": "code",
   "execution_count": null,
   "metadata": {},
   "outputs": [
    {
     "name": "stdout",
     "output_type": "stream",
     "text": [
      "14 days, 0:00:00\n",
      "<class 'datetime.timedelta'>\n",
      "14\n",
      "0\n",
      "0\n"
     ]
    }
   ],
   "source": [
    "from datetime import timedelta\n",
    "\n",
    "# create timedelta object with difference of 2 weeks\n",
    "d = timedelta(weeks = 2)\n",
    "\n",
    "print(d)\n",
    "print(type(d))\n",
    "print(d.days)\n",
    "print(d.seconds)\n",
    "print(d.microseconds)"
   ]
  },
  {
   "cell_type": "code",
   "execution_count": null,
   "metadata": {},
   "outputs": [
    {
     "name": "stdout",
     "output_type": "stream",
     "text": [
      "365 days, 0:00:00\n",
      "<class 'datetime.timedelta'>\n",
      "365\n"
     ]
    }
   ],
   "source": [
    "# create timedelta object with difference of 1 year\n",
    "y = timedelta(days=365)\n",
    "\n",
    "print(y)\n",
    "print(type(y))\n",
    "print(y.days)"
   ]
  },
  {
   "cell_type": "code",
   "execution_count": null,
   "metadata": {},
   "outputs": [
    {
     "name": "stdout",
     "output_type": "stream",
     "text": [
      "Today's date: 2023-07-30 14:01:27.871897\n",
      "Date after 15 days: 2023-08-14 14:01:27.871897\n",
      "Date 2 weeks ago: 2023-07-16 14:01:27.871897\n"
     ]
    }
   ],
   "source": [
    "print(\"Today's date:\", str(now))\n",
    "\n",
    "# add 15 days to current date\n",
    "add_days = now + timedelta(days = 15)\n",
    "print(\"Date after 15 days:\", add_days)\n",
    "\n",
    "# subtract 2 weeks from current date\n",
    "subtract_weeks = now - timedelta(weeks = 2)\n",
    "print(\"Date 2 weeks ago:\", subtract_weeks)"
   ]
  },
  {
   "cell_type": "markdown",
   "metadata": {},
   "source": [
    "A `timedelta` object is generated automatically when dates are subject to mathematical operations, such that the result is a duration."
   ]
  },
  {
   "cell_type": "code",
   "execution_count": null,
   "metadata": {},
   "outputs": [
    {
     "name": "stdout",
     "output_type": "stream",
     "text": [
      "Difference: 8 days\n",
      "Type: <class 'datetime.timedelta'>\n"
     ]
    }
   ],
   "source": [
    "date1 = date(2008, 8, 10)\n",
    "date2 = date(2008, 8, 18)\n",
    "\n",
    "# difference between 2 dates\n",
    "delta = date2 - date1\n",
    "print(\"Difference:\", delta.days, \"days\")\n",
    "print(\"Type:\", type(delta))"
   ]
  },
  {
   "cell_type": "code",
   "execution_count": null,
   "metadata": {},
   "outputs": [
    {
     "name": "stdout",
     "output_type": "stream",
     "text": [
      "Difference:  36 days, 10:04:20\n",
      "Type: <class 'datetime.timedelta'>\n"
     ]
    }
   ],
   "source": [
    "datetime1 = datetime(2017, 6, 21, 18, 25, 30)\n",
    "datetime2 = datetime(2017, 5, 16, 8, 21, 10)\n",
    "\n",
    "# difference between 2 datetimes\n",
    "delta = datetime1-datetime2\n",
    "print(\"Difference: \", delta)\n",
    "print(\"Type:\", type(delta))"
   ]
  },
  {
   "cell_type": "code",
   "execution_count": null,
   "metadata": {},
   "outputs": [],
   "source": []
  }
 ],
 "metadata": {
  "kernelspec": {
   "display_name": "main-dev",
   "language": "python",
   "name": "python3"
  },
  "language_info": {
   "codemirror_mode": {
    "name": "ipython",
    "version": 3
   },
   "file_extension": ".py",
   "mimetype": "text/x-python",
   "name": "python",
   "nbconvert_exporter": "python",
   "pygments_lexer": "ipython3",
   "version": "3.11.4"
  },
  "orig_nbformat": 4
 },
 "nbformat": 4,
 "nbformat_minor": 2
}
