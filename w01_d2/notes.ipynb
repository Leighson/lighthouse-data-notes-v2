{
 "cells": [
  {
   "cell_type": "markdown",
   "metadata": {},
   "source": [
    "# Python Basics"
   ]
  },
  {
   "cell_type": "markdown",
   "metadata": {},
   "source": [
    "## Lists\n",
    "\n",
    "`Lists` are created using square brackets `[ ]`. The values or items of the list are inserted between the brackets and separated by commas."
   ]
  },
  {
   "cell_type": "code",
   "execution_count": 838,
   "metadata": {},
   "outputs": [],
   "source": [
    "todo = [\"write blog post\", \"reply to email\", \"read in a book\"]"
   ]
  },
  {
   "cell_type": "markdown",
   "metadata": {},
   "source": [
    "#### Accessing Items\n",
    "\n",
    "List items can be accessed using its **index**. In this example, the `todo` list consists of three items. Indexing starts from the value `0`."
   ]
  },
  {
   "cell_type": "code",
   "execution_count": 839,
   "metadata": {},
   "outputs": [
    {
     "data": {
      "text/plain": [
       "'read in a book'"
      ]
     },
     "execution_count": 839,
     "metadata": {},
     "output_type": "execute_result"
    }
   ],
   "source": [
    "todo[2]"
   ]
  },
  {
   "cell_type": "markdown",
   "metadata": {},
   "source": [
    "#### List Operations\n",
    "\n",
    "To remove items from a list, use `del`:"
   ]
  },
  {
   "cell_type": "code",
   "execution_count": 840,
   "metadata": {},
   "outputs": [
    {
     "data": {
      "text/plain": [
       "['reply to email', 'read in a book']"
      ]
     },
     "execution_count": 840,
     "metadata": {},
     "output_type": "execute_result"
    }
   ],
   "source": [
    "del todo[0]\n",
    "todo"
   ]
  },
  {
   "cell_type": "markdown",
   "metadata": {},
   "source": [
    "To replace the `read in a book` task, the item can be accessed and overwritten using its index:"
   ]
  },
  {
   "cell_type": "code",
   "execution_count": 841,
   "metadata": {},
   "outputs": [
    {
     "data": {
      "text/plain": [
       "['reply to email', 'read 5-pages from the book']"
      ]
     },
     "execution_count": 841,
     "metadata": {},
     "output_type": "execute_result"
    }
   ],
   "source": [
    "todo[1] = 'read 5-pages from the book'\n",
    "todo"
   ]
  },
  {
   "cell_type": "markdown",
   "metadata": {},
   "source": [
    "To add new tasks to the end of the list, an item can be `appended`:"
   ]
  },
  {
   "cell_type": "code",
   "execution_count": 842,
   "metadata": {},
   "outputs": [
    {
     "data": {
      "text/plain": [
       "['reply to email',\n",
       " 'read 5-pages from the book',\n",
       " 'call the consultation service']"
      ]
     },
     "execution_count": 842,
     "metadata": {},
     "output_type": "execute_result"
    }
   ],
   "source": [
    "todo.append('call the consultation service')\n",
    "todo"
   ]
  },
  {
   "cell_type": "markdown",
   "metadata": {},
   "source": [
    "Lists can also be combined:"
   ]
  },
  {
   "cell_type": "code",
   "execution_count": 843,
   "metadata": {},
   "outputs": [
    {
     "data": {
      "text/plain": [
       "['reply to email',\n",
       " 'read 5-pages from the book',\n",
       " 'call the consultation service',\n",
       " 'buy grocery',\n",
       " 'wash car',\n",
       " 'borrow a book from the library']"
      ]
     },
     "execution_count": 843,
     "metadata": {},
     "output_type": "execute_result"
    }
   ],
   "source": [
    "# combining an old todo list with the new one\n",
    "old_todo = ['buy grocery', 'wash car', 'borrow a book from the library']\n",
    "new_todo = todo + old_todo\n",
    "new_todo"
   ]
  },
  {
   "cell_type": "markdown",
   "metadata": {},
   "source": [
    "The length of the list can be shown using the `len` function:"
   ]
  },
  {
   "cell_type": "code",
   "execution_count": 844,
   "metadata": {},
   "outputs": [
    {
     "data": {
      "text/plain": [
       "6"
      ]
     },
     "execution_count": 844,
     "metadata": {},
     "output_type": "execute_result"
    }
   ],
   "source": [
    "len(new_todo)"
   ]
  },
  {
   "cell_type": "markdown",
   "metadata": {},
   "source": [
    "A particular item can be evaluated using an `in` expression, which returns a `True` or `False`:"
   ]
  },
  {
   "cell_type": "code",
   "execution_count": 845,
   "metadata": {},
   "outputs": [
    {
     "data": {
      "text/plain": [
       "True"
      ]
     },
     "execution_count": 845,
     "metadata": {},
     "output_type": "execute_result"
    }
   ],
   "source": [
    "'wash car' in new_todo"
   ]
  },
  {
   "cell_type": "markdown",
   "metadata": {},
   "source": [
    "#### Lists of Lists\n",
    "\n",
    "Lists can also contain other lists."
   ]
  },
  {
   "cell_type": "code",
   "execution_count": 846,
   "metadata": {},
   "outputs": [
    {
     "data": {
      "text/plain": [
       "['Abder',\n",
       " '4.0',\n",
       " ['write blog post', 'grocery'],\n",
       " [['a', 'b', 'c', 'd', 'e', 'r'], ['number', 'todo']]]"
      ]
     },
     "execution_count": 846,
     "metadata": {},
     "output_type": "execute_result"
    }
   ],
   "source": [
    "complex_list = ['Abder', '4.0', ['write blog post', 'grocery'], [['a', 'b', 'c', 'd', 'e', 'r'], ['number', 'todo']]]\n",
    "complex_list"
   ]
  },
  {
   "cell_type": "markdown",
   "metadata": {},
   "source": [
    "#### The `for`-loops and Lists"
   ]
  },
  {
   "cell_type": "markdown",
   "metadata": {},
   "source": [
    "Lists can be assembled using loops:"
   ]
  },
  {
   "cell_type": "code",
   "execution_count": 847,
   "metadata": {},
   "outputs": [
    {
     "name": "stdout",
     "output_type": "stream",
     "text": [
      "a\n",
      "b\n",
      "d\n",
      "e\n",
      "r\n"
     ]
    },
    {
     "data": {
      "text/plain": [
       "['aaa', 'bbb', 'ddd', 'eee', 'rrr']"
      ]
     },
     "execution_count": 847,
     "metadata": {},
     "output_type": "execute_result"
    }
   ],
   "source": [
    "# list to repeat\n",
    "abder = ['a', 'b', 'd', 'e', 'r']\n",
    "\n",
    "# define new list\n",
    "new_list = []\n",
    "\n",
    "for r in abder:\n",
    "  print(r)\n",
    "  new_list.append(r * 3)\n",
    "  \n",
    "new_list"
   ]
  },
  {
   "cell_type": "markdown",
   "metadata": {},
   "source": [
    "## Dictionaries\n",
    "\n",
    "`Dictionaries` are similar to `lists` with the following differences:\n",
    "1. They are unordered sets.\n",
    "2. Keys are used to access items and not positions or indexes.\n",
    "The defining trait of `dictionaries` are its key-value pairs."
   ]
  },
  {
   "cell_type": "code",
   "execution_count": 848,
   "metadata": {},
   "outputs": [
    {
     "name": "stdout",
     "output_type": "stream",
     "text": [
      "{'paper': 'papier', 'pen': 'stylo', 'car': 'voiture', 'table': 'table', 'door': 'porte'}\n",
      "{'papier': 'papel', 'stylo': 'pluma', 'voiture': 'coche', 'table': 'mesa', 'porte': 'puerta'}\n"
     ]
    }
   ],
   "source": [
    "english_french = {'paper': 'papier', 'pen': 'stylo', 'car': 'voiture', 'table': 'table', 'door': 'porte'}\n",
    "print(english_french)\n",
    "\n",
    "french_spanish = {'papier': 'papel', 'stylo': 'pluma', 'voiture': 'coche', 'table': 'mesa', 'porte': 'puerta'}\n",
    "print(french_spanish)"
   ]
  },
  {
   "cell_type": "markdown",
   "metadata": {},
   "source": [
    "To call on a dictionary value, its key can be called similarly to how list values can be called by their indices."
   ]
  },
  {
   "cell_type": "code",
   "execution_count": 849,
   "metadata": {},
   "outputs": [
    {
     "data": {
      "text/plain": [
       "'stylo'"
      ]
     },
     "execution_count": 849,
     "metadata": {},
     "output_type": "execute_result"
    }
   ],
   "source": [
    "english_french['pen']"
   ]
  },
  {
   "cell_type": "markdown",
   "metadata": {},
   "source": [
    "Lacking an ***english to spanish*** dictionary, items in the ***english to french*** dictionary can be used to translate into french, which can then be translated using the ***french to spanish*** dictionary."
   ]
  },
  {
   "cell_type": "code",
   "execution_count": 850,
   "metadata": {},
   "outputs": [
    {
     "data": {
      "text/plain": [
       "'puerta'"
      ]
     },
     "execution_count": 850,
     "metadata": {},
     "output_type": "execute_result"
    }
   ],
   "source": [
    "french_spanish[english_french['door']]"
   ]
  },
  {
   "cell_type": "markdown",
   "metadata": {},
   "source": [
    "#### Dictionary Operations\n",
    "Length can be obtained similarly to lists."
   ]
  },
  {
   "cell_type": "code",
   "execution_count": 851,
   "metadata": {},
   "outputs": [
    {
     "data": {
      "text/plain": [
       "5"
      ]
     },
     "execution_count": 851,
     "metadata": {},
     "output_type": "execute_result"
    }
   ],
   "source": [
    "len(english_french)"
   ]
  },
  {
   "cell_type": "markdown",
   "metadata": {},
   "source": [
    "The deletion of an item is carried out through the `keys`."
   ]
  },
  {
   "cell_type": "code",
   "execution_count": 852,
   "metadata": {},
   "outputs": [
    {
     "data": {
      "text/plain": [
       "{'paper': 'papier', 'pen': 'stylo', 'car': 'voiture', 'table': 'table'}"
      ]
     },
     "execution_count": 852,
     "metadata": {},
     "output_type": "execute_result"
    }
   ],
   "source": [
    "del english_french['door']\n",
    "english_french"
   ]
  },
  {
   "cell_type": "markdown",
   "metadata": {},
   "source": [
    "We can check if `door` still exists in the dictionary."
   ]
  },
  {
   "cell_type": "code",
   "execution_count": 853,
   "metadata": {},
   "outputs": [
    {
     "name": "stdout",
     "output_type": "stream",
     "text": [
      "False\n",
      "True\n"
     ]
    }
   ],
   "source": [
    "print('door' in english_french)\n",
    "print('door' not in english_french)"
   ]
  },
  {
   "cell_type": "markdown",
   "metadata": {},
   "source": [
    "To copy a dictionary, the `copy` function can be used."
   ]
  },
  {
   "cell_type": "code",
   "execution_count": 854,
   "metadata": {},
   "outputs": [
    {
     "data": {
      "text/plain": [
       "{'paper': 'papier', 'pen': 'stylo', 'car': 'voiture', 'table': 'table'}"
      ]
     },
     "execution_count": 854,
     "metadata": {},
     "output_type": "execute_result"
    }
   ],
   "source": [
    "new_english_french = english_french.copy()\n",
    "new_english_french"
   ]
  },
  {
   "cell_type": "markdown",
   "metadata": {},
   "source": [
    "#### Nested Dictionaries\n",
    "Dictionaries can be of any type, including dictionaries."
   ]
  },
  {
   "cell_type": "code",
   "execution_count": 855,
   "metadata": {},
   "outputs": [
    {
     "name": "stdout",
     "output_type": "stream",
     "text": [
      "{'ID': {'name': 'Abder-Rahman', 'number': '1234'}}\n"
     ]
    }
   ],
   "source": [
    "student = {'ID': {'name': 'Abder-Rahman', 'number': '1234'}}\n",
    "print(student)"
   ]
  },
  {
   "cell_type": "markdown",
   "metadata": {},
   "source": [
    "#### Iterating over a Dictionary"
   ]
  },
  {
   "cell_type": "code",
   "execution_count": 856,
   "metadata": {},
   "outputs": [
    {
     "name": "stdout",
     "output_type": "stream",
     "text": [
      "paper\n",
      "pen\n",
      "car\n",
      "table\n"
     ]
    }
   ],
   "source": [
    "for word in english_french:\n",
    "  print(word)"
   ]
  },
  {
   "cell_type": "markdown",
   "metadata": {},
   "source": [
    "The `keys` in the result are not given in the same order as in the `english-french` dictionary. However..."
   ]
  },
  {
   "cell_type": "code",
   "execution_count": 857,
   "metadata": {},
   "outputs": [
    {
     "name": "stdout",
     "output_type": "stream",
     "text": [
      "KEYS:\n",
      "paper\n",
      "pen\n",
      "car\n",
      "table\n",
      "\n",
      "VALUES:\n",
      "papier\n",
      "stylo\n",
      "voiture\n",
      "table\n"
     ]
    }
   ],
   "source": [
    "print(\"KEYS:\")\n",
    "for key in english_french.keys():\n",
    "  print(key)\n",
    "  \n",
    "print()\n",
    "print(\"VALUES:\")\n",
    "for value in english_french.values():\n",
    "  print(value)"
   ]
  },
  {
   "cell_type": "code",
   "execution_count": 858,
   "metadata": {},
   "outputs": [
    {
     "name": "stdout",
     "output_type": "stream",
     "text": [
      "KEY , VALUES:\n",
      "paper , papier\n",
      "pen , stylo\n",
      "car , voiture\n",
      "table , table\n"
     ]
    }
   ],
   "source": [
    "print(\"KEY , VALUES:\")\n",
    "for key, value in english_french.items():\n",
    "  print(key, \",\", value)"
   ]
  },
  {
   "cell_type": "markdown",
   "metadata": {},
   "source": [
    "#### Alternative Ways of Creating Dictionaries"
   ]
  },
  {
   "cell_type": "code",
   "execution_count": 859,
   "metadata": {},
   "outputs": [
    {
     "data": {
      "text/plain": [
       "{'name': 'Abder-Rahman', 'number': 1234}"
      ]
     },
     "execution_count": 859,
     "metadata": {},
     "output_type": "execute_result"
    }
   ],
   "source": [
    "ID = dict(name = \"Abder-Rahman\", number = 1234)\n",
    "ID"
   ]
  },
  {
   "cell_type": "code",
   "execution_count": 860,
   "metadata": {},
   "outputs": [
    {
     "data": {
      "text/plain": [
       "{'name': 'Abder-Rahman', 'number': 1234}"
      ]
     },
     "execution_count": 860,
     "metadata": {},
     "output_type": "execute_result"
    }
   ],
   "source": [
    "ID = dict([('name', 'Abder-Rahman'), ('number', 1234)])\n",
    "ID"
   ]
  },
  {
   "cell_type": "code",
   "execution_count": 861,
   "metadata": {},
   "outputs": [
    {
     "data": {
      "text/plain": [
       "{'name': 'Abder-Rahman', 'number': 1234}"
      ]
     },
     "execution_count": 861,
     "metadata": {},
     "output_type": "execute_result"
    }
   ],
   "source": [
    "ID = dict(zip(['name', 'number'], ['Abder-Rahman', 1234])) # keys and values as Lists\n",
    "ID"
   ]
  },
  {
   "cell_type": "markdown",
   "metadata": {},
   "source": [
    "## Tuples\n",
    "\n",
    "Similar to `lists`, except for two differences:\n",
    "1. Tuples are immutable. Their contents nor their size cannot be changed, unless a copy is made of it.\n",
    "2. They are written in parentheses `( )`.\n",
    "\n",
    "`Tuples` consists of a set of ordered objects, which can be of any type and are accessed by indices (offset), as opposed to `Dictionaries` where items are accessed by `key`. Note that tuples store `references` to the objects they contain."
   ]
  },
  {
   "cell_type": "code",
   "execution_count": 862,
   "metadata": {},
   "outputs": [
    {
     "name": "stdout",
     "output_type": "stream",
     "text": [
      "1\n",
      "(31, 'abder', 4.0)\n",
      "(31, 'abder', 4.0)\n",
      "('ID', ('abder', 1234))\n"
     ]
    }
   ],
   "source": [
    "tup = (1)\n",
    "print(tup)\n",
    "\n",
    "tup = (31, 'abder', 4.0)\n",
    "print(tup)\n",
    "\n",
    "tup = 31, 'abder', 4.0\n",
    "print(tup)\n",
    "\n",
    "nested_tup = ('ID', ('abder', 1234))\n",
    "print(nested_tup)"
   ]
  },
  {
   "cell_type": "markdown",
   "metadata": {},
   "source": [
    "### Tuple Operations"
   ]
  },
  {
   "cell_type": "markdown",
   "metadata": {},
   "source": [
    "#### Concatenation\n",
    "Concatenation is a combination of `tuples` together."
   ]
  },
  {
   "cell_type": "code",
   "execution_count": 863,
   "metadata": {},
   "outputs": [
    {
     "name": "stdout",
     "output_type": "stream",
     "text": [
      "(1, 2, 3, 4, 5)\n",
      "(6, 7, 8, 9, 10)\n",
      "(1, 2, 3, 4, 5, 6, 7, 8, 9, 10)\n"
     ]
    }
   ],
   "source": [
    "tup1 = (1, 2, 3, 4, 5)\n",
    "print(tup1)\n",
    "\n",
    "tup2 = (6, 7, 8, 9, 10)\n",
    "print(tup2)\n",
    "\n",
    "tup = tup1 + tup2\n",
    "print(tup)"
   ]
  },
  {
   "cell_type": "markdown",
   "metadata": {},
   "source": [
    "#### Repetition\n",
    "Tuple repetition is carried out using the `*` operator."
   ]
  },
  {
   "cell_type": "code",
   "execution_count": 864,
   "metadata": {},
   "outputs": [
    {
     "data": {
      "text/plain": [
       "(1, 2, 3, 4, 5, 1, 2, 3, 4, 5, 1, 2, 3, 4, 5)"
      ]
     },
     "execution_count": 864,
     "metadata": {},
     "output_type": "execute_result"
    }
   ],
   "source": [
    "tup1 * 3"
   ]
  },
  {
   "cell_type": "markdown",
   "metadata": {},
   "source": [
    "#### Membership\n",
    "To check the membership of some item in a tuple, use `in`."
   ]
  },
  {
   "cell_type": "code",
   "execution_count": 865,
   "metadata": {},
   "outputs": [
    {
     "data": {
      "text/plain": [
       "False"
      ]
     },
     "execution_count": 865,
     "metadata": {},
     "output_type": "execute_result"
    }
   ],
   "source": [
    "7 in tup1"
   ]
  },
  {
   "cell_type": "markdown",
   "metadata": {},
   "source": [
    "#### Search\n",
    "Indicate where some item (by index) is located in the tuple using `index()`."
   ]
  },
  {
   "cell_type": "code",
   "execution_count": 866,
   "metadata": {},
   "outputs": [
    {
     "data": {
      "text/plain": [
       "4"
      ]
     },
     "execution_count": 866,
     "metadata": {},
     "output_type": "execute_result"
    }
   ],
   "source": [
    "tup1.index(5)"
   ]
  },
  {
   "cell_type": "markdown",
   "metadata": {},
   "source": [
    "#### Count\n",
    "Count the number of times an element exists in the tuple."
   ]
  },
  {
   "cell_type": "code",
   "execution_count": 867,
   "metadata": {},
   "outputs": [
    {
     "data": {
      "text/plain": [
       "4"
      ]
     },
     "execution_count": 867,
     "metadata": {},
     "output_type": "execute_result"
    }
   ],
   "source": [
    "tup3 = (65, 67, 5, 67, 34, 76, 67, 231, 98, 67)\n",
    "tup3.count(67)"
   ]
  },
  {
   "cell_type": "markdown",
   "metadata": {},
   "source": [
    "#### Index\n",
    "Indexing is the process of accessing a tuple element by index using a subscript."
   ]
  },
  {
   "cell_type": "code",
   "execution_count": 868,
   "metadata": {},
   "outputs": [
    {
     "data": {
      "text/plain": [
       "34"
      ]
     },
     "execution_count": 868,
     "metadata": {},
     "output_type": "execute_result"
    }
   ],
   "source": [
    "tup3[4]"
   ]
  },
  {
   "cell_type": "markdown",
   "metadata": {},
   "source": [
    "An index can also be negative, which counts from the right of the tuple. Negative indexing begins from `-1` naturally, since `-0` is equivalent to `0`."
   ]
  },
  {
   "cell_type": "code",
   "execution_count": 869,
   "metadata": {},
   "outputs": [
    {
     "data": {
      "text/plain": [
       "34"
      ]
     },
     "execution_count": 869,
     "metadata": {},
     "output_type": "execute_result"
    }
   ],
   "source": [
    "tup3[-6]"
   ]
  },
  {
   "cell_type": "markdown",
   "metadata": {},
   "source": [
    "A range of indices can be specified instead by slicing with a `:`."
   ]
  },
  {
   "cell_type": "code",
   "execution_count": 870,
   "metadata": {},
   "outputs": [
    {
     "name": "stdout",
     "output_type": "stream",
     "text": [
      "(65, 67, 5, 67, 34, 76, 67, 231, 98, 67)\n",
      "(34, 76, 67, 231, 98, 67)\n",
      "(65, 67, 5, 67)\n",
      "(67, 5)\n",
      "(98, 67)\n",
      "(65, 67, 5, 67, 34, 76, 67, 231)\n"
     ]
    }
   ],
   "source": [
    "print(tup3)\n",
    "print(tup3[4:])\n",
    "print(tup3[:4])\n",
    "print(tup3[1:3])\n",
    "print(tup3[-2:])\n",
    "print(tup3[:-2])"
   ]
  },
  {
   "cell_type": "markdown",
   "metadata": {},
   "source": [
    "## Conditional Statements\n",
    "Conditional statements in Python are: `if`, `elif`, and `else`.\n",
    "\n",
    "#### Branching Programs\n",
    "Unlike ***straight-line*** programs where the statements are executed in order of appearance, ***branching programs*** navigates to statements regardless of order. Conditional statements allow for such branching.\n",
    "\n",
    "#### Conditional Statement Structure\n",
    "A conditional statement consists of the following main parts:\n",
    "- a test that evaluates to either `true` or `false`\n",
    "- a block of code that runs if the test is `true`\n",
    "- (optional) a block of code if the test is `false`"
   ]
  },
  {
   "cell_type": "code",
   "execution_count": 871,
   "metadata": {},
   "outputs": [
    {
     "name": "stdout",
     "output_type": "stream",
     "text": [
      "x is NOT equal to 3\n",
      "That's it!\n"
     ]
    }
   ],
   "source": [
    "x = 0\n",
    "if x == 3:\n",
    "  print ('x is equal to 3')\n",
    "else:\n",
    "  print('x is NOT equal to 3')\n",
    "\n",
    "# make sure to be precise with indentation\n",
    "print('That\\'s it!')"
   ]
  },
  {
   "cell_type": "markdown",
   "metadata": {},
   "source": [
    "#### Nested Conditional Statements"
   ]
  },
  {
   "cell_type": "code",
   "execution_count": 872,
   "metadata": {},
   "outputs": [
    {
     "name": "stdout",
     "output_type": "stream",
     "text": [
      "Student lacks the necessary requirements to take the Data Science course.\n"
     ]
    }
   ],
   "source": [
    "if x == 'Computer Science I':\n",
    "  if x == 'Computer Science II':\n",
    "    print(\"Student can take the Data Structure course.\")\n",
    "else:\n",
    "  print(\"Student lacks the necessary requirements to take the Data Science course.\")"
   ]
  },
  {
   "cell_type": "markdown",
   "metadata": {},
   "source": [
    "#### Compound Boolean Expressions\n",
    "Sometimes more than one boolean expression in the same test is required.\n",
    "\n",
    "##### Python Boolean Expressions\n",
    "`or` : the following statement runs if any expression is `True`  \n",
    "`and` : all the expressions need to be `True` for the following statement to run  \n",
    "`not` : the expression is `False` if it evaluates to `True`, and vice-versa"
   ]
  },
  {
   "cell_type": "code",
   "execution_count": 873,
   "metadata": {},
   "outputs": [
    {
     "name": "stdout",
     "output_type": "stream",
     "text": [
      "c is the smallest number\n",
      "x is not in the list\n"
     ]
    }
   ],
   "source": [
    "# example of the `and` expression\n",
    "a = 5\n",
    "b = 6\n",
    "c = 4\n",
    "\n",
    "if a < b and a < c:\n",
    "  print('a is the smallest number')\n",
    "elif b < c:\n",
    "  print(\"b is the smallest number\")\n",
    "else:\n",
    "  print(\"c is the smallest number\")\n",
    "\n",
    "# example of the `not` expression\n",
    "l = [1, 2, 3, 4, 5]\n",
    "x = 13\n",
    "if x not in l:\n",
    "  print(\"x is not in the list\")"
   ]
  },
  {
   "cell_type": "markdown",
   "metadata": {},
   "source": []
  },
  {
   "cell_type": "markdown",
   "metadata": {},
   "source": [
    "## Python Loops\n",
    "\n",
    "#### `while` loops\n",
    "In this kind of iteration, as long as the test evaluates as `True`, the statement or block of statements will keep executing."
   ]
  },
  {
   "cell_type": "code",
   "execution_count": 874,
   "metadata": {},
   "outputs": [
    {
     "name": "stdout",
     "output_type": "stream",
     "text": [
      "Water the flower # 1\n",
      "Water the flower # 2\n",
      "Water the flower # 3\n",
      "Water the flower # 4\n",
      "Water the flower # 5\n",
      "Water the flower # 6\n",
      "Water the flower # 7\n",
      "Water the flower # 8\n",
      "Water the flower # 9\n",
      "Water the flower # 10\n"
     ]
    }
   ],
   "source": [
    "flowers = 1\n",
    "while flowers <= 10:\n",
    "  print(\"Water the flower # \" + str(flowers))\n",
    "  flowers = flowers + 1"
   ]
  },
  {
   "cell_type": "markdown",
   "metadata": {},
   "source": [
    "#### `for` Loops\n",
    "This is an iteration that steps through the items of an ***ordered sequence*** such as `lists`, `dictionaries`, `tuples`, `strings`, etc."
   ]
  },
  {
   "cell_type": "code",
   "execution_count": 875,
   "metadata": {},
   "outputs": [
    {
     "name": "stdout",
     "output_type": "stream",
     "text": [
      "This language is in the list: Arabic\n",
      "This language is in the list: English\n",
      "This language is in the list: French\n",
      "This language is in the list: Spanish\n"
     ]
    }
   ],
   "source": [
    "languages = ['Arabic', 'English', 'French', 'Spanish']\n",
    "counter = 0\n",
    "for lang in languages:\n",
    "  print(\"This language is in the list: \" + lang)\n",
    "  counter = counter + 1"
   ]
  },
  {
   "cell_type": "markdown",
   "metadata": {},
   "source": [
    "#### Statements Used in `while` and `for` Loops\n",
    "\n",
    "##### `break`\n",
    "`break` causes the loop to terminate, and program execution is continued on the next statement."
   ]
  },
  {
   "cell_type": "code",
   "execution_count": 876,
   "metadata": {},
   "outputs": [
    {
     "name": "stdout",
     "output_type": "stream",
     "text": [
      "[1, 2, 3, 4, 5, 6, 7, 8, 9, 10]\n"
     ]
    }
   ],
   "source": [
    "# store a set of numbers in increasing values\n",
    "i = 1\n",
    "numbers = []\n",
    "while i < 11:\n",
    "  numbers.append(i)\n",
    "  i += 1\n",
    "\n",
    "print(numbers)"
   ]
  },
  {
   "cell_type": "code",
   "execution_count": 877,
   "metadata": {},
   "outputs": [
    {
     "name": "stdout",
     "output_type": "stream",
     "text": [
      "I'm # 1\n",
      "I'm # 2\n",
      "I'm # 3\n",
      "Sorry, I had to quit the loop when the value became 4.\n"
     ]
    }
   ],
   "source": [
    "value = 1\n",
    "while value in numbers:\n",
    "  if value == 4:\n",
    "    break # this will break the `while` loop before the `print` statement runs\n",
    "  print(\"I\\'m # \" + str(value))\n",
    "  value += 1\n",
    "\n",
    "print(f\"Sorry, I had to quit the loop when the value became {value}.\")"
   ]
  },
  {
   "cell_type": "markdown",
   "metadata": {},
   "source": [
    "##### `continue`\n",
    "`continue` returns the loop, ignoring any statements in the loop afterward."
   ]
  },
  {
   "cell_type": "code",
   "execution_count": 878,
   "metadata": {},
   "outputs": [
    {
     "name": "stdout",
     "output_type": "stream",
     "text": [
      "I'm # 1\n",
      "I'm # 2\n",
      "I'm # 3\n",
      "I'm # 4\n",
      "I have reached the last statement in the program and need to terminate.\n"
     ]
    }
   ],
   "source": [
    "value = 1\n",
    "while value in numbers:\n",
    "  if value < 5:\n",
    "    print(\"I\\'m # \" + str(value))\n",
    "    value += 1\n",
    "    continue # this will make sure that the `print` statement below will never be seen\n",
    "    print(\"I\\'m in the `if`-condition, why are you ignoring me?\")\n",
    "  elif value == 5:\n",
    "    break\n",
    "\n",
    "print(\"I have reached the last statement in the program and need to terminate.\")"
   ]
  },
  {
   "cell_type": "markdown",
   "metadata": {},
   "source": [
    "##### `pass`\n",
    "\n",
    "`pass` is a `null` statement for loops. It doesn't do anything other than act as placeholders."
   ]
  },
  {
   "cell_type": "code",
   "execution_count": 879,
   "metadata": {},
   "outputs": [
    {
     "name": "stdout",
     "output_type": "stream",
     "text": [
      "I've reached the last statement in the program and need to terminate.\n"
     ]
    }
   ],
   "source": [
    "value = 1\n",
    "for value in numbers:\n",
    "  # if `pass` is not present here, the program will throw an error\n",
    "  pass\n",
    "\n",
    "print(\"I've reached the last statement in the program and need to terminate.\")"
   ]
  },
  {
   "cell_type": "markdown",
   "metadata": {},
   "source": [
    "##### `else`\n",
    "`else` will contain a block of statements to run when a loop exits naturally and not by a `break`."
   ]
  },
  {
   "cell_type": "code",
   "execution_count": 880,
   "metadata": {},
   "outputs": [
    {
     "name": "stdout",
     "output_type": "stream",
     "text": [
      "I'm # 1\n",
      "I'm # 2\n",
      "I'm # 3\n",
      "I'm # 4\n",
      "I'm # 5\n",
      "I'm # 6\n",
      "I'm # 7\n",
      "I'm # 8\n",
      "I'm # 9\n",
      "I'm # 10\n",
      "I'm part of the `else` statement block.\n",
      "I'm also part of the `else` statement block.\n"
     ]
    }
   ],
   "source": [
    "value = 1\n",
    "while value in numbers:\n",
    "  print(\"I\\'m # \" + str(value))\n",
    "  value += 1\n",
    "else:\n",
    "  print(\"I\\'m part of the `else` statement block.\")\n",
    "  print(\"I\\'m also part of the `else` statement block.\")"
   ]
  },
  {
   "cell_type": "markdown",
   "metadata": {},
   "source": [
    "## Python Functions\n",
    "***Functions*** are composed of a set of instructions combined together to get some result (achieve some task) and are executed by calling them--a ***function call***. Results in Python can either be the output of some computation in the `function` or `None`. Those functions can be either ***built-in*** functions or ***user-defined*** functions. Functions defined within `classes` are the called `methods`.  \n",
    "\n",
    "#### Defining Functions\n",
    "***User-defined*** functions are initialized with `def`. Optional ***parameters*** are ***arguments*** that can be passed into the function at the time of its calling. These arguments can then be used in the statements within the function body.\n",
    "\n",
    "The `return` statement is an optional statement, which a value can be returned to the caller. If no `return` value is identified, then a `None` is returned."
   ]
  },
  {
   "cell_type": "code",
   "execution_count": 881,
   "metadata": {},
   "outputs": [
    {
     "name": "stdout",
     "output_type": "stream",
     "text": [
      "FIRST EXAMPLE:\n",
      "Abder\n",
      "\n",
      "SECOND EXAMPLE: \n",
      "List \"inside\" the function is:  [1, 2, 3, 4, 5, 8, 13]\n",
      "List \"outside\" the function is:  [1, 2, 3, 4, 5, 8, 13]\n",
      "\n",
      "THIRD EXAMPLE:\n",
      "8 + 4 = 12\n",
      "8 + 4 = 4\n",
      "8 + 4 = 32\n",
      "8 + 4 = 2\n"
     ]
    }
   ],
   "source": [
    "# a simple `print` example\n",
    "print(\"FIRST EXAMPLE:\")\n",
    "employee_name = 'Abder'\n",
    "def print_name(name):\n",
    "  print(name)\n",
    "\n",
    "print_name(employee_name)\n",
    "\n",
    "# another example\n",
    "print(\"\\nSECOND EXAMPLE: \")\n",
    "numbers_list = [1, 2, 3, 4, 5]\n",
    "def insert_numbers(numbers_list):\n",
    "  numbers_list.insert(5, 8)\n",
    "  numbers_list.insert(6, 13)\n",
    "  print(\"List \\\"inside\\\" the function is: \", numbers_list)\n",
    "  return\n",
    "\n",
    "insert_numbers(numbers_list)\n",
    "print(\"List \\\"outside\\\" the function is: \", numbers_list)\n",
    "\n",
    "# calculator\n",
    "print(\"\\nTHIRD EXAMPLE:\")\n",
    "def add(x, y):\n",
    "  return x + y\n",
    "def subtract(x, y):\n",
    "  return x - y\n",
    "def multiply(x, y):\n",
    "  return x * y\n",
    "def divide(x, y):\n",
    "  return x / y\n",
    "\n",
    "x, y = 8, 4\n",
    "\n",
    "print(f\"{x} + {y} = {add(x, y)}\")\n",
    "print(f\"{x} + {y} = {subtract(x, y)}\")\n",
    "print(f\"{x} + {y} = {multiply(x, y)}\")\n",
    "print(f\"{x} + {y} = {int(divide(x, y))}\") # int() to prevent a float from being returned"
   ]
  },
  {
   "cell_type": "markdown",
   "metadata": {},
   "source": [
    "## Lambda Functions\n",
    "A `lambda` function is a special type of function without a function name. To call it, it must be passed onto a variable, from which it can then be called with parentheses `()`."
   ]
  },
  {
   "cell_type": "code",
   "execution_count": 882,
   "metadata": {},
   "outputs": [
    {
     "name": "stdout",
     "output_type": "stream",
     "text": [
      "Hello World\n"
     ]
    }
   ],
   "source": [
    "# declare the lambda function\n",
    "greet = lambda : print(\"Hello World\")\n",
    "\n",
    "# call the lambda function\n",
    "greet()\n",
    "\n",
    "# Output: Hello World"
   ]
  },
  {
   "cell_type": "markdown",
   "metadata": {},
   "source": [
    "#### `lambda` Function with an Argument"
   ]
  },
  {
   "cell_type": "code",
   "execution_count": 883,
   "metadata": {},
   "outputs": [
    {
     "name": "stdout",
     "output_type": "stream",
     "text": [
      "Hey there, Delilah\n"
     ]
    }
   ],
   "source": [
    "# `lambda` that accepts one argument\n",
    "greet_user = lambda name : print(\"Hey there,\", name)\n",
    "\n",
    "# `lambda` call\n",
    "greet_user(\"Delilah\")\n",
    "\n",
    "# Output: Het there, Delilah"
   ]
  },
  {
   "cell_type": "markdown",
   "metadata": {},
   "source": [
    "## Sets\n",
    "A `set` is similar to `list` but with differences:\n",
    "- Sets are unordered.\n",
    "- Set elements are unique, because duplicate elements are not allowed.\n",
    "- Sets are mutable, but its items must be immutable.\n",
    "A `set` can be created in two ways...\n",
    "#### `set()`\n",
    "A `set` defined as a function is analogous to using the `.extend()` method."
   ]
  },
  {
   "cell_type": "code",
   "execution_count": 884,
   "metadata": {},
   "outputs": [
    {
     "name": "stdout",
     "output_type": "stream",
     "text": [
      "{'baz', 'foo', 'quix', 'bar'}\n",
      "{'baz', 'foo', 'quix', 'bar'}\n"
     ]
    }
   ],
   "source": [
    "# defined as a function\n",
    "x = set(['foo', 'bar', 'baz', 'foo', 'quix']) # list\n",
    "print(x)\n",
    "\n",
    "x = set(('foo', 'bar', 'baz', 'foo', 'quix')) # tuple\n",
    "print(x) "
   ]
  },
  {
   "cell_type": "markdown",
   "metadata": {},
   "source": [
    "`strings` are also iterable, so it can be passed to a `set()` function as well."
   ]
  },
  {
   "cell_type": "code",
   "execution_count": 885,
   "metadata": {},
   "outputs": [
    {
     "name": "stdout",
     "output_type": "stream",
     "text": [
      "['q', 'u', 'u', 'x']\n",
      "{'u', 'q', 'x'}\n"
     ]
    }
   ],
   "source": [
    "s = 'quux'\n",
    "print(list(s))\n",
    "print(set(s)) # notice how this function returns no duplicates"
   ]
  },
  {
   "cell_type": "markdown",
   "metadata": {},
   "source": [
    "#### `set` defined by curly braces `{}`\n",
    "When a `set` is defined this way, each item becomes a distinct element of the set, even if it is iterable. This behavior is similar to that of the `.append()` list method."
   ]
  },
  {
   "cell_type": "code",
   "execution_count": 886,
   "metadata": {},
   "outputs": [
    {
     "name": "stdout",
     "output_type": "stream",
     "text": [
      "{'baz', 'foo', 'qux', 'bar'}\n",
      "{'u', 'q', 'x'}\n"
     ]
    }
   ],
   "source": [
    "x = {'foo', 'bar', 'baz', 'foo', 'qux'}\n",
    "print(x)\n",
    "\n",
    "x = {'q', 'u', 'u', 'x'}\n",
    "print(x)"
   ]
  },
  {
   "cell_type": "code",
   "execution_count": 887,
   "metadata": {},
   "outputs": [
    {
     "name": "stdout",
     "output_type": "stream",
     "text": [
      "{'foo'}\n",
      "{'f', 'o'}\n",
      "<class 'set'>\n",
      "<class 'dict'>\n",
      "<class 'set'>\n"
     ]
    }
   ],
   "source": [
    "# observe the difference between the two `set` definitions\n",
    "print({'foo'})\n",
    "print(set('foo'))\n",
    "\n",
    "# how about the types\n",
    "x = set()\n",
    "print(type(x))\n",
    "\n",
    "x = {} # an empty set of curly brackets defaults to a dict rather than a set\n",
    "print(type(x))\n",
    "\n",
    "x = {'foo'} # but passing an object will implicitly define it as a set\n",
    "print(type(x))"
   ]
  },
  {
   "cell_type": "markdown",
   "metadata": {},
   "source": [
    "#### Set Size and Membership"
   ]
  },
  {
   "cell_type": "code",
   "execution_count": 888,
   "metadata": {},
   "outputs": [
    {
     "name": "stdout",
     "output_type": "stream",
     "text": [
      "3\n",
      "True\n",
      "False\n"
     ]
    }
   ],
   "source": [
    "# defining a `set`\n",
    "x = {'foo', 'bar', 'baz'}\n",
    "\n",
    "print(len(x))\n",
    "print('bar' in x)\n",
    "print('qux' in x)"
   ]
  },
  {
   "cell_type": "markdown",
   "metadata": {},
   "source": [
    "#### Operating on a `set`\n",
    "Many of the operations that can be used for Python's other composite data types don't make sense for sets. Sets can't be indexed or sliced. Python provides a whole host of operations on set objects that generally mimic the operations that are defined for mathematical sets.\n",
    "\n",
    "##### Operators vs Methods\n",
    "Most `set` operations can be performed in two different ways:\n",
    "- operators\n",
    "- methods"
   ]
  },
  {
   "cell_type": "code",
   "execution_count": 889,
   "metadata": {},
   "outputs": [],
   "source": [
    "x1 = {'foo', 'bar', 'baz'}\n",
    "x2 = {'baz', 'qux', 'quux'}"
   ]
  },
  {
   "cell_type": "markdown",
   "metadata": {},
   "source": [
    "##### `union()` and `|`"
   ]
  },
  {
   "cell_type": "markdown",
   "metadata": {},
   "source": [
    "`union` will return all values."
   ]
  },
  {
   "cell_type": "code",
   "execution_count": 890,
   "metadata": {},
   "outputs": [
    {
     "name": "stdout",
     "output_type": "stream",
     "text": [
      "{'baz', 'foo', 'quux', 'bar', 'qux'}\n",
      "{'baz', 'foo', 'quux', 'bar', 'qux'}\n"
     ]
    }
   ],
   "source": [
    "print(x1 | x2) # this will only work with sets\n",
    "print(x1.union(x2)) # union also converts its arguments to a set, x2 doesn't necessarily need to be set"
   ]
  },
  {
   "cell_type": "markdown",
   "metadata": {},
   "source": [
    "##### `intersection()` and `&`\n",
    "\n"
   ]
  },
  {
   "cell_type": "markdown",
   "metadata": {},
   "source": [
    "`intersection` returns the values that are the same in all sets being compared."
   ]
  },
  {
   "cell_type": "code",
   "execution_count": 891,
   "metadata": {},
   "outputs": [
    {
     "name": "stdout",
     "output_type": "stream",
     "text": [
      "{1, 2, 3, 4, 5, 6, 7}\n",
      "{1, 2, 3, 4, 5, 6, 7}\n"
     ]
    }
   ],
   "source": [
    "a = {1, 2, 3, 4}\n",
    "b = {2, 3, 4, 5}\n",
    "c = {3, 4, 5, 6}\n",
    "d = {4, 5, 6, 7}\n",
    "\n",
    "# to recap unions\n",
    "print(a.union(b, c, d))\n",
    "print(a | b | c | d)"
   ]
  },
  {
   "cell_type": "code",
   "execution_count": 892,
   "metadata": {},
   "outputs": [
    {
     "name": "stdout",
     "output_type": "stream",
     "text": [
      "{2, 3, 4}\n",
      "{4}\n",
      "{3, 4}\n"
     ]
    }
   ],
   "source": [
    "print(a.intersection(b))\n",
    "print(a.intersection(b, c, d))\n",
    "print(a & b & c)"
   ]
  },
  {
   "cell_type": "markdown",
   "metadata": {},
   "source": [
    "##### `difference()` and `-`\n",
    "`difference` returns the set of all elements that are in the reference set but not in the comparison set."
   ]
  },
  {
   "cell_type": "code",
   "execution_count": 893,
   "metadata": {},
   "outputs": [
    {
     "name": "stdout",
     "output_type": "stream",
     "text": [
      "{'baz', 'foo', 'bar'} and {'baz', 'quux', 'qux'}\n",
      "{'foo', 'bar'}\n",
      "{'foo', 'bar'}\n"
     ]
    }
   ],
   "source": [
    "print(x1, \"and\", x2)\n",
    "print(x1.difference(x2))\n",
    "print(x1 - x2)"
   ]
  },
  {
   "cell_type": "markdown",
   "metadata": {},
   "source": [
    "##### `symmetric_difference()` and `^`\n",
    "`symmetric_difference` returns the set of all elements in the reference sets and the comparison set. It is equivalent to the `not` of the `intersection` of the same sets."
   ]
  },
  {
   "cell_type": "code",
   "execution_count": 894,
   "metadata": {},
   "outputs": [
    {
     "name": "stdout",
     "output_type": "stream",
     "text": [
      "{'baz', 'foo', 'bar'} and {'baz', 'quux', 'qux'}\n",
      "{'quux', 'qux', 'foo', 'bar'}\n",
      "{'quux', 'qux', 'foo', 'bar'}\n"
     ]
    }
   ],
   "source": [
    "print(x1, \"and\", x2)\n",
    "print(x1.symmetric_difference(x2))\n",
    "print(x1 ^ x2)"
   ]
  },
  {
   "cell_type": "code",
   "execution_count": 895,
   "metadata": {},
   "outputs": [
    {
     "name": "stdout",
     "output_type": "stream",
     "text": [
      "{1, 2, 3, 4} and {2, 3, 4, 5} and {3, 4, 5, 6}\n",
      "{1, 3, 4, 6}\n"
     ]
    }
   ],
   "source": [
    "print(a, \"and\", b, \"and\", c)\n",
    "print(a ^ b ^ c) # evaluates the symmetric difference between a and then b, and then the resulting set with set c"
   ]
  },
  {
   "cell_type": "markdown",
   "metadata": {},
   "source": [
    "##### `disjoint()`\n",
    "Evalulates whether or not two sets have any elements in common. Returns a `boolean`."
   ]
  },
  {
   "cell_type": "code",
   "execution_count": 896,
   "metadata": {},
   "outputs": [
    {
     "name": "stdout",
     "output_type": "stream",
     "text": [
      "{'baz', 'foo', 'bar'} and {'baz', 'quux', 'qux'}\n",
      "False\n",
      "True\n"
     ]
    }
   ],
   "source": [
    "print(x1, \"and\", x2)\n",
    "print(x1.isdisjoint(x2))\n",
    "\n",
    "x2 - {\"baz\"}\n",
    "print(x1.isdisjoint(x2 - {\"baz\"}))"
   ]
  },
  {
   "cell_type": "markdown",
   "metadata": {},
   "source": [
    "##### `issubset()` and `<=`\n",
    "Determine if one set is a `subset` of the other."
   ]
  },
  {
   "cell_type": "code",
   "execution_count": 897,
   "metadata": {},
   "outputs": [
    {
     "name": "stdout",
     "output_type": "stream",
     "text": [
      "{'baz', 'foo', 'bar'} and {'baz', 'quux', 'qux'}\n",
      "True\n",
      "False\n"
     ]
    }
   ],
   "source": [
    "print(x1, \"and\", x2)\n",
    "print(x1.issubset({'foo', 'bar', 'baz', 'qux', 'quux'}))\n",
    "print(x1 <= x2)"
   ]
  },
  {
   "cell_type": "markdown",
   "metadata": {},
   "source": [
    "##### A ***proper subset*** (`<`)\n",
    "Determines whether one set is a proper subset of the other. A proper subset is the same as a subset, except that the sets cannot be identical."
   ]
  },
  {
   "cell_type": "code",
   "execution_count": 898,
   "metadata": {},
   "outputs": [
    {
     "name": "stdout",
     "output_type": "stream",
     "text": [
      "True\n",
      "False\n",
      "True\n"
     ]
    }
   ],
   "source": [
    "x3 = {'foo', 'bar'}\n",
    "x4 = {'foo', 'bar', 'baz'}\n",
    "print(x3 < x4)\n",
    "\n",
    "x3 = x3 | {'baz'}\n",
    "print(x3 < x4)\n",
    "print(x3 <= x4)"
   ]
  },
  {
   "cell_type": "markdown",
   "metadata": {},
   "source": [
    "##### `issuperset()` and `>=`\n",
    "Determine whether one set is a superset of the other."
   ]
  },
  {
   "cell_type": "code",
   "execution_count": 899,
   "metadata": {},
   "outputs": [
    {
     "name": "stdout",
     "output_type": "stream",
     "text": [
      "True\n",
      "True\n"
     ]
    }
   ],
   "source": [
    "x3 = {'foo', 'bar'}\n",
    "x4 = {'foo', 'bar', 'baz'}\n",
    "print(x4.issuperset(x3))\n",
    "print(x4 >= x3)"
   ]
  },
  {
   "cell_type": "markdown",
   "metadata": {},
   "source": [
    "A ***proper*** `superset` works similarly to how a ***proper*** `subset` relates to a `subset`."
   ]
  },
  {
   "cell_type": "markdown",
   "metadata": {},
   "source": [
    "#### Modifying a `set`\n",
    "Although the elements contained in a `set` must be of an immutable type, the `set` itself can be modified."
   ]
  },
  {
   "cell_type": "code",
   "execution_count": 900,
   "metadata": {},
   "outputs": [],
   "source": [
    "x = {'foo', 'bar', 'baz'}"
   ]
  },
  {
   "cell_type": "markdown",
   "metadata": {},
   "source": [
    "##### `x.add()`\n",
    "Adds an element to a `set`. The element must be a single immutable object."
   ]
  },
  {
   "cell_type": "code",
   "execution_count": 901,
   "metadata": {},
   "outputs": [
    {
     "name": "stdout",
     "output_type": "stream",
     "text": [
      "{'baz', 'foo', 'quz', 'bar'}\n"
     ]
    }
   ],
   "source": [
    "x.add('quz')\n",
    "print(x)"
   ]
  },
  {
   "cell_type": "markdown",
   "metadata": {},
   "source": [
    "##### `x.remove()`\n",
    "Removes an element from a `set`. The element must exist in the `set`, otherwise Python will raise an exception."
   ]
  },
  {
   "cell_type": "code",
   "execution_count": 902,
   "metadata": {},
   "outputs": [
    {
     "name": "stdout",
     "output_type": "stream",
     "text": [
      "{'baz', 'foo', 'quz', 'bar'}\n",
      "{'foo', 'quz', 'bar'}\n"
     ]
    }
   ],
   "source": [
    "print(x)\n",
    "x.remove('baz')\n",
    "print(x)"
   ]
  },
  {
   "cell_type": "markdown",
   "metadata": {},
   "source": [
    "##### `x.discard()`\n",
    "Removes an element from a `set`. Unlike `x.remove()`, this method does not raise an exception."
   ]
  },
  {
   "cell_type": "code",
   "execution_count": 903,
   "metadata": {},
   "outputs": [
    {
     "name": "stdout",
     "output_type": "stream",
     "text": [
      "{'foo', 'quz', 'bar'}\n",
      "{'foo', 'quz', 'bar'}\n"
     ]
    }
   ],
   "source": [
    "print(x)\n",
    "x.discard('y')\n",
    "print(x)"
   ]
  },
  {
   "cell_type": "markdown",
   "metadata": {},
   "source": [
    "##### `x.pop()`\n",
    "Removes a random element from a `set` and returns it. If the `set` is empty, Python will raise an exception."
   ]
  },
  {
   "cell_type": "code",
   "execution_count": 904,
   "metadata": {},
   "outputs": [
    {
     "name": "stdout",
     "output_type": "stream",
     "text": [
      "foo\n",
      "{'quz', 'bar'}\n"
     ]
    }
   ],
   "source": [
    "print(x.pop())\n",
    "print(x)"
   ]
  },
  {
   "cell_type": "markdown",
   "metadata": {},
   "source": [
    "##### `x.clear()`\n",
    "Clears a `set`. In other words, `x.clear()` removes all elements for the `set`, *x*."
   ]
  },
  {
   "cell_type": "code",
   "execution_count": 905,
   "metadata": {},
   "outputs": [
    {
     "name": "stdout",
     "output_type": "stream",
     "text": [
      "{'quz', 'bar'}\n",
      "set()\n"
     ]
    }
   ],
   "source": [
    "print(x)\n",
    "x.clear()\n",
    "print(x)"
   ]
  },
  {
   "cell_type": "markdown",
   "metadata": {},
   "source": [
    "#### Frozen Sets\n",
    "Python provides another built-in type called a `frozenset`, which is exactly like a `set` except that it is immutable. Only non-modifying operations can be performed on a `frozenset`. However, a `frozenset` can still be targeted by an augmented assignment operator."
   ]
  },
  {
   "cell_type": "code",
   "execution_count": 906,
   "metadata": {},
   "outputs": [
    {
     "name": "stdout",
     "output_type": "stream",
     "text": [
      "4632672768\n",
      "frozenset({'baz'})\n",
      "4632669856\n"
     ]
    }
   ],
   "source": [
    "f = frozenset(['foo', 'bar', 'baz'])\n",
    "print(id(f))\n",
    "s = {'baz', 'qux', 'quux'}\n",
    "\n",
    "f &= s\n",
    "print(f)\n",
    "print(id(f))"
   ]
  },
  {
   "cell_type": "markdown",
   "metadata": {},
   "source": [
    "The idea here is that the augmented operator does not modify the original frozenset. More succinctly, it does not modify `in place`.Instead, it creates a new `frozenset` in memory with the same variable name.\n",
    "\n",
    "`frozenset` is useful in situations where a `set` is appropriate, but an immutable object is required. A simple example of this is a the impossibility of nested `set`."
   ]
  },
  {
   "cell_type": "code",
   "execution_count": 907,
   "metadata": {},
   "outputs": [
    {
     "ename": "TypeError",
     "evalue": "unhashable type: 'set'",
     "output_type": "error",
     "traceback": [
      "\u001b[0;31m---------------------------------------------------------------------------\u001b[0m",
      "\u001b[0;31mTypeError\u001b[0m                                 Traceback (most recent call last)",
      "Cell \u001b[0;32mIn[907], line 4\u001b[0m\n\u001b[1;32m      2\u001b[0m x2 \u001b[39m=\u001b[39m \u001b[39mset\u001b[39m([\u001b[39m'\u001b[39m\u001b[39mbar\u001b[39m\u001b[39m'\u001b[39m])\n\u001b[1;32m      3\u001b[0m x3 \u001b[39m=\u001b[39m \u001b[39mset\u001b[39m([\u001b[39m'\u001b[39m\u001b[39mbaz\u001b[39m\u001b[39m'\u001b[39m])\n\u001b[0;32m----> 4\u001b[0m x \u001b[39m=\u001b[39m {x1, x2, x3}\n",
      "\u001b[0;31mTypeError\u001b[0m: unhashable type: 'set'"
     ]
    }
   ],
   "source": [
    "x1 = set(['foo'])\n",
    "x2 = set(['bar'])\n",
    "x3 = set(['baz'])\n",
    "x = {x1, x2, x3}"
   ]
  },
  {
   "cell_type": "code",
   "execution_count": null,
   "metadata": {},
   "outputs": [
    {
     "name": "stdout",
     "output_type": "stream",
     "text": [
      "{frozenset({'baz'}), frozenset({'foo'}), frozenset({'bar'})}\n"
     ]
    }
   ],
   "source": [
    "x1 = frozenset(['foo'])\n",
    "x2 = frozenset(['bar'])\n",
    "x3 = frozenset(['baz'])\n",
    "x = {x1, x2, x3}\n",
    "print(x)"
   ]
  },
  {
   "cell_type": "markdown",
   "metadata": {},
   "source": [
    "Similarly, dictionary keys must be immutable so a normal `set` cannot be used to define a dictionary key."
   ]
  },
  {
   "cell_type": "code",
   "execution_count": null,
   "metadata": {},
   "outputs": [
    {
     "ename": "TypeError",
     "evalue": "unhashable type: 'set'",
     "output_type": "error",
     "traceback": [
      "\u001b[0;31m---------------------------------------------------------------------------\u001b[0m",
      "\u001b[0;31mTypeError\u001b[0m                                 Traceback (most recent call last)",
      "Cell \u001b[0;32mIn[762], line 4\u001b[0m\n\u001b[1;32m      1\u001b[0m x \u001b[39m=\u001b[39m {\u001b[39m1\u001b[39m, \u001b[39m2\u001b[39m, \u001b[39m3\u001b[39m}\n\u001b[1;32m      2\u001b[0m y \u001b[39m=\u001b[39m {\u001b[39m'\u001b[39m\u001b[39ma\u001b[39m\u001b[39m'\u001b[39m, \u001b[39m'\u001b[39m\u001b[39mb\u001b[39m\u001b[39m'\u001b[39m, \u001b[39m'\u001b[39m\u001b[39mc\u001b[39m\u001b[39m'\u001b[39m}\n\u001b[0;32m----> 4\u001b[0m d \u001b[39m=\u001b[39m {x: \u001b[39m'\u001b[39m\u001b[39mfoo\u001b[39m\u001b[39m'\u001b[39m, y: \u001b[39m'\u001b[39m\u001b[39mbar\u001b[39m\u001b[39m'\u001b[39m}\n\u001b[1;32m      5\u001b[0m \u001b[39mprint\u001b[39m(d)\n",
      "\u001b[0;31mTypeError\u001b[0m: unhashable type: 'set'"
     ]
    }
   ],
   "source": [
    "x = {1, 2, 3}\n",
    "y = {'a', 'b', 'c'}\n",
    "\n",
    "d = {x: 'foo', y: 'bar'}\n",
    "print(d)"
   ]
  },
  {
   "cell_type": "code",
   "execution_count": null,
   "metadata": {},
   "outputs": [
    {
     "name": "stdout",
     "output_type": "stream",
     "text": [
      "{frozenset({1, 2, 3}): 'foo', frozenset({'c', 'b', 'a'}): 'bar'}\n"
     ]
    }
   ],
   "source": [
    "x = frozenset({1, 2, 3})\n",
    "y = frozenset({'a', 'b', 'c'})\n",
    "\n",
    "d = {x: 'foo', y: 'bar'}\n",
    "print(d)"
   ]
  },
  {
   "cell_type": "code",
   "execution_count": null,
   "metadata": {},
   "outputs": [],
   "source": []
  },
  {
   "cell_type": "markdown",
   "metadata": {},
   "source": [
    "## Error Types\n",
    "The most common reason of an error in a Python program is when a certain statement is not in accordance with the prescribed usage. Such an error is called a `syntax error`. Many times though, a program results in an error after it is run even if it doesn't have a `syntax error`. Such an error is a `runtime error`, called an exception. A number of built-in exceptions are defined in the Python library.\n",
    "\n",
    "The most common can be found [here](https://www.tutorialsteacher.com/python/error-types-in-python).\n",
    "\n",
    "- `IndexError` is thrown when trying to access an item at an invalid index.\n",
    "- `ModuleNotFoundError` is thrown when a module could not be found.\n",
    "- `KeyError` is thrown when a key (in a dictionary) is not found.\n",
    "- `ImportError` is thrown when a specified function cannot be found.\n",
    "- `StopIteration` is thrown when the `next()` function goes beyond the iterable items.\n",
    "- `TypeError` is thrown when an operation or function is applied erroneously to an object of an inappropriate type.\n",
    "- `ValueError` is thrown when a function's argument is of an inappropriate type.\n",
    "- `NameError` is thrown when an object cannot be found (uninitialized or stored).\n",
    "- `ZeroDivisionError` is thrown when the second operator in a division is zero.\n",
    "- `KeyboardInterrupt` is thrown when the user interrupts the execution of a program with a keystroke."
   ]
  },
  {
   "cell_type": "markdown",
   "metadata": {},
   "source": [
    "## Exception Handling\n",
    "The cause of an exception is often external to the program itself--an incorrect input, a malfunctioning IO device. Because the program abruptly terminates on encountering an exception, it may cause damage to system resources, such as files. Hence, the exceptions should be properly handled so that an abrupt termination of the program is prevented.\n",
    "\n",
    "Python uses `try` and `except` keywords to handle exceptions."
   ]
  },
  {
   "cell_type": "code",
   "execution_count": null,
   "metadata": {},
   "outputs": [
    {
     "name": "stdout",
     "output_type": "stream",
     "text": [
      "Some error occurred.\n",
      "Out of try/except blocks.\n"
     ]
    }
   ],
   "source": [
    "try:\n",
    "  a = 5\n",
    "  b = 0\n",
    "  print(a / b)\n",
    "except:\n",
    "  print('Some error occurred.')\n",
    "\n",
    "print(\"Out of try/except blocks.\")"
   ]
  },
  {
   "cell_type": "markdown",
   "metadata": {},
   "source": [
    "The `try` contains one or more statements, which are likely to encounter an exception. If the statements in this block are executed without an exception, the subsequent `except` block is skipped.\n",
    "\n",
    "If the exception occurs, the program flow is transferred to the `except` block. The statements in the `except` block are meant to handle the cause of the exception appropriately, returning an appropriate error message.\n",
    "\n",
    "You can specify the type of exception after the `except` keyword. The subsequent block will be executed only if the specified exception occurs. There may be multiple except clauses with different exception types in a single `try` block. If the type of exception doesn't match any of the `except` blocks, it will remain unhandled and the program will terminate.\n",
    "\n",
    "The rest of the statements after the `except` block will continue to be executed, regardless of the exception occurring."
   ]
  },
  {
   "cell_type": "code",
   "execution_count": 908,
   "metadata": {},
   "outputs": [
    {
     "name": "stdout",
     "output_type": "stream",
     "text": [
      "TypeError occurred.\n",
      "Out of try/except blocks.\n"
     ]
    }
   ],
   "source": [
    "try:\n",
    "  a = 5\n",
    "  b = '0'\n",
    "  print(a + b)\n",
    "  print(a / b) # the exception is raised before this division error is seen.\n",
    "except TypeError:\n",
    "  print('TypeError occurred.')\n",
    "except ZeroDivisionError:\n",
    "  print('Division by zero is not allowed.')\n",
    "except:\n",
    "  print('Some error occurred.')\n",
    "\n",
    "print(\"Out of try/except blocks.\")"
   ]
  },
  {
   "cell_type": "markdown",
   "metadata": {},
   "source": [
    " The default `except` block must come after all the `except` blocks that catch specific errors, otherwise Python will raise an error."
   ]
  },
  {
   "cell_type": "markdown",
   "metadata": {},
   "source": [
    "#### `else` and `finally`"
   ]
  },
  {
   "cell_type": "markdown",
   "metadata": {},
   "source": [
    "`else` and `finally` can also by used along with the `try` and `except` clauses. While the `except` block is executed if the exception occurs inside the `try` block, the `else` block gets processed if the `try` block is found to be exception free. The `finally` block consists of statements, which should be processed regardless of an exception occurring in the `try` block or not. As a consequence, the error-free `try` block skips the `except` clause and enters the `finally` block before going on to execute the rest of the code."
   ]
  },
  {
   "cell_type": "code",
   "execution_count": 909,
   "metadata": {},
   "outputs": [
    {
     "name": "stdout",
     "output_type": "stream",
     "text": [
      "Division =  5.0\n",
      "Executing finally block.\n",
      "Out of try, except, else and finally blocks.\n",
      "x =  0\n",
      "y =  0\n"
     ]
    }
   ],
   "source": [
    "try:\n",
    "  x, y = 10, 2\n",
    "  z = x / y\n",
    "except ZeroDivisionError:\n",
    "  print(\"Division by 0 is not accepted.\") # no division by 0 so this does not run\n",
    "except:\n",
    "  print('Some error occurred.') # no exception is found\n",
    "else:\n",
    "  print(\"Division = \", z) # this executes because no error is found\n",
    "finally:\n",
    "  print(\"Executing finally block.\") # this executes regardless whether or not exceptions are raised\n",
    "  x=0\n",
    "  y=0\n",
    "  \n",
    "print(\"Out of try, except, else and finally blocks.\")\n",
    "print(\"x = \", x)\n",
    "print(\"y = \", y)"
   ]
  },
  {
   "cell_type": "code",
   "execution_count": 910,
   "metadata": {},
   "outputs": [
    {
     "name": "stdout",
     "output_type": "stream",
     "text": [
      "Division by 0 is not accepted.\n",
      "Executing finally block.\n",
      "Out of try, except, else and finally blocks.\n",
      "x =  0\n",
      "y =  0\n"
     ]
    }
   ],
   "source": [
    "try:\n",
    "  x, y = 10, 0 # the only change from the previous code block\n",
    "  z = x / y\n",
    "except ZeroDivisionError:\n",
    "  print(\"Division by 0 is not accepted.\") # this executes as the zero division is found\n",
    "except:\n",
    "  print('Some error occurred.') # this is skipped due to the error having been caught above \n",
    "else:\n",
    "  print(\"Division = \", z) # this does not execute due to error above\n",
    "finally:\n",
    "  print(\"Executing finally block.\") # this executes regardless whether or not exceptions are raised\n",
    "  x=0\n",
    "  y=0\n",
    "  \n",
    "print(\"Out of try, except, else and finally blocks.\")\n",
    "print(\"x = \", x)\n",
    "print(\"y = \", y)"
   ]
  },
  {
   "cell_type": "markdown",
   "metadata": {},
   "source": [
    "#### `raise` an Exception\n",
    "The `raise` keyword is used in the context of exception handling. It causes an exception to be generated explicitly. Built-in errors are raised implicitly."
   ]
  },
  {
   "cell_type": "code",
   "execution_count": 911,
   "metadata": {},
   "outputs": [
    {
     "name": "stdout",
     "output_type": "stream",
     "text": [
      "50.0 is out of the allowed range.\n"
     ]
    }
   ],
   "source": [
    "try:\n",
    "  x, y = 100, 2\n",
    "  z = x / 2\n",
    "  if z > 10:\n",
    "    raise ValueError(z)\n",
    "except ValueError:\n",
    "  print(z, \"is out of the allowed range.\")\n",
    "else:\n",
    "  print(z, \"is within the allowed range.\")"
   ]
  },
  {
   "cell_type": "markdown",
   "metadata": {},
   "source": [
    "Here, the `ValueError` type is raised. However, a custom exception type can also be raised."
   ]
  },
  {
   "cell_type": "markdown",
   "metadata": {},
   "source": []
  },
  {
   "cell_type": "markdown",
   "metadata": {},
   "source": [
    "## Shallow and Deep Copies\n",
    "#### Copy an Object in Python\n",
    "An `=` operator to create a copy of an object. This does not create a new object; it only creates a new variable that shares a reference of the original object."
   ]
  },
  {
   "cell_type": "code",
   "execution_count": 918,
   "metadata": {},
   "outputs": [
    {
     "name": "stdout",
     "output_type": "stream",
     "text": [
      "Old List: [[1, 2, 3], [4, 5, 6], [7, 8, 9]]\n",
      "ID of Old List: 4621652224\n",
      "\n",
      "New List: [[1, 2, 3], [4, 5, 6], [7, 8, 9]]\n",
      "ID of New List: 4621652224\n",
      "\n",
      "Are the IDs equal? Yes\n"
     ]
    }
   ],
   "source": [
    "old_list = [[1, 2, 3], [4, 5, 6], [7, 8, 'a']]\n",
    "new_list = old_list\n",
    "\n",
    "new_list[2][2] = 9\n",
    "\n",
    "print('Old List:', old_list)\n",
    "print('ID of Old List:', id(old_list))\n",
    "\n",
    "print('\\nNew List:', new_list)\n",
    "print('ID of New List:', id(new_list))\n",
    "\n",
    "print(\"\\nAre the IDs equal?\", 'Yes' if id(old_list) == id(new_list) else 'No')"
   ]
  },
  {
   "cell_type": "code",
   "execution_count": null,
   "metadata": {},
   "outputs": [],
   "source": []
  }
 ],
 "metadata": {
  "kernelspec": {
   "display_name": "main-dev",
   "language": "python",
   "name": "python3"
  },
  "language_info": {
   "codemirror_mode": {
    "name": "ipython",
    "version": 3
   },
   "file_extension": ".py",
   "mimetype": "text/x-python",
   "name": "python",
   "nbconvert_exporter": "python",
   "pygments_lexer": "ipython3",
   "version": "3.11.4"
  },
  "orig_nbformat": 4
 },
 "nbformat": 4,
 "nbformat_minor": 2
}
