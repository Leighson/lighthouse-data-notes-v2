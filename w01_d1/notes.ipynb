{
 "cells": [
  {
   "cell_type": "markdown",
   "metadata": {},
   "source": [
    "# Bash Commands\n",
    "\n",
    "Navigation and file system access: `pwd`, `ls`, and `cd`  \n",
    "Create new folders: `mkdir`  \n",
    "Create new files: `touch`  \n",
    "Read files: `less`, `head`, and `tail`  \n",
    "Modify files: `cp`, `mv`, and `rm`  \n",
    "Redirect output of commands: `>`  \n",
    "Use the output as input to another command: `|`   \n",
    "Manual for command: `man`  \n",
    "Return # of rows, words and characters in a document: `wc`\n",
    "Find the # of duplicate rows in a file: `uniq`  \n",
    "Print content to standard output (terminal): `cat` (can be used to concatenate files)  \n",
    "Modify a table, remove some rows, or replace specific values: `sed \"s/<string to replace>/<string to replace it with>/g\" <source_file> <target_file>` \n",
    "Modify a table, remove some rows, or replace specific values\n",
    "\n",
    "# Markdown Cheatsheet\n",
    "[Get your cheats here!](https://github.com/adam-p/markdown-here/wiki/Markdown-Cheatsheet)"
   ]
  }
 ],
 "metadata": {
  "kernelspec": {
   "display_name": "main-dev",
   "language": "python",
   "name": "python3"
  },
  "language_info": {
   "codemirror_mode": {
    "name": "ipython",
    "version": 3
   },
   "file_extension": ".py",
   "mimetype": "text/x-python",
   "name": "python",
   "nbconvert_exporter": "python",
   "pygments_lexer": "ipython3",
   "version": "3.11.4"
  },
  "orig_nbformat": 4
 },
 "nbformat": 4,
 "nbformat_minor": 2
}
