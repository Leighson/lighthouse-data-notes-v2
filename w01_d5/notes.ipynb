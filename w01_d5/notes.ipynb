{
 "cells": [
  {
   "cell_type": "markdown",
   "metadata": {},
   "source": [
    "# What is a Database?\n",
    "A `database` is a collection of data (information) stored electronically in a structured manner. The way the data is organized determines the type of database.\n",
    "\n",
    "## Types of Database\n",
    "\n",
    "### Hierarchical Databases\n",
    "Just as in any hierarchy, this database categorizes data in ranks or levels, and the ranks are expressed using links. It is organized in a parent-child relationship, and the entire database would resemble a tree.\n",
    "\n",
    "</br></br><img src=\"https://i.imgur.com/23nTU9D.png\" width=\"1000\"></br></br>\n",
    "\n",
    "#### Components of a Hierarchical Database\n",
    "A `hierarchical` database consists of a collection of records connected to each other through links. Each record is a collection of fields or attributes, each of which contains only one data value. A child record can only be linked to only one parent record.\n",
    "\n",
    "`record`[`fields/attributes`] <-- (`link`) --> `record`[`fields/attributes`]\n",
    "\n",
    "### Network Databases\n",
    "A `network` database is a hierarchical database except that the child records can be associated with multiple parent records.\n",
    "\n",
    "</br></br><img src=\"https://i.imgur.com/MhP6vhP.png\" width=\"1000\"></br></br>\n",
    "\n",
    "### Relational Databases\n",
    "`Relational` databases are the most mature of all databases. Every record can be linked to every other piece of record.\n",
    "\n",
    "#### Components of a Relational Database\n",
    "- Attributes\n",
    "- Entity\n",
    "- Relationships\n",
    "- Cardinality\n",
    "\n",
    "### NoSQL Databases\n",
    "A `NoSQL` is a non-relational database that provides a mechanism for the storage and retrieval of data. A NoSQL database includes simplicity of design, simpler horizontal scaling to clusters of machines, and finer control over availability. The data structures used by NoSQL databases are very different from tables in relational databases, which makes some operations faster in NoSQL.\n",
    "\n",
    "## Database Management Systems\n",
    "A `Database Management System` is a computerized data-keeping system. Users of the system are given facilities to perform several kinds of operations to either manipulate the data or manage the database structure itself. They are categorized according to their database structure or type: hierarchical, network, and relational."
   ]
  },
  {
   "cell_type": "markdown",
   "metadata": {},
   "source": [
    "# Relational Databases\n",
    "A database stores data in an organized way so that it can be searched and retrieved later. The database is made up of one or more tables. All rows have the same columns, and each column contains the data. Data can be inserted (created), retried, updated, and deleted from a table--CRUD abbreviated.\n",
    "\n",
    "A relational database is a type of database that organizes data into tables and creates links between these tables, based on defined relationships. These relationships enables the user to retrieve and combine data from one or more tables with a single query."
   ]
  },
  {
   "cell_type": "markdown",
   "metadata": {},
   "source": []
  }
 ],
 "metadata": {
  "language_info": {
   "name": "python"
  },
  "orig_nbformat": 4
 },
 "nbformat": 4,
 "nbformat_minor": 2
}
