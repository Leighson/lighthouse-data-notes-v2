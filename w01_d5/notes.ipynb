{
 "cells": [
  {
   "cell_type": "markdown",
   "metadata": {},
   "source": [
    "# What is a Database?\n",
    "A `database` is a collection of data (information) stored electronically in a structured manner. The way the data is organized determines the type of database.\n",
    "\n",
    "## Types of Database\n",
    "\n",
    "### Hierarchical Databases\n",
    "Just as in any hierarchy, this database categorizes data in ranks or levels, and the ranks are expressed using links. It is organized in a parent-child relationship, and the entire database would resemble a tree.\n",
    "\n",
    "</br></br><img src=\"https://i.imgur.com/23nTU9D.png\" width=\"1000\"></br></br>\n",
    "\n",
    "#### Components of a Hierarchical Database\n",
    "A `hierarchical` database consists of a collection of records connected to each other through links. Each record is a collection of fields or attributes, each of which contains only one data value. A child record can only be linked to only one parent record.\n",
    "\n",
    "`record`[`fields/attributes`] <-- (`link`) --> `record`[`fields/attributes`]\n",
    "\n",
    "### Network Databases\n",
    "A `network` database is a hierarchical database except that the child records can be associated with multiple parent records.\n",
    "\n",
    "</br></br><img src=\"https://i.imgur.com/MhP6vhP.png\" width=\"1000\"></br></br>\n",
    "\n",
    "### Relational Databases\n",
    "`Relational` databases are the most mature of all databases. Every record can be linked to every other piece of record.\n",
    "\n",
    "#### Components of a Relational Database\n",
    "- Attributes\n",
    "- Entity\n",
    "- Relationships\n",
    "- Cardinality\n",
    "\n",
    "### NoSQL Databases\n",
    "A `NoSQL` is a non-relational database that provides a mechanism for the storage and retrieval of data. A NoSQL database includes simplicity of design, simpler horizontal scaling to clusters of machines, and finer control over availability. The data structures used by NoSQL databases are very different from tables in relational databases, which makes some operations faster in NoSQL.\n",
    "\n",
    "## Database Management Systems\n",
    "A `Database Management System` is a computerized data-keeping system. Users of the system are given facilities to perform several kinds of operations to either manipulate the data or manage the database structure itself. They are categorized according to their database structure or type: hierarchical, network, and relational."
   ]
  },
  {
   "cell_type": "markdown",
   "metadata": {},
   "source": [
    "# Relational Databases\n",
    "A database stores data in an organized way so that it can be searched and retrieved later. The database is made up of one or more tables. All rows have the same columns, and each column contains the data. Data can be inserted (created), retried, updated, and deleted from a table--CRUD abbreviated.\n",
    "\n",
    "A relational database is a type of database that organizes data into tables and creates links between these tables, based on defined relationships. These relationships enables the user to retrieve and combine data from one or more tables with a single query."
   ]
  },
  {
   "cell_type": "markdown",
   "metadata": {},
   "source": [
    "Below, we'll be using Foursquare API to build a database of bars and venues that accommodates live bands in Toronto and the GTA."
   ]
  },
  {
   "cell_type": "code",
   "execution_count": 1,
   "metadata": {},
   "outputs": [],
   "source": [
    "from dotenv import load_dotenv\n",
    "load_dotenv()\n",
    "\n",
    "import requests\n",
    "import os"
   ]
  },
  {
   "cell_type": "code",
   "execution_count": 2,
   "metadata": {},
   "outputs": [],
   "source": [
    "FSQ_API_KEY = os.environ[\"FOURSQUARE_API_KEY\"]"
   ]
  },
  {
   "cell_type": "markdown",
   "metadata": {},
   "source": [
    "To understand how to search the FSQ API for certain types of venues, we must first understand the taxonomy of their categories. FSQ Places includes a hierarchical taxonomy of categories from which each POI record is classified. The 10 parent categories are:\n",
    "- 10xxx Arts and Entertainment\n",
    "- 11xxx Business and Professional Services\n",
    "- 12xxx Community and Government\n",
    "- 13xxx Dining and Drinking\n",
    "- 14xxx Event\n",
    "- 15xxx Health and Medicine\n",
    "- 16xxx Landmarks and Outdoors\n",
    "- 17xxx Retail\n",
    "- 18xxx Sports and Recreation\n",
    "- 19xxx Travel and Transportation\n",
    "\n",
    "Each category is ID'd numerically as `10xxx` to `19xxx` in alphabetical order. Each subcategory is then organized numerically with the 3 remaining digits, `xxx`. Because we're looking for venues for live bands, we'll trim our options down to the following parent categories:\n",
    "- 100xx Arts and Entertainment\n",
    "- 13xxx Dining and Drinking\n",
    "- 14xxx Event"
   ]
  },
  {
   "cell_type": "markdown",
   "metadata": {},
   "source": [
    "Use pandas to import category list and convert to Dataframe to manipulate into usable format."
   ]
  },
  {
   "cell_type": "code",
   "execution_count": 1,
   "metadata": {},
   "outputs": [],
   "source": [
    "import pandas as pd"
   ]
  },
  {
   "cell_type": "code",
   "execution_count": 5,
   "metadata": {},
   "outputs": [
    {
     "ename": "TypeError",
     "evalue": "read_csv() got an unexpected keyword argument 'index'",
     "output_type": "error",
     "traceback": [
      "\u001b[0;31m---------------------------------------------------------------------------\u001b[0m",
      "\u001b[0;31mTypeError\u001b[0m                                 Traceback (most recent call last)",
      "Cell \u001b[0;32mIn[5], line 1\u001b[0m\n\u001b[0;32m----> 1\u001b[0m df \u001b[39m=\u001b[39m pd\u001b[39m.\u001b[39;49mread_csv(\u001b[39m\"\u001b[39;49m\u001b[39m./_data/places-and-apiv3-categories.csv\u001b[39;49m\u001b[39m\"\u001b[39;49m, index\u001b[39m=\u001b[39;49m\u001b[39mTrue\u001b[39;49;00m)\n",
      "\u001b[0;31mTypeError\u001b[0m: read_csv() got an unexpected keyword argument 'index'"
     ]
    }
   ],
   "source": [
    "df = pd.read_csv(\"./_data/places-and-apiv3-categories.csv\")"
   ]
  },
  {
   "cell_type": "code",
   "execution_count": 3,
   "metadata": {},
   "outputs": [
    {
     "data": {
      "text/html": [
       "<div>\n",
       "<style scoped>\n",
       "    .dataframe tbody tr th:only-of-type {\n",
       "        vertical-align: middle;\n",
       "    }\n",
       "\n",
       "    .dataframe tbody tr th {\n",
       "        vertical-align: top;\n",
       "    }\n",
       "\n",
       "    .dataframe thead th {\n",
       "        text-align: right;\n",
       "    }\n",
       "</style>\n",
       "<table border=\"1\" class=\"dataframe\">\n",
       "  <thead>\n",
       "    <tr style=\"text-align: right;\">\n",
       "      <th></th>\n",
       "      <th>Unnamed: 0</th>\n",
       "      <th>Category Label</th>\n",
       "    </tr>\n",
       "  </thead>\n",
       "  <tbody>\n",
       "    <tr>\n",
       "      <th>0</th>\n",
       "      <td>10000</td>\n",
       "      <td>Arts and Entertainment</td>\n",
       "    </tr>\n",
       "    <tr>\n",
       "      <th>1</th>\n",
       "      <td>10001</td>\n",
       "      <td>Arts and Entertainment &gt; Amusement Park</td>\n",
       "    </tr>\n",
       "    <tr>\n",
       "      <th>2</th>\n",
       "      <td>10002</td>\n",
       "      <td>Arts and Entertainment &gt; Aquarium</td>\n",
       "    </tr>\n",
       "    <tr>\n",
       "      <th>3</th>\n",
       "      <td>10003</td>\n",
       "      <td>Arts and Entertainment &gt; Arcade</td>\n",
       "    </tr>\n",
       "    <tr>\n",
       "      <th>4</th>\n",
       "      <td>10004</td>\n",
       "      <td>Arts and Entertainment &gt; Art Gallery</td>\n",
       "    </tr>\n",
       "    <tr>\n",
       "      <th>...</th>\n",
       "      <td>...</td>\n",
       "      <td>...</td>\n",
       "    </tr>\n",
       "    <tr>\n",
       "      <th>1228</th>\n",
       "      <td>19065</td>\n",
       "      <td>Travel and Transportation &gt; Cable Car</td>\n",
       "    </tr>\n",
       "    <tr>\n",
       "      <th>1229</th>\n",
       "      <td>19066</td>\n",
       "      <td>Travel and Transportation &gt; Train</td>\n",
       "    </tr>\n",
       "    <tr>\n",
       "      <th>1230</th>\n",
       "      <td>19067</td>\n",
       "      <td>Travel and Transportation &gt; Transportation Ser...</td>\n",
       "    </tr>\n",
       "    <tr>\n",
       "      <th>1231</th>\n",
       "      <td>19068</td>\n",
       "      <td>Travel and Transportation &gt; Transportation Ser...</td>\n",
       "    </tr>\n",
       "    <tr>\n",
       "      <th>1232</th>\n",
       "      <td>19070</td>\n",
       "      <td>Travel and Transportation &gt; Transport Hub &gt; Ai...</td>\n",
       "    </tr>\n",
       "  </tbody>\n",
       "</table>\n",
       "<p>1233 rows × 2 columns</p>\n",
       "</div>"
      ],
      "text/plain": [
       "      Unnamed: 0                                     Category Label\n",
       "0          10000                             Arts and Entertainment\n",
       "1          10001            Arts and Entertainment > Amusement Park\n",
       "2          10002                  Arts and Entertainment > Aquarium\n",
       "3          10003                    Arts and Entertainment > Arcade\n",
       "4          10004               Arts and Entertainment > Art Gallery\n",
       "...          ...                                                ...\n",
       "1228       19065              Travel and Transportation > Cable Car\n",
       "1229       19066                  Travel and Transportation > Train\n",
       "1230       19067  Travel and Transportation > Transportation Ser...\n",
       "1231       19068  Travel and Transportation > Transportation Ser...\n",
       "1232       19070  Travel and Transportation > Transport Hub > Ai...\n",
       "\n",
       "[1233 rows x 2 columns]"
      ]
     },
     "execution_count": 3,
     "metadata": {},
     "output_type": "execute_result"
    }
   ],
   "source": [
    "df['Cate']"
   ]
  },
  {
   "cell_type": "code",
   "execution_count": 4,
   "metadata": {},
   "outputs": [],
   "source": [
    "url = \"https://api.foursquare.com/v3/places/search\"\n",
    "headers = {\n",
    "  \"Accept\" : \"application/json\",\n",
    "  \"Authorization\" : FSQ_API_KEY}\n",
    "params = {\n",
    "  query=\"\"\n",
    "}\n",
    "response = requests.get(url, headers=headers)"
   ]
  },
  {
   "cell_type": "code",
   "execution_count": 5,
   "metadata": {},
   "outputs": [
    {
     "data": {
      "text/plain": [
       "{'type': 'error',\n",
       " 'message': 'Not logged in',\n",
       " 'details': 'Authorization header malformed',\n",
       " 'status': 401}"
      ]
     },
     "execution_count": 5,
     "metadata": {},
     "output_type": "execute_result"
    }
   ],
   "source": [
    "response.json()"
   ]
  },
  {
   "cell_type": "code",
   "execution_count": null,
   "metadata": {},
   "outputs": [],
   "source": []
  }
 ],
 "metadata": {
  "kernelspec": {
   "display_name": "main-dev",
   "language": "python",
   "name": "python3"
  },
  "language_info": {
   "codemirror_mode": {
    "name": "ipython",
    "version": 3
   },
   "file_extension": ".py",
   "mimetype": "text/x-python",
   "name": "python",
   "nbconvert_exporter": "python",
   "pygments_lexer": "ipython3",
   "version": "3.11.4"
  },
  "orig_nbformat": 4
 },
 "nbformat": 4,
 "nbformat_minor": 2
}
