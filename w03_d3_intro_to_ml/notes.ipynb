{
 "cells": [
  {
   "cell_type": "markdown",
   "metadata": {},
   "source": [
    "# Introduction to the ML Process\n",
    "\n",
    "The typical Machine Learning process consists of the following steps:\n",
    "- Gathering data\n",
    "- Data preparation\n",
    "- Model selection\n",
    "- Training and evaluation\n",
    "- Prediction and deployment"
   ]
  },
  {
   "cell_type": "markdown",
   "metadata": {},
   "source": [
    "## What is Data Preparation?\n",
    "\n",
    "There are 3 significant stages involved in preparing data for a machine learning model. Data preparation is a part of the `Data Preprocessing` step in the established data pipeline.\n",
    "\n",
    "1. Data Exploration:\n",
    "    - Explore Data\n",
    "    - Explore the target variable\n",
    "2. Find relationships between target and other variables\n",
    "3. Data cleaning\n",
    "    - Missing values\n",
    "    - Outlier detection"
   ]
  },
  {
   "cell_type": "markdown",
   "metadata": {},
   "source": [
    "## Importance of Preparing Data\n",
    "\n",
    "A general framework for data preparation can include the following steps:\n",
    "\n",
    "1. `Data Understanding`: Familiarize with the data by reviewing the structure, size, and content. Use visualizations and summary statistics.\n",
    "2. `Data Cleaning`: Handle missing, duplicate, or inconsistent values, and remove irrelevant data to ensure the quality of the data being used.\n",
    "3. `Data Transformation`: Convert the data into a format suitable for analysis and modeling, which includes normalizing, scaling, and encoding variables.\n",
    "4. `Data Reduction`: Reduce the size of the data, if necessary , by removing features that are redundant or irrelevant to the problem.\n",
    "5. `Data Splitting`: Split the data into training and testing datasets. The training dataset is used to build the model, while the testing dataset is used to evaluate its performance\n",
    "\n",
    "Once completed, the data is ready to be used for machine learning."
   ]
  },
  {
   "cell_type": "markdown",
   "metadata": {},
   "source": []
  }
 ],
 "metadata": {
  "language_info": {
   "name": "python"
  }
 },
 "nbformat": 4,
 "nbformat_minor": 2
}
