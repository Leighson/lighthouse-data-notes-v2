{
 "cells": [
  {
   "cell_type": "markdown",
   "metadata": {},
   "source": [
    "# Introduction to the ML Process\n",
    "\n",
    "The typical Machine Learning process consists of the following steps:\n",
    "- Gathering data\n",
    "- Data preparation\n",
    "- Model selection\n",
    "- Training and evaluation\n",
    "- Prediction and deployment"
   ]
  },
  {
   "cell_type": "markdown",
   "metadata": {},
   "source": [
    "## What is Data Preparation?\n",
    "\n",
    "There are 3 significant stages involved in preparing data for a machine learning model. Data preparation is a part of the `Data Preprocessing` step in the established data pipeline.\n",
    "\n",
    "1. Data Exploration:\n",
    "    - Explore Data\n",
    "    - Explore the target variable\n",
    "2. Find relationships between target and other variables\n",
    "3. Data cleaning\n",
    "    - Missing values\n",
    "    - Outlier detection"
   ]
  },
  {
   "cell_type": "markdown",
   "metadata": {},
   "source": [
    "## Importance of Preparing Data\n",
    "\n",
    "A general framework for data preparation can include the following steps:\n",
    "\n",
    "1. `Data Understanding`: Familiarize with the data by reviewing the structure, size, and content. Use visualizations and summary statistics.\n",
    "2. `Data Cleaning`: Handle missing, duplicate, or inconsistent values, and remove irrelevant data to ensure the quality of the data being used.\n",
    "3. `Data Transformation`: Convert the data into a format suitable for analysis and modeling, which includes normalizing, scaling, and encoding variables.\n",
    "4. `Data Reduction`: Reduce the size of the data, if necessary , by removing features that are redundant or irrelevant to the problem.\n",
    "5. `Data Splitting`: Split the data into training and testing datasets. The training dataset is used to build the model, while the testing dataset is used to evaluate its performance\n",
    "\n",
    "Once completed, the data is ready to be used for machine learning."
   ]
  },
  {
   "cell_type": "markdown",
   "metadata": {},
   "source": [
    "## Data Exploration\n",
    "\n",
    "`Data Exploration` is about describing the data by means of statistical and visualization techniques. Exploring data brings important aspects of that data into focus for further analysis."
   ]
  },
  {
   "cell_type": "markdown",
   "metadata": {},
   "source": [
    "### 1. Univariate Analysis\n",
    "\n",
    "`Univariate analysis` explores variables (attributes) in isolation. Variables could either be `categorical` or `numerical`.  There are different statistical and visualization techniques of investigation for each type of variable.\n",
    "\n",
    "- `Numerical` variables can be transformed into categorical counterparts by a process called `binning` or `discretization`.\n",
    "- `Categorical` variables can be transformed into numerical counterparts by a process called `encoding`.\n",
    "- Finally, proper handling of missing values is an important issue in mining data."
   ]
  },
  {
   "cell_type": "markdown",
   "metadata": {},
   "source": [
    "#### 1A. Categorical Values\n",
    "\n",
    "A categorical or discrete variable is one that has two or more categories (values). Ther are two types of categorical variable, `nominal` and `ordinal`. \n",
    "\n",
    "- A `nominal` variable has no intrinsic ordering to its categories, such as gender.\n",
    "- An `ordinal` variable has a clear ordering, such as `low`, `medium`, and `high` value categories.\n",
    "- A `frequency table` is a way of counting how often each category of the variable in question occurs. It may be enhanced by the adition of percentages that fall into each category."
   ]
  },
  {
   "cell_type": "markdown",
   "metadata": {},
   "source": [
    "#### 1B. Numerical Variables\n",
    "\n",
    "A numerical or continuous varaible (attribute) is one that may take on any value within a finite or infinite interval (eg. height, weight, temperature, blood glucose, etc.). There are two types of numerical variables: `interval` and `ratio`.\n",
    "\n",
    "- An `interval` variable has values whose differences are interpretable, but it does not have a true zero, such as temperature in centigrade. Data on an interval scale can be added and subtracted but cannot be meaningfully multiplied or divided.\n",
    "- A `ratio` variable has values with a true zero and can be added, subtracted, multiplied, or divided (eg. weight)."
   ]
  },
  {
   "cell_type": "markdown",
   "metadata": {},
   "source": [
    "### 2. Bivariate Analysis\n",
    "\n",
    "`Bivariate` analysis is the simultaneous analysis of two variables (attributes). It explores the concept of relationship between two variables, where there exists an association and the strength of this association, or where there are differences between two variables and the significance of these differences."
   ]
  },
  {
   "cell_type": "markdown",
   "metadata": {},
   "source": [
    "#### 2A. Numerical & Numerical"
   ]
  },
  {
   "cell_type": "markdown",
   "metadata": {},
   "source": [
    "##### Scatter Plot\n",
    "\n",
    "A `scatter plot` is useful for visual representation of the relationship between two numerical variables (attributes) and is usually drawn before working out a linear correlation or fitting a regression line. The resulting pattern indicates the type (linear or non-linear) and strength of the relationship between two variables.\n",
    "\n",
    "More information can be added to a 2-D scattter plot (eg. label points  to indicate a third variable). If dealing with many variables, a way of presenting all possible scatter plots of two variabeles at a time is a `scatter plot matrix`."
   ]
  },
  {
   "cell_type": "markdown",
   "metadata": {},
   "source": [
    "![Scatter Plot Matrix](https://www.saedsayad.com/images/ScatterPlot_Matrix_1.png)"
   ]
  },
  {
   "cell_type": "markdown",
   "metadata": {},
   "source": [
    "##### Linear Correlation\n",
    "\n",
    "`Linear correlation` quantifies the strength of a linear relationship between two numerical variables. When there is no correaltion between two variables, there is no tendency for the values of one quantity to increaes or decrease with the values of the second quantity.\n",
    "\n",
    "`r` only measures the strength of a linear relationship and is always between -1 and 1, where -1 means perfect negative linear correlation and +1 means perfect positive linear correlation and zero means no linear correlation."
   ]
  },
  {
   "cell_type": "markdown",
   "metadata": {},
   "source": [
    "#### 2B. Categorical & Categorical"
   ]
  },
  {
   "cell_type": "markdown",
   "metadata": {},
   "source": [
    "##### Stacked Column Chart\n",
    "\n",
    "`Stacked Column Chart` is a useful graph to visualize the relationship between two categorical variables. It compares the percentage that each category from one variable contributes to a total across categories of the second variable.\n",
    "\n",
    "![Stacked Column Chart](https://www.saedsayad.com/images/Orange_Stackedplot.png)"
   ]
  },
  {
   "cell_type": "markdown",
   "metadata": {},
   "source": [
    "##### Combination Chart\n",
    "\n",
    "A `Combination Chart` uses two or more chart types to emphasize that the chart contains different kinds of information. This visualization method is used to demonstrate the predictability power of predictor (X-axis) against a target (Y-axis).\n",
    "\n",
    "![Combination Chart](https://www.saedsayad.com/images/Temperature.gif)"
   ]
  },
  {
   "cell_type": "markdown",
   "metadata": {},
   "source": [
    "##### Chi-Square Test\n",
    "\n",
    "The `Chi-Square Test` can be used to determine the association between categorical variables. It is based on the difference between the expected frequencies (e) and the observed frequencies (n) in one or more categories in the frequency table. The `chi-square distribution` returns a probability for the computed `chi-square` and the degree of freedom. A probability of zero shows a complete dependency between two categorical variables and a probability of one means that two categorical variables are completely independent.\n",
    "\n",
    "`Tchouproff Contingency Coefficient` measures the amount of dependency between two categorical variables."
   ]
  },
  {
   "cell_type": "markdown",
   "metadata": {},
   "source": [
    "#### 2C. Categorical & Numerical"
   ]
  },
  {
   "cell_type": "markdown",
   "metadata": {},
   "source": [
    "##### Line Chart with Error Bars\n",
    "\n",
    "A `line chart` with error bars displays information as a series of data points connected by straight line segments. Each data point is the average of the numerical data for the corresponding category of the categorical varaible with error bar showing standard error. It is a way to summarize how pieces of information are related and how they vary depnding on one another.\n",
    "\n",
    "![Line Chart](https://www.saedsayad.com/images/Linechart_Errorbar.png)"
   ]
  },
  {
   "cell_type": "markdown",
   "metadata": {},
   "source": [
    "##### Combination Chart\n",
    "\n",
    "A `combination chart` uses two or more chart types to emphasize that the chart contains different kinds of information. The combination chart is the best visualization method to demonstrate the predictability power of a predictor (X-axis) against a target (Y-axis).\n",
    "\n",
    "![Combination Chart](https://www.saedsayad.com/images/Bivar_sepal_length.gif)"
   ]
  },
  {
   "cell_type": "markdown",
   "metadata": {},
   "source": [
    "##### Z-test and t-test\n",
    "\n",
    "`Z-test` and `t-test` are the same. They assess whether the averages of two groups are statistically differnt from each other. This analysis is appropriate for comparing the averages of a numerical variable for two categories of a categorical variable.\n",
    "\n",
    "If the probability of Z is small, the difference between two averages is more significant.\n",
    "\n",
    "When the `n1` or `n2` is less than 30, a `t-test` is used instead."
   ]
  },
  {
   "cell_type": "markdown",
   "metadata": {},
   "source": [
    "##### Aanalysis of Variance (ANOVA)\n",
    "\n",
    "The `ANOVA` test assesses whether the averages of more than two groups are statistically differnt from each other. This analysis is appropriate for comparing the averages of a numerical variable for more than two categories of a categorical variable."
   ]
  }
 ],
 "metadata": {
  "language_info": {
   "name": "python"
  }
 },
 "nbformat": 4,
 "nbformat_minor": 2
}
