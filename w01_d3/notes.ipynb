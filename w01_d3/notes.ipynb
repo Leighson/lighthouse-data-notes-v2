{
 "cells": [
  {
   "cell_type": "markdown",
   "metadata": {},
   "source": [
    "# Application Programming Interface (API)\n",
    "\n",
    "APIs allows 2 computers to communicate with each other and exchange information. It is the part of the server that receives requests and sends responses.\n"
   ]
  },
  {
   "cell_type": "markdown",
   "metadata": {},
   "source": [
    "## APIs as a Way to Serve Customers\n",
    "\n",
    "Servers can speak directly with clients to perform certain functions, process the request, and then respond with relevant information. It's not uncommon for development teams to break up their application into multiple servers that talk to each other via APIs. The servers that perform helper functions for the main application server are referred to as microservices.\n"
   ]
  },
  {
   "cell_type": "markdown",
   "metadata": {},
   "source": [
    "## Applications\n",
    "\n",
    "**_Application_** can refer to two definitions in the context of an API:\n",
    "\n",
    "- ... a piece of software with a distinct function.\n",
    "- ... the whole server, an entire app, or a small part of an app.\n",
    "\n",
    "Simply, any piece of software that can be distinctly separated from its environment can be an application and, thus, have an API so that it can interact.\n",
    "\n",
    "### 1. Weather Snippets\n",
    "\n",
    "One common API usage example we come across on a daily basis is **_weather data_**.\n",
    "\n",
    "Rich weather snippets are commonplace: Google Search, Apple's Weather app, and even smart home devices. Google isn't in the business of weather data, so this information is sourced from a third party. They do so by means of an API, which sends them the latest weather details.\n",
    "\n",
    "### 2. Log In Using XYZ\n",
    "\n",
    "Instead of logging-in to users' social media accounts, applications with this functionality leverage Twitter, Facebook, Linkedin and/or Google APIs to authenticate the user with each login. Every time the application loads, it uses the API to check if the user is already logged in by means of a social media platform.\n",
    "\n",
    "### 3. Pay with XYZ\n",
    "\n",
    "Payment APIs work similarly to those of social media APIs. The payment functionality is built with APIs to ensure that the end application can only do what it needs to do without exposing sensitive data or gaining access to unintended permissions.\n",
    "\n",
    "### 4. Travel Booking\n",
    "\n",
    "Travel booking sites aggregate thousands of flights and destinations to showcase the cheapest options. They often use third-party APIs to collect flight and hotel availabilities from providers.\n",
    "\n",
    "They also allow users to book directly from their application. Travel services make use of APIs to quickly and autonomously exchange both data and requests--in this case, trip availabilities and reservation requests.\n",
    "\n",
    "### 5. Customer Relationship Management\n",
    "\n",
    "`Salesforce` Platform APIs are the most popular APIs in the world to power CRM needs. The ecosystem is built to be highly customizable, boasting a wide API library and extensive partner marketplace known as `AppExchange`. APIs are pivotal with helping to integrate third-party apps for data backups, form creation, Adobe tooling integration, process automation, and more.\n",
    "\n",
    "### 6. Cloud-Based Collaboration\n",
    "\n",
    "APIs are great for the cloud. They enable developers to design the UI and the backend separately. This is called `headless` development. Decoupling the two allows a service to support multiple platforms, like web, desktop, iOS, or Android with the same backend API.\n",
    "\n",
    "### 7. Online Banking\n",
    "\n",
    "The open banking movement, initially spurred by `PSD2`, is maturing. Open banking requires banks in certain geographic zones to open up financial consumer data for third parties to integrate with. These third parties could be financial account aggregators, stock applications, investment portfolios, or even insurance provider dashboards.\n",
    "\n",
    "In comparison to screen-scraping, API integration is a safer, more standardized form of financial data integration.\n"
   ]
  },
  {
   "cell_type": "markdown",
   "metadata": {},
   "source": [
    "# Introduction to `XML`\n",
    "\n",
    "`Extensible Markup Language` is a standard to create information formats and electronically share structured data. It is slowly being replaced by `JSON`.\n"
   ]
  },
  {
   "cell_type": "markdown",
   "metadata": {},
   "source": [
    "## What is XML?\n",
    "\n",
    "- a markup language much like `HTML`\n",
    "- designed to store and transport data\n",
    "- designed to be self-descriptive\n",
    "- a W3C recommendation\n"
   ]
  },
  {
   "cell_type": "raw",
   "metadata": {},
   "source": [
    "<note>\n",
    "  <to>Tove</to>\n",
    "  <from>Jani</from>\n",
    "  <heading>Reminder</heading>\n",
    "\n",
    "  <body>Don't forget me this weekend!</body>\n",
    "</note>"
   ]
  },
  {
   "cell_type": "markdown",
   "metadata": {},
   "source": [
    "## XML Doesn't Do Anything\n",
    "\n",
    "The `XML` above is self-descriptive:\n",
    "\n",
    "- it has sender information\n",
    "- it has receiver information\n",
    "- it has a heading\n",
    "- it has a message body\n",
    "\n",
    "However, the XML doesn't do anything. It is just information wrapped in tags to be used by software to send, receive, store, or display it.\n",
    "\n",
    "## The Difference Between XML and HTML\n",
    "\n",
    "`XML` and `HTML` were designed with different goals:\n",
    "\n",
    "- `XML` was designed to carry data\n",
    "- `HTML` was designed to display data\n",
    "- `XML` tags are not predefined like `HTML` tags\n",
    "\n",
    "## XML Doesn't Use Predefined Tags\n",
    "\n",
    "`XML` has no predefined tags. The tags in the example above (like `<to>` and `<from>`) are not defined in any `XML` standard. These tags are created by the author of the `XML` document who must define both the tags and the document structure.\n",
    "\n",
    "## XML is Extensible\n",
    "\n",
    "Most `XML` applications will work as expected even if new data is added or removed.\n",
    "\n",
    "Imagine an application designed to display the original version of `note.xml` coded above. Then imagine a newer version of `note.xml` with added `<date>` and `<hour>` elements and a removed `<heading>`.\n",
    "\n",
    "The way `XML` is constructed, the older version of the application can still work with the original software using it to send, receive, store, or display the information therein.\n"
   ]
  },
  {
   "cell_type": "raw",
   "metadata": {},
   "source": [
    "<note>\n",
    "  <date>2015-09-01</date> # added\n",
    "  <hour>08:30</hour> # added\n",
    "  <to>Tove</to>\n",
    "  <from>Jani</from>\n",
    "  # heading removed\n",
    "\n",
    "  <body>Don't forget me this weekend!</body>\n",
    "</note>"
   ]
  },
  {
   "cell_type": "markdown",
   "metadata": {},
   "source": [
    "## XML Simplifies Things\n",
    "\n",
    "- `XML` simplifies data sharing\n",
    "- `XML` simplifies data transport\n",
    "- `XML` simplifies platform changes\n",
    "- `XML` simplifies data availability\n",
    "\n",
    "Many computer systems contain data in incompatible formats. Exchanging data between incompatible systems (or upgraded systems) is a time-consuming task for web developers. Large amounts of data must be converted and incompatible data is often lost.\n",
    "\n",
    "`XML` stores data in plain text format. This provides a way of storing, transporting, and sharing data independent from software and hardware. It also makes it easier to expand or upgrade to new operating systems, new applications, or new browsers without losing data.\n"
   ]
  },
  {
   "cell_type": "markdown",
   "metadata": {},
   "source": [
    "# Introduction to `JSON`\n",
    "\n",
    "`JSON` stands for JavaScript Object Notation. It is a subset of the JavaScript language and has gained popularity with the increasing popularity of the language.\n",
    "\n",
    "Like `XML`, `JSON` is a text format for storing and transporting data, and it is _self-describing_ and easy to understand.\n"
   ]
  },
  {
   "cell_type": "code",
   "execution_count": 143,
   "metadata": {},
   "outputs": [
    {
     "data": {
      "text/plain": [
       "{'skills': {'web': [{'name': 'html', 'years': 5}, {'name': 'css', 'years': 3}],\n",
       "  'database': [{'name': 'sql', 'years': 7}]}}"
      ]
     },
     "execution_count": 143,
     "metadata": {},
     "output_type": "execute_result"
    }
   ],
   "source": [
    "{\"skills\" : {\n",
    "  \"web\" : [\n",
    "    {\"name\" : \"html\",\n",
    "    \"years\" : 5},\n",
    "    {\"name\" : \"css\",\n",
    "    \"years\": 3}\n",
    "    ],\n",
    "  \"database\" : [\n",
    "    {\"name\" : \"sql\",\n",
    "    \"years\" : 7}\n",
    "    ]\n",
    "  }\n",
    "}"
   ]
  },
  {
   "cell_type": "markdown",
   "metadata": {},
   "source": [
    "## What is `JSON`?\n",
    "- `JSON` is a lightweight data-interchange format\n",
    "- `JSON` is plain text written in JavaScript object notation\n",
    "- `JSON` is used to send data between computers\n",
    "- `JSON` is language independent\n",
    "  - while `JSON` syntax is derived from JavaScript, the format itself is plain text and can be read and generated in many programming languages\n",
    "\n",
    "## Why use `JSON`?\n",
    "`JSON` is syntactically similar to the code for creating JavaScript objects. Because of this, JavaScript programs can easily convert `JSON` data into JavaScript objects.\n",
    "\n",
    "- `JSON.parse()` is a built-in function for converting `JSON` strings into JavaScript objects.\n",
    "- `JSON.stringify()` is a built-in function for converting an object into a `JSON` string.\n",
    "\n",
    "## `JSON` is like `XML`\n",
    "- Both are self-describing and human-readable\n",
    "- Both are hierarchical (able to be nested)\n",
    "- Both can be parsed and used by lots of programming languages\n",
    "- Both can be passed around using HTTP request\n",
    "\n",
    "## `JSON` is unlike `XML`\n",
    "- `JSON` has a tag name only at the beginning of an element, resulting in a smaller size\n",
    "- `JSON` is less verbose\n",
    "- `JSON` can include arrays, which leads to even smaller file sizes\n",
    "- `JSON` can't use reserved words from JavaScript as tags"
   ]
  },
  {
   "cell_type": "markdown",
   "metadata": {},
   "source": [
    "# Environment Variables\n",
    "Environment variables are a commonly used tool for storing sensitive information, such as credentials and API keys. They are stored outside of the codebase, usually in the server's environment, and can be referenced in the code as needed. This helps to prevent sensitive information from being accidentally leaked or exposed in the event of a codebase search.\n",
    "\n",
    "Proper security measures must be taken to ensure that the environment variables are secure. This may include implementing access controls, encryption, and monitoring for unauthorized access. Additionally, it's important to keep the environment variables updated and to rotate them regularly to minimize the risk of exposure."
   ]
  },
  {
   "cell_type": "markdown",
   "metadata": {},
   "source": [
    "# APIs in Python"
   ]
  },
  {
   "cell_type": "code",
   "execution_count": 144,
   "metadata": {},
   "outputs": [],
   "source": [
    "from dotenv import load_dotenv\n",
    "load_dotenv()\n",
    "\n",
    "import pandas as pd\n",
    "import requests\n",
    "import os"
   ]
  },
  {
   "cell_type": "code",
   "execution_count": 145,
   "metadata": {},
   "outputs": [],
   "source": [
    "FOURSQUARE_API_KEY = os.environ[\"FOURSQUARE_API_KEY\"]\n",
    "FOURSQUARE_CLIENT_ID = os.environ[\"FOURSQUARE_CLIENT_ID\"]\n",
    "FOURSQUARE_CLIENT_SECRET = os.environ[\"FOURSQUARE_CLIENT_SECRET\"]\n",
    "\n",
    "location = \"Toronto,Canada\""
   ]
  },
  {
   "cell_type": "code",
   "execution_count": 146,
   "metadata": {},
   "outputs": [],
   "source": [
    "url = \"https://api.foursquare.com/v3/places/search\"\n",
    "params = {\"near\" : location}\n",
    "headers = {\n",
    "  \"Accept\" : \"application/json\",\n",
    "  \"Authorization\" : FOURSQUARE_API_KEY}\n",
    "\n",
    "result = requests.get(url, params=params, headers=headers)"
   ]
  },
  {
   "cell_type": "code",
   "execution_count": 147,
   "metadata": {},
   "outputs": [
    {
     "data": {
      "text/html": [
       "<div>\n",
       "<style scoped>\n",
       "    .dataframe tbody tr th:only-of-type {\n",
       "        vertical-align: middle;\n",
       "    }\n",
       "\n",
       "    .dataframe tbody tr th {\n",
       "        vertical-align: top;\n",
       "    }\n",
       "\n",
       "    .dataframe thead th {\n",
       "        text-align: right;\n",
       "    }\n",
       "</style>\n",
       "<table border=\"1\" class=\"dataframe\">\n",
       "  <thead>\n",
       "    <tr style=\"text-align: right;\">\n",
       "      <th></th>\n",
       "      <th>fsq_id</th>\n",
       "      <th>categories</th>\n",
       "      <th>chains</th>\n",
       "      <th>distance</th>\n",
       "      <th>geocodes</th>\n",
       "      <th>link</th>\n",
       "      <th>location</th>\n",
       "      <th>name</th>\n",
       "      <th>related_places</th>\n",
       "      <th>timezone</th>\n",
       "    </tr>\n",
       "  </thead>\n",
       "  <tbody>\n",
       "    <tr>\n",
       "      <th>0</th>\n",
       "      <td>4fdc0e98e4b05197cd14912b</td>\n",
       "      <td>[{'id': 13003, 'name': 'Bar', 'icon': {'prefix...</td>\n",
       "      <td>[]</td>\n",
       "      <td>457</td>\n",
       "      <td>{'main': {'latitude': 43.703712, 'longitude': ...</td>\n",
       "      <td>/v3/places/4fdc0e98e4b05197cd14912b</td>\n",
       "      <td>{'address': '508 Eglinton Ave W', 'country': '...</td>\n",
       "      <td>The Abbot on Eglinton</td>\n",
       "      <td>{}</td>\n",
       "      <td>America/Toronto</td>\n",
       "    </tr>\n",
       "    <tr>\n",
       "      <th>1</th>\n",
       "      <td>4b0afc19f964a520212b23e3</td>\n",
       "      <td>[{'id': 16000, 'name': 'Landmarks and Outdoors...</td>\n",
       "      <td>[]</td>\n",
       "      <td>1304</td>\n",
       "      <td>{'main': {'latitude': 43.678243, 'longitude': ...</td>\n",
       "      <td>/v3/places/4b0afc19f964a520212b23e3</td>\n",
       "      <td>{'address': '100 Glen Rd', 'country': 'CA', 'c...</td>\n",
       "      <td>Cedarvale Park</td>\n",
       "      <td>{'children': [{'fsq_id': '61c4f0b4e565fe05c757...</td>\n",
       "      <td>America/Toronto</td>\n",
       "    </tr>\n",
       "    <tr>\n",
       "      <th>2</th>\n",
       "      <td>502e3a9e90e75889381c35ef</td>\n",
       "      <td>[{'id': 13097, 'name': 'Caribbean Restaurant',...</td>\n",
       "      <td>[]</td>\n",
       "      <td>1437</td>\n",
       "      <td>{'main': {'latitude': 43.709032, 'longitude': ...</td>\n",
       "      <td>/v3/places/502e3a9e90e75889381c35ef</td>\n",
       "      <td>{'address': '211 Yonge St', 'country': 'CA', '...</td>\n",
       "      <td>Ritz Caribbean Foods</td>\n",
       "      <td>{}</td>\n",
       "      <td>America/Toronto</td>\n",
       "    </tr>\n",
       "    <tr>\n",
       "      <th>3</th>\n",
       "      <td>4aec6b7df964a520e0c621e3</td>\n",
       "      <td>[{'id': 13035, 'name': 'Coffee Shop', 'icon': ...</td>\n",
       "      <td>[{'id': 'ab4c54c0-d68a-012e-5619-003048cad9da'...</td>\n",
       "      <td>1850</td>\n",
       "      <td>{'main': {'latitude': 43.710897, 'longitude': ...</td>\n",
       "      <td>/v3/places/4aec6b7df964a520e0c621e3</td>\n",
       "      <td>{'address': '2451 Yonge St', 'country': 'CA', ...</td>\n",
       "      <td>Starbucks</td>\n",
       "      <td>{}</td>\n",
       "      <td>America/Toronto</td>\n",
       "    </tr>\n",
       "    <tr>\n",
       "      <th>4</th>\n",
       "      <td>544d3b30498e333e2fa24c53</td>\n",
       "      <td>[{'id': 13034, 'name': 'Café', 'icon': {'prefi...</td>\n",
       "      <td>[]</td>\n",
       "      <td>2058</td>\n",
       "      <td>{'main': {'latitude': 43.707949, 'longitude': ...</td>\n",
       "      <td>/v3/places/544d3b30498e333e2fa24c53</td>\n",
       "      <td>{'address': '174 Eglinton Ave E', 'country': '...</td>\n",
       "      <td>Istanbul Cafe &amp; Espresso Bar</td>\n",
       "      <td>{}</td>\n",
       "      <td>America/Toronto</td>\n",
       "    </tr>\n",
       "  </tbody>\n",
       "</table>\n",
       "</div>"
      ],
      "text/plain": [
       "                     fsq_id  \\\n",
       "0  4fdc0e98e4b05197cd14912b   \n",
       "1  4b0afc19f964a520212b23e3   \n",
       "2  502e3a9e90e75889381c35ef   \n",
       "3  4aec6b7df964a520e0c621e3   \n",
       "4  544d3b30498e333e2fa24c53   \n",
       "\n",
       "                                          categories  \\\n",
       "0  [{'id': 13003, 'name': 'Bar', 'icon': {'prefix...   \n",
       "1  [{'id': 16000, 'name': 'Landmarks and Outdoors...   \n",
       "2  [{'id': 13097, 'name': 'Caribbean Restaurant',...   \n",
       "3  [{'id': 13035, 'name': 'Coffee Shop', 'icon': ...   \n",
       "4  [{'id': 13034, 'name': 'Café', 'icon': {'prefi...   \n",
       "\n",
       "                                              chains  distance  \\\n",
       "0                                                 []       457   \n",
       "1                                                 []      1304   \n",
       "2                                                 []      1437   \n",
       "3  [{'id': 'ab4c54c0-d68a-012e-5619-003048cad9da'...      1850   \n",
       "4                                                 []      2058   \n",
       "\n",
       "                                            geocodes  \\\n",
       "0  {'main': {'latitude': 43.703712, 'longitude': ...   \n",
       "1  {'main': {'latitude': 43.678243, 'longitude': ...   \n",
       "2  {'main': {'latitude': 43.709032, 'longitude': ...   \n",
       "3  {'main': {'latitude': 43.710897, 'longitude': ...   \n",
       "4  {'main': {'latitude': 43.707949, 'longitude': ...   \n",
       "\n",
       "                                  link  \\\n",
       "0  /v3/places/4fdc0e98e4b05197cd14912b   \n",
       "1  /v3/places/4b0afc19f964a520212b23e3   \n",
       "2  /v3/places/502e3a9e90e75889381c35ef   \n",
       "3  /v3/places/4aec6b7df964a520e0c621e3   \n",
       "4  /v3/places/544d3b30498e333e2fa24c53   \n",
       "\n",
       "                                            location  \\\n",
       "0  {'address': '508 Eglinton Ave W', 'country': '...   \n",
       "1  {'address': '100 Glen Rd', 'country': 'CA', 'c...   \n",
       "2  {'address': '211 Yonge St', 'country': 'CA', '...   \n",
       "3  {'address': '2451 Yonge St', 'country': 'CA', ...   \n",
       "4  {'address': '174 Eglinton Ave E', 'country': '...   \n",
       "\n",
       "                           name  \\\n",
       "0         The Abbot on Eglinton   \n",
       "1                Cedarvale Park   \n",
       "2          Ritz Caribbean Foods   \n",
       "3                     Starbucks   \n",
       "4  Istanbul Cafe & Espresso Bar   \n",
       "\n",
       "                                      related_places         timezone  \n",
       "0                                                 {}  America/Toronto  \n",
       "1  {'children': [{'fsq_id': '61c4f0b4e565fe05c757...  America/Toronto  \n",
       "2                                                 {}  America/Toronto  \n",
       "3                                                 {}  America/Toronto  \n",
       "4                                                 {}  America/Toronto  "
      ]
     },
     "execution_count": 147,
     "metadata": {},
     "output_type": "execute_result"
    }
   ],
   "source": [
    "df = pd.DataFrame(result.json()['results'])\n",
    "df.head(5)"
   ]
  },
  {
   "cell_type": "markdown",
   "metadata": {},
   "source": [
    "## Types of APIs\n",
    "There are three types: `ownership`, `communication`, and `web service`.\n",
    "\n",
    "#### Ownership Type\n",
    "- `Open` APIs: These APIs are publicly available to use and generally unrestricted. Also known as `Public` APIs.\n",
    "- `Partner` APIs: These APIs require specific rights or licenses, which are often tied to paid services or subscriptions.\n",
    "- `Internal` APIs: These are developed by companies to use for internal systems. Also known as `Private` APIs.\n",
    "- `Composite` APIs\n",
    "\n",
    "#### Communication Type\n",
    "- `High-Level`: Often presented in REST form. High-level of abstraction with limited functionality.\n",
    "- `Low-level`: Allows users to manipulate functions within an application module or within hardware at a granular level. Often used to send real-time video or media feed in response to a trigger.\n",
    "\n",
    "#### Web Service Type\n",
    "Web service APIs are classified on their behavioral approach. There are 4 kinds:\n",
    "- `SOAP` Simple Object Access Protocol offers comprehensive security, built-in ACID (Atomicity, Consistency, Isolation, and Durability) compliance and retry logic for reliable messaging functionality. Suitable for enterprise applications dealing with banking transactions, LDAP interaction, and more. Uses XML format for transferring structured, function-driven information. For security, SOAP calls cannot be cached and has strict communication protocols that makes it more difficult to make changes and updates.\n",
    "- `XML-RPC` Extensible Markup Language - Remote Procedure Calls is a protocol that uses a specific XML format to transfer data. Simpler and older than SOAP.\n",
    "- `JSON-RPC` JSON - Remote Procedure Calls is a protocol that uses JSON format to transfer data. RPC calls are one of the methods that are used by services to communicate in a microservice architecture.\n",
    "- `REST` Representational State Transfer is a data-driven architectural style used to build REST APIs. REST APIs are based on URI's (Uniform Resource Identifier) HTTP protocol and uses JSON for data formatting, making it browser-agnostic. REST APIs are also easy to build and scale. REST APIs do not store any state about the client session on the server. This restriction is what makes it stateless. Each request from the client to server must contain all of the information necessary to understand the request, and it cannot take advantage of any stored context on the server.\n",
    "\n"
   ]
  },
  {
   "cell_type": "markdown",
   "metadata": {},
   "source": [
    "## What is REST?\n",
    "> `REST` was defined by Roy Fielding, a computer scientist. He presented the `REST` principles in his PhD dissertation in 2000.\n",
    "\n",
    "`REST` depends on two important components:\n",
    "- `client`: a person or software that uses or calls an API.\n",
    "- `resource`: any object the API can provide information about, like a user, a photo, or a hashtag. Each resource has a unique identifier. The identifier can be a name or a number.\n",
    "\n",
    "A `REST`-ful web application exposes information about itself in the form of information about its resources. It also enables the client to take actions on those resources, such as create new resources or change existing resources. However, a `REST`-ful API is constrained to ensure that it is easy to use and easier to discover.\n",
    "\n",
    "> `REST` stands for **RE**presentational **S**tate **T**ransfer. When a `REST`-ful API is called, the server will *transfer* to the client a *representation* of the *state* of the requested resource. The representation of the state can be in a `JSON` format, but it can also be in `XML` or `HTML` format.\n",
    "\n",
    "What the server does when its called depends on 2 things:\n",
    "1. An identifier for the resource called. This is the URL for the resource, also known as the **endpoint**. Hence, the monicker `Uniform Resource Locator`.\n",
    "2. The operation to perform on that resource, in the form of an `HTTP` method or verb. The common `HTTP` methods are `GET`, `POST`, `PUT`, and `DELETE`."
   ]
  },
  {
   "cell_type": "markdown",
   "metadata": {},
   "source": [
    "The constraints:\n",
    "- Uniform interface\n",
    "- Client-server separation\n",
    "- Stateless\n",
    "- Layered system\n",
    "- Cache-able\n",
    "- Code-on-Demand"
   ]
  },
  {
   "cell_type": "markdown",
   "metadata": {},
   "source": [
    "### Uniform Interface\n",
    "1. The `request` to the server has to include a resource identifier.\n",
    "2. The `response` returned includes enough information so the client can modify the resource.\n",
    "3. Each `request` to the API contains all the information the server needs to perform the `request`, and each `response` returned contains all the information the client needs to understand the response.\n",
    "4. `hypermedia` as the engine of the application site. This refers to the `hyperlinks` or `links` that the server can include in the `response`. This allows the sever to inform the client of the ways to change the state of the web application. This response will include tags with links to other resources as nodes or states\n",
    "\n",
    "### Client-Server Separation\n",
    "The client and the server act independently. The interaction between them is limited to requests and responses. The server doesn't respond if a request isn't made.\n",
    "\n",
    "### Stateless\n",
    "Stateless means the server does not remember anything about the user who uses the API. It doesn't have any memory of previous requests, and as such, each request is contextless. But that also means each request must contain all the information the server needs to perform the request and return a response.\n",
    "\n",
    "### Layered System\n",
    "Between the client who requests a representation of a resource's state and the server sending the response back, there may be a number of intermediary servers that provide different functions called layers. This may be security layers, caching layers, load-balancing layers, etc. The layers do not add or subtract from teh request nor the response. The client is agnostic to the layers in both function and quantity.\n",
    "\n",
    "### Cache-able\n",
    "The date the server sends contain information about whether or not the data is cache-able. If it is, it may contain versioning. The version number is what makes caching possible. Because the client knows which version of the data it already has, the client can avoid requesting the same data again and again. The client should also know if the current version of the data is expired, in which case the client will know it should send another request to the server to get the most updated data about the state of a resource.\n",
    "\n",
    "### Code-On-Demand (Optional)\n",
    "APIs can be REST-ful without providing code-on-demand. The client can request code from the server, and then the response from the server will contain some code, usually in the form of a script when the response is in `HTML` format. The client can then execute the code."
   ]
  },
  {
   "cell_type": "markdown",
   "metadata": {},
   "source": [
    "# `requests`\n",
    "The `requests` library is the de-facto standard for making HTTP requests in Python. It abstracts the complexities of making requests behind a simple API to make interaction and consumption of application data convenient.\n",
    "\n",
    "### `GET` Requests"
   ]
  },
  {
   "cell_type": "code",
   "execution_count": 148,
   "metadata": {},
   "outputs": [
    {
     "data": {
      "text/plain": [
       "<Response [200]>"
      ]
     },
     "execution_count": 148,
     "metadata": {},
     "output_type": "execute_result"
    }
   ],
   "source": [
    "import requests\n",
    "\n",
    "url = \"https://api.github.com\"\n",
    "\n",
    "requests.get(url)"
   ]
  },
  {
   "cell_type": "markdown",
   "metadata": {},
   "source": [
    "### The `Response`\n",
    "A `Response` is an object for inspecting the results of the `requests`."
   ]
  },
  {
   "cell_type": "code",
   "execution_count": 149,
   "metadata": {},
   "outputs": [],
   "source": [
    "# storing the value of the results from the request\n",
    "response = requests.get(url)"
   ]
  },
  {
   "cell_type": "code",
   "execution_count": 150,
   "metadata": {},
   "outputs": [
    {
     "name": "stdout",
     "output_type": "stream",
     "text": [
      "Success!\n"
     ]
    }
   ],
   "source": [
    "# using the response status code\n",
    "if response.status_code == 200:\n",
    "  print(\"Success!\")\n",
    "elif response.status_code == 400:\n",
    "  print(\"Not found.\")"
   ]
  },
  {
   "cell_type": "markdown",
   "metadata": {},
   "source": [
    "`requests` can go a step further by simplifying this process. If `Response` is used in a conditional, it will evaluate to `True` if the status code is between `200` to `400` and `False` otherwise. This will not verify the status code--which deals with the status of the response--but an error in the connection itself."
   ]
  },
  {
   "cell_type": "code",
   "execution_count": 151,
   "metadata": {},
   "outputs": [
    {
     "name": "stdout",
     "output_type": "stream",
     "text": [
      "Success!\n"
     ]
    }
   ],
   "source": [
    "# using response itself\n",
    "if response:\n",
    "  print(\"Success!\")\n",
    "else:\n",
    "  print(\"An error has occurred.\")"
   ]
  },
  {
   "cell_type": "markdown",
   "metadata": {},
   "source": [
    "To raise an exception if the `request` was unsuccessful, call the `.raise_for_status()` instead. An `HTTPError` is raised for certain status codes (in this case: 404).  "
   ]
  },
  {
   "cell_type": "code",
   "execution_count": 152,
   "metadata": {},
   "outputs": [
    {
     "name": "stdout",
     "output_type": "stream",
     "text": [
      "200\n",
      "Success!\n",
      "404\n",
      "HTTP error occurred: 404 Client Error: Not Found for url: https://api.github.com/invalid\n"
     ]
    }
   ],
   "source": [
    "from requests.exceptions import HTTPError\n",
    "\n",
    "for url in ['https://api.github.com', 'https://api.github.com/invalid']:\n",
    "  try:\n",
    "    response = requests.get(url)\n",
    "    print(response.status_code)\n",
    "    response.raise_for_status()\n",
    "  except HTTPError as http_err:\n",
    "    print(f\"HTTP error occurred: {http_err}\") # Python 3.6\n",
    "  except Exception as err:\n",
    "    print(f\"Other error occurred: {err}\") # Python 3.6\n",
    "  else:\n",
    "    print(\"Success!\")"
   ]
  },
  {
   "cell_type": "markdown",
   "metadata": {},
   "source": [
    "### Content\n",
    "The response of a `GET` request contains the payload (valuable information) in the message body. Using the attributes and methods of `Response`, the payload can be viewed in a variety of formats."
   ]
  },
  {
   "cell_type": "code",
   "execution_count": 153,
   "metadata": {},
   "outputs": [
    {
     "name": "stdout",
     "output_type": "stream",
     "text": [
      "200\n",
      "b'{\\n  \"current_user_url\": \"https://api.github.com/user\",\\n  \"current_user_authorizations_html_url\": \"https://github.com/settings/connections/applications{/client_id}\",\\n  \"authorizations_url\": \"https://api.github.com/authorizations\",\\n  \"code_search_url\": \"https://api.github.com/search/code?q={query}{&page,per_page,sort,order}\",\\n  \"commit_search_url\": \"https://api.github.com/search/commits?q={query}{&page,per_page,sort,order}\",\\n  \"emails_url\": \"https://api.github.com/user/emails\",\\n  \"emojis_url\": \"https://api.github.com/emojis\",\\n  \"events_url\": \"https://api.github.com/events\",\\n  \"feeds_url\": \"https://api.github.com/feeds\",\\n  \"followers_url\": \"https://api.github.com/user/followers\",\\n  \"following_url\": \"https://api.github.com/user/following{/target}\",\\n  \"gists_url\": \"https://api.github.com/gists{/gist_id}\",\\n  \"hub_url\": \"https://api.github.com/hub\",\\n  \"issue_search_url\": \"https://api.github.com/search/issues?q={query}{&page,per_page,sort,order}\",\\n  \"issues_url\": \"https://api.github.com/issues\",\\n  \"keys_url\": \"https://api.github.com/user/keys\",\\n  \"label_search_url\": \"https://api.github.com/search/labels?q={query}&repository_id={repository_id}{&page,per_page}\",\\n  \"notifications_url\": \"https://api.github.com/notifications\",\\n  \"organization_url\": \"https://api.github.com/orgs/{org}\",\\n  \"organization_repositories_url\": \"https://api.github.com/orgs/{org}/repos{?type,page,per_page,sort}\",\\n  \"organization_teams_url\": \"https://api.github.com/orgs/{org}/teams\",\\n  \"public_gists_url\": \"https://api.github.com/gists/public\",\\n  \"rate_limit_url\": \"https://api.github.com/rate_limit\",\\n  \"repository_url\": \"https://api.github.com/repos/{owner}/{repo}\",\\n  \"repository_search_url\": \"https://api.github.com/search/repositories?q={query}{&page,per_page,sort,order}\",\\n  \"current_user_repositories_url\": \"https://api.github.com/user/repos{?type,page,per_page,sort}\",\\n  \"starred_url\": \"https://api.github.com/user/starred{/owner}{/repo}\",\\n  \"starred_gists_url\": \"https://api.github.com/gists/starred\",\\n  \"topic_search_url\": \"https://api.github.com/search/topics?q={query}{&page,per_page}\",\\n  \"user_url\": \"https://api.github.com/users/{user}\",\\n  \"user_organizations_url\": \"https://api.github.com/user/orgs\",\\n  \"user_repositories_url\": \"https://api.github.com/users/{user}/repos{?type,page,per_page,sort}\",\\n  \"user_search_url\": \"https://api.github.com/search/users?q={query}{&page,per_page,sort,order}\"\\n}\\n'\n",
      "{\n",
      "  \"current_user_url\": \"https://api.github.com/user\",\n",
      "  \"current_user_authorizations_html_url\": \"https://github.com/settings/connections/applications{/client_id}\",\n",
      "  \"authorizations_url\": \"https://api.github.com/authorizations\",\n",
      "  \"code_search_url\": \"https://api.github.com/search/code?q={query}{&page,per_page,sort,order}\",\n",
      "  \"commit_search_url\": \"https://api.github.com/search/commits?q={query}{&page,per_page,sort,order}\",\n",
      "  \"emails_url\": \"https://api.github.com/user/emails\",\n",
      "  \"emojis_url\": \"https://api.github.com/emojis\",\n",
      "  \"events_url\": \"https://api.github.com/events\",\n",
      "  \"feeds_url\": \"https://api.github.com/feeds\",\n",
      "  \"followers_url\": \"https://api.github.com/user/followers\",\n",
      "  \"following_url\": \"https://api.github.com/user/following{/target}\",\n",
      "  \"gists_url\": \"https://api.github.com/gists{/gist_id}\",\n",
      "  \"hub_url\": \"https://api.github.com/hub\",\n",
      "  \"issue_search_url\": \"https://api.github.com/search/issues?q={query}{&page,per_page,sort,order}\",\n",
      "  \"issues_url\": \"https://api.github.com/issues\",\n",
      "  \"keys_url\": \"https://api.github.com/user/keys\",\n",
      "  \"label_search_url\": \"https://api.github.com/search/labels?q={query}&repository_id={repository_id}{&page,per_page}\",\n",
      "  \"notifications_url\": \"https://api.github.com/notifications\",\n",
      "  \"organization_url\": \"https://api.github.com/orgs/{org}\",\n",
      "  \"organization_repositories_url\": \"https://api.github.com/orgs/{org}/repos{?type,page,per_page,sort}\",\n",
      "  \"organization_teams_url\": \"https://api.github.com/orgs/{org}/teams\",\n",
      "  \"public_gists_url\": \"https://api.github.com/gists/public\",\n",
      "  \"rate_limit_url\": \"https://api.github.com/rate_limit\",\n",
      "  \"repository_url\": \"https://api.github.com/repos/{owner}/{repo}\",\n",
      "  \"repository_search_url\": \"https://api.github.com/search/repositories?q={query}{&page,per_page,sort,order}\",\n",
      "  \"current_user_repositories_url\": \"https://api.github.com/user/repos{?type,page,per_page,sort}\",\n",
      "  \"starred_url\": \"https://api.github.com/user/starred{/owner}{/repo}\",\n",
      "  \"starred_gists_url\": \"https://api.github.com/gists/starred\",\n",
      "  \"topic_search_url\": \"https://api.github.com/search/topics?q={query}{&page,per_page}\",\n",
      "  \"user_url\": \"https://api.github.com/users/{user}\",\n",
      "  \"user_organizations_url\": \"https://api.github.com/user/orgs\",\n",
      "  \"user_repositories_url\": \"https://api.github.com/users/{user}/repos{?type,page,per_page,sort}\",\n",
      "  \"user_search_url\": \"https://api.github.com/search/users?q={query}{&page,per_page,sort,order}\"\n",
      "}\n",
      "\n"
     ]
    },
    {
     "data": {
      "text/plain": [
       "{'current_user_url': 'https://api.github.com/user',\n",
       " 'current_user_authorizations_html_url': 'https://github.com/settings/connections/applications{/client_id}',\n",
       " 'authorizations_url': 'https://api.github.com/authorizations',\n",
       " 'code_search_url': 'https://api.github.com/search/code?q={query}{&page,per_page,sort,order}',\n",
       " 'commit_search_url': 'https://api.github.com/search/commits?q={query}{&page,per_page,sort,order}',\n",
       " 'emails_url': 'https://api.github.com/user/emails',\n",
       " 'emojis_url': 'https://api.github.com/emojis',\n",
       " 'events_url': 'https://api.github.com/events',\n",
       " 'feeds_url': 'https://api.github.com/feeds',\n",
       " 'followers_url': 'https://api.github.com/user/followers',\n",
       " 'following_url': 'https://api.github.com/user/following{/target}',\n",
       " 'gists_url': 'https://api.github.com/gists{/gist_id}',\n",
       " 'hub_url': 'https://api.github.com/hub',\n",
       " 'issue_search_url': 'https://api.github.com/search/issues?q={query}{&page,per_page,sort,order}',\n",
       " 'issues_url': 'https://api.github.com/issues',\n",
       " 'keys_url': 'https://api.github.com/user/keys',\n",
       " 'label_search_url': 'https://api.github.com/search/labels?q={query}&repository_id={repository_id}{&page,per_page}',\n",
       " 'notifications_url': 'https://api.github.com/notifications',\n",
       " 'organization_url': 'https://api.github.com/orgs/{org}',\n",
       " 'organization_repositories_url': 'https://api.github.com/orgs/{org}/repos{?type,page,per_page,sort}',\n",
       " 'organization_teams_url': 'https://api.github.com/orgs/{org}/teams',\n",
       " 'public_gists_url': 'https://api.github.com/gists/public',\n",
       " 'rate_limit_url': 'https://api.github.com/rate_limit',\n",
       " 'repository_url': 'https://api.github.com/repos/{owner}/{repo}',\n",
       " 'repository_search_url': 'https://api.github.com/search/repositories?q={query}{&page,per_page,sort,order}',\n",
       " 'current_user_repositories_url': 'https://api.github.com/user/repos{?type,page,per_page,sort}',\n",
       " 'starred_url': 'https://api.github.com/user/starred{/owner}{/repo}',\n",
       " 'starred_gists_url': 'https://api.github.com/gists/starred',\n",
       " 'topic_search_url': 'https://api.github.com/search/topics?q={query}{&page,per_page}',\n",
       " 'user_url': 'https://api.github.com/users/{user}',\n",
       " 'user_organizations_url': 'https://api.github.com/user/orgs',\n",
       " 'user_repositories_url': 'https://api.github.com/users/{user}/repos{?type,page,per_page,sort}',\n",
       " 'user_search_url': 'https://api.github.com/search/users?q={query}{&page,per_page,sort,order}'}"
      ]
     },
     "execution_count": 153,
     "metadata": {},
     "output_type": "execute_result"
    }
   ],
   "source": [
    "url = 'https://api.github.com/'\n",
    "response = requests.get(url)\n",
    "print(response.status_code)\n",
    "print(response.content) # access to the raw bytes of the response payload\n",
    "print(response.text) # access to the response payload as a string, encoded with UTF-8\n",
    "response.json() # access to the response payload as a JSON"
   ]
  },
  {
   "cell_type": "markdown",
   "metadata": {},
   "source": [
    "### Headers\n",
    "The `response` headers can provide useful information additional to the `content` such as the `content-type`, `server` information, `date`, etc."
   ]
  },
  {
   "cell_type": "code",
   "execution_count": 154,
   "metadata": {},
   "outputs": [
    {
     "name": "stdout",
     "output_type": "stream",
     "text": [
      "application/json; charset=utf-8\n",
      "application/json; charset=utf-8\n"
     ]
    }
   ],
   "source": [
    "print(response.headers[\"Content-Type\"])\n",
    "print(response.headers[\"content-type\"]) # case-insensitive"
   ]
  },
  {
   "cell_type": "markdown",
   "metadata": {},
   "source": [
    "### Query String Parameters\n",
    "One common way to customize a `GET` request is to pass values through parameters in the URL. To do this using `get`, `params` data is passed."
   ]
  },
  {
   "cell_type": "code",
   "execution_count": 155,
   "metadata": {},
   "outputs": [
    {
     "name": "stdout",
     "output_type": "stream",
     "text": [
      "Repository name: grequests\n",
      "Repository description: Requests + Gevent = <3\n"
     ]
    }
   ],
   "source": [
    "# define parameters\n",
    "url = \"https://api.github.com/search/repositories\"\n",
    "params = { \"q\" : \"requests+language:python\" }\n",
    "\n",
    "# GET request\n",
    "response = requests.get(url, params=params)\n",
    "\n",
    "json_res = response.json()\n",
    "repository = json_res[\"items\"][0]\n",
    "print(f\"Repository name: {repository['name']}\")\n",
    "print(f\"Repository description: {repository['description']}\")"
   ]
  },
  {
   "cell_type": "markdown",
   "metadata": {},
   "source": [
    "### Request Headers\n",
    "To customize headers, pass a `dict` of HTTP headers to `get` using the `headers` parameter. The `Accept` header tells the server what `content-types` the application can handle.Let's highlight matching search terms in the results by specifying the `text-match` media type in the `Accept` header using a proprietary GitHub `Accept` header where the content is a special `JSON` format:"
   ]
  },
  {
   "cell_type": "code",
   "execution_count": 156,
   "metadata": {},
   "outputs": [
    {
     "name": "stdout",
     "output_type": "stream",
     "text": [
      "Text matches: [{'object_url': 'https://api.github.com/repositories/4290214', 'object_type': 'Repository', 'property': 'description', 'fragment': 'Requests + Gevent = <3', 'matches': [{'text': 'Requests', 'indices': [0, 8]}]}]\n"
     ]
    }
   ],
   "source": [
    "headers = { \"Accept\" : \"application/vnd.github.v3.text-match+json\" }\n",
    "\n",
    "response = requests.get(\n",
    "  url,\n",
    "  params=params,\n",
    "  headers=headers)\n",
    "\n",
    "# view the new `text-matches` array which provides information about your search term within the results\n",
    "json_res = response.json()\n",
    "repository = json_res[\"items\"][0]\n",
    "print(f\"Text matches: {repository['text_matches']}\")"
   ]
  },
  {
   "cell_type": "markdown",
   "metadata": {},
   "source": [
    "### Other HTTP Methods\n",
    "Aside from `GET`, other popular HTTP methods include `POST`, `PUT`, `DELETE`, `HEAD`, `PATCH`, and `OPTIONS`. `requests` provides equivalent methods for each of these HTTP methods. And for each function call that makes these requests, they can be inspected in the same way that a `GET` method is inspected."
   ]
  },
  {
   "cell_type": "code",
   "execution_count": 157,
   "metadata": {},
   "outputs": [
    {
     "data": {
      "text/plain": [
       "<Response [200]>"
      ]
     },
     "execution_count": 157,
     "metadata": {},
     "output_type": "execute_result"
    }
   ],
   "source": [
    "requests.post('https://httpbin.org/post', data={'key':'value'})\n",
    "requests.put('https://httpbin.org/put', data={'key':'value'})\n",
    "requests.delete('https://httpbin.org/delete')\n",
    "requests.head('https://httpbin.org/get')\n",
    "requests.patch('https://httpbin.org/patch', data={'key':'value'})\n",
    "requests.options('https://httpbin.org/get')"
   ]
  },
  {
   "cell_type": "code",
   "execution_count": 158,
   "metadata": {},
   "outputs": [
    {
     "data": {
      "text/plain": [
       "'application/json'"
      ]
     },
     "execution_count": 158,
     "metadata": {},
     "output_type": "execute_result"
    }
   ],
   "source": [
    "response = requests.head('https://httpbin.org/get')\n",
    "response.headers['Content-Type']"
   ]
  },
  {
   "cell_type": "code",
   "execution_count": 159,
   "metadata": {},
   "outputs": [
    {
     "data": {
      "text/plain": [
       "{}"
      ]
     },
     "execution_count": 159,
     "metadata": {},
     "output_type": "execute_result"
    }
   ],
   "source": [
    "response = requests.delete('https://httpbin.org/delete')\n",
    "json_response = response.json()\n",
    "json_response['args']"
   ]
  },
  {
   "cell_type": "markdown",
   "metadata": {},
   "source": [
    "### The Message Body\n",
    "According to the HTTP specification, `POST`, `PUT`, and the less common `PATCH` requests pass their data through the message body rather than through parameters in the query string. But using `requests`, the payload can be passed to the corresponding function's `data` parameter."
   ]
  },
  {
   "cell_type": "markdown",
   "metadata": {},
   "source": [
    "\n",
    "`data` takes a dictionary, a list of tuples, bytes, or a file-like object. It depends on the needs of the service. However, if the data is a `JSON` format, the `json` parameter can be used. `requests` will automatically serialize the data and add the correct `Content-Type` header to interpret the data."
   ]
  },
  {
   "cell_type": "code",
   "execution_count": 160,
   "metadata": {},
   "outputs": [
    {
     "name": "stdout",
     "output_type": "stream",
     "text": [
      "{\"key\": \"value\"}\n",
      "application/json\n"
     ]
    }
   ],
   "source": [
    "# passing data as dicts and list tuples\n",
    "requests.post('https://httpbin.org/post', data={'key':'value'})\n",
    "requests.post('https://httpbin.org/post', data=[('key','value')])\n",
    "\n",
    "# passing data in json format\n",
    "response = requests.post('https://httpbin.org/post', json={\"key\":\"value\"})\n",
    "json_response = response.json()\n",
    "print(json_response[\"data\"])\n",
    "print(json_response[\"headers\"][\"Content-Type\"])"
   ]
  },
  {
   "cell_type": "markdown",
   "metadata": {},
   "source": [
    "The `response` indicates that the request data and headers were received. `requests` also provides this information in the form of a `PreparedRequest`."
   ]
  },
  {
   "cell_type": "markdown",
   "metadata": {},
   "source": [
    "### Inspecting the Request\n",
    "When making requests, the `requests` library prepares the request before sending it to the destination server. Request preparation includes things like validating headers and serializing JSON content."
   ]
  },
  {
   "cell_type": "code",
   "execution_count": 161,
   "metadata": {},
   "outputs": [
    {
     "name": "stdout",
     "output_type": "stream",
     "text": [
      "application/json\n",
      "https://httpbin.org/post\n",
      "b'{\"key\": \"value\"}'\n"
     ]
    }
   ],
   "source": [
    "response = requests.post('https://httpbin.org/post', json={'key' : 'value'})\n",
    "print(response.request.headers['Content-Type'])\n",
    "print(response.request.url)\n",
    "print(response.request.body)"
   ]
  },
  {
   "cell_type": "markdown",
   "metadata": {},
   "source": [
    "Inspecting the `PreparedRequest` gives access to all kinds of information about the `request` being made such as payload, URL, headers, authentication, and more."
   ]
  },
  {
   "cell_type": "markdown",
   "metadata": {},
   "source": [
    "### Authentication\n",
    "Credentials are provided to a server by passing data through the `Authorization` header or a custom header defined by the service. All the `request` functions provide a parameter called `auth`, which allows the client to pass credential data.\n",
    "\n",
    "> The `getpass()` module prompts the user for `str` information to pass in place of where it is called."
   ]
  },
  {
   "cell_type": "code",
   "execution_count": 162,
   "metadata": {},
   "outputs": [
    {
     "data": {
      "text/plain": [
       "<Response [401]>"
      ]
     },
     "execution_count": 162,
     "metadata": {},
     "output_type": "execute_result"
    }
   ],
   "source": [
    "from getpass import getpass\n",
    "requests.get('https://api.github.com/user', auth=('username', getpass()))"
   ]
  },
  {
   "cell_type": "markdown",
   "metadata": {},
   "source": [
    "When a username and password in a tuple to the `auth` parameter, `requests` is applying the credentials using HTTP's `basic access authentication scheme` in the background. The same request can be made by passing explicit Basic authentication credentials using `HTTPBasicAuth`."
   ]
  },
  {
   "cell_type": "code",
   "execution_count": 163,
   "metadata": {},
   "outputs": [
    {
     "data": {
      "text/plain": [
       "<Response [401]>"
      ]
     },
     "execution_count": 163,
     "metadata": {},
     "output_type": "execute_result"
    }
   ],
   "source": [
    "from requests.auth import HTTPBasicAuth\n",
    "from getpass import getpass\n",
    "\n",
    "requests.get(\n",
    "  'http://api.github.com/user',\n",
    "  auth=HTTPBasicAuth('username', getpass())\n",
    ")"
   ]
  },
  {
   "cell_type": "markdown",
   "metadata": {},
   "source": [
    "`requests` provides other methods of authentication out of the box such as `HTTPDigestAuth` and `HTTPProxyAuth`. A custom authentication mechanism can also be implemented by creating a subclass of `AuthBase` and implementing the function, `__call__()`, inside the subclass."
   ]
  },
  {
   "cell_type": "code",
   "execution_count": 166,
   "metadata": {},
   "outputs": [
    {
     "data": {
      "text/plain": [
       "<Response [200]>"
      ]
     },
     "execution_count": 166,
     "metadata": {},
     "output_type": "execute_result"
    }
   ],
   "source": [
    "from requests.auth import AuthBase\n",
    "\n",
    "class TokenAuth(AuthBase):\n",
    "  \"\"\"Implements a custom authentication scheme.\"\"\"\n",
    "  \n",
    "  def __init__(self, token):\n",
    "    self.token = token\n",
    "  \n",
    "  def __call__(self, r):\n",
    "    \"\"\"Attach an API token to a custom auth header.\"\"\"\n",
    "    r.headers['X-TokenAuth'] = f'{self.token}'\n",
    "    return r\n",
    "\n",
    "requests.get('https://httpbin.org/get', auth=TokenAuth('12345abcde-token'))"
   ]
  },
  {
   "cell_type": "markdown",
   "metadata": {},
   "source": [
    "The `TokenAuth` mechanism receives a `token`, then includes that `token` in the `X-TokenAuth` header of the request. However, bad authentication mechanisms can lead to security vulnerabilities. Unless a service requires a custom authentication mechanism, it is best to use a tested `auth` scheme such as `Basic` or `OAuth`."
   ]
  },
  {
   "cell_type": "markdown",
   "metadata": {},
   "source": [
    "### SSL Certificate Verification\n",
    "If data being sent is sensitive, security is important. Communicating with secure sites over HTTP requires establishing encrypted connections using `SSL`. `requests` does this by default. However, it may be prudent to change this behavior for specific use-cases. To disable `SSL` Certificate verification:"
   ]
  },
  {
   "cell_type": "code",
   "execution_count": 167,
   "metadata": {},
   "outputs": [
    {
     "name": "stderr",
     "output_type": "stream",
     "text": [
      "/opt/homebrew/Caskroom/miniforge/base/envs/main-dev/lib/python3.11/site-packages/urllib3/connectionpool.py:1095: InsecureRequestWarning: Unverified HTTPS request is being made to host 'api.github.com'. Adding certificate verification is strongly advised. See: https://urllib3.readthedocs.io/en/latest/advanced-usage.html#tls-warnings\n",
      "  warnings.warn(\n"
     ]
    },
    {
     "data": {
      "text/plain": [
       "<Response [200]>"
      ]
     },
     "execution_count": 167,
     "metadata": {},
     "output_type": "execute_result"
    }
   ],
   "source": [
    "requests.get('https://api.github.com', verify=False)"
   ]
  },
  {
   "cell_type": "markdown",
   "metadata": {},
   "source": [
    "`requests` will throw a warning whenever an insecure request is made to ensure that the data passed remains secure."
   ]
  },
  {
   "cell_type": "markdown",
   "metadata": {},
   "source": [
    "### Performance\n",
    "When using `requests`, it's important to consider performance implications. Features such as timeout control, sessions, and retry limits can help keep applications running smoothly.\n",
    "\n",
    "##### Timeouts\n",
    "When requests are made to an external service, the client will need to wait for the response before moving on. If the application waits too long, requests can backlog, user experience could suffer, and background jobs can hang.\n",
    "\n",
    "By default, `requests` will wait indefinitely on the response. It is prudent to specify a `timeout` duration to prevent such issues from surfacing. To set a timeout, a `timeout` parameter can be specified. This parameter is an integer or a float representing the number of seconds to wait on a response before timing out."
   ]
  },
  {
   "cell_type": "code",
   "execution_count": 169,
   "metadata": {},
   "outputs": [
    {
     "data": {
      "text/plain": [
       "<Response [200]>"
      ]
     },
     "execution_count": 169,
     "metadata": {},
     "output_type": "execute_result"
    }
   ],
   "source": [
    "requests.get('https://api.github.com', timeout=1) # 1 second timeout\n",
    "requests.get('https://api.github.com', timeout=3.05) # 3.05 second timeout"
   ]
  },
  {
   "cell_type": "markdown",
   "metadata": {},
   "source": [
    "Passing a `tuple` allows the user to specify the following: `(connect timeout, read timeout)`.\n",
    "- `connect timeout` is the time it allows for the client to establish a connection to the server.\n",
    "- `read timeout` is the time it will wait on a response once the client has established a connection."
   ]
  },
  {
   "cell_type": "code",
   "execution_count": 170,
   "metadata": {},
   "outputs": [
    {
     "data": {
      "text/plain": [
       "<Response [200]>"
      ]
     },
     "execution_count": 170,
     "metadata": {},
     "output_type": "execute_result"
    }
   ],
   "source": [
    "requests.get('https://api.github.com', timeout=(2, 5))"
   ]
  },
  {
   "cell_type": "markdown",
   "metadata": {},
   "source": [
    "If the request times out, then the function will raise a `Timeout` exception:"
   ]
  },
  {
   "cell_type": "code",
   "execution_count": 171,
   "metadata": {},
   "outputs": [
    {
     "name": "stdout",
     "output_type": "stream",
     "text": [
      "The request did not time out.\n"
     ]
    }
   ],
   "source": [
    "from requests.exceptions import Timeout\n",
    "\n",
    "try:\n",
    "  response = requests.get('https://api.github.com', timeout=1)\n",
    "except Timeout:\n",
    "  print('The request timed out.')\n",
    "else:\n",
    "  print('The request did not time out.')"
   ]
  },
  {
   "cell_type": "markdown",
   "metadata": {},
   "source": [
    "##### The Session Object\n",
    "`get()` and `post()` methods are high-level `requests` APIs. These functions are abstractions of the request function. They hide implementation details purposefully to simplify the request process. Underneath those abstractions is a class called `Session`. To fine-tune control over how requests are being made or improve the performance of requests, the `Session` instance can be used directly.\n",
    "\n",
    "`Sessions` are used to persist parameters across requests."
   ]
  },
  {
   "cell_type": "markdown",
   "metadata": {},
   "source": [
    "> A `context-manager` is formatted using the `with` keyword. It is used to initialize a session, perform methods and set attributes with the open session, then close the session automatically as the program flows outside of the `context-manager` block. The manager ensures that memory holding the buffer required to initialize a session and keep it open is eventually closed. If the session is not closed, the buffer is held in memory and each subsequent session opened will add to the memory burden and cause a memory leak."
   ]
  },
  {
   "cell_type": "code",
   "execution_count": 173,
   "metadata": {},
   "outputs": [
    {
     "name": "stdout",
     "output_type": "stream",
     "text": [
      "{'Server': 'GitHub.com', 'Date': 'Thu, 03 Aug 2023 01:00:43 GMT', 'Content-Type': 'application/json; charset=utf-8', 'Content-Length': '127', 'X-GitHub-Media-Type': 'github.v3; format=json', 'x-github-api-version-selected': '2022-11-28', 'X-RateLimit-Limit': '60', 'X-RateLimit-Remaining': '58', 'X-RateLimit-Reset': '1691027742', 'X-RateLimit-Used': '2', 'X-RateLimit-Resource': 'core', 'Access-Control-Expose-Headers': 'ETag, Link, Location, Retry-After, X-GitHub-OTP, X-RateLimit-Limit, X-RateLimit-Remaining, X-RateLimit-Used, X-RateLimit-Resource, X-RateLimit-Reset, X-OAuth-Scopes, X-Accepted-OAuth-Scopes, X-Poll-Interval, X-GitHub-Media-Type, X-GitHub-SSO, X-GitHub-Request-Id, Deprecation, Sunset', 'Access-Control-Allow-Origin': '*', 'Strict-Transport-Security': 'max-age=31536000; includeSubdomains; preload', 'X-Frame-Options': 'deny', 'X-Content-Type-Options': 'nosniff', 'X-XSS-Protection': '0', 'Referrer-Policy': 'origin-when-cross-origin, strict-origin-when-cross-origin', 'Content-Security-Policy': \"default-src 'none'\", 'Vary': 'Accept-Encoding, Accept, X-Requested-With', 'X-GitHub-Request-Id': 'E74C:792E:1652E6B:2D959FD:64CAFC3A'}\n",
      "{'message': 'Requires authentication', 'documentation_url': 'https://docs.github.com/rest/users/users#get-the-authenticated-user'}\n",
      "('username', '')\n"
     ]
    }
   ],
   "source": [
    "# by using a context manager, it can be ensured that the resources used by the session will be released after use\n",
    "with requests.Session() as session:\n",
    "  session.auth = ('username', getpass())\n",
    "  \n",
    "  # instead of requests.get()...\n",
    "  response = session.get('https://api.github.com/user')\n",
    "  \n",
    "# response can be inspected like before\n",
    "print(response.headers)\n",
    "print(response.json())\n",
    "print(session.auth) # session parameters persist outside of the context manager"
   ]
  },
  {
   "cell_type": "markdown",
   "metadata": {},
   "source": [
    "Each time a request is made with `session` and initialized with authentication credentials, the credentials will be persisted.\n",
    "\n",
    "The primary performance optimization of sessions comes in the form of persistent connections. When the application makes a connection to a server using a `Session`, it keeps that connection around in a connection pool. When the application connects to the same server again, it will reuse a connection from the pool rather than establishing a new one."
   ]
  },
  {
   "cell_type": "markdown",
   "metadata": {},
   "source": [
    "##### Max Retries\n",
    "When a `request` fails, the application may retry the same `request`. To specify this functionality, a custom `Transport Adapter` will need to be implemented. `Transport Adapters` allows a user to define a set of configurations specific to a service call."
   ]
  },
  {
   "cell_type": "code",
   "execution_count": 176,
   "metadata": {},
   "outputs": [
    {
     "name": "stdout",
     "output_type": "stream",
     "text": [
      "Successfully connected!\n"
     ]
    }
   ],
   "source": [
    "from requests.adapters import HTTPAdapter\n",
    "from requests.exceptions import ConnectionError\n",
    "\n",
    "github_adapter = HTTPAdapter(max_retries=3)\n",
    "\n",
    "with requests.Session() as session:\n",
    "  session.mount('https://api.github.com', github_adapter)\n",
    "  \n",
    "  try:\n",
    "    session.get('https://api.github.com')\n",
    "    print(\"Successfully connected!\")\n",
    "  except ConnectionError as ce:\n",
    "    print(ce)"
   ]
  },
  {
   "cell_type": "markdown",
   "metadata": {},
   "source": [
    ">Mounting can be interpreted as attaching a condition to the session being mounted. In this case, the `session` will adhere to the condition placed upon it by the HTTPAdapter module, which restricts whatever it is mounted to with a `max_retries` parameter equal to 3. "
   ]
  },
  {
   "cell_type": "markdown",
   "metadata": {},
   "source": []
  }
 ],
 "metadata": {
  "kernelspec": {
   "display_name": "main-dev",
   "language": "python",
   "name": "python3"
  },
  "language_info": {
   "codemirror_mode": {
    "name": "ipython",
    "version": 3
   },
   "file_extension": ".py",
   "mimetype": "text/x-python",
   "name": "python",
   "nbconvert_exporter": "python",
   "pygments_lexer": "ipython3",
   "version": "3.11.4"
  },
  "orig_nbformat": 4
 },
 "nbformat": 4,
 "nbformat_minor": 2
}
