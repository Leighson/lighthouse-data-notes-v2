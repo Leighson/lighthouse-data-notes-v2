{
 "cells": [
  {
   "cell_type": "markdown",
   "metadata": {},
   "source": [
    "# Application Programming Interface (API)\n",
    "\n",
    "APIs allows 2 computers to communicate with each other and exchange information. It is the part of the server that receives requests and sends responses.\n"
   ]
  },
  {
   "cell_type": "markdown",
   "metadata": {},
   "source": [
    "## APIs as a Way to Serve Customers\n",
    "\n",
    "Servers can speak directly with clients to perform certain functions, process the request, and then respond with relevant information. It's not uncommon for development teams to break up their application into multiple servers that talk to each other via APIs. The servers that perform helper functions for the main application server are referred to as microservices.\n"
   ]
  },
  {
   "cell_type": "markdown",
   "metadata": {},
   "source": [
    "## Applications\n",
    "\n",
    "**_Application_** can refer to two definitions in the context of an API:\n",
    "\n",
    "- ... a piece of software with a distinct function.\n",
    "- ... the whole server, an entire app, or a small part of an app.\n",
    "\n",
    "Simply, any piece of software that can be distinctly separated from its environment can be an application and, thus, have an API so that it can interact.\n",
    "\n",
    "### 1. Weather Snippets\n",
    "\n",
    "One common API usage example we come across on a daily basis is **_weather data_**.\n",
    "\n",
    "Rich weather snippets are commonplace: Google Search, Apple's Weather app, and even smart home devices. Google isn't in the business of weather data, so this information is sourced from a third party. They do so by means of an API, which sends them the latest weather details.\n",
    "\n",
    "### 2. Log In Using XYZ\n",
    "\n",
    "Instead of logging-in to users' social media accounts, applications with this functionality leverage Twitter, Facebook, Linkedin and/or Google APIs to authenticate the user with each login. Every time the application loads, it uses the API to check if the user is already logged in by means of a social media platform.\n",
    "\n",
    "### 3. Pay with XYZ\n",
    "\n",
    "Payment APIs work similarly to those of social media APIs. The payment functionality is built with APIs to ensure that the end application can only do what it needs to do without exposing sensitive data or gaining access to unintended permissions.\n",
    "\n",
    "### 4. Travel Booking\n",
    "\n",
    "Travel booking sites aggregate thousands of flights and destinations to showcase the cheapest options. They often use third-party APIs to collect flight and hotel availabilities from providers.\n",
    "\n",
    "They also allow users to book directly from their application. Travel services make use of APIs to quickly and autonomously exchange both data and requests--in this case, trip availabilities and reservation requests.\n",
    "\n",
    "### 5. Customer Relationship Management\n",
    "\n",
    "`Salesforce` Platform APIs are the most popular APIs in the world to power CRM needs. The ecosystem is built to be highly customizable, boasting a wide API library and extensive partner marketplace known as `AppExchange`. APIs are pivotal with helping to integrate third-party apps for data backups, form creation, Adobe tooling integration, process automation, and more.\n",
    "\n",
    "### 6. Cloud-Based Collaboration\n",
    "\n",
    "APIs are great for the cloud. They enable developers to design the UI and the backend separately. This is called `headless` development. Decoupling the two allows a service to support multiple platforms, like web, desktop, iOS, or Android with the same backend API.\n",
    "\n",
    "### 7. Online Banking\n",
    "\n",
    "The open banking movement, initially spurred by `PSD2`, is maturing. Open banking requires banks in certain geographic zones to open up financial consumer data for third parties to integrate with. These third parties could be financial account aggregators, stock applications, investment portfolios, or even insurance provider dashboards.\n",
    "\n",
    "In comparison to screen-scraping, API integration is a safer, more standardized form of financial data integration.\n"
   ]
  },
  {
   "cell_type": "markdown",
   "metadata": {},
   "source": [
    "# Introduction to `XML`\n",
    "\n",
    "`Extensible Markup Language` is a standard to create information formats and electronically share structured data. It is slowly being replaced by `JSON`.\n"
   ]
  },
  {
   "cell_type": "markdown",
   "metadata": {},
   "source": [
    "## What is XML?\n",
    "\n",
    "- a markup language much like `HTML`\n",
    "- designed to store and transport data\n",
    "- designed to be self-descriptive\n",
    "- a W3C recommendation\n"
   ]
  },
  {
   "cell_type": "raw",
   "metadata": {},
   "source": [
    "<note>\n",
    "  <to>Tove</to>\n",
    "  <from>Jani</from>\n",
    "  <heading>Reminder</heading>\n",
    "\n",
    "  <body>Don't forget me this weekend!</body>\n",
    "</note>"
   ]
  },
  {
   "cell_type": "markdown",
   "metadata": {},
   "source": [
    "## XML Doesn't Do Anything\n",
    "\n",
    "The `XML` above is self-descriptive:\n",
    "\n",
    "- it has sender information\n",
    "- it has receiver information\n",
    "- it has a heading\n",
    "- it has a message body\n",
    "\n",
    "However, the XML doesn't do anything. It is just information wrapped in tags to be used by software to send, receive, store, or display it.\n",
    "\n",
    "## The Difference Between XML and HTML\n",
    "\n",
    "`XML` and `HTML` were designed with different goals:\n",
    "\n",
    "- `XML` was designed to carry data\n",
    "- `HTML` was designed to display data\n",
    "- `XML` tags are not predefined like `HTML` tags\n",
    "\n",
    "## XML Doesn't Use Predefined Tags\n",
    "\n",
    "`XML` has no predefined tags. The tags in the example above (like `<to>` and `<from>`) are not defined in any `XML` standard. These tags are created by the author of the `XML` document who must define both the tags and the document structure.\n",
    "\n",
    "## XML is Extensible\n",
    "\n",
    "Most `XML` applications will work as expected even if new data is added or removed.\n",
    "\n",
    "Imagine an application designed to display the original version of `note.xml` coded above. Then imagine a newer version of `note.xml` with added `<date>` and `<hour>` elements and a removed `<heading>`.\n",
    "\n",
    "The way `XML` is constructed, the older version of the application can still work with the original software using it to send, receive, store, or display the information therein.\n"
   ]
  },
  {
   "cell_type": "raw",
   "metadata": {},
   "source": [
    "<note>\n",
    "  <date>2015-09-01</date> # added\n",
    "  <hour>08:30</hour> # added\n",
    "  <to>Tove</to>\n",
    "  <from>Jani</from>\n",
    "  # heading removed\n",
    "\n",
    "  <body>Don't forget me this weekend!</body>\n",
    "</note>"
   ]
  },
  {
   "cell_type": "markdown",
   "metadata": {},
   "source": [
    "## XML Simplifies Things\n",
    "\n",
    "- `XML` simplifies data sharing\n",
    "- `XML` simplifies data transport\n",
    "- `XML` simplifies platform changes\n",
    "- `XML` simplifies data availability\n",
    "\n",
    "Many computer systems contain data in incompatible formats. Exchanging data between incompatible systems (or upgraded systems) is a time-consuming task for web developers. Large amounts of data must be converted and incompatible data is often lost.\n",
    "\n",
    "`XML` stores data in plain text format. This provides a way of storing, transporting, and sharing data independent from software and hardware. It also makes it easier to expand or upgrade to new operating systems, new applications, or new browsers without losing data.\n"
   ]
  },
  {
   "cell_type": "markdown",
   "metadata": {},
   "source": [
    "# Introduction to `JSON`\n",
    "\n",
    "`JSON` stands for JavaScript Object Notation. It is a subset of the JavaScript language and has gained popularity with the increasing popularity of the language.\n",
    "\n",
    "Like `XML`, `JSON` is a text format for storing and transporting data, and it is _self-describing_ and easy to understand.\n"
   ]
  },
  {
   "cell_type": "code",
   "execution_count": 63,
   "metadata": {},
   "outputs": [
    {
     "data": {
      "text/plain": [
       "{'skills': {'web': [{'name': 'html', 'years': 5}, {'name': 'css', 'years': 3}],\n",
       "  'database': [{'name': 'sql', 'years': 7}]}}"
      ]
     },
     "execution_count": 63,
     "metadata": {},
     "output_type": "execute_result"
    }
   ],
   "source": [
    "{\"skills\" : {\n",
    "  \"web\" : [\n",
    "    {\"name\" : \"html\",\n",
    "    \"years\" : 5},\n",
    "    {\"name\" : \"css\",\n",
    "    \"years\": 3}\n",
    "    ],\n",
    "  \"database\" : [\n",
    "    {\"name\" : \"sql\",\n",
    "    \"years\" : 7}\n",
    "    ]\n",
    "  }\n",
    "}"
   ]
  },
  {
   "cell_type": "markdown",
   "metadata": {},
   "source": [
    "## What is `JSON`?\n",
    "- `JSON` is a lightweight data-interchange format\n",
    "- `JSON` is plain text written in JavaScript object notation\n",
    "- `JSON` is used to send data between computers\n",
    "- `JSON` is language independent\n",
    "  - while `JSON` syntax is derived from JavaScript, the format itself is plain text and can be read and generated in many programming languages\n",
    "\n",
    "## Why use `JSON`?\n",
    "`JSON` is syntactically similar to the code for creating JavaScript objects. Because of this, JavaScript programs can easily convert `JSON` data into JavaScript objects.\n",
    "\n",
    "- `JSON.parse()` is a built-in function for converting `JSON` strings into JavaScript objects.\n",
    "- `JSON.stringify()` is a built-in function for converting an object into a `JSON` string.\n",
    "\n",
    "## `JSON` is like `XML`\n",
    "- Both are self-describing and human-readable\n",
    "- Both are hierarchical (able to be nested)\n",
    "- Both can be parsed and used by lots of programming languages\n",
    "- Both can be passed around using HTTP request\n",
    "\n",
    "## `JSON` is unlike `XML`\n",
    "- `JSON` has a tag name only at the beginning of an element, resulting in a smaller size\n",
    "- `JSON` is less verbose\n",
    "- `JSON` can include arrays, which leads to even smaller file sizes\n",
    "- `JSON` can't use reserved words from JavaScript as tags"
   ]
  },
  {
   "cell_type": "markdown",
   "metadata": {},
   "source": [
    "# Environment Variables\n",
    "Environment variables are a commonly used tool for storing sensitive information, such as credentials and API keys. They are stored outside of the codebase, usually in the server's environment, and can be referenced in the code as needed. This helps to prevent sensitive information from being accidentally leaked or exposed in the event of a codebase search.\n",
    "\n",
    "Proper security measures must be taken to ensure that the environment variables are secure. This may include implementing access controls, encryption, and monitoring for unauthorized access. Additionally, it's important to keep the environment variables updated and to rotate them regularly to minimize the risk of exposure."
   ]
  },
  {
   "cell_type": "markdown",
   "metadata": {},
   "source": [
    "# APIs in Python"
   ]
  },
  {
   "cell_type": "code",
   "execution_count": 64,
   "metadata": {},
   "outputs": [],
   "source": [
    "from dotenv import load_dotenv\n",
    "load_dotenv()\n",
    "\n",
    "import pandas as pd\n",
    "import requests\n",
    "import os"
   ]
  },
  {
   "cell_type": "code",
   "execution_count": 65,
   "metadata": {},
   "outputs": [],
   "source": [
    "FOURSQUARE_API_KEY = os.environ[\"FOURSQUARE_API_KEY\"]\n",
    "FOURSQUARE_CLIENT_ID = os.environ[\"FOURSQUARE_CLIENT_ID\"]\n",
    "FOURSQUARE_CLIENT_SECRET = os.environ[\"FOURSQUARE_CLIENT_SECRET\"]\n",
    "\n",
    "location = \"Toronto,Canada\""
   ]
  },
  {
   "cell_type": "code",
   "execution_count": 66,
   "metadata": {},
   "outputs": [],
   "source": [
    "url = \"https://api.foursquare.com/v3/places/search\"\n",
    "params = {\"near\" : location}\n",
    "headers = {\n",
    "  \"Accept\" : \"application/json\",\n",
    "  \"Authorization\" : FOURSQUARE_API_KEY}\n",
    "\n",
    "result = requests.get(url, params=params, headers=headers)"
   ]
  },
  {
   "cell_type": "code",
   "execution_count": 67,
   "metadata": {},
   "outputs": [
    {
     "data": {
      "text/html": [
       "<div>\n",
       "<style scoped>\n",
       "    .dataframe tbody tr th:only-of-type {\n",
       "        vertical-align: middle;\n",
       "    }\n",
       "\n",
       "    .dataframe tbody tr th {\n",
       "        vertical-align: top;\n",
       "    }\n",
       "\n",
       "    .dataframe thead th {\n",
       "        text-align: right;\n",
       "    }\n",
       "</style>\n",
       "<table border=\"1\" class=\"dataframe\">\n",
       "  <thead>\n",
       "    <tr style=\"text-align: right;\">\n",
       "      <th></th>\n",
       "      <th>fsq_id</th>\n",
       "      <th>categories</th>\n",
       "      <th>chains</th>\n",
       "      <th>distance</th>\n",
       "      <th>geocodes</th>\n",
       "      <th>link</th>\n",
       "      <th>location</th>\n",
       "      <th>name</th>\n",
       "      <th>related_places</th>\n",
       "      <th>timezone</th>\n",
       "    </tr>\n",
       "  </thead>\n",
       "  <tbody>\n",
       "    <tr>\n",
       "      <th>0</th>\n",
       "      <td>4fdc0e98e4b05197cd14912b</td>\n",
       "      <td>[{'id': 13003, 'name': 'Bar', 'icon': {'prefix...</td>\n",
       "      <td>[]</td>\n",
       "      <td>457</td>\n",
       "      <td>{'main': {'latitude': 43.703712, 'longitude': ...</td>\n",
       "      <td>/v3/places/4fdc0e98e4b05197cd14912b</td>\n",
       "      <td>{'address': '508 Eglinton Ave W', 'country': '...</td>\n",
       "      <td>The Abbot on Eglinton</td>\n",
       "      <td>{}</td>\n",
       "      <td>America/Toronto</td>\n",
       "    </tr>\n",
       "    <tr>\n",
       "      <th>1</th>\n",
       "      <td>4b0afc19f964a520212b23e3</td>\n",
       "      <td>[{'id': 16000, 'name': 'Landmarks and Outdoors...</td>\n",
       "      <td>[]</td>\n",
       "      <td>1304</td>\n",
       "      <td>{'main': {'latitude': 43.678243, 'longitude': ...</td>\n",
       "      <td>/v3/places/4b0afc19f964a520212b23e3</td>\n",
       "      <td>{'address': '100 Glen Rd', 'country': 'CA', 'c...</td>\n",
       "      <td>Cedarvale Park</td>\n",
       "      <td>{'children': [{'fsq_id': '61c4f0b4e565fe05c757...</td>\n",
       "      <td>America/Toronto</td>\n",
       "    </tr>\n",
       "    <tr>\n",
       "      <th>2</th>\n",
       "      <td>502e3a9e90e75889381c35ef</td>\n",
       "      <td>[{'id': 13097, 'name': 'Caribbean Restaurant',...</td>\n",
       "      <td>[]</td>\n",
       "      <td>1437</td>\n",
       "      <td>{'main': {'latitude': 43.709032, 'longitude': ...</td>\n",
       "      <td>/v3/places/502e3a9e90e75889381c35ef</td>\n",
       "      <td>{'address': '211 Yonge St', 'country': 'CA', '...</td>\n",
       "      <td>Ritz Caribbean Foods</td>\n",
       "      <td>{}</td>\n",
       "      <td>America/Toronto</td>\n",
       "    </tr>\n",
       "    <tr>\n",
       "      <th>3</th>\n",
       "      <td>4aec6b7df964a520e0c621e3</td>\n",
       "      <td>[{'id': 13035, 'name': 'Coffee Shop', 'icon': ...</td>\n",
       "      <td>[{'id': 'ab4c54c0-d68a-012e-5619-003048cad9da'...</td>\n",
       "      <td>1850</td>\n",
       "      <td>{'main': {'latitude': 43.710897, 'longitude': ...</td>\n",
       "      <td>/v3/places/4aec6b7df964a520e0c621e3</td>\n",
       "      <td>{'address': '2451 Yonge St', 'country': 'CA', ...</td>\n",
       "      <td>Starbucks</td>\n",
       "      <td>{}</td>\n",
       "      <td>America/Toronto</td>\n",
       "    </tr>\n",
       "    <tr>\n",
       "      <th>4</th>\n",
       "      <td>544d3b30498e333e2fa24c53</td>\n",
       "      <td>[{'id': 13034, 'name': 'Café', 'icon': {'prefi...</td>\n",
       "      <td>[]</td>\n",
       "      <td>2058</td>\n",
       "      <td>{'main': {'latitude': 43.707949, 'longitude': ...</td>\n",
       "      <td>/v3/places/544d3b30498e333e2fa24c53</td>\n",
       "      <td>{'address': '174 Eglinton Ave E', 'country': '...</td>\n",
       "      <td>Istanbul Cafe &amp; Espresso Bar</td>\n",
       "      <td>{}</td>\n",
       "      <td>America/Toronto</td>\n",
       "    </tr>\n",
       "  </tbody>\n",
       "</table>\n",
       "</div>"
      ],
      "text/plain": [
       "                     fsq_id  \\\n",
       "0  4fdc0e98e4b05197cd14912b   \n",
       "1  4b0afc19f964a520212b23e3   \n",
       "2  502e3a9e90e75889381c35ef   \n",
       "3  4aec6b7df964a520e0c621e3   \n",
       "4  544d3b30498e333e2fa24c53   \n",
       "\n",
       "                                          categories  \\\n",
       "0  [{'id': 13003, 'name': 'Bar', 'icon': {'prefix...   \n",
       "1  [{'id': 16000, 'name': 'Landmarks and Outdoors...   \n",
       "2  [{'id': 13097, 'name': 'Caribbean Restaurant',...   \n",
       "3  [{'id': 13035, 'name': 'Coffee Shop', 'icon': ...   \n",
       "4  [{'id': 13034, 'name': 'Café', 'icon': {'prefi...   \n",
       "\n",
       "                                              chains  distance  \\\n",
       "0                                                 []       457   \n",
       "1                                                 []      1304   \n",
       "2                                                 []      1437   \n",
       "3  [{'id': 'ab4c54c0-d68a-012e-5619-003048cad9da'...      1850   \n",
       "4                                                 []      2058   \n",
       "\n",
       "                                            geocodes  \\\n",
       "0  {'main': {'latitude': 43.703712, 'longitude': ...   \n",
       "1  {'main': {'latitude': 43.678243, 'longitude': ...   \n",
       "2  {'main': {'latitude': 43.709032, 'longitude': ...   \n",
       "3  {'main': {'latitude': 43.710897, 'longitude': ...   \n",
       "4  {'main': {'latitude': 43.707949, 'longitude': ...   \n",
       "\n",
       "                                  link  \\\n",
       "0  /v3/places/4fdc0e98e4b05197cd14912b   \n",
       "1  /v3/places/4b0afc19f964a520212b23e3   \n",
       "2  /v3/places/502e3a9e90e75889381c35ef   \n",
       "3  /v3/places/4aec6b7df964a520e0c621e3   \n",
       "4  /v3/places/544d3b30498e333e2fa24c53   \n",
       "\n",
       "                                            location  \\\n",
       "0  {'address': '508 Eglinton Ave W', 'country': '...   \n",
       "1  {'address': '100 Glen Rd', 'country': 'CA', 'c...   \n",
       "2  {'address': '211 Yonge St', 'country': 'CA', '...   \n",
       "3  {'address': '2451 Yonge St', 'country': 'CA', ...   \n",
       "4  {'address': '174 Eglinton Ave E', 'country': '...   \n",
       "\n",
       "                           name  \\\n",
       "0         The Abbot on Eglinton   \n",
       "1                Cedarvale Park   \n",
       "2          Ritz Caribbean Foods   \n",
       "3                     Starbucks   \n",
       "4  Istanbul Cafe & Espresso Bar   \n",
       "\n",
       "                                      related_places         timezone  \n",
       "0                                                 {}  America/Toronto  \n",
       "1  {'children': [{'fsq_id': '61c4f0b4e565fe05c757...  America/Toronto  \n",
       "2                                                 {}  America/Toronto  \n",
       "3                                                 {}  America/Toronto  \n",
       "4                                                 {}  America/Toronto  "
      ]
     },
     "execution_count": 67,
     "metadata": {},
     "output_type": "execute_result"
    }
   ],
   "source": [
    "df = pd.DataFrame(result.json()['results'])\n",
    "df.head(5)"
   ]
  },
  {
   "cell_type": "markdown",
   "metadata": {},
   "source": [
    "## Types of APIs\n",
    "There are three types: `ownership`, `communication`, and `web service`.\n",
    "\n",
    "#### Ownership Type\n",
    "- `Open` APIs: These APIs are publicly available to use and generally unrestricted. Also known as `Public` APIs.\n",
    "- `Partner` APIs: These APIs require specific rights or licenses, which are often tied to paid services or subscriptions.\n",
    "- `Internal` APIs: These are developed by companies to use for internal systems. Also known as `Private` APIs.\n",
    "- `Composite` APIs\n",
    "\n",
    "#### Communication Type\n",
    "- `High-Level`: Often presented in REST form. High-level of abstraction with limited functionality.\n",
    "- `Low-level`: Allows users to manipulate functions within an application module or within hardware at a granular level. Often used to send real-time video or media feed in response to a trigger.\n",
    "\n",
    "#### Web Service Type\n",
    "Web service APIs are classified on their behavioral approach. There are 4 kinds:\n",
    "- `SOAP` Simple Object Access Protocol offers comprehensive security, built-in ACID (Atomicity, Consistency, Isolation, and Durability) compliance and retry logic for reliable messaging functionality. Suitable for enterprise applications dealing with banking transactions, LDAP interaction, and more. Uses XML format for transferring structured, function-driven information. For security, SOAP calls cannot be cached and has strict communication protocols that makes it more difficult to make changes and updates.\n",
    "- `XML-RPC` Extensible Markup Language - Remote Procedure Calls is a protocol that uses a specific XML format to transfer data. Simpler and older than SOAP.\n",
    "- `JSON-RPC` JSON - Remote Procedure Calls is a protocol that uses JSON format to transfer data. RPC calls are one of the methods that are used by services to communicate in a microservice architecture.\n",
    "- `REST` Representational State Transfer is a data-driven architectural style used to build REST APIs. REST APIs are based on URI's (Uniform Resource Identifier) HTTP protocol and uses JSON for data formatting, making it browser-agnostic. REST APIs are also easy to build and scale. REST APIs do not store any state about the client session on the server. This restriction is what makes it stateless. Each request from the client to server must contain all of the information necessary to understand the request, and it cannot take advantage of any stored context on the server.\n",
    "\n"
   ]
  },
  {
   "cell_type": "markdown",
   "metadata": {},
   "source": []
  }
 ],
 "metadata": {
  "kernelspec": {
   "display_name": "main-dev",
   "language": "python",
   "name": "python3"
  },
  "language_info": {
   "codemirror_mode": {
    "name": "ipython",
    "version": 3
   },
   "file_extension": ".py",
   "mimetype": "text/x-python",
   "name": "python",
   "nbconvert_exporter": "python",
   "pygments_lexer": "ipython3",
   "version": "3.11.4"
  },
  "orig_nbformat": 4
 },
 "nbformat": 4,
 "nbformat_minor": 2
}
