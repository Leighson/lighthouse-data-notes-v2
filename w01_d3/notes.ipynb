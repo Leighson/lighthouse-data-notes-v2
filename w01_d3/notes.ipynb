{
 "cells": [
  {
   "cell_type": "markdown",
   "metadata": {},
   "source": [
    "# Application Programming Interface (API)\n",
    "APIs allows 2 computers to communicate with each other and exchange information. It is the part of the server that receives requests and sends responses."
   ]
  },
  {
   "cell_type": "markdown",
   "metadata": {},
   "source": [
    "## APIs as a Way to Serve Customers\n",
    "Servers can speak directly with clients to perform certain functions, process the request, and then respond with relevant information. It's not uncommon for development teams to break up their application into multiple servers that talk to each other via APIs. The servers that perform helper functions for the main application server are referred to as microservices."
   ]
  },
  {
   "cell_type": "markdown",
   "metadata": {},
   "source": [
    "## Applications\n",
    "***Application*** can refer to two definitions in the context of an API:\n",
    "\n",
    "- ... a piece of software with a distinct function.\n",
    "- ... the whole server, an entire app, or a small part of an app.\n",
    "\n",
    "Simply, any piece of software that can be distinctly separated from its environment can be an application and, thus, have an API so that it can interact.\n",
    "### 1. Weather Snippets\n",
    "One common API usage example we come across on a daily basis is ***weather data***.\n",
    "\n",
    "Rich weather snippets are commonplace: Google Search, Apple's Weather app, and even smart home devices. Google isn't in the business of weather data, so this information is sourced from a third party. They do so by means of an API, which sends them the latest weather details.\n",
    "\n",
    "### 2. Log In Using XYZ\n",
    "Instead of logging-in to users' social media accounts, applications with this functionality leverage Twitter, Facebook, Linkedin and/or Google APIs to authenticate the user with each login. Every time the application loads, it uses the API to check if the user is already logged in by means of a social media platform.\n",
    "\n",
    "### 3. Pay with XYZ\n",
    "Payment APIs work similarly to those of social media APIs. The payment functionality is built with APIs to ensure that the end application can only do what it needs to do without exposing sensitive data or gaining access to unintended permissions.\n",
    "\n",
    "### 4. Travel Booking\n",
    "Travel booking sites aggregate thousands of flights and destinations to showcase the cheapest options. They often use third-party APIs to collect flight and hotel availabilities from providers.\n",
    "\n",
    "They also allow users to book directly from their application. Travel services make use of APIs to quickly and autonomously exchange both data and requests--in this case, trip availabilities and reservation requests.\n",
    "\n",
    "### 5. Customer Relationship Management\n",
    "`Salesforce` Platform APIs are the most popular APIs in the world to power CRM needs. The ecosystem is built to be highly customizable, boasting a wide API library and extensive partner marketplace known as `AppExchange`. APIs are pivotal with helping to integrate third-party apps for data backups, form creation, Adobe tooling integration, process automation, and more.\n",
    "\n",
    "### 6. Cloud-Based Collaboration\n",
    "APIs are great for the cloud. They enable developers to design the UI and the backend separately. This is called `headless` development. Decoupling the two allows a service to support multiple platforms, like web, desktop, iOS, or Android with the same backend API.\n",
    "\n",
    "### 7. Online Banking\n",
    "The open banking movement, initially spurred by `PSD2`, is maturing. Open banking requires banks in certain geographic zones to open up financial consumer data for third parties to integrate with. These third parties could be financial account aggregators, stock applications, investment portfolios, or even insurance provider dashboards.\n",
    "\n",
    "In comparison to screen-scraping, API integration is a safer, more standardized form of financial data integration."
   ]
  },
  {
   "cell_type": "markdown",
   "metadata": {},
   "source": []
  }
 ],
 "metadata": {
  "language_info": {
   "name": "python"
  },
  "orig_nbformat": 4
 },
 "nbformat": 4,
 "nbformat_minor": 2
}
