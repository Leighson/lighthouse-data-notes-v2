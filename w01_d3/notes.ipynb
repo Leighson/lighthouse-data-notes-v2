{
 "cells": [
  {
   "cell_type": "markdown",
   "metadata": {},
   "source": [
    "# Application Programming Interface (API)\n",
    "APIs allows 2 computers to communicate with each other and exchange information. It is the part of the server that receives requests and sends responses."
   ]
  },
  {
   "cell_type": "markdown",
   "metadata": {},
   "source": [
    "## APIs as a Way to Serve Customers\n",
    "Servers can speak directly with clients to perform certain functions, process the request, and then respond with relevant information. It's not uncommon for development teams to break up their application into multiple servers that talk to each other via APIs. The servers that perform helper functions for the main application server are referred to as microservices."
   ]
  },
  {
   "cell_type": "markdown",
   "metadata": {},
   "source": [
    "## Applications\n",
    "***Application*** can refer to two definitions in the context of an API:\n",
    "1. ... a piece of software with a distinct function.\n",
    "2. ... the whole server, an entire app, or a small part of an app.\n",
    "\n",
    "Simply, any piece of software that can be distinctly separated from its environment can be an application and, thus, have an API so that it can interact."
   ]
  },
  {
   "cell_type": "markdown",
   "metadata": {},
   "source": []
  }
 ],
 "metadata": {
  "language_info": {
   "name": "python"
  },
  "orig_nbformat": 4
 },
 "nbformat": 4,
 "nbformat_minor": 2
}
