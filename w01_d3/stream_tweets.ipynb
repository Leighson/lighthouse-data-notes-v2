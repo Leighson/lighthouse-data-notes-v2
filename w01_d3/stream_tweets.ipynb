{
 "cells": [
  {
   "cell_type": "code",
   "execution_count": 2,
   "metadata": {},
   "outputs": [],
   "source": [
    "import tweepy\n",
    "# ADD OTHER PACKAGES WE WILL NEED\n",
    "\n",
    "from dotenv import load_dotenv\n",
    "load_dotenv()\n",
    "\n",
    "import requests\n",
    "import os"
   ]
  },
  {
   "cell_type": "markdown",
   "metadata": {},
   "source": [
    "**Task:** Load the values of access tokens and keys from environmental variables to python variables"
   ]
  },
  {
   "cell_type": "code",
   "execution_count": 3,
   "metadata": {},
   "outputs": [],
   "source": [
    "TWITTER_CONSUMER_KEY = os.environ['TWITTER_CONSUMER_KEY']\n",
    "TWITTER_CONSUMER_SECRET = os.environ['TWITTER_CONSUMER_SECRET']\n",
    "TWITTER_AUTH_BEARER_TOKEN = os.environ['TWITTER_AUTH_BEARER_TOKEN']\n",
    "TWITTER_AUTH_ACCESS_TOKEN = os.environ['TWITTER_AUTH_ACCESS_TOKEN']\n",
    "TWITTER_AUTH_ACCESS_TOKEN_SECRET = os.environ['TWITTER_AUTH_ACCESS_TOKEN_SECRET']"
   ]
  },
  {
   "cell_type": "code",
   "execution_count": 7,
   "metadata": {},
   "outputs": [
    {
     "data": {
      "text/plain": [
       "'AAAAAAAAAAAAAAAAAAAAAFfzbAEAAAAA08i2iJZJ8xWeJ7NaD9mQSze5NaM%3D5vNy1TWBbZwvduwWrKPPNsjRJy67GlrD70E6qgMQNN2SIbXpUZ'"
      ]
     },
     "execution_count": 7,
     "metadata": {},
     "output_type": "execute_result"
    }
   ],
   "source": [
    "TWITTER_AUTH_BEARER_TOKEN"
   ]
  },
  {
   "cell_type": "code",
   "execution_count": 9,
   "metadata": {},
   "outputs": [
    {
     "name": "stdout",
     "output_type": "stream",
     "text": [
      "LeeSant85831327\n"
     ]
    }
   ],
   "source": [
    "# Twitter API v1.1 OAuth 1.0 User Context\n",
    "auth = tweepy.OAuth1UserHandler(\n",
    "  consumer_key=TWITTER_CONSUMER_KEY,\n",
    "  consumer_secret=TWITTER_CONSUMER_SECRET,\n",
    "  access_token=TWITTER_AUTH_ACCESS_TOKEN,\n",
    "  access_token_secret=TWITTER_AUTH_ACCESS_TOKEN_SECRET\n",
    ")\n",
    "\n",
    "api = tweepy.API(auth)\n",
    "print(api.verify_credentials().screen_name)"
   ]
  },
  {
   "cell_type": "markdown",
   "metadata": {},
   "source": [
    "> NOTE THAT THE TASKS BELOW CAN NO LONGER BE COMPLETED WITH A FREE ACCOUNT BECAUSE MUSK IS A GREEDY BITCH. EITHER THAT OR HIS INCOMPETENCE WITH MANAGING TWITTER FINANCES IS SEVERE ENOUGH THAT HE NEEDS TO TAKE AWAY A USEFUL, FORMERLY-PUBLIC EDUCATIONAL RESOURCE. AND IN THIS CASE, HE'S STILL A BITCH."
   ]
  },
  {
   "cell_type": "markdown",
   "metadata": {},
   "source": [
    "**Task:** Edit function `main` so it can store tweets anywhere (location specified as parameter). The FILTER and LANGUAGES should be parameters as well. Test it with different values and languages."
   ]
  },
  {
   "cell_type": "markdown",
   "metadata": {},
   "source": [
    "**Task:** Create File `stream_tweets.py` that can be executed from the Terminal by exporting the code from this notebook."
   ]
  },
  {
   "cell_type": "markdown",
   "metadata": {},
   "source": [
    "**Task:** Start storing tweets which contain either happy smiley (`:)`) or sad smiley (`:(`) in their text. We will use this dataset during the NLP section. It's good to let the script running for at least 2-3 hours to collect enough data for future modeling. Note that the main function runs as an ongoing process and won't stop until it is stopped."
   ]
  }
 ],
 "metadata": {
  "kernelspec": {
   "display_name": "Python 3",
   "language": "python",
   "name": "python3"
  },
  "language_info": {
   "codemirror_mode": {
    "name": "ipython",
    "version": 3
   },
   "file_extension": ".py",
   "mimetype": "text/x-python",
   "name": "python",
   "nbconvert_exporter": "python",
   "pygments_lexer": "ipython3",
   "version": "3.11.4"
  }
 },
 "nbformat": 4,
 "nbformat_minor": 4
}
