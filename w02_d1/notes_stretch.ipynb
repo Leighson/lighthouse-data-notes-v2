{
 "cells": [
  {
   "cell_type": "markdown",
   "metadata": {},
   "source": [
    "# Analytical Dataset (ADS)"
   ]
  },
  {
   "cell_type": "markdown",
   "metadata": {},
   "source": [
    "An `ADS` is a table created for specific analytic purposes. The concept is to merge different data sources so that all possible information about the objects of interest (most often the clients) are in one place. This data is then distilled with sliding windows.\n",
    "\n",
    "1. The core part of `ADS` is a sliding window for each time period (eg. 1 week).\n",
    "2. `ADS` contains one line for each observation every week."
   ]
  },
  {
   "cell_type": "markdown",
   "metadata": {},
   "source": [
    "![graph](https://i.imgur.com/ojRMfB0.png)"
   ]
  },
  {
   "cell_type": "markdown",
   "metadata": {},
   "source": [
    "The advantages of `ADS` is as follows:\n",
    "- combines all data sources into one table\n",
    "- in the future, ML models can be based on one table\n",
    "- by using time slices (weekly, monthly), we take care of fluctuations in the data\n",
    "- it suits as aggregation layer for the reporting\n",
    "- batch scoring (weekly, monthly) is easy to implement\n",
    "- new data sources can be simple added in the future using joins"
   ]
  },
  {
   "cell_type": "markdown",
   "metadata": {},
   "source": [
    "![graph](https://i.imgur.com/zXsvJ25.png)"
   ]
  },
  {
   "cell_type": "markdown",
   "metadata": {},
   "source": [
    "## Connecting to the `northwind` database"
   ]
  },
  {
   "cell_type": "code",
   "execution_count": 1,
   "metadata": {},
   "outputs": [],
   "source": [
    "import sqlite3\n",
    "from sqlite3 import Error"
   ]
  },
  {
   "cell_type": "code",
   "execution_count": 2,
   "metadata": {},
   "outputs": [],
   "source": [
    "def create_connection(path):\n",
    "  con = None\n",
    "  try:\n",
    "    con = sqlite3.connect(database=path)\n",
    "    print('Connection to SQLite DB successful.')\n",
    "  except Error as e:\n",
    "    print(f'The error \\'{e}\\' occurred.')\n",
    "  \n",
    "  return con"
   ]
  },
  {
   "cell_type": "code",
   "execution_count": 3,
   "metadata": {},
   "outputs": [
    {
     "name": "stdout",
     "output_type": "stream",
     "text": [
      "Connection to SQLite DB successful.\n"
     ]
    }
   ],
   "source": [
    "con = create_connection('./_data/northwind.db')"
   ]
  },
  {
   "cell_type": "code",
   "execution_count": 4,
   "metadata": {},
   "outputs": [],
   "source": [
    "def execute_query(connection, query):\n",
    "  cur = con.cursor()\n",
    "  result = None\n",
    "  try:\n",
    "    cur.execute(query)\n",
    "    result = cur.fetchall()\n",
    "    return result\n",
    "    print('Query executed successfully.')\n",
    "  except Error as e:\n",
    "    print(f'The error \\'{e}\\' occurred.')"
   ]
  },
  {
   "cell_type": "code",
   "execution_count": 13,
   "metadata": {},
   "outputs": [],
   "source": [
    "query_count = \"\"\" \n",
    "SELECT COUNT(*) FROM orders\n",
    "\"\"\"\n",
    "\n",
    "query_min = \"\"\" \n",
    "SELECT MIN(orderdate) FROM orders\n",
    "\"\"\"\n",
    "\n",
    "query_max = \"\"\" \n",
    "SELECT MAX(orderdate) FROM orders\n",
    "\"\"\""
   ]
  },
  {
   "cell_type": "code",
   "execution_count": 26,
   "metadata": {},
   "outputs": [
    {
     "name": "stdout",
     "output_type": "stream",
     "text": [
      "order count: 830\n",
      "min order date: 1996-07-04\n",
      "max order date: 1998-05-06\n"
     ]
    }
   ],
   "source": [
    "order_count = execute_query(con, query_count)\n",
    "min_orderdate = execute_query(con, query_min)\n",
    "max_orderdate = execute_query(con, query_max)\n",
    "print(f'order count: {order_count[0][0]}\\nmin order date: {min_orderdate[0][0]}\\nmax order date: {max_orderdate[0][0]}')"
   ]
  },
  {
   "cell_type": "markdown",
   "metadata": {},
   "source": [
    "There are 830 orders ranging from `1996-07-04` to `1998-05-06`. From this, an `ADS` can be built aggregated by month. \\\n",
    "It is also possible to aggregate by day or week but for this example, monthly windows are sufficient.\n",
    "\n",
    "For traditional banking, 1 month may be enough. For telecommunications, 1 week can be appropriate, but there are also industries like e-commerce where they need to aggregate per day.\n",
    "\n",
    "This is tutorial orders will be aggregated each month and label it with the column called `end_obs_date` (end observation date). `end_obs_date` is the column that labels the monthly slice aggregated.\n",
    "\n",
    "Example:\n",
    "- order date: 1996-12-12 --> `endobsdate`: 1997-01-01\n",
    "- order date: 1997-01-31 --> `endobsdate`: 1997-02-01\n"
   ]
  },
  {
   "cell_type": "markdown",
   "metadata": {},
   "source": []
  }
 ],
 "metadata": {
  "kernelspec": {
   "display_name": "main-dev",
   "language": "python",
   "name": "python3"
  },
  "language_info": {
   "codemirror_mode": {
    "name": "ipython",
    "version": 3
   },
   "file_extension": ".py",
   "mimetype": "text/x-python",
   "name": "python",
   "nbconvert_exporter": "python",
   "pygments_lexer": "ipython3",
   "version": "3.11.4"
  },
  "orig_nbformat": 4
 },
 "nbformat": 4,
 "nbformat_minor": 2
}
