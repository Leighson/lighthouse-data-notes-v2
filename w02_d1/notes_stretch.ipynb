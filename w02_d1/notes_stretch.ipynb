{
 "cells": [
  {
   "cell_type": "markdown",
   "metadata": {},
   "source": [
    "# Analytical Dataset (ADS)"
   ]
  },
  {
   "cell_type": "markdown",
   "metadata": {},
   "source": [
    "An `ADS` is a table created for specific analytic purposes. The concept is to merge different data sources so that all possible information about the objects of interest (most often the clients) are in one place. This data is then distilled with sliding windows.\n",
    "\n",
    "1. The core part of `ADS` is a sliding window for each time period (eg. 1 week).\n",
    "2. `ADS` contains one line for each observation every week."
   ]
  },
  {
   "cell_type": "markdown",
   "metadata": {},
   "source": [
    "![graph](https://i.imgur.com/ojRMfB0.png)"
   ]
  },
  {
   "cell_type": "markdown",
   "metadata": {},
   "source": [
    "The advantages of `ADS` is as follows:\n",
    "- combines all data sources into one table\n",
    "- in the future, ML models can be based on one table\n",
    "- by using time slices (weekly, monthly), we take care of fluctuations in the data\n",
    "- it suits as aggregation layer for the reporting\n",
    "- batch scoring (weekly, monthly) is easy to implement\n",
    "- new data sources can be simple added in the future using joins"
   ]
  },
  {
   "cell_type": "markdown",
   "metadata": {},
   "source": [
    "![graph](https://i.imgur.com/zXsvJ25.png)"
   ]
  },
  {
   "cell_type": "markdown",
   "metadata": {},
   "source": [
    "## Connecting to the `northwind` database"
   ]
  },
  {
   "cell_type": "code",
   "execution_count": 1,
   "metadata": {},
   "outputs": [],
   "source": [
    "import sqlite3\n",
    "from sqlite3 import Error"
   ]
  },
  {
   "cell_type": "code",
   "execution_count": 2,
   "metadata": {},
   "outputs": [],
   "source": [
    "def create_connection(path):\n",
    "  con = None\n",
    "  try:\n",
    "    con = sqlite3.connect(database=path)\n",
    "    print('Connection to SQLite DB successful.')\n",
    "  except Error as e:\n",
    "    print(f'The error \\'{e}\\' occurred.')\n",
    "  \n",
    "  return con"
   ]
  },
  {
   "cell_type": "code",
   "execution_count": 3,
   "metadata": {},
   "outputs": [
    {
     "name": "stdout",
     "output_type": "stream",
     "text": [
      "Connection to SQLite DB successful.\n"
     ]
    }
   ],
   "source": [
    "con = create_connection('./_data/northwind.db')"
   ]
  },
  {
   "cell_type": "code",
   "execution_count": 4,
   "metadata": {},
   "outputs": [],
   "source": [
    "def execute_query(connection, query):\n",
    "  cur = connection.cursor()\n",
    "  result = None\n",
    "  try:\n",
    "    cur.execute(query)\n",
    "    result = cur.fetchall()\n",
    "    return result\n",
    "    print('Query executed successfully.')\n",
    "  except Error as e:\n",
    "    print(f'The error \\'{e}\\' occurred.')"
   ]
  },
  {
   "cell_type": "code",
   "execution_count": 5,
   "metadata": {},
   "outputs": [],
   "source": [
    "def execute_commit(connection, commit):\n",
    "  cur = connection.cursor()\n",
    "  try:\n",
    "    cur.execute(commit)\n",
    "    connection.commit()\n",
    "    print('Query executed successfully.')\n",
    "  except Error as e:\n",
    "    print(f'The error \\'{e}\\' occurred.')"
   ]
  },
  {
   "cell_type": "code",
   "execution_count": 6,
   "metadata": {},
   "outputs": [],
   "source": [
    "query_count = \"\"\" \n",
    "SELECT COUNT(*) FROM orders\n",
    "\"\"\"\n",
    "\n",
    "query_min = \"\"\" \n",
    "SELECT MIN(orderdate) FROM orders\n",
    "\"\"\"\n",
    "\n",
    "query_max = \"\"\" \n",
    "SELECT MAX(orderdate) FROM orders\n",
    "\"\"\""
   ]
  },
  {
   "cell_type": "code",
   "execution_count": 7,
   "metadata": {},
   "outputs": [
    {
     "name": "stdout",
     "output_type": "stream",
     "text": [
      "order count: 830\n",
      "min order date: 1996-07-04\n",
      "max order date: 1998-05-06\n"
     ]
    }
   ],
   "source": [
    "order_count = execute_query(con, query_count)\n",
    "min_orderdate = execute_query(con, query_min)\n",
    "max_orderdate = execute_query(con, query_max)\n",
    "print(f'order count: {order_count[0][0]}\\nmin order date: {min_orderdate[0][0]}\\nmax order date: {max_orderdate[0][0]}')"
   ]
  },
  {
   "cell_type": "markdown",
   "metadata": {},
   "source": [
    "There are 830 orders ranging from `1996-07-04` to `1998-05-06`. From this, an `ADS` can be built aggregated by month. \\\n",
    "It is also possible to aggregate by day or week but for this example, monthly windows are sufficient.\n",
    "\n",
    "For traditional banking, 1 month may be enough. For telecommunications, 1 week can be appropriate, but there are also industries like e-commerce where they need to aggregate per day.\n",
    "\n",
    "In this tutorial, orders will be aggregated each month and labeled with the column called `end_obs_date` (end observation date).\n",
    "\n",
    "Example:\n",
    "- order date: 1996-12-12 --> `endobsdate`: 1997-01-01\n",
    "- order date: 1997-01-31 --> `endobsdate`: 1997-02-01"
   ]
  },
  {
   "cell_type": "code",
   "execution_count": 8,
   "metadata": {},
   "outputs": [],
   "source": [
    "drop_endobsdate = \"\"\"\n",
    "DROP TABLE if exists end_obs_dates\n",
    "\"\"\"\n",
    "\n",
    "create_endobsdate = \"\"\" \n",
    "CREATE TABLE end_obs_dates\n",
    "AS\n",
    "\n",
    "WITH RECURSIVE\n",
    "  cnt(x) AS (\n",
    "    -- count begins at 0\n",
    "    SELECT 0\n",
    "    -- combine with value below, including duplicates\n",
    "    UNION ALL\n",
    "    -- count iterates by +1 for every recursion\n",
    "    SELECT x+1 FROM cnt\n",
    "    -- recursion ends when it meets the limit condition below,\n",
    "    -- start and end date difference in days, then divided by 30 to return numbers of months and then +1\n",
    "    LIMIT (SELECT ROUND(((julianday('1998-06-01') - julianday('1996-08-01'))/30) + 1))\n",
    "    -- x is returned below for every recursion, adding a row with x value under the column 'end_obs_date' in table 'end_obs_dates'\n",
    "    ) SELECT date('1996-08-01', '+' || x || ' month') AS end_obs_date FROM cnt\n",
    "\"\"\""
   ]
  },
  {
   "cell_type": "code",
   "execution_count": 9,
   "metadata": {},
   "outputs": [
    {
     "name": "stdout",
     "output_type": "stream",
     "text": [
      "Query executed successfully.\n",
      "Query executed successfully.\n"
     ]
    }
   ],
   "source": [
    "execute_commit(con, drop_endobsdate) # drop table ensures that the table is not recreated below\n",
    "execute_commit(con, create_endobsdate)"
   ]
  },
  {
   "cell_type": "code",
   "execution_count": 10,
   "metadata": {},
   "outputs": [
    {
     "name": "stdout",
     "output_type": "stream",
     "text": [
      "('1996-08-01',)\n",
      "('1996-09-01',)\n",
      "('1996-10-01',)\n",
      "('1996-11-01',)\n",
      "('1996-12-01',)\n",
      "('1997-01-01',)\n",
      "('1997-02-01',)\n",
      "('1997-03-01',)\n",
      "('1997-04-01',)\n",
      "('1997-05-01',)\n",
      "('1997-06-01',)\n",
      "('1997-07-01',)\n",
      "('1997-08-01',)\n",
      "('1997-09-01',)\n",
      "('1997-10-01',)\n",
      "('1997-11-01',)\n",
      "('1997-12-01',)\n",
      "('1998-01-01',)\n",
      "('1998-02-01',)\n",
      "('1998-03-01',)\n",
      "('1998-04-01',)\n",
      "('1998-05-01',)\n",
      "('1998-06-01',)\n"
     ]
    }
   ],
   "source": [
    "test_query_endobsdate = \"\"\" \n",
    "SELECT * FROM end_obs_dates\n",
    "\"\"\"\n",
    "\n",
    "dates = execute_query(con, test_query_endobsdate)\n",
    "for date in dates:\n",
    "  print(date)"
   ]
  },
  {
   "cell_type": "code",
   "execution_count": 11,
   "metadata": {},
   "outputs": [
    {
     "name": "stdout",
     "output_type": "stream",
     "text": [
      "Query executed successfully.\n",
      "Query executed successfully.\n"
     ]
    }
   ],
   "source": [
    "drop_adspopulationhist = \"\"\" \n",
    "DROP TABLE if exists ads_population_hist\n",
    "\"\"\"\n",
    "\n",
    "create_adspopulationhist = \"\"\" \n",
    "CREATE TABLE ads_population_hist\n",
    "AS\n",
    "SELECT\n",
    "  A.*,\n",
    "  B.*\n",
    "FROM end_obs_dates AS A\n",
    "CROSS JOIN (\n",
    "  SELECT DISTINCT customerid FROM customers) AS B\n",
    "\"\"\"\n",
    "\n",
    "execute_commit(con, drop_adspopulationhist)\n",
    "execute_commit(con, create_adspopulationhist)"
   ]
  },
  {
   "cell_type": "code",
   "execution_count": 12,
   "metadata": {},
   "outputs": [
    {
     "name": "stdout",
     "output_type": "stream",
     "text": [
      "('1996-08-01', 'ALFKI')\n",
      "('1996-08-01', 'ANATR')\n",
      "('1996-08-01', 'ANTON')\n",
      "('1996-08-01', 'AROUT')\n",
      "('1996-08-01', 'BERGS')\n",
      "('1996-08-01', 'BLAUS')\n",
      "('1996-08-01', 'BLONP')\n",
      "('1996-08-01', 'BOLID')\n",
      "('1996-08-01', 'BONAP')\n",
      "('1996-08-01', 'BOTTM')\n"
     ]
    }
   ],
   "source": [
    "test_query_adspopulationhist = \"\"\" \n",
    "SELECT * FROM ads_population_hist\n",
    "LIMIT 10\n",
    "\"\"\"\n",
    "\n",
    "hists = execute_query(con, test_query_adspopulationhist)\n",
    "for hist in hists:\n",
    "  print(hist)"
   ]
  },
  {
   "cell_type": "markdown",
   "metadata": {},
   "source": [
    "The primary goal is to create a table where all important information about clients is kept.\n",
    "To do this, the following variables will be created:\n",
    "- noofitems\n",
    "- noofdistinct_orders\n",
    "- total_price\n",
    "\n",
    "All of which will be aggregated monthly.\n",
    "\n",
    "First, compute the additional attribute `totalprice_for_product` as `unitprice * quantity`."
   ]
  },
  {
   "cell_type": "code",
   "execution_count": 13,
   "metadata": {},
   "outputs": [
    {
     "data": {
      "text/plain": [
       "[(10248, 11, 14.0, 12, 0.0, 168.0),\n",
       " (10248, 42, 9.8, 10, 0.0, 98.0),\n",
       " (10248, 72, 34.8, 5, 0.0, 174.0),\n",
       " (10249, 14, 18.6, 9, 0.0, 167.4),\n",
       " (10249, 51, 42.4, 40, 0.0, 1696.0),\n",
       " (10250, 41, 7.7, 10, 0.0, 77.0),\n",
       " (10250, 51, 42.4, 35, 0.15, 1484.0),\n",
       " (10250, 65, 16.8, 15, 0.15, 252.0),\n",
       " (10251, 22, 16.8, 6, 0.05, 100.80000000000001),\n",
       " (10251, 57, 15.6, 15, 0.05, 234.0)]"
      ]
     },
     "execution_count": 13,
     "metadata": {},
     "output_type": "execute_result"
    }
   ],
   "source": [
    "query_order_details = \"\"\"\n",
    "SELECT *, unitprice*quantity AS totalprice_for_product\n",
    "FROM 'Order Details'\n",
    "LIMIT 10\n",
    "\"\"\"\n",
    "\n",
    "execute_query(con, query_order_details)"
   ]
  },
  {
   "cell_type": "markdown",
   "metadata": {},
   "source": [
    "But the above does not summarize the performance of each order neatly. The orders are separated by each item within the order. \\\n",
    "Below, the products are grouped by `orderid` instead."
   ]
  },
  {
   "cell_type": "code",
   "execution_count": 14,
   "metadata": {},
   "outputs": [
    {
     "data": {
      "text/plain": [
       "[(10248, 3, 27, 440.0),\n",
       " (10249, 2, 49, 1863.4),\n",
       " (10250, 3, 60, 1813.0),\n",
       " (10251, 3, 41, 670.8),\n",
       " (10252, 3, 105, 3730.0),\n",
       " (10253, 3, 102, 1444.8000000000002),\n",
       " (10254, 3, 57, 625.2),\n",
       " (10255, 4, 110, 2490.5),\n",
       " (10256, 2, 27, 517.8),\n",
       " (10257, 3, 46, 1119.9)]"
      ]
     },
     "execution_count": 14,
     "metadata": {},
     "output_type": "execute_result"
    }
   ],
   "source": [
    "query_order_details_by_orderid = \"\"\"\n",
    "SELECT\n",
    "     A.orderid,\n",
    "     COUNT(DISTINCT A.productid) AS no_of_distinct_products,\n",
    "     SUM(A.quantity) AS no_of_items,\n",
    "     SUM(A.totalprice_for_product) AS total_price \n",
    "FROM (SELECT\n",
    "          *,\n",
    "          unitprice*quantity AS totalprice_for_product\n",
    "     FROM \"Order Details\") AS A\n",
    "GROUP BY 1\n",
    "LIMIT 10\n",
    "\"\"\"\n",
    "\n",
    "execute_query(con, query_order_details_by_orderid)"
   ]
  },
  {
   "cell_type": "code",
   "execution_count": 15,
   "metadata": {},
   "outputs": [
    {
     "data": {
      "text/plain": [
       "[(10248, 'VINET', '1996-07-04'),\n",
       " (10249, 'TOMSP', '1996-07-05'),\n",
       " (10250, 'HANAR', '1996-07-08'),\n",
       " (10251, 'VICTE', '1996-07-08'),\n",
       " (10252, 'SUPRD', '1996-07-09'),\n",
       " (10253, 'HANAR', '1996-07-10'),\n",
       " (10254, 'CHOPS', '1996-07-11'),\n",
       " (10255, 'RICSU', '1996-07-12'),\n",
       " (10256, 'WELLI', '1996-07-15'),\n",
       " (10257, 'HILAA', '1996-07-16')]"
      ]
     },
     "execution_count": 15,
     "metadata": {},
     "output_type": "execute_result"
    }
   ],
   "source": [
    "select_orders = \"\"\" \n",
    "SELECT\n",
    "  orderid,\n",
    "  customerid,\n",
    "  orderdate\n",
    "FROM orders\n",
    "LIMIT 10\n",
    "\"\"\"\n",
    "\n",
    "execute_query(con, select_orders)"
   ]
  },
  {
   "cell_type": "markdown",
   "metadata": {},
   "source": [
    "Assign `end_obs_date` to each order."
   ]
  },
  {
   "cell_type": "code",
   "execution_count": 16,
   "metadata": {},
   "outputs": [
    {
     "data": {
      "text/plain": [
       "[(10248, 'VINET', '1996-07-04', '1996-08-01'),\n",
       " (10249, 'TOMSP', '1996-07-05', '1996-08-01'),\n",
       " (10250, 'HANAR', '1996-07-08', '1996-08-01'),\n",
       " (10251, 'VICTE', '1996-07-08', '1996-08-01'),\n",
       " (10252, 'SUPRD', '1996-07-09', '1996-08-01'),\n",
       " (10253, 'HANAR', '1996-07-10', '1996-08-01'),\n",
       " (10254, 'CHOPS', '1996-07-11', '1996-08-01'),\n",
       " (10255, 'RICSU', '1996-07-12', '1996-08-01'),\n",
       " (10256, 'WELLI', '1996-07-15', '1996-08-01'),\n",
       " (10257, 'HILAA', '1996-07-16', '1996-08-01')]"
      ]
     },
     "execution_count": 16,
     "metadata": {},
     "output_type": "execute_result"
    }
   ],
   "source": [
    "query_orders_with_endobsdate = \"\"\" \n",
    "SELECT\n",
    "  orderid,\n",
    "  customerid,\n",
    "  orderdate,\n",
    "  date(orderdate, 'start of month', '+1 month') as end_obs_date\n",
    "FROM orders\n",
    "LIMIT 10\n",
    "\"\"\"\n",
    "\n",
    "execute_query(con, query_orders_with_endobsdate)"
   ]
  },
  {
   "cell_type": "markdown",
   "metadata": {},
   "source": [
    "Combine into a table called `ads_orders_hist`."
   ]
  },
  {
   "cell_type": "code",
   "execution_count": 17,
   "metadata": {},
   "outputs": [
    {
     "name": "stdout",
     "output_type": "stream",
     "text": [
      "Query executed successfully.\n",
      "Query executed successfully.\n"
     ]
    }
   ],
   "source": [
    "drop_ads_orders_hist = \"\"\" \n",
    "DROP TABLE if exists ads_orders_hist\n",
    "\"\"\"\n",
    "\n",
    "create_ads_orders_hist = \"\"\"\n",
    "CREATE TABLE ads_orders_hist\n",
    "AS\n",
    "SELECT\n",
    "  A.orderid,\n",
    "  A.customerid,\n",
    "  A.end_obs_date,\n",
    "  B.no_of_distinct_products,\n",
    "  B.no_of_items,\n",
    "  B.total_price\n",
    "FROM (\n",
    "  SELECT\n",
    "    orderid,\n",
    "    customerid,\n",
    "    orderdate,\n",
    "    date(orderdate, 'start of month', '+1 month') AS end_obs_date\n",
    "  FROM orders) AS A\n",
    "LEFT OUTER JOIN (\n",
    "  SELECT\n",
    "    A.orderid,\n",
    "    COUNT(DISTINCT A.productid) AS no_of_distinct_products,\n",
    "    SUM(A.quantity) AS no_of_items,\n",
    "    SUM(A.totalprice_for_product) AS total_price\n",
    "  FROM (\n",
    "    SELECT\n",
    "      *,\n",
    "      unitprice*quantity AS totalprice_for_product\n",
    "    FROM 'Order Details') AS A\n",
    "  GROUP BY 1) AS B\n",
    "ON A.orderid = B.orderid\n",
    "\"\"\"\n",
    "\n",
    "execute_commit(con, drop_ads_orders_hist)\n",
    "execute_commit(con, create_ads_orders_hist)"
   ]
  },
  {
   "cell_type": "markdown",
   "metadata": {},
   "source": [
    "Test that every `orderid` appears only one in the table."
   ]
  },
  {
   "cell_type": "code",
   "execution_count": 19,
   "metadata": {},
   "outputs": [
    {
     "data": {
      "text/plain": [
       "[(11077, 1), (11076, 1), (11075, 1), (11074, 1), (11073, 1)]"
      ]
     },
     "execution_count": 19,
     "metadata": {},
     "output_type": "execute_result"
    }
   ],
   "source": [
    "test_ads_orders_hist = \"\"\" \n",
    "SELECT\n",
    "  orderid,\n",
    "  count(*)\n",
    "FROM ads_orders_hist\n",
    "-- group by the first column, 'orderid'\n",
    "GROUP BY 1\n",
    "-- order by the second column, 'orderid' count from highest to lowest\n",
    "ORDER BY 2 DESC\n",
    "LIMIT 5\n",
    "\"\"\"\n",
    "\n",
    "execute_query(con, test_ads_orders_hist)"
   ]
  },
  {
   "cell_type": "markdown",
   "metadata": {},
   "source": [
    "The last step is to join `ads_orders_hist` with `ads_pop_hist`. "
   ]
  },
  {
   "cell_type": "markdown",
   "metadata": {},
   "source": []
  }
 ],
 "metadata": {
  "kernelspec": {
   "display_name": "main-dev",
   "language": "python",
   "name": "python3"
  },
  "language_info": {
   "codemirror_mode": {
    "name": "ipython",
    "version": 3
   },
   "file_extension": ".py",
   "mimetype": "text/x-python",
   "name": "python",
   "nbconvert_exporter": "python",
   "pygments_lexer": "ipython3",
   "version": "3.11.4"
  },
  "orig_nbformat": 4
 },
 "nbformat": 4,
 "nbformat_minor": 2
}
