{
 "cells": [
  {
   "cell_type": "code",
   "execution_count": 54,
   "metadata": {},
   "outputs": [],
   "source": [
    "import turbodbc"
   ]
  },
  {
   "cell_type": "markdown",
   "metadata": {},
   "source": [
    "# Using TurboDBC"
   ]
  },
  {
   "cell_type": "code",
   "execution_count": 55,
   "metadata": {},
   "outputs": [],
   "source": [
    "con = turbodbc.connect(\n",
    "  driver=\"/opt/homebrew/Cellar/psqlodbc/15.00.0000/lib/psqlodbca.so\",\n",
    "  server=\"lhl-data-bootcamp.crzjul5qln0e.ca-central-1.rds.amazonaws.com\",\n",
    "  port=\"5432\",\n",
    "  database=\"postgres\",\n",
    "  uid=\"lhl_student\",\n",
    "  pwd=\"lhl_student\")"
   ]
  },
  {
   "cell_type": "code",
   "execution_count": 59,
   "metadata": {},
   "outputs": [
    {
     "data": {
      "text/plain": [
       "[[1, 'Microsoft Lumia', 200.0, 1],\n",
       " [2, 'HTC One', 400.0, 1],\n",
       " [3, 'Nexus', 500.0, 1],\n",
       " [4, 'iPhone', 900.0, 1],\n",
       " [5, 'HP Elite', 1200.0, 2],\n",
       " [6, 'Lenovo Thinkpad', 700.0, 2],\n",
       " [7, 'Sony VAIO', 700.0, 2],\n",
       " [8, 'Dell Vostro', 800.0, 2],\n",
       " [9, 'iPad', 700.0, 3],\n",
       " [10, 'Kindle Fire', 150.0, 3],\n",
       " [11, 'Samsung Galaxy Tab', 200.0, 3],\n",
       " [12, 'Microsoft Lumia', 200.0, 1],\n",
       " [13, 'HTC One', 400.0, 1],\n",
       " [14, 'Nexus', 500.0, 1],\n",
       " [15, 'iPhone', 900.0, 1],\n",
       " [16, 'HP Elite', 1200.0, 2],\n",
       " [17, 'Lenovo Thinkpad', 700.0, 2],\n",
       " [18, 'Sony VAIO', 700.0, 2],\n",
       " [19, 'Dell Vostro', 800.0, 2],\n",
       " [20, 'iPad', 700.0, 3],\n",
       " [21, 'Kindle Fire', 150.0, 3],\n",
       " [22, 'Samsung Galaxy Tab', 200.0, 3]]"
      ]
     },
     "execution_count": 59,
     "metadata": {},
     "output_type": "execute_result"
    }
   ],
   "source": [
    "cursor = con.cursor()\n",
    "cursor.execute(\"SELECT * FROM products\")\n",
    "cursor.fetchall()"
   ]
  }
 ],
 "metadata": {
  "kernelspec": {
   "display_name": "main-dev",
   "language": "python",
   "name": "python3"
  },
  "language_info": {
   "codemirror_mode": {
    "name": "ipython",
    "version": 3
   },
   "file_extension": ".py",
   "mimetype": "text/x-python",
   "name": "python",
   "nbconvert_exporter": "python",
   "pygments_lexer": "ipython3",
   "version": "3.11.4"
  },
  "orig_nbformat": 4
 },
 "nbformat": 4,
 "nbformat_minor": 2
}
