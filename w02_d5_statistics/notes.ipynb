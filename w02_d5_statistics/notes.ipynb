{
 "cells": [
  {
   "cell_type": "markdown",
   "metadata": {},
   "source": [
    "# Conditional Probability"
   ]
  },
  {
   "cell_type": "markdown",
   "metadata": {},
   "source": [
    "`sample space` of a die is 6:\n",
    "\n",
    "$$S = \\{ 1, 2, 3, 4, 5, 6\\}$$\n",
    "\n",
    "In this case, each number has an equal probability of being rolled. But suppose that the die rolled is even; the `sample space` would then be reduced to:\n",
    "\n",
    "$$S = \\{2, 4, 6\\}$$\n",
    "\n",
    "Given that an even number is rolled, the probability of a rolling a two is noted as:\n",
    "\n",
    "$$P(2|Even)$$\n",
    "\n"
   ]
  },
  {
   "cell_type": "markdown",
   "metadata": {},
   "source": []
  }
 ],
 "metadata": {
  "language_info": {
   "name": "python"
  },
  "orig_nbformat": 4
 },
 "nbformat": 4,
 "nbformat_minor": 2
}
