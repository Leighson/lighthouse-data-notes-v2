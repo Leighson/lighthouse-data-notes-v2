{
 "cells": [
  {
   "cell_type": "markdown",
   "metadata": {},
   "source": [
    "# Conditional Probability\n",
    "`sample space` of a die is 6:\n",
    "\n",
    "$$S = \\{ 1, 2, 3, 4, 5, 6\\}$$\n",
    "\n",
    "In this case, each number has an equal probability of being rolled. But suppose that the die rolled is even; the `sample space` would then be reduced to:\n",
    "\n",
    "$$S = \\{2, 4, 6\\}$$\n",
    "\n",
    "Given that an even number is rolled, the probability of a rolling a two is noted as:\n",
    "\n",
    "$$P(2|Even) = \\frac{1}{3}$$"
   ]
  },
  {
   "cell_type": "markdown",
   "metadata": {},
   "source": [
    "## Definition\n",
    "More generally, the probability of an event, $A$, happening given that another event, $B$, has happened is:\n",
    "\n",
    "$$ P(A|B) = \\frac{P(A\\cap B)}{P(B)} \\Rightarrow P(B) \\gt 0$$"
   ]
  },
  {
   "cell_type": "markdown",
   "metadata": {},
   "source": [
    "## Example 1\n",
    "\n",
    "Consider the two events:\n",
    "$$ A = \\{1, 2, 3, 4, 5\\} $$\n",
    "$$ B = \\{3, 4, 5 ,6\\} $$"
   ]
  },
  {
   "cell_type": "markdown",
   "metadata": {},
   "source": [
    "What is the conditional probability of $A$, given $B$?\n",
    "\n",
    "The intersection of possible values is given as $P(A \\cap B)$ and the probability of each of those values happening is calculated over the subset of $B$ given that it has already happened. Therefore:\n",
    "\n",
    "$$ P(A \\cap B) = \\frac{3}{6} $$\n",
    "$$ P(B) = \\frac{4}{6} $$\n",
    "$$ P(A|B) = \\frac{3}{4}"
   ]
  },
  {
   "cell_type": "markdown",
   "metadata": {},
   "source": [
    "## Example 2\n",
    "\n",
    "Given a well-shuffled deck of cards, what is the likelihood of drawing a Jack?\n",
    "\n",
    "$$ P(J) = \\frac{4}{52} \\rightarrow P(J) = \\frac{1}{13}"
   ]
  },
  {
   "cell_type": "markdown",
   "metadata": {},
   "source": [
    "Given a well-shuffled deck of cards, if the card is red, what is the likelihood of drawing a Jack?"
   ]
  },
  {
   "cell_type": "markdown",
   "metadata": {},
   "source": [
    "$$ P(J|R) = \\frac{2}{26} \\rightarrow P(J|R) = \\frac{1}{13}"
   ]
  },
  {
   "cell_type": "markdown",
   "metadata": {},
   "source": [
    "Because $P(J)$ is equal to $P(J|R)$, the events that the card is a Jack or that the card is Red *are independent*. This means that given that the card is Jack, we are indifferent to whether or not the card is red."
   ]
  },
  {
   "cell_type": "markdown",
   "metadata": {},
   "source": [
    "# Bayes Theorem"
   ]
  },
  {
   "cell_type": "markdown",
   "metadata": {},
   "source": [
    "$$ P(H|E) = \\frac{P(H)P(E|H)}{P(E)} $$\n",
    "$$ where \\ \\ P(E) = P(H)P(E|H) + P(\\neg H)(E|\\neg H) $$"
   ]
  }
 ],
 "metadata": {
  "language_info": {
   "name": "python"
  },
  "orig_nbformat": 4
 },
 "nbformat": 4,
 "nbformat_minor": 2
}
