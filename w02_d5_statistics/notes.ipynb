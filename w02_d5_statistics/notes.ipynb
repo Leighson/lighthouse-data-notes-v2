{
 "cells": [
  {
   "cell_type": "markdown",
   "metadata": {},
   "source": [
    "# Conditional Probability\n",
    "`sample space` of a die is 6:\n",
    "\n",
    "$$S = \\{ 1, 2, 3, 4, 5, 6\\}$$\n",
    "\n",
    "In this case, each number has an equal probability of being rolled. But suppose that the die rolled is even; the `sample space` would then be reduced to:\n",
    "\n",
    "$$S = \\{2, 4, 6\\}$$\n",
    "\n",
    "Given that an even number is rolled, the probability of a rolling a two is noted as:\n",
    "\n",
    "$$P(2|Even) = \\frac{1}{3}$$"
   ]
  },
  {
   "cell_type": "markdown",
   "metadata": {},
   "source": [
    "## Definition\n",
    "More generally, the probability of an event, $A$, happening given that another event, $B$, has happened is:\n",
    "\n",
    "$$ P(A|B) = \\frac{P(A\\cap B)}{P(B)} \\Rightarrow P(B) \\gt 0$$"
   ]
  },
  {
   "cell_type": "markdown",
   "metadata": {},
   "source": [
    "### Example 1\n",
    "Consider the two events:\n",
    "$$ A = \\{1, 2, 3, 4, 5\\} $$\n",
    "$$ B = \\{3, 4, 5 ,6\\} $$\n",
    "What is the conditional probability of $A$ given $B$?"
   ]
  },
  {
   "cell_type": "markdown",
   "metadata": {},
   "source": [
    "\n",
    "The intersection of possible values is given as $P(A \\cap B)$ and the probability of each of those values happening is calculated over the subset of $B$ given that it has already happened. Therefore:\n",
    "\n",
    "$$ P(A \\cap B) = \\frac{3}{6} $$\n",
    "$$ P(B) = \\frac{4}{6} $$\n",
    "$$ P(A|B) = \\frac{3}{4}"
   ]
  },
  {
   "cell_type": "markdown",
   "metadata": {},
   "source": [
    "### Example 2\n",
    "Given a well-shuffled deck of cards, what is the likelihood of drawing a Jack?"
   ]
  },
  {
   "cell_type": "markdown",
   "metadata": {},
   "source": [
    "\n",
    "$$ P(J) = \\frac{4}{52} \\rightarrow P(J) = \\frac{1}{13}"
   ]
  },
  {
   "cell_type": "markdown",
   "metadata": {},
   "source": [
    "### Example 3\n",
    "Given a well-shuffled deck of cards, if the card is red, what is the likelihood of drawing a Jack?"
   ]
  },
  {
   "cell_type": "markdown",
   "metadata": {},
   "source": [
    "$$ P(J|R) = \\frac{2}{26} \\rightarrow P(J|R) = \\frac{1}{13}"
   ]
  },
  {
   "cell_type": "markdown",
   "metadata": {},
   "source": [
    "Because $P(J)$ is equal to $P(J|R)$, the events that the card is a Jack or that the card is Red *are independent*. This means that given that the card is Jack, we are indifferent to whether or not the card is red."
   ]
  },
  {
   "cell_type": "markdown",
   "metadata": {},
   "source": [
    "# Bayes Theorem\n",
    "$$ P(H|E) = \\frac{P(H)P(E|H)}{P(E)} $$\n",
    "$$ where \\ \\ P(E) = P(H)P(E|H) + P(\\neg H)(E|\\neg H) $$"
   ]
  },
  {
   "cell_type": "markdown",
   "metadata": {},
   "source": [
    "# Correlation in Statistics"
   ]
  },
  {
   "cell_type": "markdown",
   "metadata": {},
   "source": [
    "`correlation` means association--more precisely, it measures the extent to which two variables are related. There are three possible results of a correlation study:\n",
    "- a positive correlation\n",
    "- a negative correlation\n",
    "- and no correlation."
   ]
  },
  {
   "cell_type": "markdown",
   "metadata": {},
   "source": [
    "## Types"
   ]
  },
  {
   "cell_type": "markdown",
   "metadata": {},
   "source": [
    "### A `positive` correlation\n",
    "A relationship between 2 variables in which both variables move in the same direction. As one variable increases, the other does as well."
   ]
  },
  {
   "cell_type": "markdown",
   "metadata": {},
   "source": [
    "### A `negative` correlation\n",
    "A relationship between 2 variables in which an increase in one variable means a decrease in the other."
   ]
  },
  {
   "cell_type": "markdown",
   "metadata": {},
   "source": [
    "### A `zero` correlation\n",
    "There is no relationship between two variables."
   ]
  },
  {
   "cell_type": "markdown",
   "metadata": {},
   "source": [
    "## Use of Correlations"
   ]
  },
  {
   "cell_type": "markdown",
   "metadata": {},
   "source": [
    "### Predictions\n",
    "If there is a relationship between 2 variables, predictions can be made about one from another."
   ]
  },
  {
   "cell_type": "markdown",
   "metadata": {},
   "source": [
    "### Validity\n",
    "Concurrent validity (correlation between a new measure and an established measure)."
   ]
  },
  {
   "cell_type": "markdown",
   "metadata": {},
   "source": [
    "### Reliability\n",
    "Test-retest reliability: correlations can be used to measure consistency between tests. \\\n",
    "Inter-rate reliability: correlations can be used to measure consistency between observers."
   ]
  },
  {
   "cell_type": "markdown",
   "metadata": {},
   "source": [
    "## Correlation Coefficients"
   ]
  },
  {
   "cell_type": "markdown",
   "metadata": {},
   "source": [
    "A correlation can be expressed numerically as a coefficient, ranging from -1 to 1. When working with continuous variables, the correlation coefficient to use is `Pearson's` $r$.\n",
    "\n",
    "`r` values nearing 1 indicate a positive correlation. \\\n",
    "`r` values nearing -1 indicate a negative correlation. \\\n",
    "`r` values nearing zero indicate no correlation. \\\n",
    "\n",
    "Generally, correlation coefficients above 0.4 are relatively strong for variables that are different to measure like . Correlation coefficients about 0.75 are strong for variables that are easy to measure."
   ]
  },
  {
   "cell_type": "markdown",
   "metadata": {},
   "source": [
    "# Hypothesis Testing\n",
    "A `hypothesis test` is a statistical test that is used to determine whether there is enough evideence in a sample of data to infer that a certain condition is true for the entire population. It examines two opposing `hypotheses` about a population: the `null` hypothesis and the `alternative` hypothesis.\n",
    "\n",
    "- `Null Hypothesis` (H0) states that a population parameter is equal to a certain value. It is the initial/default claim that researches specify using previous research or knowledge.\n",
    "- `Alternative Hypothesis` (H1) states that the population parameter is different than the value of the population parameter as defined in the `null` hypothesis. The `alternative` hypothesis is what we might believe to be true or hope to prove true.\n",
    "\n",
    "This refers to the following:\n",
    "- Testing the significance of regression coefficients\n",
    "- Testing the relationship between two categorical variables\n",
    "- Testing if the distribution is normal and if certain prediction techniques can be used\n",
    "- and more...\n",
    "\n",
    "Based on sample data, the test determines whether to reject the `null hypothesis`."
   ]
  },
  {
   "cell_type": "markdown",
   "metadata": {},
   "source": [
    "## Types of Hypothesis Testing\n",
    "- One-sample `t-test`\n",
    "- `chi-squared` test\n",
    "- one-way `ANOVA`"
   ]
  },
  {
   "cell_type": "markdown",
   "metadata": {},
   "source": [
    "### One-sample `t-test`\n",
    "Used to determine whether an unknown population mean, $\\mu$, is different from a specific value."
   ]
  },
  {
   "cell_type": "markdown",
   "metadata": {},
   "source": [
    "#### One-sided aternatives\n",
    "$$ H_{a}: \\mu > \\mu_0 $$\n",
    "$$ H_{a}: \\mu < \\mu_0 $$"
   ]
  },
  {
   "cell_type": "markdown",
   "metadata": {},
   "source": [
    "#### Two-sided alternative\n",
    "$$ H_{a}: \\mu \\ne \\mu_0"
   ]
  },
  {
   "cell_type": "markdown",
   "metadata": {},
   "source": [
    "#### Using a randomly-generated normally-distributed population, $n = 10000$"
   ]
  },
  {
   "cell_type": "code",
   "execution_count": 34,
   "metadata": {},
   "outputs": [],
   "source": [
    "import numpy as np\n",
    "import pandas as pd\n",
    "import matplotlib.pyplot as plt"
   ]
  },
  {
   "cell_type": "code",
   "execution_count": 37,
   "metadata": {},
   "outputs": [
    {
     "data": {
      "text/plain": [
       "count    10000.000000\n",
       "mean         0.004782\n",
       "std          1.010207\n",
       "min         -3.981458\n",
       "25%         -0.674924\n",
       "50%          0.004510\n",
       "75%          0.688987\n",
       "max          3.598969\n",
       "dtype: float64"
      ]
     },
     "execution_count": 37,
     "metadata": {},
     "output_type": "execute_result"
    }
   ],
   "source": [
    "data = np.random.randn(10000)\n",
    "df = pd.Series(data)\n",
    "df.describe()"
   ]
  },
  {
   "cell_type": "code",
   "execution_count": 38,
   "metadata": {},
   "outputs": [
    {
     "data": {
      "image/png": "[encoded data removed]",
      "text/plain": [
       "<Figure size 800x400 with 1 Axes>"
      ]
     },
     "metadata": {},
     "output_type": "display_data"
    }
   ],
   "source": [
    "plt.figure(figsize=(8,4))\n",
    "plt.title('Randomly-generated points, normally distributed')\n",
    "plt.hist(df, bins=400)\n",
    "plt.tight_layout()\n",
    "plt.show()"
   ]
  },
  {
   "cell_type": "markdown",
   "metadata": {},
   "source": [
    "Suppose a random sample of $n$ observations from a normally distributed population. $Z$-test or a $t$-test is used to determine the following hypothesis, $H_0$:\n",
    "$$ H_0: \\mu = \\mu_0 $$"
   ]
  },
  {
   "cell_type": "markdown",
   "metadata": {},
   "source": [
    "#### Formulas for calculating $Z$- and $t$-values given the parameters of a population\n",
    "If $\\sigma$ is known:\n",
    "$$ Z = \\frac{\\bar{X} - \\mu_0}{\\sigma / \\sqrt{n}} $$\n",
    "... where $\\sigma / \\sqrt(n)$ is the __true__ standard deviation.\n",
    "\n",
    "Conversely, if $\\sigma$ is unknown:\n",
    "$$ t = \\frac{\\bar{X} - \\mu_0}{s / \\sqrt{n}}$$\n",
    "... where $s / \\sqrt(n)$ is the __estimated__ standard deviation."
   ]
  },
  {
   "cell_type": "markdown",
   "metadata": {},
   "source": []
  }
 ],
 "metadata": {
  "kernelspec": {
   "display_name": "main-dev",
   "language": "python",
   "name": "python3"
  },
  "language_info": {
   "codemirror_mode": {
    "name": "ipython",
    "version": 3
   },
   "file_extension": ".py",
   "mimetype": "text/x-python",
   "name": "python",
   "nbconvert_exporter": "python",
   "pygments_lexer": "ipython3",
   "version": "3.11.4"
  },
  "orig_nbformat": 4
 },
 "nbformat": 4,
 "nbformat_minor": 2
}
