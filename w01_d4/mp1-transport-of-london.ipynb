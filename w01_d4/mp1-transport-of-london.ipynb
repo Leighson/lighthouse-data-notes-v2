{
 "cells": [
  {
   "cell_type": "markdown",
   "metadata": {},
   "source": [
    "# Mini-Project I\n",
    "During this project, we will practice handling of complex lists and dictionaries in Python. Plus, we will learn how to work with API documentation. Don't be afraid to search for the information in the [**documentation**](https://api.tfl.gov.uk/swagger/ui/index.html?url=/swagger/docs/v1#!/AccidentStats/AccidentStats_Get).\n",
    "\n",
    "Let's go to the tasks, we have some parsing to do :)!!"
   ]
  },
  {
   "cell_type": "code",
   "execution_count": 30,
   "metadata": {},
   "outputs": [],
   "source": [
    "from dotenv import load_dotenv\n",
    "load_dotenv()\n",
    "\n",
    "import os\n",
    "import requests"
   ]
  },
  {
   "cell_type": "markdown",
   "metadata": {},
   "source": [
    "## Demo\n",
    "Demonstration using the `AirQuality` endpoint."
   ]
  },
  {
   "cell_type": "code",
   "execution_count": 31,
   "metadata": {},
   "outputs": [],
   "source": [
    "app_id = os.environ[\"TFL_PRIMARY_KEY\"]\n",
    "app_key = os.environ[\"TFL_SECONDARY_KEY\"]\n",
    "\n",
    "# url construction\n",
    "url = \"https://api.tfl.gov.uk/\"\n",
    "url_endpoint = \"AirQuality\"\n",
    "url_auth = f'app_id={app_id}&app_key={app_key}'"
   ]
  },
  {
   "cell_type": "code",
   "execution_count": 32,
   "metadata": {},
   "outputs": [
    {
     "name": "stdout",
     "output_type": "stream",
     "text": [
      "Status Code: 200\n"
     ]
    },
    {
     "data": {
      "text/plain": [
       "{'$id': '1',\n",
       " '$type': 'Tfl.Api.Presentation.Entities.LondonAirForecast, Tfl.Api.Presentation.Entities',\n",
       " 'updatePeriod': 'hourly',\n",
       " 'updateFrequency': '1',\n",
       " 'forecastURL': 'http://londonair.org.uk/forecast',\n",
       " 'disclaimerText': 'This forecast is intended to provide information on expected pollution levels in areas of significant public exposure. It may not apply in very specific locations close to unusually strong or short-lived local sources of pollution.',\n",
       " 'currentForecast': [{'$id': '2',\n",
       "   '$type': 'Tfl.Api.Presentation.Entities.CurrentForecast, Tfl.Api.Presentation.Entities',\n",
       "   'forecastType': 'Current',\n",
       "   'forecastID': '41629',\n",
       "   'publishedDate': '2023-04-08T10:47:37Z',\n",
       "   'fromDate': '2023-05-08T00:00:00Z',\n",
       "   'toDate': '2023-05-08T23:59:00Z',\n",
       "   'forecastBand': 'Low',\n",
       "   'forecastSummary': 'Low air pollution forecast valid from Saturday 5 August to end of Saturday 5 August GMT',\n",
       "   'nO2Band': 'Low',\n",
       "   'o3Band': 'Low',\n",
       "   'pM10Band': 'Low',\n",
       "   'pM25Band': 'Low',\n",
       "   'sO2Band': 'Low',\n",
       "   'forecastText': 'Cloudy start on Saturday, windy with showers, heavy at times. North westerly &#39;clean&#39; Atlantic airflow ensuring good dispersion of local emissions.&lt;br/&gt;&lt;br/&gt;Air pollution is expected to remain &#39;Low&#39; throughout the forecast period for the following pollutants:&lt;br/&gt;&lt;br/&gt;Nitrogen Dioxide&lt;br/&gt;Ozone&lt;br/&gt;PM10 Particulate&lt;br/&gt;PM2.5 Particulate&lt;br/&gt;Sulphur Dioxide&lt;br/&gt;&lt;br/&gt;'},\n",
       "  {'$id': '3',\n",
       "   '$type': 'Tfl.Api.Presentation.Entities.CurrentForecast, Tfl.Api.Presentation.Entities',\n",
       "   'forecastType': 'Future',\n",
       "   'forecastID': '41630',\n",
       "   'publishedDate': '2023-04-08T10:53:12Z',\n",
       "   'fromDate': '2023-06-08T00:00:00Z',\n",
       "   'toDate': '2023-06-08T23:59:00Z',\n",
       "   'forecastBand': 'Low',\n",
       "   'forecastSummary': 'Low air pollution forecast valid from Sunday 6 August to end of Sunday 6 August GMT',\n",
       "   'nO2Band': 'Low',\n",
       "   'o3Band': 'Low',\n",
       "   'pM10Band': 'Low',\n",
       "   'pM25Band': 'Low',\n",
       "   'sO2Band': 'Low',\n",
       "   'forecastText': 'Likely to see a mix of scattered showers and occasional sunny spells with a gusty breeze. North westerly &#39;clean&#39; Atlantic airflow ensuring good dispersion of local emissions.&lt;br/&gt;&lt;br/&gt;Air pollution is expected to remain &#39;Low&#39; throughout the forecast period for the following pollutants:&lt;br/&gt;&lt;br/&gt;Nitrogen Dioxide&lt;br/&gt;Ozone&lt;br/&gt;PM10 Particulate&lt;br/&gt;PM2.5 Particulate&lt;br/&gt;Sulphur Dioxide&lt;br/&gt;&lt;br/&gt;'}]}"
      ]
     },
     "execution_count": 32,
     "metadata": {},
     "output_type": "execute_result"
    }
   ],
   "source": [
    "# response data\n",
    "res = requests.get(f'{url}{url_endpoint}?{url_auth}')\n",
    "print(f\"Status Code: {res.status_code}\")\n",
    "\n",
    "# response parsed to JSON\n",
    "res.json()"
   ]
  },
  {
   "cell_type": "markdown",
   "metadata": {},
   "source": [
    "## Task: Air Quality\n",
    "Parse the dictionary and print the AirQuality predictions for tomorrow"
   ]
  },
  {
   "cell_type": "code",
   "execution_count": 33,
   "metadata": {},
   "outputs": [
    {
     "data": {
      "text/plain": [
       "dict_keys(['$id', '$type', 'updatePeriod', 'updateFrequency', 'forecastURL', 'disclaimerText', 'currentForecast'])"
      ]
     },
     "execution_count": 33,
     "metadata": {},
     "output_type": "execute_result"
    }
   ],
   "source": [
    "res_air_quality = res.json()\n",
    "res_air_quality.keys()"
   ]
  },
  {
   "cell_type": "code",
   "execution_count": 34,
   "metadata": {},
   "outputs": [
    {
     "data": {
      "text/plain": [
       "{'$id': '3',\n",
       " '$type': 'Tfl.Api.Presentation.Entities.CurrentForecast, Tfl.Api.Presentation.Entities',\n",
       " 'forecastType': 'Future',\n",
       " 'forecastID': '41630',\n",
       " 'publishedDate': '2023-04-08T10:53:12Z',\n",
       " 'fromDate': '2023-06-08T00:00:00Z',\n",
       " 'toDate': '2023-06-08T23:59:00Z',\n",
       " 'forecastBand': 'Low',\n",
       " 'forecastSummary': 'Low air pollution forecast valid from Sunday 6 August to end of Sunday 6 August GMT',\n",
       " 'nO2Band': 'Low',\n",
       " 'o3Band': 'Low',\n",
       " 'pM10Band': 'Low',\n",
       " 'pM25Band': 'Low',\n",
       " 'sO2Band': 'Low',\n",
       " 'forecastText': 'Likely to see a mix of scattered showers and occasional sunny spells with a gusty breeze. North westerly &#39;clean&#39; Atlantic airflow ensuring good dispersion of local emissions.&lt;br/&gt;&lt;br/&gt;Air pollution is expected to remain &#39;Low&#39; throughout the forecast period for the following pollutants:&lt;br/&gt;&lt;br/&gt;Nitrogen Dioxide&lt;br/&gt;Ozone&lt;br/&gt;PM10 Particulate&lt;br/&gt;PM2.5 Particulate&lt;br/&gt;Sulphur Dioxide&lt;br/&gt;&lt;br/&gt;'}"
      ]
     },
     "execution_count": 34,
     "metadata": {},
     "output_type": "execute_result"
    }
   ],
   "source": [
    "res_air_quality['currentForecast'][1]"
   ]
  },
  {
   "cell_type": "markdown",
   "metadata": {},
   "source": [
    "## Task: Modes\n",
    "What are the different modes of transport which are operated by Transfer for London? How many of modes do they have?\n",
    "\n",
    "Print the list with different modes of transport, plus their count. Example output:\n",
    "```\n",
    "[bus, cable-car,.....]\n",
    "Number of different modes of transport is: xyz\n",
    "```\n",
    "\n",
    "We need to search the documentation for correct request."
   ]
  },
  {
   "cell_type": "code",
   "execution_count": 35,
   "metadata": {},
   "outputs": [],
   "source": [
    "url_endpoint = \"Journey/Meta/Modes\"\n",
    "res = requests.get(f'{url}{url_endpoint}?{url_auth}')"
   ]
  },
  {
   "cell_type": "code",
   "execution_count": 36,
   "metadata": {},
   "outputs": [
    {
     "name": "stdout",
     "output_type": "stream",
     "text": [
      "['black-cab-as-customer', 'black-cab-as-driver', 'bus', 'cable-car', 'coach', 'cycle', 'cycle-hire', 'dlr', 'electric-car', 'elizabeth-line', 'goods-vehicle-as-driver', 'interchange-keep-sitting', 'interchange-secure', 'international-rail', 'motorbike-scooter', 'national-rail', 'overground', 'plane', 'private-car', 'private-coach-as-customer', 'private-coach-as-driver', 'private-hire-as-customer', 'private-hire-as-driver', 'replacement-bus', 'river-bus', 'river-tour', 'taxi', 'tram', 'tube', 'walking']\n",
      "Number of different modes of transport is: 30\n"
     ]
    }
   ],
   "source": [
    "res_meta_modes = res.json()\n",
    "modes = []\n",
    "\n",
    "for mode in res_meta_modes:\n",
    "  modes.append(mode['modeName'])\n",
    "  \n",
    "print(modes)\n",
    "print(f'Number of different modes of transport is: {len(modes)}')"
   ]
  },
  {
   "cell_type": "markdown",
   "metadata": {},
   "source": [
    "## Task: Bike Points\n",
    "How many BikePoints in London are operated by Transfor for London? How many docks are in **all** BikePoints? There is the information for empty and full docks for each BikePoint."
   ]
  },
  {
   "cell_type": "code",
   "execution_count": 37,
   "metadata": {},
   "outputs": [],
   "source": [
    "# number of BikePoints in London operated by TFL\n",
    "url_endpoint = \"BikePoint\"\n",
    "res = requests.get(f'{url}{url_endpoint}?{url_auth}')"
   ]
  },
  {
   "cell_type": "code",
   "execution_count": 38,
   "metadata": {},
   "outputs": [],
   "source": [
    "res_bike_points = res.json()"
   ]
  },
  {
   "cell_type": "code",
   "execution_count": 39,
   "metadata": {},
   "outputs": [
    {
     "name": "stdout",
     "output_type": "stream",
     "text": [
      "The number of BikePoints operated by Transfer for London: 796\n"
     ]
    }
   ],
   "source": [
    "print(f'The number of BikePoints operated by Transfer for London: {len(res_bike_points)}')"
   ]
  },
  {
   "cell_type": "code",
   "execution_count": 40,
   "metadata": {},
   "outputs": [],
   "source": [
    "# number of docks in *all* BikePoints, empty or full\n",
    "nb_docks = 0\n",
    "\n",
    "for bike_point in res_bike_points:\n",
    "  for bike_point_props in bike_point['additionalProperties']:\n",
    "\n",
    "    if bike_point_props['key'] == 'NbDocks':\n",
    "      nb_docks += int(bike_point_props['value'])"
   ]
  },
  {
   "cell_type": "code",
   "execution_count": 41,
   "metadata": {},
   "outputs": [
    {
     "name": "stdout",
     "output_type": "stream",
     "text": [
      "The number of docks in all BikePoints, empty of full: 21061\n"
     ]
    }
   ],
   "source": [
    "print(f'The number of docks in all BikePoints, empty of full: {nb_docks}')"
   ]
  },
  {
   "cell_type": "markdown",
   "metadata": {},
   "source": [
    "## Task\n",
    "How many tube and bus lines are in London? Print names of all tube lines."
   ]
  },
  {
   "cell_type": "code",
   "execution_count": 42,
   "metadata": {},
   "outputs": [],
   "source": [
    "from collections import Counter"
   ]
  },
  {
   "cell_type": "code",
   "execution_count": 43,
   "metadata": {},
   "outputs": [],
   "source": [
    "url_endpoint = \"Line/Route\"\n",
    "res = requests.get(f'{url}{url_endpoint}?{url_auth}')"
   ]
  },
  {
   "cell_type": "code",
   "execution_count": 44,
   "metadata": {},
   "outputs": [],
   "source": [
    "res_routes = res.json()\n",
    "\n",
    "routes = []\n",
    "for route in res_routes:\n",
    "  routes.append(route['modeName'])\n",
    "  \n",
    "route_counts = Counter(routes)"
   ]
  },
  {
   "cell_type": "code",
   "execution_count": 45,
   "metadata": {},
   "outputs": [
    {
     "name": "stdout",
     "output_type": "stream",
     "text": [
      "There are 635 bus line and 11 tube lines.\n"
     ]
    }
   ],
   "source": [
    "print(f'There are {route_counts[\"bus\"]} bus line and {route_counts[\"tube\"]} tube lines.')"
   ]
  },
  {
   "cell_type": "code",
   "execution_count": 46,
   "metadata": {},
   "outputs": [],
   "source": [
    "tube_names = []\n",
    "\n",
    "for route in res_routes:\n",
    "  if route['modeName'] == 'tube':\n",
    "    tube_names.append(route['name'])"
   ]
  },
  {
   "cell_type": "code",
   "execution_count": 47,
   "metadata": {},
   "outputs": [
    {
     "name": "stdout",
     "output_type": "stream",
     "text": [
      "The tube lines are: ['Bakerloo', 'Central', 'Circle', 'District', 'Hammersmith & City', 'Jubilee', 'Metropolitan', 'Northern', 'Piccadilly', 'Victoria', 'Waterloo & City']\n"
     ]
    }
   ],
   "source": [
    "print(f'The tube lines are: {tube_names}')"
   ]
  },
  {
   "cell_type": "markdown",
   "metadata": {},
   "source": [
    "## Task: Stations Along Victoria Line\n",
    "How many station has `victoria` line?"
   ]
  },
  {
   "cell_type": "code",
   "execution_count": 48,
   "metadata": {},
   "outputs": [
    {
     "name": "stdout",
     "output_type": "stream",
     "text": [
      "dict_keys(['$type', 'id', 'name', 'modeName', 'disruptions', 'created', 'modified', 'lineStatuses', 'routeSections', 'serviceTypes', 'crowding'])\n",
      "victoria\n"
     ]
    }
   ],
   "source": [
    "for route in res_routes:\n",
    "  if route['name'] == 'Victoria':\n",
    "    print(route.keys())\n",
    "    print(route['id'])"
   ]
  },
  {
   "cell_type": "code",
   "execution_count": 49,
   "metadata": {},
   "outputs": [],
   "source": [
    "id = 'victoria'\n",
    "url_endpoint = f'Line/{id}/StopPoints'\n",
    "\n",
    "NRS = 'false'\n",
    "params = f'tflOperatedNationalRailStationsOnly={NRS}'"
   ]
  },
  {
   "cell_type": "code",
   "execution_count": 50,
   "metadata": {},
   "outputs": [],
   "source": [
    "res = requests.get(f'{url}{url_endpoint}?{url_auth}')"
   ]
  },
  {
   "cell_type": "code",
   "execution_count": 51,
   "metadata": {},
   "outputs": [],
   "source": [
    "res_stops = res.json()\n",
    "\n",
    "stops = []\n",
    "for stop in res_stops:\n",
    "  # print(stop.keys())\n",
    "  stops.append(stop['commonName'])"
   ]
  },
  {
   "cell_type": "code",
   "execution_count": 52,
   "metadata": {},
   "outputs": [
    {
     "name": "stdout",
     "output_type": "stream",
     "text": [
      "The Victoria line has 16 stops.\n"
     ]
    }
   ],
   "source": [
    "print(f'The Victoria line has {len(stops)} stops.')"
   ]
  },
  {
   "cell_type": "markdown",
   "metadata": {},
   "source": [
    "## Task: Heathrow Airport to Tower Bridge\n",
    "Plan the journey from Heathrow Airport to Tower Bridge using Bus and Tube? Which way is faster? Example output:\n",
    "```\n",
    "PLANNED DURATION\n",
    "Bus: x minutes\n",
    "Tube: y minutes\n",
    "```\n",
    "\n",
    "We need to search the documentation for correct requests and parameters we need."
   ]
  },
  {
   "cell_type": "code",
   "execution_count": 53,
   "metadata": {},
   "outputs": [],
   "source": [
    "import numpy as np"
   ]
  },
  {
   "cell_type": "code",
   "execution_count": 54,
   "metadata": {},
   "outputs": [
    {
     "name": "stdout",
     "output_type": "stream",
     "text": [
      "1000105 : HUBH13 : Heathrow Terminals 2 & 3\n",
      "1000104 : HUBHX4 : Heathrow Airport Terminal 4\n",
      "1016430 : HUBHX5 : Heathrow Airport Terminal 5\n",
      "1008019 : 490G00008019 : Heathrow Park Thistle Hotel\n",
      "1009314 : 490G00009314 : Heathrow Close\n",
      "\n",
      "1002087 : 930GSTC : Tower Bridge Quay\n",
      "1013744 : 490G00013744 : Tower Bridge\n",
      "1013746 : 490G00013746 : Tower Bridge Road\n",
      "1019012 : 490G00019012 : Bricklayer's Arms / Tower Bridge Road\n"
     ]
    }
   ],
   "source": [
    "# get station names using Naptan (StopPoint)\n",
    "query = ['heathrow', 'tower bridge']\n",
    "url_endpoint = 'StopPoint/Search'\n",
    "\n",
    "# heathrow\n",
    "params = f'query={query[0]}'\n",
    "res_heathrow = requests.get(f'{url}{url_endpoint}?{url_auth}&{params}')\n",
    "res_heathrow_json = res_heathrow.json()\n",
    "\n",
    "for heathrow_matches in res_heathrow_json['matches']:\n",
    "  # print(f'{type(heathrow_matches[\"icsId\"])}')\n",
    "  print(f'{heathrow_matches[\"icsId\"]} : {heathrow_matches[\"id\"]} : {heathrow_matches[\"name\"]}')\n",
    "  \n",
    "# tower bridge\n",
    "print('')\n",
    "params = f'query={query[1]}'\n",
    "res_tower = requests.get(f'{url}{url_endpoint}?{url_auth}&{params}')\n",
    "res_tower_json = res_tower.json()\n",
    "\n",
    "for tower_matches in res_tower_json['matches']:\n",
    "  # print(f'{type(tower_matches[\"icsId\"])}')\n",
    "  print(f'{tower_matches[\"icsId\"]} : {tower_matches[\"id\"]} : {tower_matches[\"name\"]}')"
   ]
  },
  {
   "cell_type": "code",
   "execution_count": 55,
   "metadata": {},
   "outputs": [],
   "source": [
    "FROM = '1000105' # heathrow terminals 2 & 3\n",
    "TO = '1013744' # tower bridge\n",
    "url_endpoint = f'Journey/JourneyResults/{FROM}/to/{TO}'\n",
    "\n",
    "res = requests.get(f'{url}{url_endpoint}?{url_auth}')\n",
    "res_journey = res.json()"
   ]
  },
  {
   "cell_type": "code",
   "execution_count": 56,
   "metadata": {},
   "outputs": [
    {
     "name": "stdout",
     "output_type": "stream",
     "text": [
      "# 1:\n",
      "Leg (tube): 46\n",
      "Leg (tube): 7\n",
      "Leg (bus): 3\n",
      "Total: 56\n",
      "\n",
      "# 2:\n",
      "Leg (tube): 40\n",
      "Leg (tube): 7\n",
      "Leg (tube): 5\n",
      "Leg (bus): 3\n",
      "Total: 55\n",
      "\n",
      "# 3:\n",
      "Leg (rail): 16\n",
      "Leg (walk): 3\n",
      "Leg (tube): 17\n",
      "Leg (tube): 4\n",
      "Leg (bus): 3\n",
      "Total: 43\n",
      "\n"
     ]
    }
   ],
   "source": [
    "routes = {}\n",
    "for i, legs in enumerate(res_journey['journeys']):\n",
    "  # storage\n",
    "  rail_min = 0\n",
    "  walk_min = 0\n",
    "  tube_min = 0\n",
    "  bus_min = 0\n",
    "  print(f'# {i+1}:')\n",
    "  \n",
    "  for leg in legs['legs']:\n",
    "    \n",
    "    if leg['mode']['name'] == 'national-rail':\n",
    "      print(f'Leg (rail): {leg[\"duration\"]}')\n",
    "      rail_min += int(leg['duration'])\n",
    "    elif leg['mode']['name'] == 'walking':\n",
    "      print(f'Leg (walk): {leg[\"duration\"]}')\n",
    "      walk_min += int(leg['duration'])\n",
    "    elif leg['mode']['name'] == 'tube':\n",
    "      print(f'Leg (tube): {leg[\"duration\"]}')\n",
    "      tube_min += int(leg['duration'])\n",
    "    elif leg['mode']['name'] == 'bus':\n",
    "      print(f'Leg (bus): {leg[\"duration\"]}')\n",
    "      bus_min += int(leg['duration'])\n",
    "  \n",
    "  durations = (tube_min, bus_min)\n",
    "  routes.update({f'Leg {i+1}' : durations})\n",
    "  \n",
    "  total = np.sum([rail_min, walk_min, tube_min, bus_min])\n",
    "  print(f'Total: {total}\\n')\n",
    "\n",
    "# print('\\n',routes)"
   ]
  },
  {
   "cell_type": "code",
   "execution_count": 57,
   "metadata": {},
   "outputs": [
    {
     "name": "stdout",
     "output_type": "stream",
     "text": [
      "PLANNED DURATION 1\n",
      "Tube: 53 minutes\n",
      "Bus: 3 minutes\n",
      "\n",
      "PLANNED DURATION 2\n",
      "Tube: 52 minutes\n",
      "Bus: 3 minutes\n",
      "\n",
      "PLANNED DURATION 3\n",
      "Tube: 21 minutes\n",
      "Bus: 3 minutes\n",
      "\n"
     ]
    }
   ],
   "source": [
    "for i, (leg, route) in enumerate(routes.items()):\n",
    "  x, y = (route)\n",
    "  print(f'PLANNED DURATION {i+1}')\n",
    "  print(f'Tube: {x} minutes')\n",
    "  print(f'Bus: {y} minutes\\n')"
   ]
  },
  {
   "cell_type": "code",
   "execution_count": null,
   "metadata": {},
   "outputs": [],
   "source": []
  }
 ],
 "metadata": {
  "kernelspec": {
   "display_name": "Python 3",
   "language": "python",
   "name": "python3"
  },
  "language_info": {
   "codemirror_mode": {
    "name": "ipython",
    "version": 3
   },
   "file_extension": ".py",
   "mimetype": "text/x-python",
   "name": "python",
   "nbconvert_exporter": "python",
   "pygments_lexer": "ipython3",
   "version": "3.11.4"
  }
 },
 "nbformat": 4,
 "nbformat_minor": 4
}
